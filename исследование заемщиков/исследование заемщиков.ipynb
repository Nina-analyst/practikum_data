{
 "cells": [
  {
   "cell_type": "markdown",
   "metadata": {},
   "source": [
    "# Исследование надёжности заёмщиков"
   ]
  },
  {
   "cell_type": "markdown",
   "metadata": {},
   "source": [
    "## Описание данных\n",
    "- children — количество детей в семье\n",
    "- days_employed — общий трудовой стаж в днях\n",
    "- dob_years — возраст клиента в годах\n",
    "- education — уровень образования клиента\n",
    "- education_id — идентификатор уровня образования\n",
    "- family_status — семейное положение\n",
    "- family_status_id — идентификатор семейного положения\n",
    "- gender — пол клиента\n",
    "- income_type — тип занятости\n",
    "- debt — имел ли задолженность по возврату кредитов\n",
    "- total_income — ежемесячный доход\n",
    "- purpose — цель получения кредита"
   ]
  },
  {
   "cell_type": "markdown",
   "metadata": {},
   "source": [
    "### Описание проекта\n",
    "Заказчик — кредитный отдел банка. Нужно разобраться, влияет ли семейное положение и количество детей клиента на факт погашения кредита в срок. Входные данные от банка — статистика о платёжеспособности клиентов.\n",
    "Результаты исследования будут учтены при построении модели кредитного скоринга — специальной системы, которая оценивает способность потенциального заёмщика вернуть кредит банку.\n",
    "Ответить на вопросы:\n",
    "- Есть ли зависимость между наличием детей и возвратом кредита в срок?\n",
    "- Есть ли зависимость между семейным положением и возвратом кредита в срок?\n",
    "- Есть ли зависимость между уровнем дохода и возвратом кредита в срок?\n",
    "- Как разные цели кредита влияют на его возврат в срок?"
   ]
  },
  {
   "cell_type": "markdown",
   "metadata": {},
   "source": [
    "## Обзор общей информации"
   ]
  },
  {
   "cell_type": "code",
   "execution_count": 2,
   "metadata": {},
   "outputs": [],
   "source": [
    "import pandas as pd"
   ]
  },
  {
   "cell_type": "code",
   "execution_count": 3,
   "metadata": {},
   "outputs": [],
   "source": [
    "data=pd.read_csv('borrow.csv')"
   ]
  },
  {
   "cell_type": "code",
   "execution_count": 4,
   "metadata": {},
   "outputs": [
    {
     "data": {
      "text/html": [
       "<div>\n",
       "<style scoped>\n",
       "    .dataframe tbody tr th:only-of-type {\n",
       "        vertical-align: middle;\n",
       "    }\n",
       "\n",
       "    .dataframe tbody tr th {\n",
       "        vertical-align: top;\n",
       "    }\n",
       "\n",
       "    .dataframe thead th {\n",
       "        text-align: right;\n",
       "    }\n",
       "</style>\n",
       "<table border=\"1\" class=\"dataframe\">\n",
       "  <thead>\n",
       "    <tr style=\"text-align: right;\">\n",
       "      <th></th>\n",
       "      <th>children</th>\n",
       "      <th>days_employed</th>\n",
       "      <th>dob_years</th>\n",
       "      <th>education</th>\n",
       "      <th>education_id</th>\n",
       "      <th>family_status</th>\n",
       "      <th>family_status_id</th>\n",
       "      <th>gender</th>\n",
       "      <th>income_type</th>\n",
       "      <th>debt</th>\n",
       "      <th>total_income</th>\n",
       "      <th>purpose</th>\n",
       "    </tr>\n",
       "  </thead>\n",
       "  <tbody>\n",
       "    <tr>\n",
       "      <th>0</th>\n",
       "      <td>1</td>\n",
       "      <td>-8437.673028</td>\n",
       "      <td>42</td>\n",
       "      <td>высшее</td>\n",
       "      <td>0</td>\n",
       "      <td>женат / замужем</td>\n",
       "      <td>0</td>\n",
       "      <td>F</td>\n",
       "      <td>сотрудник</td>\n",
       "      <td>0</td>\n",
       "      <td>253875.639453</td>\n",
       "      <td>покупка жилья</td>\n",
       "    </tr>\n",
       "    <tr>\n",
       "      <th>1</th>\n",
       "      <td>1</td>\n",
       "      <td>-4024.803754</td>\n",
       "      <td>36</td>\n",
       "      <td>среднее</td>\n",
       "      <td>1</td>\n",
       "      <td>женат / замужем</td>\n",
       "      <td>0</td>\n",
       "      <td>F</td>\n",
       "      <td>сотрудник</td>\n",
       "      <td>0</td>\n",
       "      <td>112080.014102</td>\n",
       "      <td>приобретение автомобиля</td>\n",
       "    </tr>\n",
       "    <tr>\n",
       "      <th>2</th>\n",
       "      <td>0</td>\n",
       "      <td>-5623.422610</td>\n",
       "      <td>33</td>\n",
       "      <td>Среднее</td>\n",
       "      <td>1</td>\n",
       "      <td>женат / замужем</td>\n",
       "      <td>0</td>\n",
       "      <td>M</td>\n",
       "      <td>сотрудник</td>\n",
       "      <td>0</td>\n",
       "      <td>145885.952297</td>\n",
       "      <td>покупка жилья</td>\n",
       "    </tr>\n",
       "  </tbody>\n",
       "</table>\n",
       "</div>"
      ],
      "text/plain": [
       "   children  days_employed  dob_years education  education_id  \\\n",
       "0         1   -8437.673028         42    высшее             0   \n",
       "1         1   -4024.803754         36   среднее             1   \n",
       "2         0   -5623.422610         33   Среднее             1   \n",
       "\n",
       "     family_status  family_status_id gender income_type  debt   total_income  \\\n",
       "0  женат / замужем                 0      F   сотрудник     0  253875.639453   \n",
       "1  женат / замужем                 0      F   сотрудник     0  112080.014102   \n",
       "2  женат / замужем                 0      M   сотрудник     0  145885.952297   \n",
       "\n",
       "                   purpose  \n",
       "0            покупка жилья  \n",
       "1  приобретение автомобиля  \n",
       "2            покупка жилья  "
      ]
     },
     "metadata": {},
     "output_type": "display_data"
    },
    {
     "name": "stdout",
     "output_type": "stream",
     "text": [
      "Количество строк 21525\n",
      "..................................................\n",
      "количество уникальных значений children  8\n",
      "children [ 1  0  3  2 -1  4 20  5]\n",
      "..................................................\n",
      "количество уникальных значений dob_years  58\n",
      "dob_years [42 36 33 32 53 27 43 50 35 41 40 65 54 56 26 48 24 21 57 67 28 63 62 47\n",
      " 34 68 25 31 30 20 49 37 45 61 64 44 52 46 23 38 39 51  0 59 29 60 55 58\n",
      " 71 22 73 66 69 19 72 70 74 75]\n",
      "..................................................\n",
      "количество уникальных значений education  15\n",
      "education ['высшее' 'среднее' 'Среднее' 'СРЕДНЕЕ' 'ВЫСШЕЕ' 'неоконченное высшее'\n",
      " 'начальное' 'Высшее' 'НЕОКОНЧЕННОЕ ВЫСШЕЕ' 'Неоконченное высшее'\n",
      " 'НАЧАЛЬНОЕ' 'Начальное' 'Ученая степень' 'УЧЕНАЯ СТЕПЕНЬ'\n",
      " 'ученая степень']\n",
      "..................................................\n",
      "количество уникальных значений education_id  5\n",
      "education_id [0 1 2 3 4]\n",
      "..................................................\n",
      "количество уникальных значений family_status  5\n",
      "family_status ['женат / замужем' 'гражданский брак' 'вдовец / вдова' 'в разводе'\n",
      " 'Не женат / не замужем']\n",
      "..................................................\n",
      "количество уникальных значений family_status_id  5\n",
      "family_status_id [0 1 2 3 4]\n",
      "..................................................\n",
      "количество уникальных значений income_type  8\n",
      "income_type ['сотрудник' 'пенсионер' 'компаньон' 'госслужащий' 'безработный'\n",
      " 'предприниматель' 'студент' 'в декрете']\n",
      "..................................................\n",
      "количество уникальных значений purpose  38\n",
      "purpose ['покупка жилья' 'приобретение автомобиля' 'дополнительное образование'\n",
      " 'сыграть свадьбу' 'операции с жильем' 'образование'\n",
      " 'на проведение свадьбы' 'покупка жилья для семьи' 'покупка недвижимости'\n",
      " 'покупка коммерческой недвижимости' 'покупка жилой недвижимости'\n",
      " 'строительство собственной недвижимости' 'недвижимость'\n",
      " 'строительство недвижимости' 'на покупку подержанного автомобиля'\n",
      " 'на покупку своего автомобиля' 'операции с коммерческой недвижимостью'\n",
      " 'строительство жилой недвижимости' 'жилье'\n",
      " 'операции со своей недвижимостью' 'автомобили' 'заняться образованием'\n",
      " 'сделка с подержанным автомобилем' 'получение образования' 'автомобиль'\n",
      " 'свадьба' 'получение дополнительного образования' 'покупка своего жилья'\n",
      " 'операции с недвижимостью' 'получение высшего образования'\n",
      " 'свой автомобиль' 'сделка с автомобилем' 'профильное образование'\n",
      " 'высшее образование' 'покупка жилья для сдачи' 'на покупку автомобиля'\n",
      " 'ремонт жилью' 'заняться высшим образованием']\n"
     ]
    }
   ],
   "source": [
    "display(data.head(3))\n",
    "print('Количество строк',len(data))\n",
    "print('..................................................')\n",
    "unique_children=len(data['children'].unique())\n",
    "print('количество уникальных значений children ',unique_children)\n",
    "print('children',data['children'].unique())\n",
    "print('..................................................')\n",
    "unique_dob_years=len(data['dob_years'].unique())\n",
    "print('количество уникальных значений dob_years ',unique_dob_years)\n",
    "print('dob_years',data['dob_years'].unique())\n",
    "print('..................................................')\n",
    "unique_education=len(data['education'].unique())\n",
    "print('количество уникальных значений education ',unique_education)\n",
    "print('education',data['education'].unique())\n",
    "print('..................................................')\n",
    "unique_education_id=len(data['education_id'].unique())\n",
    "print('количество уникальных значений education_id ',unique_education_id)\n",
    "print('education_id',data['education_id'].unique())\n",
    "print('..................................................')\n",
    "unique_family_status=len(data['family_status'].unique())\n",
    "print('количество уникальных значений family_status ',unique_family_status)\n",
    "print('family_status',data['family_status'].unique())\n",
    "print('..................................................')\n",
    "unique_family_status_id=len(data['family_status_id'].unique())\n",
    "print('количество уникальных значений family_status_id ',unique_family_status_id)\n",
    "print('family_status_id',data['family_status_id'].unique())\n",
    "print('..................................................')\n",
    "unique_income_type=len(data['income_type'].unique())\n",
    "print('количество уникальных значений income_type ',unique_income_type)\n",
    "print('income_type',data['income_type'].unique())\n",
    "print('..................................................')\n",
    "unique_purpose=len(data['purpose'].unique())\n",
    "print('количество уникальных значений purpose ',unique_purpose)\n",
    "print('purpose',data['purpose'].unique())"
   ]
  },
  {
   "cell_type": "code",
   "execution_count": 5,
   "metadata": {},
   "outputs": [
    {
     "name": "stdout",
     "output_type": "stream",
     "text": [
      "<class 'pandas.core.frame.DataFrame'>\n",
      "RangeIndex: 21525 entries, 0 to 21524\n",
      "Data columns (total 12 columns):\n",
      " #   Column            Non-Null Count  Dtype  \n",
      "---  ------            --------------  -----  \n",
      " 0   children          21525 non-null  int64  \n",
      " 1   days_employed     19351 non-null  float64\n",
      " 2   dob_years         21525 non-null  int64  \n",
      " 3   education         21525 non-null  object \n",
      " 4   education_id      21525 non-null  int64  \n",
      " 5   family_status     21525 non-null  object \n",
      " 6   family_status_id  21525 non-null  int64  \n",
      " 7   gender            21525 non-null  object \n",
      " 8   income_type       21525 non-null  object \n",
      " 9   debt              21525 non-null  int64  \n",
      " 10  total_income      19351 non-null  float64\n",
      " 11  purpose           21525 non-null  object \n",
      "dtypes: float64(2), int64(5), object(5)\n",
      "memory usage: 2.0+ MB\n"
     ]
    }
   ],
   "source": [
    "# рассмотрим есть ли пропуски и соответствуют ли типы данных необходимым\n",
    "data.info()"
   ]
  },
  {
   "cell_type": "code",
   "execution_count": 8,
   "metadata": {},
   "outputs": [
    {
     "data": {
      "text/plain": [
       "54"
      ]
     },
     "execution_count": 8,
     "metadata": {},
     "output_type": "execute_result"
    }
   ],
   "source": [
    "data.duplicated().sum()"
   ]
  },
  {
   "cell_type": "code",
   "execution_count": 6,
   "metadata": {},
   "outputs": [
    {
     "data": {
      "text/plain": [
       "children            0.000000\n",
       "days_employed       0.100999\n",
       "dob_years           0.000000\n",
       "education           0.000000\n",
       "education_id        0.000000\n",
       "family_status       0.000000\n",
       "family_status_id    0.000000\n",
       "gender              0.000000\n",
       "income_type         0.000000\n",
       "debt                0.000000\n",
       "total_income        0.100999\n",
       "purpose             0.000000\n",
       "dtype: float64"
      ]
     },
     "execution_count": 6,
     "metadata": {},
     "output_type": "execute_result"
    }
   ],
   "source": [
    "data.isna().mean()"
   ]
  },
  {
   "cell_type": "code",
   "execution_count": 7,
   "metadata": {},
   "outputs": [
    {
     "data": {
      "text/html": [
       "<div>\n",
       "<style scoped>\n",
       "    .dataframe tbody tr th:only-of-type {\n",
       "        vertical-align: middle;\n",
       "    }\n",
       "\n",
       "    .dataframe tbody tr th {\n",
       "        vertical-align: top;\n",
       "    }\n",
       "\n",
       "    .dataframe thead th {\n",
       "        text-align: right;\n",
       "    }\n",
       "</style>\n",
       "<table border=\"1\" class=\"dataframe\">\n",
       "  <thead>\n",
       "    <tr style=\"text-align: right;\">\n",
       "      <th></th>\n",
       "      <th>children</th>\n",
       "      <th>days_employed</th>\n",
       "      <th>dob_years</th>\n",
       "      <th>education_id</th>\n",
       "      <th>family_status_id</th>\n",
       "      <th>debt</th>\n",
       "      <th>total_income</th>\n",
       "    </tr>\n",
       "  </thead>\n",
       "  <tbody>\n",
       "    <tr>\n",
       "      <th>count</th>\n",
       "      <td>21525.000000</td>\n",
       "      <td>19351.000000</td>\n",
       "      <td>21525.000000</td>\n",
       "      <td>21525.000000</td>\n",
       "      <td>21525.000000</td>\n",
       "      <td>21525.000000</td>\n",
       "      <td>1.935100e+04</td>\n",
       "    </tr>\n",
       "    <tr>\n",
       "      <th>mean</th>\n",
       "      <td>0.538908</td>\n",
       "      <td>63046.497661</td>\n",
       "      <td>43.293380</td>\n",
       "      <td>0.817236</td>\n",
       "      <td>0.972544</td>\n",
       "      <td>0.080883</td>\n",
       "      <td>1.674223e+05</td>\n",
       "    </tr>\n",
       "    <tr>\n",
       "      <th>std</th>\n",
       "      <td>1.381587</td>\n",
       "      <td>140827.311974</td>\n",
       "      <td>12.574584</td>\n",
       "      <td>0.548138</td>\n",
       "      <td>1.420324</td>\n",
       "      <td>0.272661</td>\n",
       "      <td>1.029716e+05</td>\n",
       "    </tr>\n",
       "    <tr>\n",
       "      <th>min</th>\n",
       "      <td>-1.000000</td>\n",
       "      <td>-18388.949901</td>\n",
       "      <td>0.000000</td>\n",
       "      <td>0.000000</td>\n",
       "      <td>0.000000</td>\n",
       "      <td>0.000000</td>\n",
       "      <td>2.066726e+04</td>\n",
       "    </tr>\n",
       "    <tr>\n",
       "      <th>25%</th>\n",
       "      <td>0.000000</td>\n",
       "      <td>-2747.423625</td>\n",
       "      <td>33.000000</td>\n",
       "      <td>1.000000</td>\n",
       "      <td>0.000000</td>\n",
       "      <td>0.000000</td>\n",
       "      <td>1.030532e+05</td>\n",
       "    </tr>\n",
       "    <tr>\n",
       "      <th>50%</th>\n",
       "      <td>0.000000</td>\n",
       "      <td>-1203.369529</td>\n",
       "      <td>42.000000</td>\n",
       "      <td>1.000000</td>\n",
       "      <td>0.000000</td>\n",
       "      <td>0.000000</td>\n",
       "      <td>1.450179e+05</td>\n",
       "    </tr>\n",
       "    <tr>\n",
       "      <th>75%</th>\n",
       "      <td>1.000000</td>\n",
       "      <td>-291.095954</td>\n",
       "      <td>53.000000</td>\n",
       "      <td>1.000000</td>\n",
       "      <td>1.000000</td>\n",
       "      <td>0.000000</td>\n",
       "      <td>2.034351e+05</td>\n",
       "    </tr>\n",
       "    <tr>\n",
       "      <th>max</th>\n",
       "      <td>20.000000</td>\n",
       "      <td>401755.400475</td>\n",
       "      <td>75.000000</td>\n",
       "      <td>4.000000</td>\n",
       "      <td>4.000000</td>\n",
       "      <td>1.000000</td>\n",
       "      <td>2.265604e+06</td>\n",
       "    </tr>\n",
       "  </tbody>\n",
       "</table>\n",
       "</div>"
      ],
      "text/plain": [
       "           children  days_employed     dob_years  education_id  \\\n",
       "count  21525.000000   19351.000000  21525.000000  21525.000000   \n",
       "mean       0.538908   63046.497661     43.293380      0.817236   \n",
       "std        1.381587  140827.311974     12.574584      0.548138   \n",
       "min       -1.000000  -18388.949901      0.000000      0.000000   \n",
       "25%        0.000000   -2747.423625     33.000000      1.000000   \n",
       "50%        0.000000   -1203.369529     42.000000      1.000000   \n",
       "75%        1.000000    -291.095954     53.000000      1.000000   \n",
       "max       20.000000  401755.400475     75.000000      4.000000   \n",
       "\n",
       "       family_status_id          debt  total_income  \n",
       "count      21525.000000  21525.000000  1.935100e+04  \n",
       "mean           0.972544      0.080883  1.674223e+05  \n",
       "std            1.420324      0.272661  1.029716e+05  \n",
       "min            0.000000      0.000000  2.066726e+04  \n",
       "25%            0.000000      0.000000  1.030532e+05  \n",
       "50%            0.000000      0.000000  1.450179e+05  \n",
       "75%            1.000000      0.000000  2.034351e+05  \n",
       "max            4.000000      1.000000  2.265604e+06  "
      ]
     },
     "execution_count": 7,
     "metadata": {},
     "output_type": "execute_result"
    }
   ],
   "source": [
    "data.describe()"
   ]
  },
  {
   "cell_type": "markdown",
   "metadata": {},
   "source": [
    "В столбцах days_employed, total_income есть пропуски (10%).Скорее всего данные пропуски появились из-за того что клиенты не стали указывать данную информацию.\n",
    "В таблицы 54 дубликата. В столбцах purpose, education необходимо привести категории к единому значению. Есть ошибки: в столбце children 2 ошибки (-1 и 20); dob_years - 0; days_employed есть отрицательные значения"
   ]
  },
  {
   "cell_type": "markdown",
   "metadata": {},
   "source": [
    "#### Предобработка данных"
   ]
  },
  {
   "cell_type": "markdown",
   "metadata": {},
   "source": [
    "Пропуски"
   ]
  },
  {
   "cell_type": "code",
   "execution_count": 9,
   "metadata": {},
   "outputs": [
    {
     "name": "stdout",
     "output_type": "stream",
     "text": [
      "children            2174\n",
      "days_employed          0\n",
      "dob_years           2174\n",
      "education           2174\n",
      "education_id        2174\n",
      "family_status       2174\n",
      "family_status_id    2174\n",
      "gender              2174\n",
      "income_type         2174\n",
      "debt                2174\n",
      "total_income           0\n",
      "purpose             2174\n",
      "dtype: int64\n",
      "19351\n"
     ]
    }
   ],
   "source": [
    "#проверяем количество пропусков:\n",
    "data['days_employed'].value_counts()\n",
    "print(data[data['days_employed'].isnull()].count())\n",
    "print(data['days_employed'].count())"
   ]
  },
  {
   "cell_type": "code",
   "execution_count": 11,
   "metadata": {
    "scrolled": false
   },
   "outputs": [
    {
     "name": "stdout",
     "output_type": "stream",
     "text": [
      "<class 'pandas.core.frame.DataFrame'>\n",
      "RangeIndex: 21525 entries, 0 to 21524\n",
      "Data columns (total 12 columns):\n",
      " #   Column            Non-Null Count  Dtype  \n",
      "---  ------            --------------  -----  \n",
      " 0   children          21525 non-null  int64  \n",
      " 1   days_employed     21525 non-null  float64\n",
      " 2   dob_years         21525 non-null  int64  \n",
      " 3   education         21525 non-null  object \n",
      " 4   education_id      21525 non-null  int64  \n",
      " 5   family_status     21525 non-null  object \n",
      " 6   family_status_id  21525 non-null  int64  \n",
      " 7   gender            21525 non-null  object \n",
      " 8   income_type       21525 non-null  object \n",
      " 9   debt              21525 non-null  int64  \n",
      " 10  total_income      19351 non-null  float64\n",
      " 11  purpose           21525 non-null  object \n",
      "dtypes: float64(2), int64(5), object(5)\n",
      "memory usage: 2.0+ MB\n"
     ]
    }
   ],
   "source": [
    "#в столбцах days_employed и total_income есть пустые значения;\n",
    "# циклом заменим их на средние значения отдельно для каждой категории дохода\n",
    "for element in data['income_type'].unique():\n",
    "    days_employed_mean=data['days_employed'][data['income_type']== element].mean()\n",
    "    data.loc[data['income_type']== element,'days_employed']=data.loc[data['income_type']== element,'days_employed']\\\n",
    "                 .fillna(days_employed_mean)\n",
    "#проверяем\n",
    "data.info()"
   ]
  },
  {
   "cell_type": "code",
   "execution_count": 12,
   "metadata": {},
   "outputs": [
    {
     "name": "stdout",
     "output_type": "stream",
     "text": [
      "<class 'pandas.core.frame.DataFrame'>\n",
      "RangeIndex: 21525 entries, 0 to 21524\n",
      "Data columns (total 12 columns):\n",
      " #   Column            Non-Null Count  Dtype  \n",
      "---  ------            --------------  -----  \n",
      " 0   children          21525 non-null  int64  \n",
      " 1   days_employed     21525 non-null  float64\n",
      " 2   dob_years         21525 non-null  int64  \n",
      " 3   education         21525 non-null  object \n",
      " 4   education_id      21525 non-null  int64  \n",
      " 5   family_status     21525 non-null  object \n",
      " 6   family_status_id  21525 non-null  int64  \n",
      " 7   gender            21525 non-null  object \n",
      " 8   income_type       21525 non-null  object \n",
      " 9   debt              21525 non-null  int64  \n",
      " 10  total_income      21525 non-null  float64\n",
      " 11  purpose           21525 non-null  object \n",
      "dtypes: float64(2), int64(5), object(5)\n",
      "memory usage: 2.0+ MB\n"
     ]
    }
   ],
   "source": [
    "#так же заполняем пропуски в столбце total_income\n",
    "for element in data['income_type'].unique():\n",
    "    total_income_mean=data['total_income'][data['income_type']== element].mean()\n",
    "    data.loc[data['income_type']== element,'total_income']=data.loc[data['income_type']== element,'days_employed']\\\n",
    "            .fillna(total_income_mean)\n",
    "#проверяем\n",
    "data.info()"
   ]
  },
  {
   "cell_type": "markdown",
   "metadata": {},
   "source": [
    "Пропуски были в 2-ч стодбцах (стаж и доход). Данные пропуски можно заменить на среднее количество стажа и дохода по каждому источнику дохода в отдельности. После замены пропусков - проверяем их отсутствие"
   ]
  },
  {
   "cell_type": "markdown",
   "metadata": {},
   "source": [
    "Дубликаты"
   ]
  },
  {
   "cell_type": "code",
   "execution_count": 13,
   "metadata": {},
   "outputs": [],
   "source": [
    "# удалим дубликаты\n",
    "data=data.drop_duplicates()"
   ]
  },
  {
   "cell_type": "code",
   "execution_count": 14,
   "metadata": {},
   "outputs": [
    {
     "name": "stdout",
     "output_type": "stream",
     "text": [
      "[ 1  0  3  2  4 20  5]\n",
      "[1 0 3 2 4 5]\n"
     ]
    },
    {
     "data": {
      "text/plain": [
       "0    14154\n",
       "1     4809\n",
       "2     2128\n",
       "3      330\n",
       "4       41\n",
       "5        9\n",
       "Name: children, dtype: int64"
      ]
     },
     "execution_count": 14,
     "metadata": {},
     "output_type": "execute_result"
    }
   ],
   "source": [
    "#меняем некорректно количество детей (-1;20) - скорее всего отпечатки \n",
    "data[data['children'] == -1] = data.replace(-1, 0)\n",
    "print(data['children'].unique())\n",
    "data['children'].value_counts()\n",
    "data[data['children'] == 20] = data.replace(20, 2)\n",
    "print(data['children'].unique())\n",
    "data['children'].value_counts()"
   ]
  },
  {
   "cell_type": "code",
   "execution_count": 15,
   "metadata": {},
   "outputs": [
    {
     "data": {
      "text/plain": [
       "сотрудник      55\n",
       "пенсионер      20\n",
       "компаньон      20\n",
       "госслужащий     6\n",
       "Name: income_type, dtype: int64"
      ]
     },
     "execution_count": 15,
     "metadata": {},
     "output_type": "execute_result"
    }
   ],
   "source": [
    "#еще надо заменить 0 возраст; посмотрим у каких категорий возраст = 0\n",
    "data.loc[data['dob_years'] == 0, 'income_type'].value_counts()"
   ]
  },
  {
   "cell_type": "code",
   "execution_count": 16,
   "metadata": {},
   "outputs": [
    {
     "data": {
      "text/plain": [
       "Series([], Name: income_type, dtype: int64)"
      ]
     },
     "execution_count": 16,
     "metadata": {},
     "output_type": "execute_result"
    }
   ],
   "source": [
    "#заменим 0ьвозраст на средний возраст соответсвующих групп\n",
    "\n",
    "for element in data['income_type'].unique():\n",
    "    dob_years_mean=data['dob_years'][data['income_type']== element].mean()\n",
    "    data.loc[(data['dob_years']==0)&(data['income_type']== element),'dob_years']=dob_years_mean\n",
    "                                        \n",
    "#проверяем\n",
    "\n",
    "data.loc[data['dob_years'] == 0, 'income_type'].value_counts()"
   ]
  },
  {
   "cell_type": "code",
   "execution_count": 17,
   "metadata": {},
   "outputs": [],
   "source": [
    "#меняем отрицательный стаж на положительный и делаем его целым\n",
    "data['days_employed']=data['days_employed'].abs().astype(int)\n",
    "data['days_employed']=data['days_employed']/365"
   ]
  },
  {
   "cell_type": "code",
   "execution_count": 34,
   "metadata": {},
   "outputs": [
    {
     "data": {
      "text/html": [
       "<div>\n",
       "<style scoped>\n",
       "    .dataframe tbody tr th:only-of-type {\n",
       "        vertical-align: middle;\n",
       "    }\n",
       "\n",
       "    .dataframe tbody tr th {\n",
       "        vertical-align: top;\n",
       "    }\n",
       "\n",
       "    .dataframe thead th {\n",
       "        text-align: right;\n",
       "    }\n",
       "</style>\n",
       "<table border=\"1\" class=\"dataframe\">\n",
       "  <thead>\n",
       "    <tr style=\"text-align: right;\">\n",
       "      <th></th>\n",
       "      <th>index</th>\n",
       "      <th>dob_years</th>\n",
       "    </tr>\n",
       "  </thead>\n",
       "  <tbody>\n",
       "  </tbody>\n",
       "</table>\n",
       "</div>"
      ],
      "text/plain": [
       "Empty DataFrame\n",
       "Columns: [index, dob_years]\n",
       "Index: []"
      ]
     },
     "execution_count": 34,
     "metadata": {},
     "output_type": "execute_result"
    }
   ],
   "source": [
    "#у кого стаж более 50 лет:\n",
    "data[data['days_employed']>50]['dob_years'].value_counts().reset_index().sort_values(by='index')"
   ]
  },
  {
   "cell_type": "code",
   "execution_count": 35,
   "metadata": {},
   "outputs": [
    {
     "data": {
      "text/html": [
       "<div>\n",
       "<style scoped>\n",
       "    .dataframe tbody tr th:only-of-type {\n",
       "        vertical-align: middle;\n",
       "    }\n",
       "\n",
       "    .dataframe tbody tr th {\n",
       "        vertical-align: top;\n",
       "    }\n",
       "\n",
       "    .dataframe thead th {\n",
       "        text-align: right;\n",
       "    }\n",
       "</style>\n",
       "<table border=\"1\" class=\"dataframe\">\n",
       "  <thead>\n",
       "    <tr style=\"text-align: right;\">\n",
       "      <th></th>\n",
       "      <th>index</th>\n",
       "      <th>income_type</th>\n",
       "    </tr>\n",
       "  </thead>\n",
       "  <tbody>\n",
       "  </tbody>\n",
       "</table>\n",
       "</div>"
      ],
      "text/plain": [
       "Empty DataFrame\n",
       "Columns: [index, income_type]\n",
       "Index: []"
      ]
     },
     "execution_count": 35,
     "metadata": {},
     "output_type": "execute_result"
    }
   ],
   "source": [
    "#у кого стаж более 50 лет:\n",
    "data[data['days_employed']>50]['income_type'].value_counts().reset_index()"
   ]
  },
  {
   "cell_type": "markdown",
   "metadata": {},
   "source": [
    "У 3837 пенсионеров стаж более 50 лет, также у 2 безработных и 1 сотрудника. Данные не корректны надо заменить на средние значения. Если посмотреть по возрасту - есть трудовой стаж более 50 лет у клиентов 50 лет и моложе)) Данную некорректную информацию заменим средним значением трудового стажа менее 50 лет"
   ]
  },
  {
   "cell_type": "code",
   "execution_count": 32,
   "metadata": {},
   "outputs": [],
   "source": [
    "for element in data['income_type'].unique():\n",
    "    days_employed_avr=data.loc[(data['days_employed']<50)&(data['income_type']== element),'days_employed'].mean()\n",
    "    data.loc[(data['days_employed']>50)&(data['income_type']== element),'days_employed']=days_employed_avr"
   ]
  },
  {
   "cell_type": "code",
   "execution_count": 36,
   "metadata": {},
   "outputs": [
    {
     "data": {
      "text/plain": [
       "Series([], Name: income_type, dtype: int64)"
      ]
     },
     "execution_count": 36,
     "metadata": {},
     "output_type": "execute_result"
    }
   ],
   "source": [
    "# проверяем\n",
    "data[data['days_employed']>50]['income_type'].value_counts()"
   ]
  },
  {
   "cell_type": "code",
   "execution_count": 37,
   "metadata": {},
   "outputs": [
    {
     "data": {
      "text/plain": [
       "сотрудник          11091\n",
       "компаньон           5080\n",
       "госслужащий         1457\n",
       "предприниматель        2\n",
       "студент                1\n",
       "в декрете              1\n",
       "Name: income_type, dtype: int64"
      ]
     },
     "execution_count": 37,
     "metadata": {},
     "output_type": "execute_result"
    }
   ],
   "source": [
    "#проверяем есть ли отрицательный доход \n",
    "data[data['total_income']<0]['income_type'].value_counts()"
   ]
  },
  {
   "cell_type": "code",
   "execution_count": 38,
   "metadata": {},
   "outputs": [],
   "source": [
    "#делаем доход положительным и целым\n",
    "data['total_income']=data['total_income'].abs().astype(int)"
   ]
  },
  {
   "cell_type": "code",
   "execution_count": 39,
   "metadata": {},
   "outputs": [
    {
     "data": {
      "text/plain": [
       "Series([], Name: income_type, dtype: int64)"
      ]
     },
     "execution_count": 39,
     "metadata": {},
     "output_type": "execute_result"
    }
   ],
   "source": [
    "data.loc[data['total_income']< 0, 'income_type'].value_counts()"
   ]
  },
  {
   "cell_type": "code",
   "execution_count": 40,
   "metadata": {},
   "outputs": [
    {
     "data": {
      "text/plain": [
       "Series([], Name: income_type, dtype: int64)"
      ]
     },
     "execution_count": 40,
     "metadata": {},
     "output_type": "execute_result"
    }
   ],
   "source": [
    "data.loc[data['total_income']==0, 'income_type'].value_counts()"
   ]
  },
  {
   "cell_type": "markdown",
   "metadata": {},
   "source": [
    "Большое количестово данных пришлось скорректировать: количество детей (-1 и 20), отрицательный стаж и стаж более 50 лет, отрицательный доход. Для того чтобы сделать значения положительными использовалась abs(); для того чтобы сделать значения целочисленными astype(int). Для замены не корректных значений на среднее - цикл"
   ]
  },
  {
   "cell_type": "markdown",
   "metadata": {},
   "source": [
    " Обработка дубликатов"
   ]
  },
  {
   "cell_type": "code",
   "execution_count": 41,
   "metadata": {},
   "outputs": [
    {
     "name": "stdout",
     "output_type": "stream",
     "text": [
      "дубликаты education 21456\n",
      "число клиентов по образованию: среднее                13705\n",
      "высшее                  4710\n",
      "СРЕДНЕЕ                  772\n",
      "Среднее                  711\n",
      "неоконченное высшее      668\n",
      "ВЫСШЕЕ                   273\n",
      "Высшее                   268\n",
      "начальное                250\n",
      "Неоконченное высшее       47\n",
      "НЕОКОНЧЕННОЕ ВЫСШЕЕ       29\n",
      "НАЧАЛЬНОЕ                 17\n",
      "Начальное                 15\n",
      "ученая степень             4\n",
      "Ученая степень             1\n",
      "УЧЕНАЯ СТЕПЕНЬ             1\n",
      "Name: education, dtype: int64\n"
     ]
    }
   ],
   "source": [
    "#поиск дубликатов\n",
    "print('дубликаты education', data['education'].duplicated().sum())\n",
    "print('число клиентов по образованию:', data['education'].value_counts())"
   ]
  },
  {
   "cell_type": "code",
   "execution_count": 42,
   "metadata": {},
   "outputs": [
    {
     "data": {
      "text/plain": [
       "женат / замужем          12344\n",
       "гражданский брак          4163\n",
       "не женат / не замужем     2810\n",
       "в разводе                 1195\n",
       "вдовец / вдова             959\n",
       "Name: family_status, dtype: int64"
      ]
     },
     "execution_count": 42,
     "metadata": {},
     "output_type": "execute_result"
    }
   ],
   "source": [
    "#приведем все к нижнему регистру family_status\n",
    "data['family_status']=data['family_status'].str.lower()\n",
    "data['family_status'].value_counts()"
   ]
  },
  {
   "cell_type": "code",
   "execution_count": 43,
   "metadata": {},
   "outputs": [
    {
     "data": {
      "text/plain": [
       "среднее                15188\n",
       "высшее                  5251\n",
       "неоконченное высшее      744\n",
       "начальное                282\n",
       "ученая степень             6\n",
       "Name: education, dtype: int64"
      ]
     },
     "execution_count": 43,
     "metadata": {},
     "output_type": "execute_result"
    }
   ],
   "source": [
    "#дубликаты получаются из-за разного написания; применим нижний регистр\n",
    "data['education']=data['education'].str.lower()\n",
    "data['education'].value_counts()"
   ]
  },
  {
   "cell_type": "code",
   "execution_count": 44,
   "metadata": {},
   "outputs": [
    {
     "name": "stdout",
     "output_type": "stream",
     "text": [
      "количество компаньонов: 5080\n",
      "количество предпринемателей: 2\n"
     ]
    },
    {
     "data": {
      "text/plain": [
       "сотрудник      11091\n",
       "компаньон       5082\n",
       "пенсионер       3837\n",
       "госслужащий     1457\n",
       "безработный        2\n",
       "студент            1\n",
       "в декрете          1\n",
       "Name: income_type, dtype: int64"
      ]
     },
     "execution_count": 44,
     "metadata": {},
     "output_type": "execute_result"
    }
   ],
   "source": [
    "#в income_type есть 2 схожих вида деятельности - компаньон и предпринематель\n",
    "print('количество компаньонов:' ,data[data['income_type']=='компаньон']['income_type'].count())\n",
    "print('количество предпринемателей:',data[data['income_type']=='предприниматель']['income_type'].count())\n",
    "#предпринемателей всего 2 - заменим их на компаньон\n",
    "data['income_type']=data['income_type'].replace('предприниматель','компаньон')\n",
    "data['income_type'].value_counts()"
   ]
  },
  {
   "cell_type": "markdown",
   "metadata": {},
   "source": [
    "Дубликаты появились в датафрейме из-за написания одни и те же слова по-разному. Для исправления (семейное положение, образование) приведем все к нижнему регистру. Также большое количество дубликатов в целях кредита (одна и та же цель написана по-разному(например: на покупку жилья, недвижимость, собственное жилье...) Для исправления данных дубликатов нужно применить лемматизацию"
   ]
  },
  {
   "cell_type": "markdown",
   "metadata": {},
   "source": [
    "### Лемматизация"
   ]
  },
  {
   "cell_type": "code",
   "execution_count": 47,
   "metadata": {},
   "outputs": [
    {
     "name": "stdout",
     "output_type": "stream",
     "text": [
      "Collecting pymystem3\n",
      "  Downloading pymystem3-0.2.0-py3-none-any.whl (10 kB)\n",
      "Requirement already satisfied: requests in c:\\users\\mani\\anaconda3\\lib\\site-packages (from pymystem3) (2.22.0)\n",
      "Requirement already satisfied: urllib3!=1.25.0,!=1.25.1,<1.26,>=1.21.1 in c:\\users\\mani\\anaconda3\\lib\\site-packages (from requests->pymystem3) (1.25.8)\n",
      "Requirement already satisfied: chardet<3.1.0,>=3.0.2 in c:\\users\\mani\\anaconda3\\lib\\site-packages (from requests->pymystem3) (3.0.4)\n",
      "Requirement already satisfied: certifi>=2017.4.17 in c:\\users\\mani\\anaconda3\\lib\\site-packages (from requests->pymystem3) (2019.11.28)\n",
      "Requirement already satisfied: idna<2.9,>=2.5 in c:\\users\\mani\\anaconda3\\lib\\site-packages (from requests->pymystem3) (2.8)\n",
      "Installing collected packages: pymystem3\n",
      "Successfully installed pymystem3-0.2.0\n",
      "Note: you may need to restart the kernel to use updated packages.\n"
     ]
    }
   ],
   "source": [
    "pip install pymystem3"
   ]
  },
  {
   "cell_type": "code",
   "execution_count": 48,
   "metadata": {},
   "outputs": [
    {
     "name": "stderr",
     "output_type": "stream",
     "text": [
      "Installing mystem to C:\\Users\\MaNi/.local/bin\\mystem.exe from http://download.cdn.yandex.net/mystem/mystem-3.1-win-64bit.zip\n"
     ]
    },
    {
     "name": "stdout",
     "output_type": "stream",
     "text": [
      "[['покупка', ' ', 'жилье', '\\n'], ['приобретение', ' ', 'автомобиль', '\\n'], ['дополнительный', ' ', 'образование', '\\n'], ['сыграть', ' ', 'свадьба', '\\n'], ['операция', ' ', 'с', ' ', 'жилье', '\\n'], ['образование', '\\n'], ['на', ' ', 'проведение', ' ', 'свадьба', '\\n'], ['покупка', ' ', 'жилье', ' ', 'для', ' ', 'семья', '\\n'], ['покупка', ' ', 'недвижимость', '\\n'], ['покупка', ' ', 'коммерческий', ' ', 'недвижимость', '\\n'], ['покупка', ' ', 'жилой', ' ', 'недвижимость', '\\n'], ['строительство', ' ', 'собственный', ' ', 'недвижимость', '\\n'], ['недвижимость', '\\n'], ['строительство', ' ', 'недвижимость', '\\n'], ['на', ' ', 'покупка', ' ', 'подержать', ' ', 'автомобиль', '\\n'], ['на', ' ', 'покупка', ' ', 'свой', ' ', 'автомобиль', '\\n'], ['операция', ' ', 'с', ' ', 'коммерческий', ' ', 'недвижимость', '\\n'], ['строительство', ' ', 'жилой', ' ', 'недвижимость', '\\n'], ['жилье', '\\n'], ['операция', ' ', 'со', ' ', 'свой', ' ', 'недвижимость', '\\n'], ['автомобиль', '\\n'], ['заниматься', ' ', 'образование', '\\n'], ['сделка', ' ', 'с', ' ', 'подержанный', ' ', 'автомобиль', '\\n'], ['получение', ' ', 'образование', '\\n'], ['автомобиль', '\\n'], ['свадьба', '\\n'], ['получение', ' ', 'дополнительный', ' ', 'образование', '\\n'], ['покупка', ' ', 'свой', ' ', 'жилье', '\\n'], ['операция', ' ', 'с', ' ', 'недвижимость', '\\n'], ['получение', ' ', 'высокий', ' ', 'образование', '\\n'], ['свой', ' ', 'автомобиль', '\\n'], ['сделка', ' ', 'с', ' ', 'автомобиль', '\\n'], ['профильный', ' ', 'образование', '\\n'], ['высокий', ' ', 'образование', '\\n'], ['покупка', ' ', 'жилье', ' ', 'для', ' ', 'сдача', '\\n'], ['на', ' ', 'покупка', ' ', 'автомобиль', '\\n'], ['ремонт', ' ', 'жилье', '\\n'], ['заниматься', ' ', 'высокий', ' ', 'образование', '\\n']]\n"
     ]
    }
   ],
   "source": [
    "from pymystem3 import Mystem\n",
    "m = Mystem()\n",
    "#создаем список уникальных значений\n",
    "unique=data['purpose'].unique()\n",
    "\n",
    "#создаем столбец из лемматизированных слов\n",
    "lemmas = []\n",
    "for i in unique:\n",
    "    purpose_new = m.lemmatize(i)\n",
    "    lemmas.append(purpose_new)\n",
    "    purpose_new = ' '.join(m.lemmatize(i)).strip()\n",
    "print(lemmas)\n",
    "\n",
    "#функция которая будет пребразовать слова по ключевому слову(если жилье - тогда недвижимость...)\n",
    "def purpose_new (data):\n",
    "    if ('жилье' in data) or ('недвижимость' in data) or ('недвижимости' in data) or ('жилья' in data) or ('жилой' in data):\n",
    "        return 'недвижимость'\n",
    "    if ('свадьба' in data) or ('свадьбы' in data) or ('свадьбу' in data):\n",
    "        return 'свадьба'\n",
    "    if ('автомобиль' in data) or ('автомобили' in data) or ('автомобиля' in data) or ('автомобилем' in data):\n",
    "        return 'авто'\n",
    "    if ('образование'  in data) or ('образование' in data)or ('образования' in data):\n",
    "        return 'образование'\n",
    "    if ('жилью' in data):\n",
    "        return 'недвижимость'\n",
    "    return 'прочее'\n",
    "      \n",
    "#создаем новый столбец\n",
    "data['purpose_new'] = data['purpose'].apply(purpose_new)\n"
   ]
  },
  {
   "cell_type": "code",
   "execution_count": 49,
   "metadata": {},
   "outputs": [
    {
     "data": {
      "text/plain": [
       "purpose_new   purpose                               \n",
       "авто          на покупку своего автомобиля              505\n",
       "              автомобиль                                494\n",
       "              сделка с подержанным автомобилем          486\n",
       "              свой автомобиль                           479\n",
       "              автомобили                                478\n",
       "              на покупку подержанного автомобиля        478\n",
       "              на покупку автомобиля                     472\n",
       "              приобретение автомобиля                   461\n",
       "              сделка с автомобилем                      455\n",
       "недвижимость  операции с недвижимостью                  675\n",
       "              покупка коммерческой недвижимости         662\n",
       "              операции с жильем                         652\n",
       "              покупка жилья для сдачи                   652\n",
       "              операции с коммерческой недвижимостью     650\n",
       "              жилье                                     646\n",
       "              покупка жилья                             646\n",
       "              покупка жилья для семьи                   638\n",
       "              строительство собственной недвижимости    635\n",
       "              недвижимость                              633\n",
       "              операции со своей недвижимостью           627\n",
       "              строительство жилой недвижимости          625\n",
       "              покупка недвижимости                      621\n",
       "              покупка своего жилья                      620\n",
       "              строительство недвижимости                619\n",
       "              ремонт жилью                              607\n",
       "              покупка жилой недвижимости                606\n",
       "образование   заняться высшим образованием              496\n",
       "              дополнительное образование                460\n",
       "              высшее образование                        452\n",
       "              образование                               447\n",
       "              получение дополнительного образования     447\n",
       "              получение образования                     442\n",
       "              профильное образование                    436\n",
       "              получение высшего образования             426\n",
       "              заняться образованием                     408\n",
       "свадьба       свадьба                                   793\n",
       "              на проведение свадьбы                     773\n",
       "              сыграть свадьбу                           769\n",
       "Name: purpose, dtype: int64"
      ]
     },
     "execution_count": 49,
     "metadata": {},
     "output_type": "execute_result"
    }
   ],
   "source": [
    "#проверяем\n",
    "data.groupby('purpose_new')['purpose'].value_counts()"
   ]
  },
  {
   "cell_type": "markdown",
   "metadata": {},
   "source": [
    "### Категоризация данных"
   ]
  },
  {
   "cell_type": "code",
   "execution_count": 50,
   "metadata": {},
   "outputs": [
    {
     "name": "stdout",
     "output_type": "stream",
     "text": [
      "нет детей    14154\n",
      "дети есть     7317\n",
      "Name: kids, dtype: int64\n"
     ]
    }
   ],
   "source": [
    "#для анализа данных необходимо созать категорию по наличию детей\n",
    "def children_group(kids):\n",
    "    if kids==0:\n",
    "        return 'нет детей'\n",
    "    return 'дети есть'\n",
    "#children(4)\n",
    "data['kids']=data['children'].apply(children_group)\n",
    "print(data['kids'].value_counts())"
   ]
  },
  {
   "cell_type": "markdown",
   "metadata": {},
   "source": [
    "У большинства нет детей."
   ]
  },
  {
   "cell_type": "markdown",
   "metadata": {},
   "source": [
    "##### - Есть ли зависимость между наличием детей и возвратом кредита в срок?"
   ]
  },
  {
   "cell_type": "code",
   "execution_count": 18,
   "metadata": {},
   "outputs": [
    {
     "data": {
      "text/html": [
       "<div>\n",
       "<style scoped>\n",
       "    .dataframe tbody tr th:only-of-type {\n",
       "        vertical-align: middle;\n",
       "    }\n",
       "\n",
       "    .dataframe tbody tr th {\n",
       "        vertical-align: top;\n",
       "    }\n",
       "\n",
       "    .dataframe thead tr th {\n",
       "        text-align: left;\n",
       "    }\n",
       "\n",
       "    .dataframe thead tr:last-of-type th {\n",
       "        text-align: right;\n",
       "    }\n",
       "</style>\n",
       "<table border=\"1\" class=\"dataframe\">\n",
       "  <thead>\n",
       "    <tr>\n",
       "      <th></th>\n",
       "      <th>count</th>\n",
       "      <th>mean</th>\n",
       "    </tr>\n",
       "    <tr>\n",
       "      <th></th>\n",
       "      <th>debt</th>\n",
       "      <th>debt</th>\n",
       "    </tr>\n",
       "    <tr>\n",
       "      <th>kids</th>\n",
       "      <th></th>\n",
       "      <th></th>\n",
       "    </tr>\n",
       "  </thead>\n",
       "  <tbody>\n",
       "    <tr>\n",
       "      <td>дети есть</td>\n",
       "      <td>7329</td>\n",
       "      <td>0.092373</td>\n",
       "    </tr>\n",
       "    <tr>\n",
       "      <td>нет детей</td>\n",
       "      <td>14196</td>\n",
       "      <td>0.074951</td>\n",
       "    </tr>\n",
       "  </tbody>\n",
       "</table>\n",
       "</div>"
      ],
      "text/plain": [
       "           count      mean\n",
       "            debt      debt\n",
       "kids                      \n",
       "дети есть   7329  0.092373\n",
       "нет детей  14196  0.074951"
      ]
     },
     "execution_count": 18,
     "metadata": {},
     "output_type": "execute_result"
    }
   ],
   "source": [
    "data.pivot_table(index='kids',values='debt',aggfunc=['count','mean'])"
   ]
  },
  {
   "cell_type": "markdown",
   "metadata": {},
   "source": [
    "Среди клиентов с детьми больше количестово \"плохих\" заемщиков, нежели у тех у кого нет детей (средний показатель выше). Зависимость прямая: есть дети - вероятность не выплаты долга выше"
   ]
  },
  {
   "cell_type": "markdown",
   "metadata": {},
   "source": [
    "- Есть ли зависимость между семейным положением и возвратом кредита в срок?"
   ]
  },
  {
   "cell_type": "code",
   "execution_count": 51,
   "metadata": {},
   "outputs": [
    {
     "data": {
      "text/plain": [
       "family_status          family_status_id\n",
       "в разводе              3                    1195\n",
       "вдовец / вдова         2                     959\n",
       "гражданский брак       1                    4163\n",
       "женат / замужем        0                   12344\n",
       "не женат / не замужем  4                    2810\n",
       "Name: family_status_id, dtype: int64"
      ]
     },
     "execution_count": 51,
     "metadata": {},
     "output_type": "execute_result"
    }
   ],
   "source": [
    "#расмотрим семейное положение\n",
    "data.groupby('family_status')['family_status_id'].value_counts()"
   ]
  },
  {
   "cell_type": "code",
   "execution_count": 52,
   "metadata": {},
   "outputs": [
    {
     "data": {
      "text/html": [
       "<div>\n",
       "<style scoped>\n",
       "    .dataframe tbody tr th:only-of-type {\n",
       "        vertical-align: middle;\n",
       "    }\n",
       "\n",
       "    .dataframe tbody tr th {\n",
       "        vertical-align: top;\n",
       "    }\n",
       "\n",
       "    .dataframe thead tr th {\n",
       "        text-align: left;\n",
       "    }\n",
       "\n",
       "    .dataframe thead tr:last-of-type th {\n",
       "        text-align: right;\n",
       "    }\n",
       "</style>\n",
       "<table border=\"1\" class=\"dataframe\">\n",
       "  <thead>\n",
       "    <tr>\n",
       "      <th></th>\n",
       "      <th>count</th>\n",
       "      <th>mean</th>\n",
       "    </tr>\n",
       "    <tr>\n",
       "      <th></th>\n",
       "      <th>debt</th>\n",
       "      <th>debt</th>\n",
       "    </tr>\n",
       "    <tr>\n",
       "      <th>family_status</th>\n",
       "      <th></th>\n",
       "      <th></th>\n",
       "    </tr>\n",
       "  </thead>\n",
       "  <tbody>\n",
       "    <tr>\n",
       "      <th>в разводе</th>\n",
       "      <td>1195</td>\n",
       "      <td>0.071130</td>\n",
       "    </tr>\n",
       "    <tr>\n",
       "      <th>вдовец / вдова</th>\n",
       "      <td>959</td>\n",
       "      <td>0.065693</td>\n",
       "    </tr>\n",
       "    <tr>\n",
       "      <th>гражданский брак</th>\n",
       "      <td>4163</td>\n",
       "      <td>0.093202</td>\n",
       "    </tr>\n",
       "    <tr>\n",
       "      <th>женат / замужем</th>\n",
       "      <td>12344</td>\n",
       "      <td>0.075421</td>\n",
       "    </tr>\n",
       "    <tr>\n",
       "      <th>не женат / не замужем</th>\n",
       "      <td>2810</td>\n",
       "      <td>0.097509</td>\n",
       "    </tr>\n",
       "  </tbody>\n",
       "</table>\n",
       "</div>"
      ],
      "text/plain": [
       "                       count      mean\n",
       "                        debt      debt\n",
       "family_status                         \n",
       "в разводе               1195  0.071130\n",
       "вдовец / вдова           959  0.065693\n",
       "гражданский брак        4163  0.093202\n",
       "женат / замужем        12344  0.075421\n",
       "не женат / не замужем   2810  0.097509"
      ]
     },
     "execution_count": 52,
     "metadata": {},
     "output_type": "execute_result"
    }
   ],
   "source": [
    "data.pivot_table(index='family_status',values=['debt'],aggfunc=['count','mean'])"
   ]
  },
  {
   "cell_type": "code",
   "execution_count": 53,
   "metadata": {},
   "outputs": [
    {
     "data": {
      "text/html": [
       "<div>\n",
       "<style scoped>\n",
       "    .dataframe tbody tr th:only-of-type {\n",
       "        vertical-align: middle;\n",
       "    }\n",
       "\n",
       "    .dataframe tbody tr th {\n",
       "        vertical-align: top;\n",
       "    }\n",
       "\n",
       "    .dataframe thead th {\n",
       "        text-align: right;\n",
       "    }\n",
       "</style>\n",
       "<table border=\"1\" class=\"dataframe\">\n",
       "  <thead>\n",
       "    <tr style=\"text-align: right;\">\n",
       "      <th></th>\n",
       "      <th>debt</th>\n",
       "    </tr>\n",
       "  </thead>\n",
       "  <tbody>\n",
       "    <tr>\n",
       "      <th>debt</th>\n",
       "      <td>1.0</td>\n",
       "    </tr>\n",
       "  </tbody>\n",
       "</table>\n",
       "</div>"
      ],
      "text/plain": [
       "      debt\n",
       "debt   1.0"
      ]
     },
     "execution_count": 53,
     "metadata": {},
     "output_type": "execute_result"
    }
   ],
   "source": [
    "data[['family_status','debt']].corr()"
   ]
  },
  {
   "cell_type": "code",
   "execution_count": 54,
   "metadata": {},
   "outputs": [
    {
     "data": {
      "text/html": [
       "<style  type=\"text/css\" >\n",
       "</style><table id=\"T_1efa5ed4_12d4_11eb_a2ae_9061ae78fd65\" ><thead>    <tr>        <th class=\"blank level0\" ></th>        <th class=\"col_heading level0 col0\" >count</th>        <th class=\"col_heading level0 col1\" >mean</th>    </tr>    <tr>        <th class=\"index_name level0\" >family_status</th>        <th class=\"blank\" ></th>        <th class=\"blank\" ></th>    </tr></thead><tbody>\n",
       "                <tr>\n",
       "                        <th id=\"T_1efa5ed4_12d4_11eb_a2ae_9061ae78fd65level0_row0\" class=\"row_heading level0 row0\" >женат / замужем</th>\n",
       "                        <td id=\"T_1efa5ed4_12d4_11eb_a2ae_9061ae78fd65row0_col0\" class=\"data row0 col0\" >12344</td>\n",
       "                        <td id=\"T_1efa5ed4_12d4_11eb_a2ae_9061ae78fd65row0_col1\" class=\"data row0 col1\" >7.5%</td>\n",
       "            </tr>\n",
       "            <tr>\n",
       "                        <th id=\"T_1efa5ed4_12d4_11eb_a2ae_9061ae78fd65level0_row1\" class=\"row_heading level0 row1\" >гражданский брак</th>\n",
       "                        <td id=\"T_1efa5ed4_12d4_11eb_a2ae_9061ae78fd65row1_col0\" class=\"data row1 col0\" >4163</td>\n",
       "                        <td id=\"T_1efa5ed4_12d4_11eb_a2ae_9061ae78fd65row1_col1\" class=\"data row1 col1\" >9.3%</td>\n",
       "            </tr>\n",
       "            <tr>\n",
       "                        <th id=\"T_1efa5ed4_12d4_11eb_a2ae_9061ae78fd65level0_row2\" class=\"row_heading level0 row2\" >не женат / не замужем</th>\n",
       "                        <td id=\"T_1efa5ed4_12d4_11eb_a2ae_9061ae78fd65row2_col0\" class=\"data row2 col0\" >2810</td>\n",
       "                        <td id=\"T_1efa5ed4_12d4_11eb_a2ae_9061ae78fd65row2_col1\" class=\"data row2 col1\" >9.8%</td>\n",
       "            </tr>\n",
       "            <tr>\n",
       "                        <th id=\"T_1efa5ed4_12d4_11eb_a2ae_9061ae78fd65level0_row3\" class=\"row_heading level0 row3\" >в разводе</th>\n",
       "                        <td id=\"T_1efa5ed4_12d4_11eb_a2ae_9061ae78fd65row3_col0\" class=\"data row3 col0\" >1195</td>\n",
       "                        <td id=\"T_1efa5ed4_12d4_11eb_a2ae_9061ae78fd65row3_col1\" class=\"data row3 col1\" >7.1%</td>\n",
       "            </tr>\n",
       "            <tr>\n",
       "                        <th id=\"T_1efa5ed4_12d4_11eb_a2ae_9061ae78fd65level0_row4\" class=\"row_heading level0 row4\" >вдовец / вдова</th>\n",
       "                        <td id=\"T_1efa5ed4_12d4_11eb_a2ae_9061ae78fd65row4_col0\" class=\"data row4 col0\" >959</td>\n",
       "                        <td id=\"T_1efa5ed4_12d4_11eb_a2ae_9061ae78fd65row4_col1\" class=\"data row4 col1\" >6.6%</td>\n",
       "            </tr>\n",
       "    </tbody></table>"
      ],
      "text/plain": [
       "<pandas.io.formats.style.Styler at 0x2806b8cbbc8>"
      ]
     },
     "execution_count": 54,
     "metadata": {},
     "output_type": "execute_result"
    }
   ],
   "source": [
    "(data.groupby('family_status')['debt']\n",
    ".agg(['count', 'mean'])\n",
    ".sort_values('count',ascending=False)\n",
    ".style\n",
    ".format({\n",
    "    'mean': '{:,.1%}'.format,\n",
    "})\n",
    ".applymap(\n",
    "     lambda x: 'background-color : red' if x>0.3 else '', \n",
    "     subset=['mean']))\n"
   ]
  },
  {
   "cell_type": "markdown",
   "metadata": {},
   "source": [
    "Большинство клиентов женаты/замужем и у них достаточно хороший показатель по выплате кредита. Больше всего не выплат по кредиту у тех кто не обременен семейными узами или кто официально не зарегистировал свои отношения\n",
    "Зависимость прямая- женатые клиенты вызывают больше доверия"
   ]
  },
  {
   "cell_type": "code",
   "execution_count": 55,
   "metadata": {},
   "outputs": [
    {
     "data": {
      "text/html": [
       "<div>\n",
       "<style scoped>\n",
       "    .dataframe tbody tr th:only-of-type {\n",
       "        vertical-align: middle;\n",
       "    }\n",
       "\n",
       "    .dataframe tbody tr th {\n",
       "        vertical-align: top;\n",
       "    }\n",
       "\n",
       "    .dataframe thead tr th {\n",
       "        text-align: left;\n",
       "    }\n",
       "\n",
       "    .dataframe thead tr:last-of-type th {\n",
       "        text-align: right;\n",
       "    }\n",
       "</style>\n",
       "<table border=\"1\" class=\"dataframe\">\n",
       "  <thead>\n",
       "    <tr>\n",
       "      <th></th>\n",
       "      <th colspan=\"2\" halign=\"left\">count</th>\n",
       "      <th colspan=\"2\" halign=\"left\">mean</th>\n",
       "    </tr>\n",
       "    <tr>\n",
       "      <th></th>\n",
       "      <th colspan=\"2\" halign=\"left\">debt</th>\n",
       "      <th colspan=\"2\" halign=\"left\">debt</th>\n",
       "    </tr>\n",
       "    <tr>\n",
       "      <th>kids</th>\n",
       "      <th>дети есть</th>\n",
       "      <th>нет детей</th>\n",
       "      <th>дети есть</th>\n",
       "      <th>нет детей</th>\n",
       "    </tr>\n",
       "    <tr>\n",
       "      <th>family_status</th>\n",
       "      <th></th>\n",
       "      <th></th>\n",
       "      <th></th>\n",
       "      <th></th>\n",
       "    </tr>\n",
       "  </thead>\n",
       "  <tbody>\n",
       "    <tr>\n",
       "      <th>в разводе</th>\n",
       "      <td>407</td>\n",
       "      <td>788</td>\n",
       "      <td>0.073710</td>\n",
       "      <td>0.069797</td>\n",
       "    </tr>\n",
       "    <tr>\n",
       "      <th>вдовец / вдова</th>\n",
       "      <td>108</td>\n",
       "      <td>851</td>\n",
       "      <td>0.092593</td>\n",
       "      <td>0.062280</td>\n",
       "    </tr>\n",
       "    <tr>\n",
       "      <th>гражданский брак</th>\n",
       "      <td>1417</td>\n",
       "      <td>2746</td>\n",
       "      <td>0.112209</td>\n",
       "      <td>0.083394</td>\n",
       "    </tr>\n",
       "    <tr>\n",
       "      <th>женат / замужем</th>\n",
       "      <td>4842</td>\n",
       "      <td>7502</td>\n",
       "      <td>0.085502</td>\n",
       "      <td>0.068915</td>\n",
       "    </tr>\n",
       "    <tr>\n",
       "      <th>не женат / не замужем</th>\n",
       "      <td>543</td>\n",
       "      <td>2267</td>\n",
       "      <td>0.117864</td>\n",
       "      <td>0.092633</td>\n",
       "    </tr>\n",
       "  </tbody>\n",
       "</table>\n",
       "</div>"
      ],
      "text/plain": [
       "                          count                mean          \n",
       "                           debt                debt          \n",
       "kids                  дети есть нет детей дети есть нет детей\n",
       "family_status                                                \n",
       "в разводе                   407       788  0.073710  0.069797\n",
       "вдовец / вдова              108       851  0.092593  0.062280\n",
       "гражданский брак           1417      2746  0.112209  0.083394\n",
       "женат / замужем            4842      7502  0.085502  0.068915\n",
       "не женат / не замужем       543      2267  0.117864  0.092633"
      ]
     },
     "execution_count": 55,
     "metadata": {},
     "output_type": "execute_result"
    }
   ],
   "source": [
    "data.pivot_table(index='family_status',columns='kids',values=['debt'],aggfunc=['count','mean'])"
   ]
  },
  {
   "cell_type": "markdown",
   "metadata": {},
   "source": [
    "Если посмотреть наличие задолжности по наличию детей и семейному положению, то видна четкая тенденция увеличения задолжности у не замужних/женатых с детьми и самый низкий показатель у тех кто без детей в разводе или вдовец/вдова. Также не плохой показатель по задолжностям у семейных людей, но без детей.\n"
   ]
  },
  {
   "cell_type": "markdown",
   "metadata": {},
   "source": [
    "##### - Есть ли зависимость между уровнем дохода и возвратом кредита в срок?"
   ]
  },
  {
   "cell_type": "code",
   "execution_count": 61,
   "metadata": {},
   "outputs": [],
   "source": [
    "data['income_group'] = pd.cut(data['total_income'],[0,10000,20000,300000,350000,375000,400000,410000])"
   ]
  },
  {
   "cell_type": "code",
   "execution_count": 64,
   "metadata": {},
   "outputs": [
    {
     "data": {
      "text/html": [
       "<div>\n",
       "<style scoped>\n",
       "    .dataframe tbody tr th:only-of-type {\n",
       "        vertical-align: middle;\n",
       "    }\n",
       "\n",
       "    .dataframe tbody tr th {\n",
       "        vertical-align: top;\n",
       "    }\n",
       "\n",
       "    .dataframe thead th {\n",
       "        text-align: right;\n",
       "    }\n",
       "</style>\n",
       "<table border=\"1\" class=\"dataframe\">\n",
       "  <thead>\n",
       "    <tr style=\"text-align: right;\">\n",
       "      <th></th>\n",
       "      <th>income_group</th>\n",
       "      <th>count</th>\n",
       "      <th>mean</th>\n",
       "    </tr>\n",
       "  </thead>\n",
       "  <tbody>\n",
       "    <tr>\n",
       "      <th>0</th>\n",
       "      <td>(0, 10000]</td>\n",
       "      <td>17372</td>\n",
       "      <td>0.087267</td>\n",
       "    </tr>\n",
       "    <tr>\n",
       "      <th>1</th>\n",
       "      <td>(10000, 20000]</td>\n",
       "      <td>260</td>\n",
       "      <td>0.030769</td>\n",
       "    </tr>\n",
       "    <tr>\n",
       "      <th>2</th>\n",
       "      <td>(20000, 300000]</td>\n",
       "      <td>0</td>\n",
       "      <td>NaN</td>\n",
       "    </tr>\n",
       "    <tr>\n",
       "      <th>3</th>\n",
       "      <td>(300000, 350000]</td>\n",
       "      <td>1024</td>\n",
       "      <td>0.052734</td>\n",
       "    </tr>\n",
       "    <tr>\n",
       "      <th>4</th>\n",
       "      <td>(350000, 375000]</td>\n",
       "      <td>1598</td>\n",
       "      <td>0.060075</td>\n",
       "    </tr>\n",
       "    <tr>\n",
       "      <th>5</th>\n",
       "      <td>(375000, 400000]</td>\n",
       "      <td>1135</td>\n",
       "      <td>0.055507</td>\n",
       "    </tr>\n",
       "    <tr>\n",
       "      <th>6</th>\n",
       "      <td>(400000, 410000]</td>\n",
       "      <td>82</td>\n",
       "      <td>0.048780</td>\n",
       "    </tr>\n",
       "  </tbody>\n",
       "</table>\n",
       "</div>"
      ],
      "text/plain": [
       "       income_group  count      mean\n",
       "0        (0, 10000]  17372  0.087267\n",
       "1    (10000, 20000]    260  0.030769\n",
       "2   (20000, 300000]      0       NaN\n",
       "3  (300000, 350000]   1024  0.052734\n",
       "4  (350000, 375000]   1598  0.060075\n",
       "5  (375000, 400000]   1135  0.055507\n",
       "6  (400000, 410000]     82  0.048780"
      ]
     },
     "execution_count": 64,
     "metadata": {},
     "output_type": "execute_result"
    }
   ],
   "source": [
    "data.groupby('income_group')['debt'].agg(['count','mean']).reset_index()"
   ]
  },
  {
   "cell_type": "markdown",
   "metadata": {},
   "source": [
    "Группировка данных показывает , что чем выше доход - тем ниже задолжность у клиентов."
   ]
  },
  {
   "cell_type": "markdown",
   "metadata": {},
   "source": [
    "##### - Как разные цели кредита влияют на его возврат в срок?"
   ]
  },
  {
   "cell_type": "code",
   "execution_count": 65,
   "metadata": {},
   "outputs": [
    {
     "data": {
      "text/html": [
       "<div>\n",
       "<style scoped>\n",
       "    .dataframe tbody tr th:only-of-type {\n",
       "        vertical-align: middle;\n",
       "    }\n",
       "\n",
       "    .dataframe tbody tr th {\n",
       "        vertical-align: top;\n",
       "    }\n",
       "\n",
       "    .dataframe thead tr th {\n",
       "        text-align: left;\n",
       "    }\n",
       "\n",
       "    .dataframe thead tr:last-of-type th {\n",
       "        text-align: right;\n",
       "    }\n",
       "</style>\n",
       "<table border=\"1\" class=\"dataframe\">\n",
       "  <thead>\n",
       "    <tr>\n",
       "      <th></th>\n",
       "      <th>count</th>\n",
       "      <th>mean</th>\n",
       "    </tr>\n",
       "    <tr>\n",
       "      <th></th>\n",
       "      <th>debt</th>\n",
       "      <th>debt</th>\n",
       "    </tr>\n",
       "    <tr>\n",
       "      <th>purpose_new</th>\n",
       "      <th></th>\n",
       "      <th></th>\n",
       "    </tr>\n",
       "  </thead>\n",
       "  <tbody>\n",
       "    <tr>\n",
       "      <th>авто</th>\n",
       "      <td>4308</td>\n",
       "      <td>0.093547</td>\n",
       "    </tr>\n",
       "    <tr>\n",
       "      <th>недвижимость</th>\n",
       "      <td>10814</td>\n",
       "      <td>0.072314</td>\n",
       "    </tr>\n",
       "    <tr>\n",
       "      <th>образование</th>\n",
       "      <td>4014</td>\n",
       "      <td>0.092177</td>\n",
       "    </tr>\n",
       "    <tr>\n",
       "      <th>свадьба</th>\n",
       "      <td>2335</td>\n",
       "      <td>0.079657</td>\n",
       "    </tr>\n",
       "  </tbody>\n",
       "</table>\n",
       "</div>"
      ],
      "text/plain": [
       "              count      mean\n",
       "               debt      debt\n",
       "purpose_new                  \n",
       "авто           4308  0.093547\n",
       "недвижимость  10814  0.072314\n",
       "образование    4014  0.092177\n",
       "свадьба        2335  0.079657"
      ]
     },
     "execution_count": 65,
     "metadata": {},
     "output_type": "execute_result"
    }
   ],
   "source": [
    "data.pivot_table(index='purpose_new',values='debt',aggfunc=['count','mean'])"
   ]
  },
  {
   "cell_type": "markdown",
   "metadata": {},
   "source": [
    "Больше возвращают кредит те клиенты которые берут деньги с целью покупки недвижимости и на свадьбу"
   ]
  },
  {
   "cell_type": "code",
   "execution_count": 66,
   "metadata": {},
   "outputs": [
    {
     "data": {
      "text/html": [
       "<div>\n",
       "<style scoped>\n",
       "    .dataframe tbody tr th:only-of-type {\n",
       "        vertical-align: middle;\n",
       "    }\n",
       "\n",
       "    .dataframe tbody tr th {\n",
       "        vertical-align: top;\n",
       "    }\n",
       "\n",
       "    .dataframe thead tr th {\n",
       "        text-align: left;\n",
       "    }\n",
       "\n",
       "    .dataframe thead tr:last-of-type th {\n",
       "        text-align: right;\n",
       "    }\n",
       "</style>\n",
       "<table border=\"1\" class=\"dataframe\">\n",
       "  <thead>\n",
       "    <tr>\n",
       "      <th></th>\n",
       "      <th></th>\n",
       "      <th>count</th>\n",
       "      <th>mean</th>\n",
       "    </tr>\n",
       "    <tr>\n",
       "      <th></th>\n",
       "      <th></th>\n",
       "      <th>debt</th>\n",
       "      <th>debt</th>\n",
       "    </tr>\n",
       "    <tr>\n",
       "      <th>purpose_new</th>\n",
       "      <th>family_status</th>\n",
       "      <th></th>\n",
       "      <th></th>\n",
       "    </tr>\n",
       "  </thead>\n",
       "  <tbody>\n",
       "    <tr>\n",
       "      <th rowspan=\"5\" valign=\"top\">авто</th>\n",
       "      <th>в разводе</th>\n",
       "      <td>281</td>\n",
       "      <td>0.074733</td>\n",
       "    </tr>\n",
       "    <tr>\n",
       "      <th>вдовец / вдова</th>\n",
       "      <td>218</td>\n",
       "      <td>0.091743</td>\n",
       "    </tr>\n",
       "    <tr>\n",
       "      <th>гражданский брак</th>\n",
       "      <td>434</td>\n",
       "      <td>0.117512</td>\n",
       "    </tr>\n",
       "    <tr>\n",
       "      <th>женат / замужем</th>\n",
       "      <td>2738</td>\n",
       "      <td>0.083638</td>\n",
       "    </tr>\n",
       "    <tr>\n",
       "      <th>не женат / не замужем</th>\n",
       "      <td>637</td>\n",
       "      <td>0.128728</td>\n",
       "    </tr>\n",
       "    <tr>\n",
       "      <th rowspan=\"5\" valign=\"top\">недвижимость</th>\n",
       "      <th>в разводе</th>\n",
       "      <td>676</td>\n",
       "      <td>0.069527</td>\n",
       "    </tr>\n",
       "    <tr>\n",
       "      <th>вдовец / вдова</th>\n",
       "      <td>542</td>\n",
       "      <td>0.051661</td>\n",
       "    </tr>\n",
       "    <tr>\n",
       "      <th>гражданский брак</th>\n",
       "      <td>990</td>\n",
       "      <td>0.091919</td>\n",
       "    </tr>\n",
       "    <tr>\n",
       "      <th>женат / замужем</th>\n",
       "      <td>7010</td>\n",
       "      <td>0.069330</td>\n",
       "    </tr>\n",
       "    <tr>\n",
       "      <th>не женат / не замужем</th>\n",
       "      <td>1596</td>\n",
       "      <td>0.081454</td>\n",
       "    </tr>\n",
       "    <tr>\n",
       "      <th rowspan=\"5\" valign=\"top\">образование</th>\n",
       "      <th>в разводе</th>\n",
       "      <td>238</td>\n",
       "      <td>0.071429</td>\n",
       "    </tr>\n",
       "    <tr>\n",
       "      <th>вдовец / вдова</th>\n",
       "      <td>199</td>\n",
       "      <td>0.075377</td>\n",
       "    </tr>\n",
       "    <tr>\n",
       "      <th>гражданский брак</th>\n",
       "      <td>404</td>\n",
       "      <td>0.148515</td>\n",
       "    </tr>\n",
       "    <tr>\n",
       "      <th>женат / замужем</th>\n",
       "      <td>2596</td>\n",
       "      <td>0.083205</td>\n",
       "    </tr>\n",
       "    <tr>\n",
       "      <th>не женат / не замужем</th>\n",
       "      <td>577</td>\n",
       "      <td>0.107452</td>\n",
       "    </tr>\n",
       "    <tr>\n",
       "      <th>свадьба</th>\n",
       "      <th>гражданский брак</th>\n",
       "      <td>2335</td>\n",
       "      <td>0.079657</td>\n",
       "    </tr>\n",
       "  </tbody>\n",
       "</table>\n",
       "</div>"
      ],
      "text/plain": [
       "                                   count      mean\n",
       "                                    debt      debt\n",
       "purpose_new  family_status                        \n",
       "авто         в разводе               281  0.074733\n",
       "             вдовец / вдова          218  0.091743\n",
       "             гражданский брак        434  0.117512\n",
       "             женат / замужем        2738  0.083638\n",
       "             не женат / не замужем   637  0.128728\n",
       "недвижимость в разводе               676  0.069527\n",
       "             вдовец / вдова          542  0.051661\n",
       "             гражданский брак        990  0.091919\n",
       "             женат / замужем        7010  0.069330\n",
       "             не женат / не замужем  1596  0.081454\n",
       "образование  в разводе               238  0.071429\n",
       "             вдовец / вдова          199  0.075377\n",
       "             гражданский брак        404  0.148515\n",
       "             женат / замужем        2596  0.083205\n",
       "             не женат / не замужем   577  0.107452\n",
       "свадьба      гражданский брак       2335  0.079657"
      ]
     },
     "execution_count": 66,
     "metadata": {},
     "output_type": "execute_result"
    }
   ],
   "source": [
    "data.pivot_table(index=['purpose_new','family_status'],values='debt',aggfunc=['count','mean'])"
   ]
  },
  {
   "cell_type": "markdown",
   "metadata": {},
   "source": [
    "Клиенты которые берут деньги с целью покупки авто - чаще возвращяют те кто в разводе, на покупку недвижимости - вдовец/вдова, образование - в разводе."
   ]
  },
  {
   "cell_type": "markdown",
   "metadata": {},
   "source": [
    "### Общий вывод"
   ]
  },
  {
   "cell_type": "markdown",
   "metadata": {},
   "source": [
    "Для того чтобы приступить к анализу данных необходимо обработать и привести в порядок данные с которыми нужно работать. В DataFrame были выявлены пропуски и заменены на средние показатели, выявлены и изменены дубликаты. Для облегчения дальнейшего анализа создана категория клиентов по наличию детей.\n",
    "Анализ данных показал, что задолженности по кредиту меньше всего у женатых либо разведенных людей и обязательно без детей. Чем выше доход- тем больше вероятность возвращения кредита. Меньшая задолженность у клиентов которые берут кредит на покупку недвижимости и свадьбу.\n",
    "Больше всего задолженности у тех кто не замужем/женат или проживающие гражданским браком с детьми."
   ]
  }
 ],
 "metadata": {
  "kernelspec": {
   "display_name": "Python 3",
   "language": "python",
   "name": "python3"
  },
  "language_info": {
   "codemirror_mode": {
    "name": "ipython",
    "version": 3
   },
   "file_extension": ".py",
   "mimetype": "text/x-python",
   "name": "python",
   "nbconvert_exporter": "python",
   "pygments_lexer": "ipython3",
   "version": "3.7.6"
  }
 },
 "nbformat": 4,
 "nbformat_minor": 2
}
