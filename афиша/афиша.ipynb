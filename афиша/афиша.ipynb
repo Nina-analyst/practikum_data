{
 "cells": [
  {
   "cell_type": "markdown",
   "metadata": {},
   "source": [
    "# Аналитика в Яндекс.Афише"
   ]
  },
  {
   "cell_type": "markdown",
   "metadata": {},
   "source": [
    "### Цель проетка: изучение пользовательского поведения для оптимизации маркетинговых затрат"
   ]
  },
  {
   "cell_type": "markdown",
   "metadata": {},
   "source": [
    "**Задачи проекта:**\n",
    "\n",
    "   1. выявить как люди пользуются продуктом,\n",
    "   \n",
    "   2. изучить когда они начинают покупать,\n",
    "   \n",
    "   3. сколько денег приносит каждый клиент\n",
    "   \n",
    "   4. когда клиент окупается."
   ]
  },
  {
   "cell_type": "markdown",
   "metadata": {},
   "source": [
    "#### Описание данных\n",
    "Таблица visits (лог сервера с информацией о посещениях сайта):\n",
    "- Uid — уникальный идентификатор пользователя\n",
    "- Device — категория устройства пользователя\n",
    "- Start Ts — дата и время начала сессии\n",
    "- End Ts — дата и время окончания сессии\n",
    "- Source Id — идентификатор рекламного источника, из которого пришел пользователь\n",
    "\n",
    "Таблица orders (информация о заказах):\n",
    "- Uid — уникальный id пользователя, который сделал заказ\n",
    "- Buy Ts — дата и время заказа\n",
    "- Revenue — выручка Яндекс.Афиши с этого заказа\n",
    "\n",
    "Таблица costs (информация о затратах на маркетинг):\n",
    "- source_id — идентификатор рекламного источника\n",
    "- dt — дата\n",
    "- costs — затраты на этот рекламный источник в этот день"
   ]
  },
  {
   "cell_type": "markdown",
   "metadata": {},
   "source": [
    "### СТРУКТУРА ПРОЕКТА"
   ]
  },
  {
   "cell_type": "markdown",
   "metadata": {},
   "source": [
    "##### 1. Изучение общей информации\n",
    "*[jump to code cell 1](#cell1)"
   ]
  },
  {
   "cell_type": "markdown",
   "metadata": {},
   "source": [
    "##### 2. Преобработка данных \n",
    "*[jump to code cell 2](#cell2)"
   ]
  },
  {
   "cell_type": "markdown",
   "metadata": {},
   "source": [
    "##### 3. Анализ данных:"
   ]
  },
  {
   "cell_type": "markdown",
   "metadata": {},
   "source": [
    "- Отчеты и метрики по продукту   *[jump to code cell 3](#cell3)\n",
    "\n",
    "- Отчеты и метрики по продажам   *[jump to code cell 4](#cell4)\n",
    "\n",
    "- Отчеты и метрики по маркетингу *[jump to code cell 5](#cell5)\n",
    "\n",
    "- Рекомендации                   *[jump to code cell 6](#cell6)\n"
   ]
  },
  {
   "cell_type": "markdown",
   "metadata": {},
   "source": [
    "### 1. ОБЩАЯ ИНФОРМАЦИЯ"
   ]
  },
  {
   "cell_type": "markdown",
   "metadata": {},
   "source": [
    "<a id=\"cell1\"></a>"
   ]
  },
  {
   "cell_type": "code",
   "execution_count": 1,
   "metadata": {},
   "outputs": [],
   "source": [
    "import pandas as pd\n",
    "import numpy as np\n",
    "import seaborn as sns\n",
    "from matplotlib import pyplot as plt"
   ]
  },
  {
   "cell_type": "code",
   "execution_count": 2,
   "metadata": {},
   "outputs": [],
   "source": [
    "visits=pd.read_csv('visits_log.csv')"
   ]
  },
  {
   "cell_type": "code",
   "execution_count": 3,
   "metadata": {},
   "outputs": [],
   "source": [
    "orders=pd.read_csv('orders_log.csv')"
   ]
  },
  {
   "cell_type": "code",
   "execution_count": 4,
   "metadata": {},
   "outputs": [],
   "source": [
    "costs=pd.read_csv('costs.csv')"
   ]
  },
  {
   "cell_type": "code",
   "execution_count": 5,
   "metadata": {},
   "outputs": [
    {
     "data": {
      "text/html": [
       "<div>\n",
       "<style scoped>\n",
       "    .dataframe tbody tr th:only-of-type {\n",
       "        vertical-align: middle;\n",
       "    }\n",
       "\n",
       "    .dataframe tbody tr th {\n",
       "        vertical-align: top;\n",
       "    }\n",
       "\n",
       "    .dataframe thead th {\n",
       "        text-align: right;\n",
       "    }\n",
       "</style>\n",
       "<table border=\"1\" class=\"dataframe\">\n",
       "  <thead>\n",
       "    <tr style=\"text-align: right;\">\n",
       "      <th></th>\n",
       "      <th>Device</th>\n",
       "      <th>End Ts</th>\n",
       "      <th>Source Id</th>\n",
       "      <th>Start Ts</th>\n",
       "      <th>Uid</th>\n",
       "    </tr>\n",
       "  </thead>\n",
       "  <tbody>\n",
       "    <tr>\n",
       "      <th>0</th>\n",
       "      <td>touch</td>\n",
       "      <td>2017-12-20 17:38:00</td>\n",
       "      <td>4</td>\n",
       "      <td>2017-12-20 17:20:00</td>\n",
       "      <td>16879256277535980062</td>\n",
       "    </tr>\n",
       "    <tr>\n",
       "      <th>1</th>\n",
       "      <td>desktop</td>\n",
       "      <td>2018-02-19 17:21:00</td>\n",
       "      <td>2</td>\n",
       "      <td>2018-02-19 16:53:00</td>\n",
       "      <td>104060357244891740</td>\n",
       "    </tr>\n",
       "    <tr>\n",
       "      <th>2</th>\n",
       "      <td>touch</td>\n",
       "      <td>2017-07-01 01:54:00</td>\n",
       "      <td>5</td>\n",
       "      <td>2017-07-01 01:54:00</td>\n",
       "      <td>7459035603376831527</td>\n",
       "    </tr>\n",
       "  </tbody>\n",
       "</table>\n",
       "</div>"
      ],
      "text/plain": [
       "    Device               End Ts  Source Id             Start Ts  \\\n",
       "0    touch  2017-12-20 17:38:00          4  2017-12-20 17:20:00   \n",
       "1  desktop  2018-02-19 17:21:00          2  2018-02-19 16:53:00   \n",
       "2    touch  2017-07-01 01:54:00          5  2017-07-01 01:54:00   \n",
       "\n",
       "                    Uid  \n",
       "0  16879256277535980062  \n",
       "1    104060357244891740  \n",
       "2   7459035603376831527  "
      ]
     },
     "execution_count": 5,
     "metadata": {},
     "output_type": "execute_result"
    }
   ],
   "source": [
    "# посмотрим данные о визитах\n",
    "visits.head(3)\n"
   ]
  },
  {
   "cell_type": "markdown",
   "metadata": {},
   "source": [
    "В таблице данных о визитах посетителей представлена информация: платформы,начало и окончание сессий, рекламный источник.\n",
    "Для удобства обработки инфо при преобработки данных приведем названия столбцов к нижнему регистру. Посмотрим общую инфо по визитам, тип данных, наличие пропусков"
   ]
  },
  {
   "cell_type": "code",
   "execution_count": 6,
   "metadata": {},
   "outputs": [
    {
     "name": "stdout",
     "output_type": "stream",
     "text": [
      "<class 'pandas.core.frame.DataFrame'>\n",
      "RangeIndex: 359400 entries, 0 to 359399\n",
      "Data columns (total 5 columns):\n",
      " #   Column     Non-Null Count   Dtype \n",
      "---  ------     --------------   ----- \n",
      " 0   Device     359400 non-null  object\n",
      " 1   End Ts     359400 non-null  object\n",
      " 2   Source Id  359400 non-null  int64 \n",
      " 3   Start Ts   359400 non-null  object\n",
      " 4   Uid        359400 non-null  uint64\n",
      "dtypes: int64(1), object(3), uint64(1)\n",
      "memory usage: 13.7+ MB\n"
     ]
    }
   ],
   "source": [
    "visits.info()"
   ]
  },
  {
   "cell_type": "markdown",
   "metadata": {},
   "source": [
    "представлена инфо о 359400 сессий пользвователей"
   ]
  },
  {
   "cell_type": "code",
   "execution_count": 7,
   "metadata": {},
   "outputs": [
    {
     "data": {
      "text/plain": [
       "Device       object\n",
       "End Ts       object\n",
       "Source Id     int64\n",
       "Start Ts     object\n",
       "Uid          uint64\n",
       "dtype: object"
      ]
     },
     "execution_count": 7,
     "metadata": {},
     "output_type": "execute_result"
    }
   ],
   "source": [
    "visits.dtypes"
   ]
  },
  {
   "cell_type": "markdown",
   "metadata": {},
   "source": [
    "не верно указан тип дат, в преобработке изменим"
   ]
  },
  {
   "cell_type": "code",
   "execution_count": 8,
   "metadata": {},
   "outputs": [
    {
     "data": {
      "text/plain": [
       "12869801667763685675    893\n",
       "3263486045884611639     615\n",
       "11255648391090536411    551\n",
       "17030528792926543083    357\n",
       "8056418121947262981     343\n",
       "                       ... \n",
       "13023238853810096243      1\n",
       "13275209559615110952      1\n",
       "10451189761655280393      1\n",
       "11370115024582961201      1\n",
       "15160524768967727475      1\n",
       "Name: Uid, Length: 228169, dtype: int64"
      ]
     },
     "execution_count": 8,
     "metadata": {},
     "output_type": "execute_result"
    }
   ],
   "source": [
    "visits['Uid'].value_counts()"
   ]
  },
  {
   "cell_type": "markdown",
   "metadata": {},
   "source": [
    "Всего 228169 пользователей, которые совершали сессии 359500 раз"
   ]
  },
  {
   "cell_type": "code",
   "execution_count": 9,
   "metadata": {},
   "outputs": [
    {
     "data": {
      "text/plain": [
       "desktop    262567\n",
       "touch       96833\n",
       "Name: Device, dtype: int64"
      ]
     },
     "execution_count": 9,
     "metadata": {},
     "output_type": "execute_result"
    }
   ],
   "source": [
    "visits['Device'].value_counts()"
   ]
  },
  {
   "cell_type": "markdown",
   "metadata": {},
   "source": [
    "Посетители в основном заходили с компьютера"
   ]
  },
  {
   "cell_type": "code",
   "execution_count": 10,
   "metadata": {},
   "outputs": [
    {
     "data": {
      "text/plain": [
       "4     101794\n",
       "3      85610\n",
       "5      66905\n",
       "2      47626\n",
       "1      34121\n",
       "9      13277\n",
       "10     10025\n",
       "7         36\n",
       "6          6\n",
       "Name: Source Id, dtype: int64"
      ]
     },
     "execution_count": 10,
     "metadata": {},
     "output_type": "execute_result"
    }
   ],
   "source": [
    "visits['Source Id'].value_counts()"
   ]
  },
  {
   "cell_type": "markdown",
   "metadata": {},
   "source": [
    "Представлены 9 рекламных источников с которых пришли пользователи"
   ]
  },
  {
   "cell_type": "code",
   "execution_count": 11,
   "metadata": {},
   "outputs": [
    {
     "data": {
      "text/plain": [
       "'2017-06-01 00:01:00'"
      ]
     },
     "execution_count": 11,
     "metadata": {},
     "output_type": "execute_result"
    }
   ],
   "source": [
    "visits['Start Ts'].min()"
   ]
  },
  {
   "cell_type": "code",
   "execution_count": 12,
   "metadata": {},
   "outputs": [
    {
     "data": {
      "text/plain": [
       "'2018-06-01 01:26:00'"
      ]
     },
     "execution_count": 12,
     "metadata": {},
     "output_type": "execute_result"
    }
   ],
   "source": [
    "visits['End Ts'].max()"
   ]
  },
  {
   "cell_type": "markdown",
   "metadata": {},
   "source": [
    "Собрана информация с 1 июня 2017г по 1 июня 2018г"
   ]
  },
  {
   "cell_type": "code",
   "execution_count": 13,
   "metadata": {},
   "outputs": [
    {
     "data": {
      "text/html": [
       "<div>\n",
       "<style scoped>\n",
       "    .dataframe tbody tr th:only-of-type {\n",
       "        vertical-align: middle;\n",
       "    }\n",
       "\n",
       "    .dataframe tbody tr th {\n",
       "        vertical-align: top;\n",
       "    }\n",
       "\n",
       "    .dataframe thead th {\n",
       "        text-align: right;\n",
       "    }\n",
       "</style>\n",
       "<table border=\"1\" class=\"dataframe\">\n",
       "  <thead>\n",
       "    <tr style=\"text-align: right;\">\n",
       "      <th></th>\n",
       "      <th>Buy Ts</th>\n",
       "      <th>Revenue</th>\n",
       "      <th>Uid</th>\n",
       "    </tr>\n",
       "  </thead>\n",
       "  <tbody>\n",
       "    <tr>\n",
       "      <th>0</th>\n",
       "      <td>2017-06-01 00:10:00</td>\n",
       "      <td>17.00</td>\n",
       "      <td>10329302124590727494</td>\n",
       "    </tr>\n",
       "    <tr>\n",
       "      <th>1</th>\n",
       "      <td>2017-06-01 00:25:00</td>\n",
       "      <td>0.55</td>\n",
       "      <td>11627257723692907447</td>\n",
       "    </tr>\n",
       "    <tr>\n",
       "      <th>2</th>\n",
       "      <td>2017-06-01 00:27:00</td>\n",
       "      <td>0.37</td>\n",
       "      <td>17903680561304213844</td>\n",
       "    </tr>\n",
       "    <tr>\n",
       "      <th>3</th>\n",
       "      <td>2017-06-01 00:29:00</td>\n",
       "      <td>0.55</td>\n",
       "      <td>16109239769442553005</td>\n",
       "    </tr>\n",
       "    <tr>\n",
       "      <th>4</th>\n",
       "      <td>2017-06-01 07:58:00</td>\n",
       "      <td>0.37</td>\n",
       "      <td>14200605875248379450</td>\n",
       "    </tr>\n",
       "    <tr>\n",
       "      <th>5</th>\n",
       "      <td>2017-06-01 08:43:00</td>\n",
       "      <td>0.18</td>\n",
       "      <td>10402394430196413321</td>\n",
       "    </tr>\n",
       "  </tbody>\n",
       "</table>\n",
       "</div>"
      ],
      "text/plain": [
       "                Buy Ts  Revenue                   Uid\n",
       "0  2017-06-01 00:10:00    17.00  10329302124590727494\n",
       "1  2017-06-01 00:25:00     0.55  11627257723692907447\n",
       "2  2017-06-01 00:27:00     0.37  17903680561304213844\n",
       "3  2017-06-01 00:29:00     0.55  16109239769442553005\n",
       "4  2017-06-01 07:58:00     0.37  14200605875248379450\n",
       "5  2017-06-01 08:43:00     0.18  10402394430196413321"
      ]
     },
     "execution_count": 13,
     "metadata": {},
     "output_type": "execute_result"
    }
   ],
   "source": [
    "# посмотрим данные о заказах\n",
    "orders.head(6)"
   ]
  },
  {
   "cell_type": "markdown",
   "metadata": {},
   "source": [
    "Информация о дате заказа и стоимости заказа"
   ]
  },
  {
   "cell_type": "code",
   "execution_count": 14,
   "metadata": {},
   "outputs": [
    {
     "data": {
      "text/plain": [
       "3644482766749211722     239\n",
       "13888745432979765063    238\n",
       "11920452646463905188    227\n",
       "6731421022966725351     183\n",
       "5139615590553126732     150\n",
       "                       ... \n",
       "10123118655365033769      1\n",
       "17398492294358629398      1\n",
       "15974676665349104064      1\n",
       "16705253310465048548      1\n",
       "9505264890679494151       1\n",
       "Name: Uid, Length: 36523, dtype: int64"
      ]
     },
     "execution_count": 14,
     "metadata": {},
     "output_type": "execute_result"
    }
   ],
   "source": [
    "orders['Uid'].value_counts()"
   ]
  },
  {
   "cell_type": "markdown",
   "metadata": {},
   "source": [
    "Из 228169 пользователей покупку совершили только 36523 пользователей (16%)"
   ]
  },
  {
   "cell_type": "code",
   "execution_count": 15,
   "metadata": {},
   "outputs": [
    {
     "data": {
      "text/plain": [
       "252057.19999999998"
      ]
     },
     "execution_count": 15,
     "metadata": {},
     "output_type": "execute_result"
    }
   ],
   "source": [
    "orders['Revenue'].sum()"
   ]
  },
  {
   "cell_type": "markdown",
   "metadata": {},
   "source": [
    "Выручка от всех пользователей 252057 руб"
   ]
  },
  {
   "cell_type": "code",
   "execution_count": 16,
   "metadata": {},
   "outputs": [
    {
     "data": {
      "text/plain": [
       "Buy Ts      object\n",
       "Revenue    float64\n",
       "Uid         uint64\n",
       "dtype: object"
      ]
     },
     "execution_count": 16,
     "metadata": {},
     "output_type": "execute_result"
    }
   ],
   "source": [
    "orders.dtypes"
   ]
  },
  {
   "cell_type": "code",
   "execution_count": 17,
   "metadata": {},
   "outputs": [
    {
     "data": {
      "text/html": [
       "<div>\n",
       "<style scoped>\n",
       "    .dataframe tbody tr th:only-of-type {\n",
       "        vertical-align: middle;\n",
       "    }\n",
       "\n",
       "    .dataframe tbody tr th {\n",
       "        vertical-align: top;\n",
       "    }\n",
       "\n",
       "    .dataframe thead th {\n",
       "        text-align: right;\n",
       "    }\n",
       "</style>\n",
       "<table border=\"1\" class=\"dataframe\">\n",
       "  <thead>\n",
       "    <tr style=\"text-align: right;\">\n",
       "      <th></th>\n",
       "      <th>source_id</th>\n",
       "      <th>dt</th>\n",
       "      <th>costs</th>\n",
       "    </tr>\n",
       "  </thead>\n",
       "  <tbody>\n",
       "    <tr>\n",
       "      <th>0</th>\n",
       "      <td>1</td>\n",
       "      <td>2017-06-01</td>\n",
       "      <td>75.20</td>\n",
       "    </tr>\n",
       "    <tr>\n",
       "      <th>1</th>\n",
       "      <td>1</td>\n",
       "      <td>2017-06-02</td>\n",
       "      <td>62.25</td>\n",
       "    </tr>\n",
       "    <tr>\n",
       "      <th>2</th>\n",
       "      <td>1</td>\n",
       "      <td>2017-06-03</td>\n",
       "      <td>36.53</td>\n",
       "    </tr>\n",
       "    <tr>\n",
       "      <th>3</th>\n",
       "      <td>1</td>\n",
       "      <td>2017-06-04</td>\n",
       "      <td>55.00</td>\n",
       "    </tr>\n",
       "    <tr>\n",
       "      <th>4</th>\n",
       "      <td>1</td>\n",
       "      <td>2017-06-05</td>\n",
       "      <td>57.08</td>\n",
       "    </tr>\n",
       "    <tr>\n",
       "      <th>5</th>\n",
       "      <td>1</td>\n",
       "      <td>2017-06-06</td>\n",
       "      <td>40.39</td>\n",
       "    </tr>\n",
       "  </tbody>\n",
       "</table>\n",
       "</div>"
      ],
      "text/plain": [
       "   source_id          dt  costs\n",
       "0          1  2017-06-01  75.20\n",
       "1          1  2017-06-02  62.25\n",
       "2          1  2017-06-03  36.53\n",
       "3          1  2017-06-04  55.00\n",
       "4          1  2017-06-05  57.08\n",
       "5          1  2017-06-06  40.39"
      ]
     },
     "execution_count": 17,
     "metadata": {},
     "output_type": "execute_result"
    }
   ],
   "source": [
    "# посмотрим данные о затратах\n",
    "costs.head(6)"
   ]
  },
  {
   "cell_type": "markdown",
   "metadata": {},
   "source": [
    "Информация об затратах на разные рекламные источники в разные дни"
   ]
  },
  {
   "cell_type": "code",
   "execution_count": 18,
   "metadata": {},
   "outputs": [
    {
     "data": {
      "text/plain": [
       "5     364\n",
       "9     363\n",
       "3     363\n",
       "1     363\n",
       "10    363\n",
       "4     363\n",
       "2     363\n",
       "Name: source_id, dtype: int64"
      ]
     },
     "execution_count": 18,
     "metadata": {},
     "output_type": "execute_result"
    }
   ],
   "source": [
    "costs['source_id'].value_counts()"
   ]
  },
  {
   "cell_type": "code",
   "execution_count": 19,
   "metadata": {},
   "outputs": [
    {
     "data": {
      "text/plain": [
       "source_id      int64\n",
       "dt            object\n",
       "costs        float64\n",
       "dtype: object"
      ]
     },
     "execution_count": 19,
     "metadata": {},
     "output_type": "execute_result"
    }
   ],
   "source": [
    "costs.dtypes"
   ]
  },
  {
   "cell_type": "markdown",
   "metadata": {},
   "source": [
    "Информация о 7 рекламных источниках"
   ]
  },
  {
   "cell_type": "markdown",
   "metadata": {},
   "source": [
    "#### ВЫВОД\n",
    "\n",
    "С 1 июня 2017 по 1 июня 2018 г было 359500 посещений на сайт Яндекс.Афиша 228169 пользователями. Из всех пользователей заказ оформили только 36523 клиентов (16%) и суммарная выручка за весь период составила 252057 руб. В основном заходили со стационарных устройств. Больше всего посещений с 4 рекламного источника. Затраты на рекламу различаются не только в зависимости от источника рекламы, но и в зависимости от даты посещения.\n",
    "Для того чтобы приступить к анализу информации необходимо предварительно выполнить преобработку данных: изменить тип данных у дат и привести к нижнему регистру названия столбцов"
   ]
  },
  {
   "cell_type": "markdown",
   "metadata": {},
   "source": [
    "#### 2. ПРЕОБРАБОТКА ДАННЫХ"
   ]
  },
  {
   "cell_type": "markdown",
   "metadata": {},
   "source": [
    "<a id=\"cell2\"></a>"
   ]
  },
  {
   "cell_type": "code",
   "execution_count": 20,
   "metadata": {},
   "outputs": [],
   "source": [
    "# приведем к нижнему регистру названия столбцов таблицы визитов\n",
    "visits.columns = visits.columns.str.lower()"
   ]
  },
  {
   "cell_type": "code",
   "execution_count": 21,
   "metadata": {},
   "outputs": [],
   "source": [
    "# приведем к нижнему регистру названия столбцов таблицы визитов\n",
    "orders.columns = orders.columns.str.lower()"
   ]
  },
  {
   "cell_type": "code",
   "execution_count": 22,
   "metadata": {},
   "outputs": [],
   "source": [
    "# изменим тип данных даты\n",
    "visits['end ts']=pd.to_datetime(visits['end ts'])"
   ]
  },
  {
   "cell_type": "code",
   "execution_count": 23,
   "metadata": {},
   "outputs": [],
   "source": [
    "visits['start ts']=pd.to_datetime(visits['start ts'])"
   ]
  },
  {
   "cell_type": "code",
   "execution_count": 24,
   "metadata": {},
   "outputs": [],
   "source": [
    "orders['buy ts']=pd.to_datetime(orders['buy ts'])"
   ]
  },
  {
   "cell_type": "code",
   "execution_count": 25,
   "metadata": {},
   "outputs": [],
   "source": [
    "costs['dt']=pd.to_datetime(costs['dt'])"
   ]
  },
  {
   "cell_type": "markdown",
   "metadata": {},
   "source": [
    "##### ВЫВОД\n",
    "\n",
    "Названия столбцов приведины к нижнему регистру, тип данных дат изменен - можно приступать к анализу данных"
   ]
  },
  {
   "cell_type": "markdown",
   "metadata": {},
   "source": [
    "### 3. АНАЛИЗ ДАННЫХ"
   ]
  },
  {
   "cell_type": "markdown",
   "metadata": {},
   "source": [
    "### Оценка пользовательской активности "
   ]
  },
  {
   "cell_type": "markdown",
   "metadata": {},
   "source": [
    "###### <a id=\"cell3\"></a>"
   ]
  },
  {
   "cell_type": "markdown",
   "metadata": {},
   "source": [
    "###### Расчитаем DAU, WAU, MAU"
   ]
  },
  {
   "cell_type": "code",
   "execution_count": 26,
   "metadata": {},
   "outputs": [
    {
     "data": {
      "text/plain": [
       "Index(['device', 'end ts', 'source id', 'start ts', 'uid'], dtype='object')"
      ]
     },
     "execution_count": 26,
     "metadata": {},
     "output_type": "execute_result"
    }
   ],
   "source": [
    "visits.columns"
   ]
  },
  {
   "cell_type": "code",
   "execution_count": 27,
   "metadata": {},
   "outputs": [],
   "source": [
    "# для начала выделим год, месяц, неделю из даты сессий\n",
    "visits['year']=visits['start ts'].dt.year"
   ]
  },
  {
   "cell_type": "code",
   "execution_count": 28,
   "metadata": {},
   "outputs": [],
   "source": [
    "visits['month']=visits['start ts'].dt.month"
   ]
  },
  {
   "cell_type": "code",
   "execution_count": 29,
   "metadata": {},
   "outputs": [],
   "source": [
    "visits['week']=visits['start ts'].dt.week"
   ]
  },
  {
   "cell_type": "code",
   "execution_count": 30,
   "metadata": {},
   "outputs": [],
   "source": [
    "visits['date']=visits['start ts'].dt.date"
   ]
  },
  {
   "cell_type": "code",
   "execution_count": 31,
   "metadata": {},
   "outputs": [
    {
     "data": {
      "text/html": [
       "<div>\n",
       "<style scoped>\n",
       "    .dataframe tbody tr th:only-of-type {\n",
       "        vertical-align: middle;\n",
       "    }\n",
       "\n",
       "    .dataframe tbody tr th {\n",
       "        vertical-align: top;\n",
       "    }\n",
       "\n",
       "    .dataframe thead th {\n",
       "        text-align: right;\n",
       "    }\n",
       "</style>\n",
       "<table border=\"1\" class=\"dataframe\">\n",
       "  <thead>\n",
       "    <tr style=\"text-align: right;\">\n",
       "      <th></th>\n",
       "      <th>device</th>\n",
       "      <th>end ts</th>\n",
       "      <th>source id</th>\n",
       "      <th>start ts</th>\n",
       "      <th>uid</th>\n",
       "      <th>year</th>\n",
       "      <th>month</th>\n",
       "      <th>week</th>\n",
       "      <th>date</th>\n",
       "    </tr>\n",
       "  </thead>\n",
       "  <tbody>\n",
       "    <tr>\n",
       "      <th>0</th>\n",
       "      <td>touch</td>\n",
       "      <td>2017-12-20 17:38:00</td>\n",
       "      <td>4</td>\n",
       "      <td>2017-12-20 17:20:00</td>\n",
       "      <td>16879256277535980062</td>\n",
       "      <td>2017</td>\n",
       "      <td>12</td>\n",
       "      <td>51</td>\n",
       "      <td>2017-12-20</td>\n",
       "    </tr>\n",
       "    <tr>\n",
       "      <th>1</th>\n",
       "      <td>desktop</td>\n",
       "      <td>2018-02-19 17:21:00</td>\n",
       "      <td>2</td>\n",
       "      <td>2018-02-19 16:53:00</td>\n",
       "      <td>104060357244891740</td>\n",
       "      <td>2018</td>\n",
       "      <td>2</td>\n",
       "      <td>8</td>\n",
       "      <td>2018-02-19</td>\n",
       "    </tr>\n",
       "    <tr>\n",
       "      <th>2</th>\n",
       "      <td>touch</td>\n",
       "      <td>2017-07-01 01:54:00</td>\n",
       "      <td>5</td>\n",
       "      <td>2017-07-01 01:54:00</td>\n",
       "      <td>7459035603376831527</td>\n",
       "      <td>2017</td>\n",
       "      <td>7</td>\n",
       "      <td>26</td>\n",
       "      <td>2017-07-01</td>\n",
       "    </tr>\n",
       "  </tbody>\n",
       "</table>\n",
       "</div>"
      ],
      "text/plain": [
       "    device              end ts  source id            start ts  \\\n",
       "0    touch 2017-12-20 17:38:00          4 2017-12-20 17:20:00   \n",
       "1  desktop 2018-02-19 17:21:00          2 2018-02-19 16:53:00   \n",
       "2    touch 2017-07-01 01:54:00          5 2017-07-01 01:54:00   \n",
       "\n",
       "                    uid  year  month  week        date  \n",
       "0  16879256277535980062  2017     12    51  2017-12-20  \n",
       "1    104060357244891740  2018      2     8  2018-02-19  \n",
       "2   7459035603376831527  2017      7    26  2017-07-01  "
      ]
     },
     "execution_count": 31,
     "metadata": {},
     "output_type": "execute_result"
    }
   ],
   "source": [
    "visits.head(3)"
   ]
  },
  {
   "cell_type": "code",
   "execution_count": 32,
   "metadata": {},
   "outputs": [],
   "source": [
    "dau=visits.groupby('date').agg({'uid': 'nunique'}).mean()"
   ]
  },
  {
   "cell_type": "code",
   "execution_count": 33,
   "metadata": {},
   "outputs": [
    {
     "data": {
      "text/plain": [
       "uid    907.991758\n",
       "dtype: float64"
      ]
     },
     "execution_count": 33,
     "metadata": {},
     "output_type": "execute_result"
    }
   ],
   "source": [
    "dau"
   ]
  },
  {
   "cell_type": "code",
   "execution_count": 34,
   "metadata": {},
   "outputs": [],
   "source": [
    "wau=visits.groupby(['year','week']).agg({'uid': 'nunique'}).mean()"
   ]
  },
  {
   "cell_type": "code",
   "execution_count": 35,
   "metadata": {},
   "outputs": [
    {
     "data": {
      "text/plain": [
       "uid    5716.245283\n",
       "dtype: float64"
      ]
     },
     "execution_count": 35,
     "metadata": {},
     "output_type": "execute_result"
    }
   ],
   "source": [
    "wau"
   ]
  },
  {
   "cell_type": "code",
   "execution_count": 36,
   "metadata": {},
   "outputs": [],
   "source": [
    "mau=visits.groupby(['year','month']).agg({'uid': 'nunique'}).mean()"
   ]
  },
  {
   "cell_type": "code",
   "execution_count": 37,
   "metadata": {},
   "outputs": [
    {
     "data": {
      "text/plain": [
       "uid    23228.416667\n",
       "dtype: float64"
      ]
     },
     "execution_count": 37,
     "metadata": {},
     "output_type": "execute_result"
    }
   ],
   "source": [
    "mau"
   ]
  },
  {
   "cell_type": "code",
   "execution_count": 38,
   "metadata": {},
   "outputs": [],
   "source": [
    "# посмотрим мвовлеченность аудитории\n",
    "sticky_wau=dau/wau*100"
   ]
  },
  {
   "cell_type": "code",
   "execution_count": 39,
   "metadata": {},
   "outputs": [],
   "source": [
    "sticky_mau=dau/mau*100"
   ]
  },
  {
   "cell_type": "code",
   "execution_count": 40,
   "metadata": {},
   "outputs": [
    {
     "data": {
      "text/plain": [
       "uid    15.884409\n",
       "dtype: float64"
      ]
     },
     "execution_count": 40,
     "metadata": {},
     "output_type": "execute_result"
    }
   ],
   "source": [
    "sticky_wau"
   ]
  },
  {
   "cell_type": "code",
   "execution_count": 41,
   "metadata": {},
   "outputs": [
    {
     "data": {
      "text/plain": [
       "uid    3.90897\n",
       "dtype: float64"
      ]
     },
     "execution_count": 41,
     "metadata": {},
     "output_type": "execute_result"
    }
   ],
   "source": [
    "sticky_mau"
   ]
  },
  {
   "cell_type": "markdown",
   "metadata": {},
   "source": [
    "Sticky фактор очень низкий - пользователи не задерживаются на сайте. Подробнее можно посмотреть сколько в среднем длится одна сессия и среднее количество сессий на пользователя"
   ]
  },
  {
   "cell_type": "code",
   "execution_count": 42,
   "metadata": {},
   "outputs": [
    {
     "data": {
      "text/plain": [
       "Text(0.5, 1.0, 'Динамика количества посетителей ')"
      ]
     },
     "execution_count": 42,
     "metadata": {},
     "output_type": "execute_result"
    },
    {
     "data": {
      "image/png": "[encoded data removed]",
      "text/plain": [
       "<Figure size 1152x648 with 1 Axes>"
      ]
     },
     "metadata": {
      "needs_background": "light"
     },
     "output_type": "display_data"
    }
   ],
   "source": [
    "# посмотрим динамику количества пользователей сайта по месяцам\n",
    "visits.groupby(['year','month']).agg({'uid': 'nunique'}).plot(figsize=(16,9),grid=True)\n",
    "plt.xlabel('Период, месяц') \n",
    "plt.ylabel('Количество посетителей') \n",
    "plt.title('Динамика количества посетителей ')"
   ]
  },
  {
   "cell_type": "markdown",
   "metadata": {},
   "source": [
    "Анализ данных показал, что в среднем в ежедневно сайт Яндекс.Афиша посещают 907 пользователей, еженедльно 5716, ежемесячно 23228. Если рассматривать период с июнь 2017 года по июнь 2018 наблюдается всплеск количества посетителей с октябь по декабрь 2017 года (возможно была проведена рекламная кампания, т.к летом 2017 года менее 15000 пользователей, а с августа 2017 г - резкое увеличение количества посетителей)"
   ]
  },
  {
   "cell_type": "markdown",
   "metadata": {},
   "source": [
    "##### Пользовательская сессия"
   ]
  },
  {
   "cell_type": "code",
   "execution_count": 43,
   "metadata": {},
   "outputs": [],
   "source": [
    "# сгруппируем ланные для расчета количества сессий и количества посетителей\n",
    "sessions=visits.groupby(['year','month']).agg({'uid': ['count','nunique']})"
   ]
  },
  {
   "cell_type": "code",
   "execution_count": 44,
   "metadata": {},
   "outputs": [],
   "source": [
    "# переименуем названия столбцов\n",
    "sessions.columns = ['n_sessions', 'n_users']"
   ]
  },
  {
   "cell_type": "code",
   "execution_count": 45,
   "metadata": {},
   "outputs": [],
   "source": [
    "# расчитаем количество сессий\n",
    "sessions['session_per_user']=sessions['n_sessions']/sessions['n_users']"
   ]
  },
  {
   "cell_type": "code",
   "execution_count": 46,
   "metadata": {},
   "outputs": [
    {
     "data": {
      "text/html": [
       "<div>\n",
       "<style scoped>\n",
       "    .dataframe tbody tr th:only-of-type {\n",
       "        vertical-align: middle;\n",
       "    }\n",
       "\n",
       "    .dataframe tbody tr th {\n",
       "        vertical-align: top;\n",
       "    }\n",
       "\n",
       "    .dataframe thead th {\n",
       "        text-align: right;\n",
       "    }\n",
       "</style>\n",
       "<table border=\"1\" class=\"dataframe\">\n",
       "  <thead>\n",
       "    <tr style=\"text-align: right;\">\n",
       "      <th></th>\n",
       "      <th></th>\n",
       "      <th>n_sessions</th>\n",
       "      <th>n_users</th>\n",
       "      <th>session_per_user</th>\n",
       "    </tr>\n",
       "    <tr>\n",
       "      <th>year</th>\n",
       "      <th>month</th>\n",
       "      <th></th>\n",
       "      <th></th>\n",
       "      <th></th>\n",
       "    </tr>\n",
       "  </thead>\n",
       "  <tbody>\n",
       "    <tr>\n",
       "      <th rowspan=\"7\" valign=\"top\">2017</th>\n",
       "      <th>6</th>\n",
       "      <td>16505</td>\n",
       "      <td>13259</td>\n",
       "      <td>1.244815</td>\n",
       "    </tr>\n",
       "    <tr>\n",
       "      <th>7</th>\n",
       "      <td>17828</td>\n",
       "      <td>14183</td>\n",
       "      <td>1.256998</td>\n",
       "    </tr>\n",
       "    <tr>\n",
       "      <th>8</th>\n",
       "      <td>14355</td>\n",
       "      <td>11631</td>\n",
       "      <td>1.234202</td>\n",
       "    </tr>\n",
       "    <tr>\n",
       "      <th>9</th>\n",
       "      <td>23907</td>\n",
       "      <td>18975</td>\n",
       "      <td>1.259921</td>\n",
       "    </tr>\n",
       "    <tr>\n",
       "      <th>10</th>\n",
       "      <td>37903</td>\n",
       "      <td>29692</td>\n",
       "      <td>1.276539</td>\n",
       "    </tr>\n",
       "    <tr>\n",
       "      <th>11</th>\n",
       "      <td>43969</td>\n",
       "      <td>32797</td>\n",
       "      <td>1.340641</td>\n",
       "    </tr>\n",
       "    <tr>\n",
       "      <th>12</th>\n",
       "      <td>41983</td>\n",
       "      <td>31557</td>\n",
       "      <td>1.330386</td>\n",
       "    </tr>\n",
       "    <tr>\n",
       "      <th rowspan=\"5\" valign=\"top\">2018</th>\n",
       "      <th>1</th>\n",
       "      <td>36939</td>\n",
       "      <td>28716</td>\n",
       "      <td>1.286356</td>\n",
       "    </tr>\n",
       "    <tr>\n",
       "      <th>2</th>\n",
       "      <td>37182</td>\n",
       "      <td>28749</td>\n",
       "      <td>1.293332</td>\n",
       "    </tr>\n",
       "    <tr>\n",
       "      <th>3</th>\n",
       "      <td>35679</td>\n",
       "      <td>27473</td>\n",
       "      <td>1.298693</td>\n",
       "    </tr>\n",
       "    <tr>\n",
       "      <th>4</th>\n",
       "      <td>26515</td>\n",
       "      <td>21008</td>\n",
       "      <td>1.262138</td>\n",
       "    </tr>\n",
       "    <tr>\n",
       "      <th>5</th>\n",
       "      <td>26635</td>\n",
       "      <td>20701</td>\n",
       "      <td>1.286653</td>\n",
       "    </tr>\n",
       "  </tbody>\n",
       "</table>\n",
       "</div>"
      ],
      "text/plain": [
       "            n_sessions  n_users  session_per_user\n",
       "year month                                       \n",
       "2017 6           16505    13259          1.244815\n",
       "     7           17828    14183          1.256998\n",
       "     8           14355    11631          1.234202\n",
       "     9           23907    18975          1.259921\n",
       "     10          37903    29692          1.276539\n",
       "     11          43969    32797          1.340641\n",
       "     12          41983    31557          1.330386\n",
       "2018 1           36939    28716          1.286356\n",
       "     2           37182    28749          1.293332\n",
       "     3           35679    27473          1.298693\n",
       "     4           26515    21008          1.262138\n",
       "     5           26635    20701          1.286653"
      ]
     },
     "execution_count": 46,
     "metadata": {},
     "output_type": "execute_result"
    }
   ],
   "source": [
    "sessions"
   ]
  },
  {
   "cell_type": "code",
   "execution_count": 47,
   "metadata": {},
   "outputs": [
    {
     "data": {
      "text/plain": [
       "1.2808894945992668"
      ]
     },
     "execution_count": 47,
     "metadata": {},
     "output_type": "execute_result"
    }
   ],
   "source": [
    "sessions['session_per_user'].mean()"
   ]
  },
  {
   "cell_type": "markdown",
   "metadata": {},
   "source": [
    "В среднем каждый пользователь заходит на сайт чуть более 1 раза"
   ]
  },
  {
   "cell_type": "code",
   "execution_count": 48,
   "metadata": {},
   "outputs": [
    {
     "data": {
      "text/plain": [
       "Text(0.5, 1.0, 'Динамика количества посетителей ')"
      ]
     },
     "execution_count": 48,
     "metadata": {},
     "output_type": "execute_result"
    },
    {
     "data": {
      "image/png": "[encoded data removed]",
      "text/plain": [
       "<Figure size 1152x648 with 1 Axes>"
      ]
     },
     "metadata": {
      "needs_background": "light"
     },
     "output_type": "display_data"
    }
   ],
   "source": [
    "# посмотрим динамику изменения среднего количества сессий\n",
    "sessions['session_per_user'].plot(figsize=(16,9),grid=True)\n",
    "plt.xlabel('Период, месяц') \n",
    "plt.ylabel('Средня длительность сессии, ') \n",
    "plt.title('Динамика количества посетителей ')"
   ]
  },
  {
   "cell_type": "markdown",
   "metadata": {},
   "source": [
    "Оказывается в период с октябрь по декабрь 2017 г увеличелось не только количество посетителей, но и вырос интерес у пользователей (увеличилась частота посещений)"
   ]
  },
  {
   "cell_type": "markdown",
   "metadata": {},
   "source": [
    "Расчитаем длительность сессий"
   ]
  },
  {
   "cell_type": "code",
   "execution_count": 49,
   "metadata": {},
   "outputs": [],
   "source": [
    "visits['duration'] = (visits['end ts'] - visits['start ts']).dt.seconds"
   ]
  },
  {
   "cell_type": "code",
   "execution_count": 50,
   "metadata": {},
   "outputs": [
    {
     "data": {
      "text/plain": [
       "643.506488592098"
      ]
     },
     "execution_count": 50,
     "metadata": {},
     "output_type": "execute_result"
    }
   ],
   "source": [
    "visits['duration'].mean()"
   ]
  },
  {
   "cell_type": "markdown",
   "metadata": {},
   "source": [
    "Средняя длительность сессии 643 секунд"
   ]
  },
  {
   "cell_type": "code",
   "execution_count": 51,
   "metadata": {},
   "outputs": [
    {
     "data": {
      "text/plain": [
       "<matplotlib.axes._subplots.AxesSubplot at 0x1b2bb684108>"
      ]
     },
     "execution_count": 51,
     "metadata": {},
     "output_type": "execute_result"
    },
    {
     "data": {
      "image/png": "[encoded data removed]",
      "text/plain": [
       "<Figure size 936x648 with 1 Axes>"
      ]
     },
     "metadata": {
      "needs_background": "light"
     },
     "output_type": "display_data"
    }
   ],
   "source": [
    "visits['duration'].hist(figsize=(13,9),bins=300)"
   ]
  },
  {
   "cell_type": "code",
   "execution_count": 52,
   "metadata": {},
   "outputs": [
    {
     "data": {
      "text/plain": [
       "0    60\n",
       "dtype: int64"
      ]
     },
     "execution_count": 52,
     "metadata": {},
     "output_type": "execute_result"
    }
   ],
   "source": [
    "visits['duration'].mode()"
   ]
  },
  {
   "cell_type": "code",
   "execution_count": 53,
   "metadata": {},
   "outputs": [
    {
     "data": {
      "text/plain": [
       "53029"
      ]
     },
     "execution_count": 53,
     "metadata": {},
     "output_type": "execute_result"
    }
   ],
   "source": [
    "visits[visits['duration']==60]['uid'].count()"
   ]
  },
  {
   "cell_type": "code",
   "execution_count": 54,
   "metadata": {},
   "outputs": [
    {
     "data": {
      "text/plain": [
       "300.0"
      ]
     },
     "execution_count": 54,
     "metadata": {},
     "output_type": "execute_result"
    }
   ],
   "source": [
    "visits['duration'].median()"
   ]
  },
  {
   "cell_type": "code",
   "execution_count": 55,
   "metadata": {},
   "outputs": [
    {
     "data": {
      "text/plain": [
       "190201"
      ]
     },
     "execution_count": 55,
     "metadata": {},
     "output_type": "execute_result"
    }
   ],
   "source": [
    "visits[visits['duration']<=300]['uid'].count()"
   ]
  },
  {
   "cell_type": "markdown",
   "metadata": {},
   "source": [
    "Хотя в среднем пользователи находятся на сайте 643 секунды, но чаще всего время нахождения на сайте всего лишь 60 секунд (14% всех сессий). Так как распределение не является нормальным для анализа лучше всего подойдет медиана: в среднем пользователи находятся на сайте 300 сек.\n",
    "Для того чтобы посмотреть как меняется количество пользователей расчитаем retantion и churn rate (коэффициенты удержания и оттока пользователей)"
   ]
  },
  {
   "cell_type": "markdown",
   "metadata": {},
   "source": [
    "##### Retention Rate"
   ]
  },
  {
   "cell_type": "code",
   "execution_count": 56,
   "metadata": {},
   "outputs": [],
   "source": [
    "# выделим дату первого посещения\n",
    "\n",
    "first_date=visits.groupby(['uid'])['start ts'].min()\n",
    "first_date.name='first_date'\n",
    "visits=visits.join(first_date,on='uid')"
   ]
  },
  {
   "cell_type": "code",
   "execution_count": 57,
   "metadata": {},
   "outputs": [
    {
     "data": {
      "text/plain": [
       "uid\n",
       "11863502262781         2018-03-01 17:27:00\n",
       "49537067089222         2018-02-06 15:55:00\n",
       "297729379853735        2017-06-07 18:47:00\n",
       "313578113262317        2017-09-18 22:49:00\n",
       "325320750514679        2017-09-30 14:29:00\n",
       "                               ...        \n",
       "18446403737806311543   2017-11-30 03:36:00\n",
       "18446424184725333426   2017-12-06 20:32:00\n",
       "18446556406699109058   2018-01-01 16:29:00\n",
       "18446621818809592527   2017-12-27 13:27:00\n",
       "18446676030785672386   2017-10-04 16:01:00\n",
       "Name: first_date, Length: 228169, dtype: datetime64[ns]"
      ]
     },
     "execution_count": 57,
     "metadata": {},
     "output_type": "execute_result"
    }
   ],
   "source": [
    "first_date"
   ]
  },
  {
   "cell_type": "code",
   "execution_count": 58,
   "metadata": {},
   "outputs": [
    {
     "data": {
      "text/html": [
       "<div>\n",
       "<style scoped>\n",
       "    .dataframe tbody tr th:only-of-type {\n",
       "        vertical-align: middle;\n",
       "    }\n",
       "\n",
       "    .dataframe tbody tr th {\n",
       "        vertical-align: top;\n",
       "    }\n",
       "\n",
       "    .dataframe thead th {\n",
       "        text-align: right;\n",
       "    }\n",
       "</style>\n",
       "<table border=\"1\" class=\"dataframe\">\n",
       "  <thead>\n",
       "    <tr style=\"text-align: right;\">\n",
       "      <th></th>\n",
       "      <th>device</th>\n",
       "      <th>end ts</th>\n",
       "      <th>source id</th>\n",
       "      <th>start ts</th>\n",
       "      <th>uid</th>\n",
       "      <th>year</th>\n",
       "      <th>month</th>\n",
       "      <th>week</th>\n",
       "      <th>date</th>\n",
       "      <th>duration</th>\n",
       "      <th>first_date</th>\n",
       "    </tr>\n",
       "  </thead>\n",
       "  <tbody>\n",
       "    <tr>\n",
       "      <th>0</th>\n",
       "      <td>touch</td>\n",
       "      <td>2017-12-20 17:38:00</td>\n",
       "      <td>4</td>\n",
       "      <td>2017-12-20 17:20:00</td>\n",
       "      <td>16879256277535980062</td>\n",
       "      <td>2017</td>\n",
       "      <td>12</td>\n",
       "      <td>51</td>\n",
       "      <td>2017-12-20</td>\n",
       "      <td>1080</td>\n",
       "      <td>2017-12-20 17:20:00</td>\n",
       "    </tr>\n",
       "    <tr>\n",
       "      <th>1</th>\n",
       "      <td>desktop</td>\n",
       "      <td>2018-02-19 17:21:00</td>\n",
       "      <td>2</td>\n",
       "      <td>2018-02-19 16:53:00</td>\n",
       "      <td>104060357244891740</td>\n",
       "      <td>2018</td>\n",
       "      <td>2</td>\n",
       "      <td>8</td>\n",
       "      <td>2018-02-19</td>\n",
       "      <td>1680</td>\n",
       "      <td>2018-02-19 16:53:00</td>\n",
       "    </tr>\n",
       "    <tr>\n",
       "      <th>2</th>\n",
       "      <td>touch</td>\n",
       "      <td>2017-07-01 01:54:00</td>\n",
       "      <td>5</td>\n",
       "      <td>2017-07-01 01:54:00</td>\n",
       "      <td>7459035603376831527</td>\n",
       "      <td>2017</td>\n",
       "      <td>7</td>\n",
       "      <td>26</td>\n",
       "      <td>2017-07-01</td>\n",
       "      <td>0</td>\n",
       "      <td>2017-07-01 01:54:00</td>\n",
       "    </tr>\n",
       "  </tbody>\n",
       "</table>\n",
       "</div>"
      ],
      "text/plain": [
       "    device              end ts  source id            start ts  \\\n",
       "0    touch 2017-12-20 17:38:00          4 2017-12-20 17:20:00   \n",
       "1  desktop 2018-02-19 17:21:00          2 2018-02-19 16:53:00   \n",
       "2    touch 2017-07-01 01:54:00          5 2017-07-01 01:54:00   \n",
       "\n",
       "                    uid  year  month  week        date  duration  \\\n",
       "0  16879256277535980062  2017     12    51  2017-12-20      1080   \n",
       "1    104060357244891740  2018      2     8  2018-02-19      1680   \n",
       "2   7459035603376831527  2017      7    26  2017-07-01         0   \n",
       "\n",
       "           first_date  \n",
       "0 2017-12-20 17:20:00  \n",
       "1 2018-02-19 16:53:00  \n",
       "2 2017-07-01 01:54:00  "
      ]
     },
     "execution_count": 58,
     "metadata": {},
     "output_type": "execute_result"
    }
   ],
   "source": [
    "visits.head(3)"
   ]
  },
  {
   "cell_type": "code",
   "execution_count": 59,
   "metadata": {},
   "outputs": [],
   "source": [
    "# выделим из дат месяцы\n",
    "visits['activ_month']=visits['start ts'].astype('datetime64[M]')"
   ]
  },
  {
   "cell_type": "code",
   "execution_count": 60,
   "metadata": {},
   "outputs": [],
   "source": [
    "visits['first_activ_month']=visits['first_date'].astype('datetime64[M]')"
   ]
  },
  {
   "cell_type": "code",
   "execution_count": 61,
   "metadata": {},
   "outputs": [],
   "source": [
    "visits['lifetime']=visits['activ_month']-visits['first_activ_month']"
   ]
  },
  {
   "cell_type": "code",
   "execution_count": 62,
   "metadata": {},
   "outputs": [],
   "source": [
    "visits['lifetime']=visits['lifetime']/np.timedelta64(1,'M')"
   ]
  },
  {
   "cell_type": "code",
   "execution_count": 63,
   "metadata": {},
   "outputs": [],
   "source": [
    "visits['lifetime']=visits['lifetime'].round().astype('int')"
   ]
  },
  {
   "cell_type": "code",
   "execution_count": 64,
   "metadata": {},
   "outputs": [],
   "source": [
    "visits['first_activ_month']=visits['first_activ_month'].dt.strftime('%Y-%m')"
   ]
  },
  {
   "cell_type": "code",
   "execution_count": 65,
   "metadata": {},
   "outputs": [
    {
     "data": {
      "text/html": [
       "<div>\n",
       "<style scoped>\n",
       "    .dataframe tbody tr th:only-of-type {\n",
       "        vertical-align: middle;\n",
       "    }\n",
       "\n",
       "    .dataframe tbody tr th {\n",
       "        vertical-align: top;\n",
       "    }\n",
       "\n",
       "    .dataframe thead th {\n",
       "        text-align: right;\n",
       "    }\n",
       "</style>\n",
       "<table border=\"1\" class=\"dataframe\">\n",
       "  <thead>\n",
       "    <tr style=\"text-align: right;\">\n",
       "      <th></th>\n",
       "      <th>device</th>\n",
       "      <th>end ts</th>\n",
       "      <th>source id</th>\n",
       "      <th>start ts</th>\n",
       "      <th>uid</th>\n",
       "      <th>year</th>\n",
       "      <th>month</th>\n",
       "      <th>week</th>\n",
       "      <th>date</th>\n",
       "      <th>duration</th>\n",
       "      <th>first_date</th>\n",
       "      <th>activ_month</th>\n",
       "      <th>first_activ_month</th>\n",
       "      <th>lifetime</th>\n",
       "    </tr>\n",
       "  </thead>\n",
       "  <tbody>\n",
       "    <tr>\n",
       "      <th>0</th>\n",
       "      <td>touch</td>\n",
       "      <td>2017-12-20 17:38:00</td>\n",
       "      <td>4</td>\n",
       "      <td>2017-12-20 17:20:00</td>\n",
       "      <td>16879256277535980062</td>\n",
       "      <td>2017</td>\n",
       "      <td>12</td>\n",
       "      <td>51</td>\n",
       "      <td>2017-12-20</td>\n",
       "      <td>1080</td>\n",
       "      <td>2017-12-20 17:20:00</td>\n",
       "      <td>2017-12-01</td>\n",
       "      <td>2017-12</td>\n",
       "      <td>0</td>\n",
       "    </tr>\n",
       "    <tr>\n",
       "      <th>1</th>\n",
       "      <td>desktop</td>\n",
       "      <td>2018-02-19 17:21:00</td>\n",
       "      <td>2</td>\n",
       "      <td>2018-02-19 16:53:00</td>\n",
       "      <td>104060357244891740</td>\n",
       "      <td>2018</td>\n",
       "      <td>2</td>\n",
       "      <td>8</td>\n",
       "      <td>2018-02-19</td>\n",
       "      <td>1680</td>\n",
       "      <td>2018-02-19 16:53:00</td>\n",
       "      <td>2018-02-01</td>\n",
       "      <td>2018-02</td>\n",
       "      <td>0</td>\n",
       "    </tr>\n",
       "    <tr>\n",
       "      <th>2</th>\n",
       "      <td>touch</td>\n",
       "      <td>2017-07-01 01:54:00</td>\n",
       "      <td>5</td>\n",
       "      <td>2017-07-01 01:54:00</td>\n",
       "      <td>7459035603376831527</td>\n",
       "      <td>2017</td>\n",
       "      <td>7</td>\n",
       "      <td>26</td>\n",
       "      <td>2017-07-01</td>\n",
       "      <td>0</td>\n",
       "      <td>2017-07-01 01:54:00</td>\n",
       "      <td>2017-07-01</td>\n",
       "      <td>2017-07</td>\n",
       "      <td>0</td>\n",
       "    </tr>\n",
       "  </tbody>\n",
       "</table>\n",
       "</div>"
      ],
      "text/plain": [
       "    device              end ts  source id            start ts  \\\n",
       "0    touch 2017-12-20 17:38:00          4 2017-12-20 17:20:00   \n",
       "1  desktop 2018-02-19 17:21:00          2 2018-02-19 16:53:00   \n",
       "2    touch 2017-07-01 01:54:00          5 2017-07-01 01:54:00   \n",
       "\n",
       "                    uid  year  month  week        date  duration  \\\n",
       "0  16879256277535980062  2017     12    51  2017-12-20      1080   \n",
       "1    104060357244891740  2018      2     8  2018-02-19      1680   \n",
       "2   7459035603376831527  2017      7    26  2017-07-01         0   \n",
       "\n",
       "           first_date activ_month first_activ_month  lifetime  \n",
       "0 2017-12-20 17:20:00  2017-12-01           2017-12         0  \n",
       "1 2018-02-19 16:53:00  2018-02-01           2018-02         0  \n",
       "2 2017-07-01 01:54:00  2017-07-01           2017-07         0  "
      ]
     },
     "execution_count": 65,
     "metadata": {},
     "output_type": "execute_result"
    }
   ],
   "source": [
    "visits.head(3)"
   ]
  },
  {
   "cell_type": "code",
   "execution_count": 66,
   "metadata": {},
   "outputs": [],
   "source": [
    "cohorts=visits.groupby(['first_activ_month','lifetime']).agg({'uid':'nunique'}).reset_index()"
   ]
  },
  {
   "cell_type": "code",
   "execution_count": 67,
   "metadata": {},
   "outputs": [
    {
     "data": {
      "text/html": [
       "<div>\n",
       "<style scoped>\n",
       "    .dataframe tbody tr th:only-of-type {\n",
       "        vertical-align: middle;\n",
       "    }\n",
       "\n",
       "    .dataframe tbody tr th {\n",
       "        vertical-align: top;\n",
       "    }\n",
       "\n",
       "    .dataframe thead th {\n",
       "        text-align: right;\n",
       "    }\n",
       "</style>\n",
       "<table border=\"1\" class=\"dataframe\">\n",
       "  <thead>\n",
       "    <tr style=\"text-align: right;\">\n",
       "      <th></th>\n",
       "      <th>first_activ_month</th>\n",
       "      <th>lifetime</th>\n",
       "      <th>uid</th>\n",
       "    </tr>\n",
       "  </thead>\n",
       "  <tbody>\n",
       "    <tr>\n",
       "      <th>0</th>\n",
       "      <td>2017-06</td>\n",
       "      <td>0</td>\n",
       "      <td>13259</td>\n",
       "    </tr>\n",
       "    <tr>\n",
       "      <th>1</th>\n",
       "      <td>2017-06</td>\n",
       "      <td>1</td>\n",
       "      <td>1043</td>\n",
       "    </tr>\n",
       "    <tr>\n",
       "      <th>2</th>\n",
       "      <td>2017-06</td>\n",
       "      <td>2</td>\n",
       "      <td>713</td>\n",
       "    </tr>\n",
       "    <tr>\n",
       "      <th>3</th>\n",
       "      <td>2017-06</td>\n",
       "      <td>3</td>\n",
       "      <td>814</td>\n",
       "    </tr>\n",
       "    <tr>\n",
       "      <th>4</th>\n",
       "      <td>2017-06</td>\n",
       "      <td>4</td>\n",
       "      <td>909</td>\n",
       "    </tr>\n",
       "    <tr>\n",
       "      <th>...</th>\n",
       "      <td>...</td>\n",
       "      <td>...</td>\n",
       "      <td>...</td>\n",
       "    </tr>\n",
       "    <tr>\n",
       "      <th>73</th>\n",
       "      <td>2018-03</td>\n",
       "      <td>1</td>\n",
       "      <td>861</td>\n",
       "    </tr>\n",
       "    <tr>\n",
       "      <th>74</th>\n",
       "      <td>2018-03</td>\n",
       "      <td>2</td>\n",
       "      <td>557</td>\n",
       "    </tr>\n",
       "    <tr>\n",
       "      <th>75</th>\n",
       "      <td>2018-04</td>\n",
       "      <td>0</td>\n",
       "      <td>15709</td>\n",
       "    </tr>\n",
       "    <tr>\n",
       "      <th>76</th>\n",
       "      <td>2018-04</td>\n",
       "      <td>1</td>\n",
       "      <td>760</td>\n",
       "    </tr>\n",
       "    <tr>\n",
       "      <th>77</th>\n",
       "      <td>2018-05</td>\n",
       "      <td>0</td>\n",
       "      <td>15273</td>\n",
       "    </tr>\n",
       "  </tbody>\n",
       "</table>\n",
       "<p>78 rows × 3 columns</p>\n",
       "</div>"
      ],
      "text/plain": [
       "   first_activ_month  lifetime    uid\n",
       "0            2017-06         0  13259\n",
       "1            2017-06         1   1043\n",
       "2            2017-06         2    713\n",
       "3            2017-06         3    814\n",
       "4            2017-06         4    909\n",
       "..               ...       ...    ...\n",
       "73           2018-03         1    861\n",
       "74           2018-03         2    557\n",
       "75           2018-04         0  15709\n",
       "76           2018-04         1    760\n",
       "77           2018-05         0  15273\n",
       "\n",
       "[78 rows x 3 columns]"
      ]
     },
     "execution_count": 67,
     "metadata": {},
     "output_type": "execute_result"
    }
   ],
   "source": [
    "cohorts"
   ]
  },
  {
   "cell_type": "code",
   "execution_count": 68,
   "metadata": {},
   "outputs": [],
   "source": [
    "# для расчета retention выделим количество людей изначально прибывших в когорту\n",
    "initial_user=cohorts[cohorts['lifetime']==0][['first_activ_month','uid']]"
   ]
  },
  {
   "cell_type": "code",
   "execution_count": 69,
   "metadata": {},
   "outputs": [],
   "source": [
    "# переименуем столбец\n",
    "initial_user= initial_user.rename(columns={'uid':'cohort_users'})"
   ]
  },
  {
   "cell_type": "code",
   "execution_count": 70,
   "metadata": {},
   "outputs": [],
   "source": [
    "# объединим данные\n",
    "cohorts = cohorts.merge(initial_user,on='first_activ_month')"
   ]
  },
  {
   "cell_type": "code",
   "execution_count": 71,
   "metadata": {},
   "outputs": [],
   "source": [
    "# считаем retention\n",
    "cohorts['retention'] = (cohorts['uid']/cohorts['cohort_users'])"
   ]
  },
  {
   "cell_type": "code",
   "execution_count": 72,
   "metadata": {},
   "outputs": [],
   "source": [
    "# построим сводную таблицу\n",
    "retention = cohorts.pivot_table(index='first_activ_month',columns='lifetime',values='retention',aggfunc='mean')"
   ]
  },
  {
   "cell_type": "code",
   "execution_count": 73,
   "metadata": {},
   "outputs": [
    {
     "data": {
      "text/html": [
       "<div>\n",
       "<style scoped>\n",
       "    .dataframe tbody tr th:only-of-type {\n",
       "        vertical-align: middle;\n",
       "    }\n",
       "\n",
       "    .dataframe tbody tr th {\n",
       "        vertical-align: top;\n",
       "    }\n",
       "\n",
       "    .dataframe thead th {\n",
       "        text-align: right;\n",
       "    }\n",
       "</style>\n",
       "<table border=\"1\" class=\"dataframe\">\n",
       "  <thead>\n",
       "    <tr style=\"text-align: right;\">\n",
       "      <th>lifetime</th>\n",
       "      <th>0</th>\n",
       "      <th>1</th>\n",
       "      <th>2</th>\n",
       "      <th>3</th>\n",
       "      <th>4</th>\n",
       "      <th>5</th>\n",
       "      <th>6</th>\n",
       "      <th>7</th>\n",
       "      <th>8</th>\n",
       "      <th>9</th>\n",
       "      <th>10</th>\n",
       "      <th>11</th>\n",
       "    </tr>\n",
       "    <tr>\n",
       "      <th>first_activ_month</th>\n",
       "      <th></th>\n",
       "      <th></th>\n",
       "      <th></th>\n",
       "      <th></th>\n",
       "      <th></th>\n",
       "      <th></th>\n",
       "      <th></th>\n",
       "      <th></th>\n",
       "      <th></th>\n",
       "      <th></th>\n",
       "      <th></th>\n",
       "      <th></th>\n",
       "    </tr>\n",
       "  </thead>\n",
       "  <tbody>\n",
       "    <tr>\n",
       "      <th>2017-06</th>\n",
       "      <td>1.0</td>\n",
       "      <td>0.0786635</td>\n",
       "      <td>0.0537748</td>\n",
       "      <td>0.0613923</td>\n",
       "      <td>0.0685572</td>\n",
       "      <td>0.0714232</td>\n",
       "      <td>0.0610152</td>\n",
       "      <td>0.0577721</td>\n",
       "      <td>0.0523418</td>\n",
       "      <td>0.0508334</td>\n",
       "      <td>0.0406516</td>\n",
       "      <td>0.0449506</td>\n",
       "    </tr>\n",
       "    <tr>\n",
       "      <th>2017-07</th>\n",
       "      <td>1.0</td>\n",
       "      <td>0.0560883</td>\n",
       "      <td>0.0512938</td>\n",
       "      <td>0.0561644</td>\n",
       "      <td>0.0582192</td>\n",
       "      <td>0.0481735</td>\n",
       "      <td>0.0453577</td>\n",
       "      <td>0.0457382</td>\n",
       "      <td>0.0388128</td>\n",
       "      <td>0.0286149</td>\n",
       "      <td>0.0274734</td>\n",
       "      <td></td>\n",
       "    </tr>\n",
       "    <tr>\n",
       "      <th>2017-08</th>\n",
       "      <td>1.0</td>\n",
       "      <td>0.076908</td>\n",
       "      <td>0.0628622</td>\n",
       "      <td>0.062764</td>\n",
       "      <td>0.0500933</td>\n",
       "      <td>0.0440035</td>\n",
       "      <td>0.0363422</td>\n",
       "      <td>0.0394853</td>\n",
       "      <td>0.0278951</td>\n",
       "      <td>0.0260289</td>\n",
       "      <td></td>\n",
       "      <td></td>\n",
       "    </tr>\n",
       "    <tr>\n",
       "      <th>2017-09</th>\n",
       "      <td>1.0</td>\n",
       "      <td>0.0854885</td>\n",
       "      <td>0.069205</td>\n",
       "      <td>0.0507064</td>\n",
       "      <td>0.0393918</td>\n",
       "      <td>0.0378352</td>\n",
       "      <td>0.0358597</td>\n",
       "      <td>0.0241858</td>\n",
       "      <td>0.0228089</td>\n",
       "      <td></td>\n",
       "      <td></td>\n",
       "      <td></td>\n",
       "    </tr>\n",
       "    <tr>\n",
       "      <th>2017-10</th>\n",
       "      <td>1.0</td>\n",
       "      <td>0.078608</td>\n",
       "      <td>0.0522385</td>\n",
       "      <td>0.0389575</td>\n",
       "      <td>0.0342611</td>\n",
       "      <td>0.0322208</td>\n",
       "      <td>0.0213651</td>\n",
       "      <td>0.0203642</td>\n",
       "      <td></td>\n",
       "      <td></td>\n",
       "      <td></td>\n",
       "      <td></td>\n",
       "    </tr>\n",
       "    <tr>\n",
       "      <th>2017-11</th>\n",
       "      <td>1.0</td>\n",
       "      <td>0.078281</td>\n",
       "      <td>0.0441133</td>\n",
       "      <td>0.0386817</td>\n",
       "      <td>0.0337272</td>\n",
       "      <td>0.0234146</td>\n",
       "      <td>0.0217998</td>\n",
       "      <td></td>\n",
       "      <td></td>\n",
       "      <td></td>\n",
       "      <td></td>\n",
       "      <td></td>\n",
       "    </tr>\n",
       "    <tr>\n",
       "      <th>2017-12</th>\n",
       "      <td>1.0</td>\n",
       "      <td>0.0558018</td>\n",
       "      <td>0.0379927</td>\n",
       "      <td>0.0311065</td>\n",
       "      <td>0.0202628</td>\n",
       "      <td>0.0190359</td>\n",
       "      <td></td>\n",
       "      <td></td>\n",
       "      <td></td>\n",
       "      <td></td>\n",
       "      <td></td>\n",
       "      <td></td>\n",
       "    </tr>\n",
       "    <tr>\n",
       "      <th>2018-01</th>\n",
       "      <td>1.0</td>\n",
       "      <td>0.0597153</td>\n",
       "      <td>0.0393388</td>\n",
       "      <td>0.0249735</td>\n",
       "      <td>0.020244</td>\n",
       "      <td></td>\n",
       "      <td></td>\n",
       "      <td></td>\n",
       "      <td></td>\n",
       "      <td></td>\n",
       "      <td></td>\n",
       "      <td></td>\n",
       "    </tr>\n",
       "    <tr>\n",
       "      <th>2018-02</th>\n",
       "      <td>1.0</td>\n",
       "      <td>0.0570798</td>\n",
       "      <td>0.0254539</td>\n",
       "      <td>0.0200928</td>\n",
       "      <td></td>\n",
       "      <td></td>\n",
       "      <td></td>\n",
       "      <td></td>\n",
       "      <td></td>\n",
       "      <td></td>\n",
       "      <td></td>\n",
       "      <td></td>\n",
       "    </tr>\n",
       "    <tr>\n",
       "      <th>2018-03</th>\n",
       "      <td>1.0</td>\n",
       "      <td>0.0418184</td>\n",
       "      <td>0.0270533</td>\n",
       "      <td></td>\n",
       "      <td></td>\n",
       "      <td></td>\n",
       "      <td></td>\n",
       "      <td></td>\n",
       "      <td></td>\n",
       "      <td></td>\n",
       "      <td></td>\n",
       "      <td></td>\n",
       "    </tr>\n",
       "    <tr>\n",
       "      <th>2018-04</th>\n",
       "      <td>1.0</td>\n",
       "      <td>0.0483799</td>\n",
       "      <td></td>\n",
       "      <td></td>\n",
       "      <td></td>\n",
       "      <td></td>\n",
       "      <td></td>\n",
       "      <td></td>\n",
       "      <td></td>\n",
       "      <td></td>\n",
       "      <td></td>\n",
       "      <td></td>\n",
       "    </tr>\n",
       "    <tr>\n",
       "      <th>2018-05</th>\n",
       "      <td>1.0</td>\n",
       "      <td></td>\n",
       "      <td></td>\n",
       "      <td></td>\n",
       "      <td></td>\n",
       "      <td></td>\n",
       "      <td></td>\n",
       "      <td></td>\n",
       "      <td></td>\n",
       "      <td></td>\n",
       "      <td></td>\n",
       "      <td></td>\n",
       "    </tr>\n",
       "  </tbody>\n",
       "</table>\n",
       "</div>"
      ],
      "text/plain": [
       "lifetime            0          1          2          3          4          5   \\\n",
       "first_activ_month                                                               \n",
       "2017-06            1.0  0.0786635  0.0537748  0.0613923  0.0685572  0.0714232   \n",
       "2017-07            1.0  0.0560883  0.0512938  0.0561644  0.0582192  0.0481735   \n",
       "2017-08            1.0   0.076908  0.0628622   0.062764  0.0500933  0.0440035   \n",
       "2017-09            1.0  0.0854885   0.069205  0.0507064  0.0393918  0.0378352   \n",
       "2017-10            1.0   0.078608  0.0522385  0.0389575  0.0342611  0.0322208   \n",
       "2017-11            1.0   0.078281  0.0441133  0.0386817  0.0337272  0.0234146   \n",
       "2017-12            1.0  0.0558018  0.0379927  0.0311065  0.0202628  0.0190359   \n",
       "2018-01            1.0  0.0597153  0.0393388  0.0249735   0.020244              \n",
       "2018-02            1.0  0.0570798  0.0254539  0.0200928                         \n",
       "2018-03            1.0  0.0418184  0.0270533                                    \n",
       "2018-04            1.0  0.0483799                                               \n",
       "2018-05            1.0                                                          \n",
       "\n",
       "lifetime                  6          7          8          9          10  \\\n",
       "first_activ_month                                                          \n",
       "2017-06            0.0610152  0.0577721  0.0523418  0.0508334  0.0406516   \n",
       "2017-07            0.0453577  0.0457382  0.0388128  0.0286149  0.0274734   \n",
       "2017-08            0.0363422  0.0394853  0.0278951  0.0260289              \n",
       "2017-09            0.0358597  0.0241858  0.0228089                         \n",
       "2017-10            0.0213651  0.0203642                                    \n",
       "2017-11            0.0217998                                               \n",
       "2017-12                                                                    \n",
       "2018-01                                                                    \n",
       "2018-02                                                                    \n",
       "2018-03                                                                    \n",
       "2018-04                                                                    \n",
       "2018-05                                                                    \n",
       "\n",
       "lifetime                  11  \n",
       "first_activ_month             \n",
       "2017-06            0.0449506  \n",
       "2017-07                       \n",
       "2017-08                       \n",
       "2017-09                       \n",
       "2017-10                       \n",
       "2017-11                       \n",
       "2017-12                       \n",
       "2018-01                       \n",
       "2018-02                       \n",
       "2018-03                       \n",
       "2018-04                       \n",
       "2018-05                       "
      ]
     },
     "execution_count": 73,
     "metadata": {},
     "output_type": "execute_result"
    }
   ],
   "source": [
    "retention.fillna('')"
   ]
  },
  {
   "cell_type": "code",
   "execution_count": 74,
   "metadata": {},
   "outputs": [
    {
     "data": {
      "text/plain": [
       "<matplotlib.axes._subplots.AxesSubplot at 0x1b2bc8d0a08>"
      ]
     },
     "execution_count": 74,
     "metadata": {},
     "output_type": "execute_result"
    },
    {
     "data": {
      "image/png": "[encoded data removed]",
      "text/plain": [
       "<Figure size 936x648 with 2 Axes>"
      ]
     },
     "metadata": {},
     "output_type": "display_data"
    }
   ],
   "source": [
    "sns.set(style='white')\n",
    "plt.figure(figsize=(13, 9))\n",
    "plt.title('User Retention')\n",
    "sns.heatmap(retention, annot=True, fmt='.1%', linewidths=0.5, linecolor='black',vmin=0,vmax=0.09)"
   ]
  },
  {
   "cell_type": "markdown",
   "metadata": {},
   "source": [
    "Маштабирование heatmap позволило нам увидеть что более активные первые когорты"
   ]
  },
  {
   "cell_type": "code",
   "execution_count": 75,
   "metadata": {},
   "outputs": [],
   "source": [
    "# расчитаем средний retention для каждого месяца\n",
    "retention_avr = cohorts.groupby(['first_activ_month']).agg({'retention':'mean'})"
   ]
  },
  {
   "cell_type": "code",
   "execution_count": 76,
   "metadata": {},
   "outputs": [
    {
     "data": {
      "text/html": [
       "<div>\n",
       "<style scoped>\n",
       "    .dataframe tbody tr th:only-of-type {\n",
       "        vertical-align: middle;\n",
       "    }\n",
       "\n",
       "    .dataframe tbody tr th {\n",
       "        vertical-align: top;\n",
       "    }\n",
       "\n",
       "    .dataframe thead th {\n",
       "        text-align: right;\n",
       "    }\n",
       "</style>\n",
       "<table border=\"1\" class=\"dataframe\">\n",
       "  <thead>\n",
       "    <tr style=\"text-align: right;\">\n",
       "      <th></th>\n",
       "      <th>retention</th>\n",
       "    </tr>\n",
       "    <tr>\n",
       "      <th>first_activ_month</th>\n",
       "      <th></th>\n",
       "    </tr>\n",
       "  </thead>\n",
       "  <tbody>\n",
       "    <tr>\n",
       "      <th>2017-06</th>\n",
       "      <td>0.136781</td>\n",
       "    </tr>\n",
       "    <tr>\n",
       "      <th>2017-07</th>\n",
       "      <td>0.132358</td>\n",
       "    </tr>\n",
       "    <tr>\n",
       "      <th>2017-08</th>\n",
       "      <td>0.142638</td>\n",
       "    </tr>\n",
       "    <tr>\n",
       "      <th>2017-09</th>\n",
       "      <td>0.151720</td>\n",
       "    </tr>\n",
       "    <tr>\n",
       "      <th>2017-10</th>\n",
       "      <td>0.159752</td>\n",
       "    </tr>\n",
       "    <tr>\n",
       "      <th>2017-11</th>\n",
       "      <td>0.177145</td>\n",
       "    </tr>\n",
       "    <tr>\n",
       "      <th>2017-12</th>\n",
       "      <td>0.194033</td>\n",
       "    </tr>\n",
       "    <tr>\n",
       "      <th>2018-01</th>\n",
       "      <td>0.228854</td>\n",
       "    </tr>\n",
       "    <tr>\n",
       "      <th>2018-02</th>\n",
       "      <td>0.275657</td>\n",
       "    </tr>\n",
       "    <tr>\n",
       "      <th>2018-03</th>\n",
       "      <td>0.356291</td>\n",
       "    </tr>\n",
       "    <tr>\n",
       "      <th>2018-04</th>\n",
       "      <td>0.524190</td>\n",
       "    </tr>\n",
       "    <tr>\n",
       "      <th>2018-05</th>\n",
       "      <td>1.000000</td>\n",
       "    </tr>\n",
       "  </tbody>\n",
       "</table>\n",
       "</div>"
      ],
      "text/plain": [
       "                   retention\n",
       "first_activ_month           \n",
       "2017-06             0.136781\n",
       "2017-07             0.132358\n",
       "2017-08             0.142638\n",
       "2017-09             0.151720\n",
       "2017-10             0.159752\n",
       "2017-11             0.177145\n",
       "2017-12             0.194033\n",
       "2018-01             0.228854\n",
       "2018-02             0.275657\n",
       "2018-03             0.356291\n",
       "2018-04             0.524190\n",
       "2018-05             1.000000"
      ]
     },
     "execution_count": 76,
     "metadata": {},
     "output_type": "execute_result"
    }
   ],
   "source": [
    "retention_avr"
   ]
  },
  {
   "cell_type": "code",
   "execution_count": 77,
   "metadata": {},
   "outputs": [
    {
     "data": {
      "text/plain": [
       "retention    0.289952\n",
       "dtype: float64"
      ]
     },
     "execution_count": 77,
     "metadata": {},
     "output_type": "execute_result"
    }
   ],
   "source": [
    "retention_avr.mean()"
   ]
  },
  {
   "cell_type": "markdown",
   "metadata": {},
   "source": [
    "Очень низкое удержание клиента, клиенты приходят и практически больше не заходят на сайт (что показал нам и sticky factor). 28% retention с учетом первого 100% захода на сайт"
   ]
  },
  {
   "cell_type": "code",
   "execution_count": 78,
   "metadata": {},
   "outputs": [],
   "source": [
    "# посмотрим среднемесячный retention без учета 1-го месяца\n",
    "retention_avr2=cohorts[cohorts['lifetime']!=0].groupby(['first_activ_month']).agg({'retention':'mean'})"
   ]
  },
  {
   "cell_type": "code",
   "execution_count": 79,
   "metadata": {},
   "outputs": [
    {
     "data": {
      "text/html": [
       "<div>\n",
       "<style scoped>\n",
       "    .dataframe tbody tr th:only-of-type {\n",
       "        vertical-align: middle;\n",
       "    }\n",
       "\n",
       "    .dataframe tbody tr th {\n",
       "        vertical-align: top;\n",
       "    }\n",
       "\n",
       "    .dataframe thead th {\n",
       "        text-align: right;\n",
       "    }\n",
       "</style>\n",
       "<table border=\"1\" class=\"dataframe\">\n",
       "  <thead>\n",
       "    <tr style=\"text-align: right;\">\n",
       "      <th></th>\n",
       "      <th>retention</th>\n",
       "    </tr>\n",
       "    <tr>\n",
       "      <th>first_activ_month</th>\n",
       "      <th></th>\n",
       "    </tr>\n",
       "  </thead>\n",
       "  <tbody>\n",
       "    <tr>\n",
       "      <th>2017-06</th>\n",
       "      <td>0.058307</td>\n",
       "    </tr>\n",
       "    <tr>\n",
       "      <th>2017-07</th>\n",
       "      <td>0.045594</td>\n",
       "    </tr>\n",
       "    <tr>\n",
       "      <th>2017-08</th>\n",
       "      <td>0.047376</td>\n",
       "    </tr>\n",
       "    <tr>\n",
       "      <th>2017-09</th>\n",
       "      <td>0.045685</td>\n",
       "    </tr>\n",
       "    <tr>\n",
       "      <th>2017-10</th>\n",
       "      <td>0.039716</td>\n",
       "    </tr>\n",
       "    <tr>\n",
       "      <th>2017-11</th>\n",
       "      <td>0.040003</td>\n",
       "    </tr>\n",
       "    <tr>\n",
       "      <th>2017-12</th>\n",
       "      <td>0.032840</td>\n",
       "    </tr>\n",
       "    <tr>\n",
       "      <th>2018-01</th>\n",
       "      <td>0.036068</td>\n",
       "    </tr>\n",
       "    <tr>\n",
       "      <th>2018-02</th>\n",
       "      <td>0.034209</td>\n",
       "    </tr>\n",
       "    <tr>\n",
       "      <th>2018-03</th>\n",
       "      <td>0.034436</td>\n",
       "    </tr>\n",
       "    <tr>\n",
       "      <th>2018-04</th>\n",
       "      <td>0.048380</td>\n",
       "    </tr>\n",
       "  </tbody>\n",
       "</table>\n",
       "</div>"
      ],
      "text/plain": [
       "                   retention\n",
       "first_activ_month           \n",
       "2017-06             0.058307\n",
       "2017-07             0.045594\n",
       "2017-08             0.047376\n",
       "2017-09             0.045685\n",
       "2017-10             0.039716\n",
       "2017-11             0.040003\n",
       "2017-12             0.032840\n",
       "2018-01             0.036068\n",
       "2018-02             0.034209\n",
       "2018-03             0.034436\n",
       "2018-04             0.048380"
      ]
     },
     "execution_count": 79,
     "metadata": {},
     "output_type": "execute_result"
    }
   ],
   "source": [
    "retention_avr2"
   ]
  },
  {
   "cell_type": "code",
   "execution_count": 80,
   "metadata": {},
   "outputs": [
    {
     "data": {
      "text/plain": [
       "retention    0.042056\n",
       "dtype: float64"
      ]
     },
     "execution_count": 80,
     "metadata": {},
     "output_type": "execute_result"
    }
   ],
   "source": [
    "retention_avr2.mean()"
   ]
  },
  {
   "cell_type": "markdown",
   "metadata": {},
   "source": [
    "Всего лишь 4.2 % - ежемесячно после первого захода на сайт возвращаются всего 4.2% пользователей. "
   ]
  },
  {
   "cell_type": "markdown",
   "metadata": {},
   "source": [
    "### ВЫВОД\n",
    "\n",
    "Проанализировав с июня 2017г по июнь 2018 г пользовательску активность пришли к не очень утешительным выводам.\n",
    "Ежедневно на сайт заходят 907 пользователей, еженедельно - 5716, ежемесячно - 23228. sticky factor очень низкий (3.9%) - очень низкая частота и регулярность использования продукта. В среднем каждый пользователь заходит на сайт 1.28 раз, причем в среднем длительность сессии небольшая (300 сек).\n",
    "Больше всего пользователей было с октября 2017 г по март 2018г.\n",
    "Retention также показывает очень низкую воволеченность пользователей: в среднем после первого посещения сайта опять пользовались сайтом только 4,2% аудитории.\n",
    "Для изучения низкой вовлеченность необходимо посторить воронки продаж, оценить поведение пользователей при помощи Яндекс.Метрики.\n",
    "А пока изучим проанализируем продажи"
   ]
  },
  {
   "cell_type": "markdown",
   "metadata": {},
   "source": [
    "### Оценка доходности"
   ]
  },
  {
   "cell_type": "markdown",
   "metadata": {},
   "source": [
    "###### <a id=\"cell4\"></a>"
   ]
  },
  {
   "cell_type": "markdown",
   "metadata": {},
   "source": [
    "Посмотрим сколько времени требуется для совершения покупки. Для этого нам понадобиться инфо из 2-х таблиц: visits и ordes. Прежде чем объединить таблицы выполним сгруппируем данные в таблицах"
   ]
  },
  {
   "cell_type": "code",
   "execution_count": 81,
   "metadata": {},
   "outputs": [
    {
     "data": {
      "text/plain": [
       "Index(['device', 'end ts', 'source id', 'start ts', 'uid', 'year', 'month',\n",
       "       'week', 'date', 'duration', 'first_date', 'activ_month',\n",
       "       'first_activ_month', 'lifetime'],\n",
       "      dtype='object')"
      ]
     },
     "execution_count": 81,
     "metadata": {},
     "output_type": "execute_result"
    }
   ],
   "source": [
    "visits.columns"
   ]
  },
  {
   "cell_type": "code",
   "execution_count": 82,
   "metadata": {},
   "outputs": [],
   "source": [
    "# группируем по uid и дате первого посещения\n",
    "visits_uniq=visits.groupby(['uid','first_date']).agg({'duration':'sum','lifetime':'sum'}).reset_index() "
   ]
  },
  {
   "cell_type": "code",
   "execution_count": 83,
   "metadata": {},
   "outputs": [
    {
     "data": {
      "text/html": [
       "<div>\n",
       "<style scoped>\n",
       "    .dataframe tbody tr th:only-of-type {\n",
       "        vertical-align: middle;\n",
       "    }\n",
       "\n",
       "    .dataframe tbody tr th {\n",
       "        vertical-align: top;\n",
       "    }\n",
       "\n",
       "    .dataframe thead th {\n",
       "        text-align: right;\n",
       "    }\n",
       "</style>\n",
       "<table border=\"1\" class=\"dataframe\">\n",
       "  <thead>\n",
       "    <tr style=\"text-align: right;\">\n",
       "      <th></th>\n",
       "      <th>uid</th>\n",
       "      <th>first_date</th>\n",
       "      <th>duration</th>\n",
       "      <th>lifetime</th>\n",
       "    </tr>\n",
       "  </thead>\n",
       "  <tbody>\n",
       "    <tr>\n",
       "      <th>0</th>\n",
       "      <td>11863502262781</td>\n",
       "      <td>2018-03-01 17:27:00</td>\n",
       "      <td>360</td>\n",
       "      <td>0</td>\n",
       "    </tr>\n",
       "    <tr>\n",
       "      <th>1</th>\n",
       "      <td>49537067089222</td>\n",
       "      <td>2018-02-06 15:55:00</td>\n",
       "      <td>120</td>\n",
       "      <td>0</td>\n",
       "    </tr>\n",
       "    <tr>\n",
       "      <th>2</th>\n",
       "      <td>297729379853735</td>\n",
       "      <td>2017-06-07 18:47:00</td>\n",
       "      <td>60</td>\n",
       "      <td>0</td>\n",
       "    </tr>\n",
       "  </tbody>\n",
       "</table>\n",
       "</div>"
      ],
      "text/plain": [
       "               uid          first_date  duration  lifetime\n",
       "0   11863502262781 2018-03-01 17:27:00       360         0\n",
       "1   49537067089222 2018-02-06 15:55:00       120         0\n",
       "2  297729379853735 2017-06-07 18:47:00        60         0"
      ]
     },
     "execution_count": 83,
     "metadata": {},
     "output_type": "execute_result"
    }
   ],
   "source": [
    "visits_uniq.head(3)"
   ]
  },
  {
   "cell_type": "code",
   "execution_count": 84,
   "metadata": {},
   "outputs": [
    {
     "data": {
      "text/plain": [
       "Index(['buy ts', 'revenue', 'uid'], dtype='object')"
      ]
     },
     "execution_count": 84,
     "metadata": {},
     "output_type": "execute_result"
    }
   ],
   "source": [
    "orders.columns"
   ]
  },
  {
   "cell_type": "code",
   "execution_count": 85,
   "metadata": {},
   "outputs": [],
   "source": [
    "# выделим дату первого заказа\n",
    "\n",
    "first_order=orders.groupby(['uid'])['buy ts'].min()\n",
    "first_order.name='first_order'\n",
    "orders=orders.join(first_order,on='uid')"
   ]
  },
  {
   "cell_type": "code",
   "execution_count": 86,
   "metadata": {},
   "outputs": [
    {
     "data": {
      "text/plain": [
       "Index(['buy ts', 'revenue', 'uid', 'first_order'], dtype='object')"
      ]
     },
     "execution_count": 86,
     "metadata": {},
     "output_type": "execute_result"
    }
   ],
   "source": [
    "orders.columns"
   ]
  },
  {
   "cell_type": "code",
   "execution_count": 87,
   "metadata": {},
   "outputs": [
    {
     "data": {
      "text/html": [
       "<div>\n",
       "<style scoped>\n",
       "    .dataframe tbody tr th:only-of-type {\n",
       "        vertical-align: middle;\n",
       "    }\n",
       "\n",
       "    .dataframe tbody tr th {\n",
       "        vertical-align: top;\n",
       "    }\n",
       "\n",
       "    .dataframe thead th {\n",
       "        text-align: right;\n",
       "    }\n",
       "</style>\n",
       "<table border=\"1\" class=\"dataframe\">\n",
       "  <thead>\n",
       "    <tr style=\"text-align: right;\">\n",
       "      <th></th>\n",
       "      <th>buy ts</th>\n",
       "      <th>revenue</th>\n",
       "      <th>uid</th>\n",
       "      <th>first_order</th>\n",
       "    </tr>\n",
       "  </thead>\n",
       "  <tbody>\n",
       "    <tr>\n",
       "      <th>0</th>\n",
       "      <td>2017-06-01 00:10:00</td>\n",
       "      <td>17.00</td>\n",
       "      <td>10329302124590727494</td>\n",
       "      <td>2017-06-01 00:10:00</td>\n",
       "    </tr>\n",
       "    <tr>\n",
       "      <th>1</th>\n",
       "      <td>2017-06-01 00:25:00</td>\n",
       "      <td>0.55</td>\n",
       "      <td>11627257723692907447</td>\n",
       "      <td>2017-06-01 00:25:00</td>\n",
       "    </tr>\n",
       "    <tr>\n",
       "      <th>2</th>\n",
       "      <td>2017-06-01 00:27:00</td>\n",
       "      <td>0.37</td>\n",
       "      <td>17903680561304213844</td>\n",
       "      <td>2017-06-01 00:27:00</td>\n",
       "    </tr>\n",
       "  </tbody>\n",
       "</table>\n",
       "</div>"
      ],
      "text/plain": [
       "               buy ts  revenue                   uid         first_order\n",
       "0 2017-06-01 00:10:00    17.00  10329302124590727494 2017-06-01 00:10:00\n",
       "1 2017-06-01 00:25:00     0.55  11627257723692907447 2017-06-01 00:25:00\n",
       "2 2017-06-01 00:27:00     0.37  17903680561304213844 2017-06-01 00:27:00"
      ]
     },
     "execution_count": 87,
     "metadata": {},
     "output_type": "execute_result"
    }
   ],
   "source": [
    "orders.head(3)"
   ]
  },
  {
   "cell_type": "code",
   "execution_count": 88,
   "metadata": {},
   "outputs": [
    {
     "data": {
      "text/plain": [
       "Text(0.5, 1.0, 'Динамика выручки ')"
      ]
     },
     "execution_count": 88,
     "metadata": {},
     "output_type": "execute_result"
    },
    {
     "data": {
      "image/png": "[encoded data removed]",
      "text/plain": [
       "<Figure size 1152x648 with 1 Axes>"
      ]
     },
     "metadata": {},
     "output_type": "display_data"
    }
   ],
   "source": [
    "# посмотрим динамику покупок\n",
    "orders.groupby('first_order')['revenue'].sum().plot(figsize=(16,9),grid=True)\n",
    "plt.xlabel('Период, месяц') \n",
    "plt.ylabel('Выручка, руб') \n",
    "plt.title('Динамика выручки ')"
   ]
  },
  {
   "cell_type": "code",
   "execution_count": 89,
   "metadata": {},
   "outputs": [
    {
     "data": {
      "text/html": [
       "<div>\n",
       "<style scoped>\n",
       "    .dataframe tbody tr th:only-of-type {\n",
       "        vertical-align: middle;\n",
       "    }\n",
       "\n",
       "    .dataframe tbody tr th {\n",
       "        vertical-align: top;\n",
       "    }\n",
       "\n",
       "    .dataframe thead th {\n",
       "        text-align: right;\n",
       "    }\n",
       "</style>\n",
       "<table border=\"1\" class=\"dataframe\">\n",
       "  <thead>\n",
       "    <tr style=\"text-align: right;\">\n",
       "      <th></th>\n",
       "      <th>uid</th>\n",
       "      <th>revenue</th>\n",
       "    </tr>\n",
       "    <tr>\n",
       "      <th>first_order</th>\n",
       "      <th></th>\n",
       "      <th></th>\n",
       "    </tr>\n",
       "  </thead>\n",
       "  <tbody>\n",
       "    <tr>\n",
       "      <th>2017-09-20 19:55:00</th>\n",
       "      <td>1.107935e+19</td>\n",
       "      <td>3828.92</td>\n",
       "    </tr>\n",
       "    <tr>\n",
       "      <th>2017-12-17 18:06:00</th>\n",
       "      <td>5.574963e+19</td>\n",
       "      <td>5720.30</td>\n",
       "    </tr>\n",
       "  </tbody>\n",
       "</table>\n",
       "</div>"
      ],
      "text/plain": [
       "                              uid  revenue\n",
       "first_order                               \n",
       "2017-09-20 19:55:00  1.107935e+19  3828.92\n",
       "2017-12-17 18:06:00  5.574963e+19  5720.30"
      ]
     },
     "execution_count": 89,
     "metadata": {},
     "output_type": "execute_result"
    }
   ],
   "source": [
    "orders[orders['revenue']>1000].groupby('first_order')[['uid','revenue']].sum()"
   ]
  },
  {
   "cell_type": "markdown",
   "metadata": {},
   "source": [
    "20 сентября и 17 декабря от 2-х разных клиентов сайт получил большую сумму"
   ]
  },
  {
   "cell_type": "code",
   "execution_count": 90,
   "metadata": {},
   "outputs": [],
   "source": [
    "# группируем заказы по uid и дате первого заказа\n",
    "orders_uniq=orders.groupby(['uid','first_order']).agg({'revenue':'sum'}).reset_index()"
   ]
  },
  {
   "cell_type": "code",
   "execution_count": 91,
   "metadata": {},
   "outputs": [
    {
     "data": {
      "text/html": [
       "<div>\n",
       "<style scoped>\n",
       "    .dataframe tbody tr th:only-of-type {\n",
       "        vertical-align: middle;\n",
       "    }\n",
       "\n",
       "    .dataframe tbody tr th {\n",
       "        vertical-align: top;\n",
       "    }\n",
       "\n",
       "    .dataframe thead th {\n",
       "        text-align: right;\n",
       "    }\n",
       "</style>\n",
       "<table border=\"1\" class=\"dataframe\">\n",
       "  <thead>\n",
       "    <tr style=\"text-align: right;\">\n",
       "      <th></th>\n",
       "      <th>uid</th>\n",
       "      <th>first_order</th>\n",
       "      <th>revenue</th>\n",
       "    </tr>\n",
       "  </thead>\n",
       "  <tbody>\n",
       "    <tr>\n",
       "      <th>0</th>\n",
       "      <td>313578113262317</td>\n",
       "      <td>2018-01-03 21:51:00</td>\n",
       "      <td>0.55</td>\n",
       "    </tr>\n",
       "    <tr>\n",
       "      <th>1</th>\n",
       "      <td>1575281904278712</td>\n",
       "      <td>2017-06-03 10:13:00</td>\n",
       "      <td>3.05</td>\n",
       "    </tr>\n",
       "    <tr>\n",
       "      <th>2</th>\n",
       "      <td>2429014661409475</td>\n",
       "      <td>2017-10-11 18:33:00</td>\n",
       "      <td>73.33</td>\n",
       "    </tr>\n",
       "  </tbody>\n",
       "</table>\n",
       "</div>"
      ],
      "text/plain": [
       "                uid         first_order  revenue\n",
       "0   313578113262317 2018-01-03 21:51:00     0.55\n",
       "1  1575281904278712 2017-06-03 10:13:00     3.05\n",
       "2  2429014661409475 2017-10-11 18:33:00    73.33"
      ]
     },
     "execution_count": 91,
     "metadata": {},
     "output_type": "execute_result"
    }
   ],
   "source": [
    "orders_uniq.head(3)"
   ]
  },
  {
   "cell_type": "code",
   "execution_count": 92,
   "metadata": {},
   "outputs": [],
   "source": [
    "# объединяем таблицы\n",
    "df=visits_uniq.merge(orders_uniq,on='uid')"
   ]
  },
  {
   "cell_type": "code",
   "execution_count": 93,
   "metadata": {},
   "outputs": [
    {
     "data": {
      "text/html": [
       "<div>\n",
       "<style scoped>\n",
       "    .dataframe tbody tr th:only-of-type {\n",
       "        vertical-align: middle;\n",
       "    }\n",
       "\n",
       "    .dataframe tbody tr th {\n",
       "        vertical-align: top;\n",
       "    }\n",
       "\n",
       "    .dataframe thead th {\n",
       "        text-align: right;\n",
       "    }\n",
       "</style>\n",
       "<table border=\"1\" class=\"dataframe\">\n",
       "  <thead>\n",
       "    <tr style=\"text-align: right;\">\n",
       "      <th></th>\n",
       "      <th>uid</th>\n",
       "      <th>first_date</th>\n",
       "      <th>duration</th>\n",
       "      <th>lifetime</th>\n",
       "      <th>first_order</th>\n",
       "      <th>revenue</th>\n",
       "    </tr>\n",
       "  </thead>\n",
       "  <tbody>\n",
       "    <tr>\n",
       "      <th>0</th>\n",
       "      <td>313578113262317</td>\n",
       "      <td>2017-09-18 22:49:00</td>\n",
       "      <td>1980</td>\n",
       "      <td>11</td>\n",
       "      <td>2018-01-03 21:51:00</td>\n",
       "      <td>0.55</td>\n",
       "    </tr>\n",
       "    <tr>\n",
       "      <th>1</th>\n",
       "      <td>1575281904278712</td>\n",
       "      <td>2017-06-03 10:13:00</td>\n",
       "      <td>960</td>\n",
       "      <td>0</td>\n",
       "      <td>2017-06-03 10:13:00</td>\n",
       "      <td>3.05</td>\n",
       "    </tr>\n",
       "    <tr>\n",
       "      <th>2</th>\n",
       "      <td>2429014661409475</td>\n",
       "      <td>2017-10-11 17:14:00</td>\n",
       "      <td>780</td>\n",
       "      <td>0</td>\n",
       "      <td>2017-10-11 18:33:00</td>\n",
       "      <td>73.33</td>\n",
       "    </tr>\n",
       "  </tbody>\n",
       "</table>\n",
       "</div>"
      ],
      "text/plain": [
       "                uid          first_date  duration  lifetime  \\\n",
       "0   313578113262317 2017-09-18 22:49:00      1980        11   \n",
       "1  1575281904278712 2017-06-03 10:13:00       960         0   \n",
       "2  2429014661409475 2017-10-11 17:14:00       780         0   \n",
       "\n",
       "          first_order  revenue  \n",
       "0 2018-01-03 21:51:00     0.55  \n",
       "1 2017-06-03 10:13:00     3.05  \n",
       "2 2017-10-11 18:33:00    73.33  "
      ]
     },
     "execution_count": 93,
     "metadata": {},
     "output_type": "execute_result"
    }
   ],
   "source": [
    "df.head(3)"
   ]
  },
  {
   "cell_type": "code",
   "execution_count": 94,
   "metadata": {},
   "outputs": [
    {
     "name": "stdout",
     "output_type": "stream",
     "text": [
      "<class 'pandas.core.frame.DataFrame'>\n",
      "Int64Index: 36523 entries, 0 to 36522\n",
      "Data columns (total 6 columns):\n",
      " #   Column       Non-Null Count  Dtype         \n",
      "---  ------       --------------  -----         \n",
      " 0   uid          36523 non-null  uint64        \n",
      " 1   first_date   36523 non-null  datetime64[ns]\n",
      " 2   duration     36523 non-null  int64         \n",
      " 3   lifetime     36523 non-null  int32         \n",
      " 4   first_order  36523 non-null  datetime64[ns]\n",
      " 5   revenue      36523 non-null  float64       \n",
      "dtypes: datetime64[ns](2), float64(1), int32(1), int64(1), uint64(1)\n",
      "memory usage: 1.8 MB\n"
     ]
    }
   ],
   "source": [
    "df.info()"
   ]
  },
  {
   "cell_type": "code",
   "execution_count": 95,
   "metadata": {},
   "outputs": [
    {
     "data": {
      "text/plain": [
       "1140.0"
      ]
     },
     "execution_count": 95,
     "metadata": {},
     "output_type": "execute_result"
    }
   ],
   "source": [
    "# посмотрим среднюю продолжительность на сайте у тех кто совершал покупку и у тех кто не совершал покупку\n",
    "df.loc[df['revenue']==0]['duration'].median()"
   ]
  },
  {
   "cell_type": "code",
   "execution_count": 96,
   "metadata": {},
   "outputs": [
    {
     "data": {
      "text/plain": [
       "1080.0"
      ]
     },
     "execution_count": 96,
     "metadata": {},
     "output_type": "execute_result"
    }
   ],
   "source": [
    "df.loc[df['revenue']>0]['duration'].median()"
   ]
  },
  {
   "cell_type": "markdown",
   "metadata": {},
   "source": [
    "У тех кто осуществлял покупки и кто ничего не покупал примерно одинаковое время сессий"
   ]
  },
  {
   "cell_type": "code",
   "execution_count": 97,
   "metadata": {},
   "outputs": [],
   "source": [
    "# будем работать с данными у которых были транзакции\n",
    "df=df.loc[df['revenue']>0]"
   ]
  },
  {
   "cell_type": "code",
   "execution_count": 98,
   "metadata": {},
   "outputs": [
    {
     "name": "stdout",
     "output_type": "stream",
     "text": [
      "<class 'pandas.core.frame.DataFrame'>\n",
      "Int64Index: 36509 entries, 0 to 36522\n",
      "Data columns (total 6 columns):\n",
      " #   Column       Non-Null Count  Dtype         \n",
      "---  ------       --------------  -----         \n",
      " 0   uid          36509 non-null  uint64        \n",
      " 1   first_date   36509 non-null  datetime64[ns]\n",
      " 2   duration     36509 non-null  int64         \n",
      " 3   lifetime     36509 non-null  int32         \n",
      " 4   first_order  36509 non-null  datetime64[ns]\n",
      " 5   revenue      36509 non-null  float64       \n",
      "dtypes: datetime64[ns](2), float64(1), int32(1), int64(1), uint64(1)\n",
      "memory usage: 1.8 MB\n"
     ]
    }
   ],
   "source": [
    "df.info()"
   ]
  },
  {
   "cell_type": "code",
   "execution_count": 99,
   "metadata": {},
   "outputs": [],
   "source": [
    "# расчитаем время которое от первого захода до покупки\n",
    "df['buy_time']=(df['first_order']-df['first_date']).dt.seconds/3600"
   ]
  },
  {
   "cell_type": "code",
   "execution_count": 100,
   "metadata": {},
   "outputs": [
    {
     "data": {
      "text/plain": [
       "<matplotlib.axes._subplots.AxesSubplot at 0x1b2c0bb1308>"
      ]
     },
     "execution_count": 100,
     "metadata": {},
     "output_type": "execute_result"
    },
    {
     "data": {
      "image/png": "[encoded data removed]",
      "text/plain": [
       "<Figure size 432x288 with 1 Axes>"
      ]
     },
     "metadata": {},
     "output_type": "display_data"
    }
   ],
   "source": [
    "df['buy_time'].hist()"
   ]
  },
  {
   "cell_type": "markdown",
   "metadata": {},
   "source": [
    "В основном покупают до 2.5 часов"
   ]
  },
  {
   "cell_type": "code",
   "execution_count": 101,
   "metadata": {},
   "outputs": [
    {
     "data": {
      "text/plain": [
       "uid            26402\n",
       "first_date     26402\n",
       "duration       26402\n",
       "lifetime       26402\n",
       "first_order    26402\n",
       "revenue        26402\n",
       "buy_time       26402\n",
       "dtype: int64"
      ]
     },
     "execution_count": 101,
     "metadata": {},
     "output_type": "execute_result"
    }
   ],
   "source": [
    "df[df['buy_time']<3].count()"
   ]
  },
  {
   "cell_type": "code",
   "execution_count": 102,
   "metadata": {},
   "outputs": [
    {
     "data": {
      "text/plain": [
       "0    0.016667\n",
       "dtype: float64"
      ]
     },
     "execution_count": 102,
     "metadata": {},
     "output_type": "execute_result"
    }
   ],
   "source": [
    "df['buy_time'].mode()"
   ]
  },
  {
   "cell_type": "code",
   "execution_count": 103,
   "metadata": {},
   "outputs": [],
   "source": [
    "df['year']=df['first_date'].dt.year"
   ]
  },
  {
   "cell_type": "code",
   "execution_count": 104,
   "metadata": {},
   "outputs": [],
   "source": [
    "df['month']=df['first_date'].dt.month"
   ]
  },
  {
   "cell_type": "code",
   "execution_count": 105,
   "metadata": {},
   "outputs": [],
   "source": [
    "# для расчетов средней продолжительности от 1 посещения до покупки воспользуемся медианой\n",
    "buy_time=df.groupby(['year','month'])['buy_time'].median()"
   ]
  },
  {
   "cell_type": "code",
   "execution_count": 106,
   "metadata": {},
   "outputs": [
    {
     "data": {
      "text/plain": [
       "year  month\n",
       "2017  6        0.350000\n",
       "      7        0.383333\n",
       "      8        0.300000\n",
       "      9        0.366667\n",
       "      10       0.266667\n",
       "      11       0.433333\n",
       "      12       0.300000\n",
       "2018  1        0.250000\n",
       "      2        0.200000\n",
       "      3        0.166667\n",
       "      4        0.183333\n",
       "      5        0.166667\n",
       "Name: buy_time, dtype: float64"
      ]
     },
     "execution_count": 106,
     "metadata": {},
     "output_type": "execute_result"
    }
   ],
   "source": [
    "buy_time"
   ]
  },
  {
   "cell_type": "code",
   "execution_count": 107,
   "metadata": {},
   "outputs": [
    {
     "data": {
      "text/plain": [
       "0.2805555555555555"
      ]
     },
     "execution_count": 107,
     "metadata": {},
     "output_type": "execute_result"
    }
   ],
   "source": [
    "buy_time.mean()"
   ]
  },
  {
   "cell_type": "markdown",
   "metadata": {},
   "source": [
    "0.28 часа (16 минут) в среднем нужно пользователю для совершения покупки. "
   ]
  },
  {
   "cell_type": "markdown",
   "metadata": {},
   "source": [
    "Изучим как часто покупают на сайте Яндекс.Афиша"
   ]
  },
  {
   "cell_type": "code",
   "execution_count": 108,
   "metadata": {},
   "outputs": [
    {
     "name": "stdout",
     "output_type": "stream",
     "text": [
      "<class 'pandas.core.frame.DataFrame'>\n",
      "RangeIndex: 50415 entries, 0 to 50414\n",
      "Data columns (total 4 columns):\n",
      " #   Column       Non-Null Count  Dtype         \n",
      "---  ------       --------------  -----         \n",
      " 0   buy ts       50415 non-null  datetime64[ns]\n",
      " 1   revenue      50415 non-null  float64       \n",
      " 2   uid          50415 non-null  uint64        \n",
      " 3   first_order  50415 non-null  datetime64[ns]\n",
      "dtypes: datetime64[ns](2), float64(1), uint64(1)\n",
      "memory usage: 1.5 MB\n"
     ]
    }
   ],
   "source": [
    "orders.info()"
   ]
  },
  {
   "cell_type": "code",
   "execution_count": 109,
   "metadata": {},
   "outputs": [],
   "source": [
    "# исключим 0 продажи\n",
    "orders=orders[orders['revenue']>0]"
   ]
  },
  {
   "cell_type": "code",
   "execution_count": 110,
   "metadata": {},
   "outputs": [
    {
     "data": {
      "text/html": [
       "<div>\n",
       "<style scoped>\n",
       "    .dataframe tbody tr th:only-of-type {\n",
       "        vertical-align: middle;\n",
       "    }\n",
       "\n",
       "    .dataframe tbody tr th {\n",
       "        vertical-align: top;\n",
       "    }\n",
       "\n",
       "    .dataframe thead th {\n",
       "        text-align: right;\n",
       "    }\n",
       "</style>\n",
       "<table border=\"1\" class=\"dataframe\">\n",
       "  <thead>\n",
       "    <tr style=\"text-align: right;\">\n",
       "      <th></th>\n",
       "      <th>buy ts</th>\n",
       "      <th>revenue</th>\n",
       "      <th>uid</th>\n",
       "      <th>first_order</th>\n",
       "    </tr>\n",
       "  </thead>\n",
       "  <tbody>\n",
       "    <tr>\n",
       "      <th>0</th>\n",
       "      <td>2017-06-01 00:10:00</td>\n",
       "      <td>17.00</td>\n",
       "      <td>10329302124590727494</td>\n",
       "      <td>2017-06-01 00:10:00</td>\n",
       "    </tr>\n",
       "    <tr>\n",
       "      <th>1</th>\n",
       "      <td>2017-06-01 00:25:00</td>\n",
       "      <td>0.55</td>\n",
       "      <td>11627257723692907447</td>\n",
       "      <td>2017-06-01 00:25:00</td>\n",
       "    </tr>\n",
       "    <tr>\n",
       "      <th>2</th>\n",
       "      <td>2017-06-01 00:27:00</td>\n",
       "      <td>0.37</td>\n",
       "      <td>17903680561304213844</td>\n",
       "      <td>2017-06-01 00:27:00</td>\n",
       "    </tr>\n",
       "  </tbody>\n",
       "</table>\n",
       "</div>"
      ],
      "text/plain": [
       "               buy ts  revenue                   uid         first_order\n",
       "0 2017-06-01 00:10:00    17.00  10329302124590727494 2017-06-01 00:10:00\n",
       "1 2017-06-01 00:25:00     0.55  11627257723692907447 2017-06-01 00:25:00\n",
       "2 2017-06-01 00:27:00     0.37  17903680561304213844 2017-06-01 00:27:00"
      ]
     },
     "execution_count": 110,
     "metadata": {},
     "output_type": "execute_result"
    }
   ],
   "source": [
    "orders.head(3)"
   ]
  },
  {
   "cell_type": "code",
   "execution_count": 111,
   "metadata": {},
   "outputs": [],
   "source": [
    "# выделим месяц из дат\n",
    "orders['first_order_month']=orders['first_order'].astype('datetime64[M]')"
   ]
  },
  {
   "cell_type": "code",
   "execution_count": 112,
   "metadata": {},
   "outputs": [],
   "source": [
    "orders['buy_month']=orders['buy ts'].astype('datetime64[M]')"
   ]
  },
  {
   "cell_type": "code",
   "execution_count": 113,
   "metadata": {},
   "outputs": [],
   "source": [
    "# для расчета количества покупок сгруппируем данные\n",
    "buy_number=orders.groupby(['uid','first_order_month']).agg({'buy ts':'count','revenue':'sum'})"
   ]
  },
  {
   "cell_type": "code",
   "execution_count": 114,
   "metadata": {},
   "outputs": [
    {
     "data": {
      "text/html": [
       "<div>\n",
       "<style scoped>\n",
       "    .dataframe tbody tr th:only-of-type {\n",
       "        vertical-align: middle;\n",
       "    }\n",
       "\n",
       "    .dataframe tbody tr th {\n",
       "        vertical-align: top;\n",
       "    }\n",
       "\n",
       "    .dataframe thead th {\n",
       "        text-align: right;\n",
       "    }\n",
       "</style>\n",
       "<table border=\"1\" class=\"dataframe\">\n",
       "  <thead>\n",
       "    <tr style=\"text-align: right;\">\n",
       "      <th></th>\n",
       "      <th></th>\n",
       "      <th>buy ts</th>\n",
       "      <th>revenue</th>\n",
       "    </tr>\n",
       "    <tr>\n",
       "      <th>uid</th>\n",
       "      <th>first_order_month</th>\n",
       "      <th></th>\n",
       "      <th></th>\n",
       "    </tr>\n",
       "  </thead>\n",
       "  <tbody>\n",
       "    <tr>\n",
       "      <th>313578113262317</th>\n",
       "      <th>2018-01-01</th>\n",
       "      <td>1</td>\n",
       "      <td>0.55</td>\n",
       "    </tr>\n",
       "    <tr>\n",
       "      <th>1575281904278712</th>\n",
       "      <th>2017-06-01</th>\n",
       "      <td>2</td>\n",
       "      <td>3.05</td>\n",
       "    </tr>\n",
       "    <tr>\n",
       "      <th>2429014661409475</th>\n",
       "      <th>2017-10-01</th>\n",
       "      <td>1</td>\n",
       "      <td>73.33</td>\n",
       "    </tr>\n",
       "  </tbody>\n",
       "</table>\n",
       "</div>"
      ],
      "text/plain": [
       "                                    buy ts  revenue\n",
       "uid              first_order_month                 \n",
       "313578113262317  2018-01-01              1     0.55\n",
       "1575281904278712 2017-06-01              2     3.05\n",
       "2429014661409475 2017-10-01              1    73.33"
      ]
     },
     "execution_count": 114,
     "metadata": {},
     "output_type": "execute_result"
    }
   ],
   "source": [
    "buy_number.head(3)"
   ]
  },
  {
   "cell_type": "code",
   "execution_count": 115,
   "metadata": {},
   "outputs": [],
   "source": [
    "buy_number= buy_number.rename(columns={'buy ts':'number'}).reset_index()"
   ]
  },
  {
   "cell_type": "code",
   "execution_count": 116,
   "metadata": {},
   "outputs": [
    {
     "data": {
      "text/plain": [
       "0    1\n",
       "dtype: int64"
      ]
     },
     "execution_count": 116,
     "metadata": {},
     "output_type": "execute_result"
    }
   ],
   "source": [
    "# расчитаем среднее количество покупок\n",
    "buy_number['number'].mode()"
   ]
  },
  {
   "cell_type": "code",
   "execution_count": 117,
   "metadata": {},
   "outputs": [
    {
     "data": {
      "text/plain": [
       "1.0"
      ]
     },
     "execution_count": 117,
     "metadata": {},
     "output_type": "execute_result"
    }
   ],
   "source": [
    "buy_number['number'].median()"
   ]
  },
  {
   "cell_type": "code",
   "execution_count": 118,
   "metadata": {},
   "outputs": [
    {
     "data": {
      "text/plain": [
       "1.3794954668711825"
      ]
     },
     "execution_count": 118,
     "metadata": {},
     "output_type": "execute_result"
    }
   ],
   "source": [
    "buy_number['number'].mean()"
   ]
  },
  {
   "cell_type": "markdown",
   "metadata": {},
   "source": [
    "В среднем (из тех кто покупал) осуществляли заказ только 1 раз. Что и показал нам retention, stiky factor - очень низкая вовлеченность и удержание клиента. "
   ]
  },
  {
   "cell_type": "code",
   "execution_count": 119,
   "metadata": {},
   "outputs": [],
   "source": [
    "# расчитаем месячное количество покупок \n",
    "buy_number=buy_number.groupby('first_order_month').agg({'number':'sum'})"
   ]
  },
  {
   "cell_type": "code",
   "execution_count": 120,
   "metadata": {},
   "outputs": [
    {
     "data": {
      "text/html": [
       "<div>\n",
       "<style scoped>\n",
       "    .dataframe tbody tr th:only-of-type {\n",
       "        vertical-align: middle;\n",
       "    }\n",
       "\n",
       "    .dataframe tbody tr th {\n",
       "        vertical-align: top;\n",
       "    }\n",
       "\n",
       "    .dataframe thead th {\n",
       "        text-align: right;\n",
       "    }\n",
       "</style>\n",
       "<table border=\"1\" class=\"dataframe\">\n",
       "  <thead>\n",
       "    <tr style=\"text-align: right;\">\n",
       "      <th></th>\n",
       "      <th>number</th>\n",
       "    </tr>\n",
       "    <tr>\n",
       "      <th>first_order_month</th>\n",
       "      <th></th>\n",
       "    </tr>\n",
       "  </thead>\n",
       "  <tbody>\n",
       "    <tr>\n",
       "      <th>2017-06-01</th>\n",
       "      <td>4431</td>\n",
       "    </tr>\n",
       "    <tr>\n",
       "      <th>2017-07-01</th>\n",
       "      <td>2909</td>\n",
       "    </tr>\n",
       "    <tr>\n",
       "      <th>2017-08-01</th>\n",
       "      <td>2187</td>\n",
       "    </tr>\n",
       "    <tr>\n",
       "      <th>2017-09-01</th>\n",
       "      <td>3874</td>\n",
       "    </tr>\n",
       "    <tr>\n",
       "      <th>2017-10-01</th>\n",
       "      <td>6005</td>\n",
       "    </tr>\n",
       "    <tr>\n",
       "      <th>2017-11-01</th>\n",
       "      <td>5879</td>\n",
       "    </tr>\n",
       "    <tr>\n",
       "      <th>2017-12-01</th>\n",
       "      <td>5888</td>\n",
       "    </tr>\n",
       "    <tr>\n",
       "      <th>2018-01-01</th>\n",
       "      <td>4308</td>\n",
       "    </tr>\n",
       "    <tr>\n",
       "      <th>2018-02-01</th>\n",
       "      <td>4469</td>\n",
       "    </tr>\n",
       "    <tr>\n",
       "      <th>2018-03-01</th>\n",
       "      <td>4484</td>\n",
       "    </tr>\n",
       "    <tr>\n",
       "      <th>2018-04-01</th>\n",
       "      <td>2682</td>\n",
       "    </tr>\n",
       "    <tr>\n",
       "      <th>2018-05-01</th>\n",
       "      <td>3247</td>\n",
       "    </tr>\n",
       "    <tr>\n",
       "      <th>2018-06-01</th>\n",
       "      <td>1</td>\n",
       "    </tr>\n",
       "  </tbody>\n",
       "</table>\n",
       "</div>"
      ],
      "text/plain": [
       "                   number\n",
       "first_order_month        \n",
       "2017-06-01           4431\n",
       "2017-07-01           2909\n",
       "2017-08-01           2187\n",
       "2017-09-01           3874\n",
       "2017-10-01           6005\n",
       "2017-11-01           5879\n",
       "2017-12-01           5888\n",
       "2018-01-01           4308\n",
       "2018-02-01           4469\n",
       "2018-03-01           4484\n",
       "2018-04-01           2682\n",
       "2018-05-01           3247\n",
       "2018-06-01              1"
      ]
     },
     "execution_count": 120,
     "metadata": {},
     "output_type": "execute_result"
    }
   ],
   "source": [
    "buy_number"
   ]
  },
  {
   "cell_type": "code",
   "execution_count": 121,
   "metadata": {},
   "outputs": [
    {
     "data": {
      "text/plain": [
       "first_order_month\n",
       "2017-06-01    24031.69\n",
       "2017-07-01    16127.92\n",
       "2017-08-01    11606.26\n",
       "2017-09-01    34676.32\n",
       "2017-10-01    27603.45\n",
       "2017-11-01    26098.99\n",
       "2017-12-01    33485.74\n",
       "2018-01-01    16663.13\n",
       "2018-02-01    16750.50\n",
       "2018-03-01    19273.41\n",
       "2018-04-01    11810.61\n",
       "2018-05-01    13925.76\n",
       "2018-06-01        3.42\n",
       "Name: revenue, dtype: float64"
      ]
     },
     "execution_count": 121,
     "metadata": {},
     "output_type": "execute_result"
    }
   ],
   "source": [
    "# посмотрим выручку от каждой когорты за весь период\n",
    "orders.groupby('first_order_month')['revenue'].sum()"
   ]
  },
  {
   "cell_type": "code",
   "execution_count": 122,
   "metadata": {},
   "outputs": [
    {
     "data": {
      "text/plain": [
       "252057.2"
      ]
     },
     "execution_count": 122,
     "metadata": {},
     "output_type": "execute_result"
    }
   ],
   "source": [
    "orders['revenue'].sum()"
   ]
  },
  {
   "cell_type": "markdown",
   "metadata": {},
   "source": [
    "Несмотря на то что у декабрьской когорты период существования меньше чем у юильской или августвской, но денег эта когорта принесла больше всех"
   ]
  },
  {
   "cell_type": "code",
   "execution_count": 123,
   "metadata": {},
   "outputs": [
    {
     "data": {
      "text/plain": [
       "Text(0.5, 1.0, 'Динамика количества покупок ')"
      ]
     },
     "execution_count": 123,
     "metadata": {},
     "output_type": "execute_result"
    },
    {
     "data": {
      "image/png": "[encoded data removed]",
      "text/plain": [
       "<Figure size 1152x648 with 1 Axes>"
      ]
     },
     "metadata": {},
     "output_type": "display_data"
    }
   ],
   "source": [
    "# посмотрим динамику покупок\n",
    "buy_number.plot(figsize=(16,9),grid=True)\n",
    "plt.xlabel('Период, месяц') \n",
    "plt.ylabel('количество покупок') \n",
    "plt.title('Динамика количества покупок ')"
   ]
  },
  {
   "cell_type": "markdown",
   "metadata": {},
   "source": [
    "C августа увеличивается количество посетителей и растет количество покупок. Посмотрим как меняется средний чек посетителей"
   ]
  },
  {
   "cell_type": "code",
   "execution_count": 124,
   "metadata": {},
   "outputs": [
    {
     "data": {
      "text/html": [
       "<div>\n",
       "<style scoped>\n",
       "    .dataframe tbody tr th:only-of-type {\n",
       "        vertical-align: middle;\n",
       "    }\n",
       "\n",
       "    .dataframe tbody tr th {\n",
       "        vertical-align: top;\n",
       "    }\n",
       "\n",
       "    .dataframe thead th {\n",
       "        text-align: right;\n",
       "    }\n",
       "</style>\n",
       "<table border=\"1\" class=\"dataframe\">\n",
       "  <thead>\n",
       "    <tr style=\"text-align: right;\">\n",
       "      <th></th>\n",
       "      <th>buy ts</th>\n",
       "      <th>revenue</th>\n",
       "      <th>uid</th>\n",
       "      <th>first_order</th>\n",
       "      <th>first_order_month</th>\n",
       "      <th>buy_month</th>\n",
       "    </tr>\n",
       "  </thead>\n",
       "  <tbody>\n",
       "    <tr>\n",
       "      <th>0</th>\n",
       "      <td>2017-06-01 00:10:00</td>\n",
       "      <td>17.00</td>\n",
       "      <td>10329302124590727494</td>\n",
       "      <td>2017-06-01 00:10:00</td>\n",
       "      <td>2017-06-01</td>\n",
       "      <td>2017-06-01</td>\n",
       "    </tr>\n",
       "    <tr>\n",
       "      <th>1</th>\n",
       "      <td>2017-06-01 00:25:00</td>\n",
       "      <td>0.55</td>\n",
       "      <td>11627257723692907447</td>\n",
       "      <td>2017-06-01 00:25:00</td>\n",
       "      <td>2017-06-01</td>\n",
       "      <td>2017-06-01</td>\n",
       "    </tr>\n",
       "    <tr>\n",
       "      <th>2</th>\n",
       "      <td>2017-06-01 00:27:00</td>\n",
       "      <td>0.37</td>\n",
       "      <td>17903680561304213844</td>\n",
       "      <td>2017-06-01 00:27:00</td>\n",
       "      <td>2017-06-01</td>\n",
       "      <td>2017-06-01</td>\n",
       "    </tr>\n",
       "  </tbody>\n",
       "</table>\n",
       "</div>"
      ],
      "text/plain": [
       "               buy ts  revenue                   uid         first_order  \\\n",
       "0 2017-06-01 00:10:00    17.00  10329302124590727494 2017-06-01 00:10:00   \n",
       "1 2017-06-01 00:25:00     0.55  11627257723692907447 2017-06-01 00:25:00   \n",
       "2 2017-06-01 00:27:00     0.37  17903680561304213844 2017-06-01 00:27:00   \n",
       "\n",
       "  first_order_month  buy_month  \n",
       "0        2017-06-01 2017-06-01  \n",
       "1        2017-06-01 2017-06-01  \n",
       "2        2017-06-01 2017-06-01  "
      ]
     },
     "execution_count": 124,
     "metadata": {},
     "output_type": "execute_result"
    }
   ],
   "source": [
    "orders.head(3)"
   ]
  },
  {
   "cell_type": "code",
   "execution_count": 125,
   "metadata": {},
   "outputs": [],
   "source": [
    "# сгруппируем таблицу по первому месяцу заказа и мес заказа\n",
    "orders_cohort=orders.groupby(['first_order_month','buy_month']).agg({'revenue':'sum','uid':'nunique'}).reset_index()"
   ]
  },
  {
   "cell_type": "code",
   "execution_count": 126,
   "metadata": {},
   "outputs": [],
   "source": [
    "# расчитаем средний чек\n",
    "orders_cohort['revenue_user']=(orders_cohort['revenue']/orders_cohort['uid']).astype('int')"
   ]
  },
  {
   "cell_type": "code",
   "execution_count": 127,
   "metadata": {},
   "outputs": [
    {
     "data": {
      "text/plain": [
       "first_order_month\n",
       "2017-06-01    21.083333\n",
       "2017-07-01     9.454545\n",
       "2017-08-01    11.700000\n",
       "2017-09-01    30.777778\n",
       "2017-10-01     7.000000\n",
       "2017-11-01     6.857143\n",
       "2017-12-01    24.666667\n",
       "2018-01-01     7.800000\n",
       "2018-02-01     5.500000\n",
       "2018-03-01    11.333333\n",
       "2018-04-01    10.500000\n",
       "2018-05-01     4.000000\n",
       "2018-06-01     3.000000\n",
       "Name: revenue_user, dtype: float64"
      ]
     },
     "execution_count": 127,
     "metadata": {},
     "output_type": "execute_result"
    }
   ],
   "source": [
    "orders_cohort.groupby('first_order_month')['revenue_user'].mean()"
   ]
  },
  {
   "cell_type": "code",
   "execution_count": 128,
   "metadata": {},
   "outputs": [
    {
     "data": {
      "text/plain": [
       "11.820984570984573"
      ]
     },
     "execution_count": 128,
     "metadata": {},
     "output_type": "execute_result"
    }
   ],
   "source": [
    "orders_cohort.groupby('first_order_month')['revenue_user'].mean().mean()"
   ]
  },
  {
   "cell_type": "markdown",
   "metadata": {},
   "source": [
    "Средний чек варьируется от месяца к месяцу от 3 до 30 руб. В средней чек получается 11 руб"
   ]
  },
  {
   "cell_type": "code",
   "execution_count": 129,
   "metadata": {},
   "outputs": [
    {
     "data": {
      "text/plain": [
       "Text(0.5, 1.0, 'Динамика среднего чека ')"
      ]
     },
     "execution_count": 129,
     "metadata": {},
     "output_type": "execute_result"
    },
    {
     "data": {
      "image/png": "[encoded data removed]",
      "text/plain": [
       "<Figure size 1152x648 with 1 Axes>"
      ]
     },
     "metadata": {},
     "output_type": "display_data"
    }
   ],
   "source": [
    "orders_cohort.groupby('first_order_month')['revenue_user'].mean().plot(figsize=(16,9),grid=True)\n",
    "plt.xlabel('Период, месяц') \n",
    "plt.ylabel('Средний чек') \n",
    "plt.title('Динамика среднего чека ')"
   ]
  },
  {
   "cell_type": "markdown",
   "metadata": {},
   "source": [
    "В сентябре и декабре 2017 г наблюдается наибольший средний чек "
   ]
  },
  {
   "cell_type": "markdown",
   "metadata": {},
   "source": [
    "Построим сводную таблицу изменения среднего чека в когортах по месяцу совершения покупки и оценим, как изменяется средний чек с течением времени"
   ]
  },
  {
   "cell_type": "code",
   "execution_count": 130,
   "metadata": {},
   "outputs": [],
   "source": [
    "orders_cohort['lt']=orders_cohort['buy_month']-orders_cohort['first_order_month']"
   ]
  },
  {
   "cell_type": "code",
   "execution_count": 131,
   "metadata": {},
   "outputs": [],
   "source": [
    "orders_cohort['lt']=orders_cohort['lt']/np.timedelta64(1,'M')"
   ]
  },
  {
   "cell_type": "code",
   "execution_count": 132,
   "metadata": {},
   "outputs": [],
   "source": [
    "orders_cohort['lt']=orders_cohort['lt'].round().astype('int')"
   ]
  },
  {
   "cell_type": "code",
   "execution_count": 133,
   "metadata": {},
   "outputs": [],
   "source": [
    "orders_cohort['first_order_month'] = orders_cohort['first_order_month'].dt.strftime('%Y-%m')"
   ]
  },
  {
   "cell_type": "code",
   "execution_count": 134,
   "metadata": {},
   "outputs": [],
   "source": [
    "orders_pivot=orders_cohort.pivot_table(index='first_order_month',columns='lt',values='revenue_user',aggfunc='mean')"
   ]
  },
  {
   "cell_type": "code",
   "execution_count": 135,
   "metadata": {},
   "outputs": [
    {
     "data": {
      "text/html": [
       "<div>\n",
       "<style scoped>\n",
       "    .dataframe tbody tr th:only-of-type {\n",
       "        vertical-align: middle;\n",
       "    }\n",
       "\n",
       "    .dataframe tbody tr th {\n",
       "        vertical-align: top;\n",
       "    }\n",
       "\n",
       "    .dataframe thead th {\n",
       "        text-align: right;\n",
       "    }\n",
       "</style>\n",
       "<table border=\"1\" class=\"dataframe\">\n",
       "  <thead>\n",
       "    <tr style=\"text-align: right;\">\n",
       "      <th>lt</th>\n",
       "      <th>0</th>\n",
       "      <th>1</th>\n",
       "      <th>2</th>\n",
       "      <th>3</th>\n",
       "      <th>4</th>\n",
       "      <th>5</th>\n",
       "      <th>6</th>\n",
       "      <th>7</th>\n",
       "      <th>8</th>\n",
       "      <th>9</th>\n",
       "      <th>10</th>\n",
       "      <th>11</th>\n",
       "    </tr>\n",
       "    <tr>\n",
       "      <th>first_order_month</th>\n",
       "      <th></th>\n",
       "      <th></th>\n",
       "      <th></th>\n",
       "      <th></th>\n",
       "      <th></th>\n",
       "      <th></th>\n",
       "      <th></th>\n",
       "      <th></th>\n",
       "      <th></th>\n",
       "      <th></th>\n",
       "      <th></th>\n",
       "      <th></th>\n",
       "    </tr>\n",
       "  </thead>\n",
       "  <tbody>\n",
       "    <tr>\n",
       "      <th>2017-06</th>\n",
       "      <td>4.0</td>\n",
       "      <td>16</td>\n",
       "      <td>17</td>\n",
       "      <td>35</td>\n",
       "      <td>23</td>\n",
       "      <td>22</td>\n",
       "      <td>31</td>\n",
       "      <td>25</td>\n",
       "      <td>19</td>\n",
       "      <td>27</td>\n",
       "      <td>25</td>\n",
       "      <td>9</td>\n",
       "    </tr>\n",
       "    <tr>\n",
       "      <th>2017-07</th>\n",
       "      <td>6.0</td>\n",
       "      <td>12</td>\n",
       "      <td>21</td>\n",
       "      <td>10</td>\n",
       "      <td>6</td>\n",
       "      <td>7</td>\n",
       "      <td>6</td>\n",
       "      <td>6</td>\n",
       "      <td>7</td>\n",
       "      <td>12</td>\n",
       "      <td>11</td>\n",
       "      <td></td>\n",
       "    </tr>\n",
       "    <tr>\n",
       "      <th>2017-08</th>\n",
       "      <td>5.0</td>\n",
       "      <td>11</td>\n",
       "      <td>11</td>\n",
       "      <td>12</td>\n",
       "      <td>16</td>\n",
       "      <td>12</td>\n",
       "      <td>9</td>\n",
       "      <td>12</td>\n",
       "      <td>21</td>\n",
       "      <td>8</td>\n",
       "      <td></td>\n",
       "      <td></td>\n",
       "    </tr>\n",
       "    <tr>\n",
       "      <th>2017-09</th>\n",
       "      <td>5.0</td>\n",
       "      <td>22</td>\n",
       "      <td>13</td>\n",
       "      <td>138</td>\n",
       "      <td>19</td>\n",
       "      <td>26</td>\n",
       "      <td>27</td>\n",
       "      <td>16</td>\n",
       "      <td>11</td>\n",
       "      <td></td>\n",
       "      <td></td>\n",
       "      <td></td>\n",
       "    </tr>\n",
       "    <tr>\n",
       "      <th>2017-10</th>\n",
       "      <td>5.0</td>\n",
       "      <td>11</td>\n",
       "      <td>6</td>\n",
       "      <td>7</td>\n",
       "      <td>7</td>\n",
       "      <td>7</td>\n",
       "      <td>6</td>\n",
       "      <td>7</td>\n",
       "      <td></td>\n",
       "      <td></td>\n",
       "      <td></td>\n",
       "      <td></td>\n",
       "    </tr>\n",
       "    <tr>\n",
       "      <th>2017-11</th>\n",
       "      <td>5.0</td>\n",
       "      <td>7</td>\n",
       "      <td>6</td>\n",
       "      <td>12</td>\n",
       "      <td>7</td>\n",
       "      <td>4</td>\n",
       "      <td>7</td>\n",
       "      <td></td>\n",
       "      <td></td>\n",
       "      <td></td>\n",
       "      <td></td>\n",
       "      <td></td>\n",
       "    </tr>\n",
       "    <tr>\n",
       "      <th>2017-12</th>\n",
       "      <td>4.0</td>\n",
       "      <td>7</td>\n",
       "      <td>39</td>\n",
       "      <td>48</td>\n",
       "      <td>27</td>\n",
       "      <td>23</td>\n",
       "      <td></td>\n",
       "      <td></td>\n",
       "      <td></td>\n",
       "      <td></td>\n",
       "      <td></td>\n",
       "      <td></td>\n",
       "    </tr>\n",
       "    <tr>\n",
       "      <th>2018-01</th>\n",
       "      <td>4.0</td>\n",
       "      <td>8</td>\n",
       "      <td>12</td>\n",
       "      <td>11</td>\n",
       "      <td>4</td>\n",
       "      <td></td>\n",
       "      <td></td>\n",
       "      <td></td>\n",
       "      <td></td>\n",
       "      <td></td>\n",
       "      <td></td>\n",
       "      <td></td>\n",
       "    </tr>\n",
       "    <tr>\n",
       "      <th>2018-02</th>\n",
       "      <td>4.0</td>\n",
       "      <td>8</td>\n",
       "      <td>4</td>\n",
       "      <td>6</td>\n",
       "      <td></td>\n",
       "      <td></td>\n",
       "      <td></td>\n",
       "      <td></td>\n",
       "      <td></td>\n",
       "      <td></td>\n",
       "      <td></td>\n",
       "      <td></td>\n",
       "    </tr>\n",
       "    <tr>\n",
       "      <th>2018-03</th>\n",
       "      <td>4.0</td>\n",
       "      <td>11</td>\n",
       "      <td>19</td>\n",
       "      <td></td>\n",
       "      <td></td>\n",
       "      <td></td>\n",
       "      <td></td>\n",
       "      <td></td>\n",
       "      <td></td>\n",
       "      <td></td>\n",
       "      <td></td>\n",
       "      <td></td>\n",
       "    </tr>\n",
       "    <tr>\n",
       "      <th>2018-04</th>\n",
       "      <td>4.0</td>\n",
       "      <td>17</td>\n",
       "      <td></td>\n",
       "      <td></td>\n",
       "      <td></td>\n",
       "      <td></td>\n",
       "      <td></td>\n",
       "      <td></td>\n",
       "      <td></td>\n",
       "      <td></td>\n",
       "      <td></td>\n",
       "      <td></td>\n",
       "    </tr>\n",
       "    <tr>\n",
       "      <th>2018-05</th>\n",
       "      <td>4.0</td>\n",
       "      <td></td>\n",
       "      <td></td>\n",
       "      <td></td>\n",
       "      <td></td>\n",
       "      <td></td>\n",
       "      <td></td>\n",
       "      <td></td>\n",
       "      <td></td>\n",
       "      <td></td>\n",
       "      <td></td>\n",
       "      <td></td>\n",
       "    </tr>\n",
       "    <tr>\n",
       "      <th>2018-06</th>\n",
       "      <td>3.0</td>\n",
       "      <td></td>\n",
       "      <td></td>\n",
       "      <td></td>\n",
       "      <td></td>\n",
       "      <td></td>\n",
       "      <td></td>\n",
       "      <td></td>\n",
       "      <td></td>\n",
       "      <td></td>\n",
       "      <td></td>\n",
       "      <td></td>\n",
       "    </tr>\n",
       "  </tbody>\n",
       "</table>\n",
       "</div>"
      ],
      "text/plain": [
       "lt                  0   1   2    3   4   5   6   7   8   9   10 11\n",
       "first_order_month                                                 \n",
       "2017-06            4.0  16  17   35  23  22  31  25  19  27  25  9\n",
       "2017-07            6.0  12  21   10   6   7   6   6   7  12  11   \n",
       "2017-08            5.0  11  11   12  16  12   9  12  21   8       \n",
       "2017-09            5.0  22  13  138  19  26  27  16  11           \n",
       "2017-10            5.0  11   6    7   7   7   6   7               \n",
       "2017-11            5.0   7   6   12   7   4   7                   \n",
       "2017-12            4.0   7  39   48  27  23                       \n",
       "2018-01            4.0   8  12   11   4                           \n",
       "2018-02            4.0   8   4    6                               \n",
       "2018-03            4.0  11  19                                    \n",
       "2018-04            4.0  17                                        \n",
       "2018-05            4.0                                            \n",
       "2018-06            3.0                                            "
      ]
     },
     "execution_count": 135,
     "metadata": {},
     "output_type": "execute_result"
    }
   ],
   "source": [
    "orders_pivot.fillna('')"
   ]
  },
  {
   "cell_type": "code",
   "execution_count": 136,
   "metadata": {},
   "outputs": [
    {
     "data": {
      "text/plain": [
       "<matplotlib.axes._subplots.AxesSubplot at 0x1b2c49e2e48>"
      ]
     },
     "execution_count": 136,
     "metadata": {},
     "output_type": "execute_result"
    },
    {
     "data": {
      "image/png": "[encoded data removed]",
      "text/plain": [
       "<Figure size 936x648 with 2 Axes>"
      ]
     },
     "metadata": {},
     "output_type": "display_data"
    }
   ],
   "source": [
    "sns.set(style='white')\n",
    "plt.figure(figsize=(13, 9))\n",
    "plt.title('Средний чек покупателей')\n",
    "sns.heatmap(orders_pivot, annot=True, fmt='.1f', linewidths=1, linecolor='gray',vmin=3,vmax=50)"
   ]
  },
  {
   "cell_type": "markdown",
   "metadata": {},
   "source": [
    "У сентябрьской когорты очень высокий средний чек в декабре, посмотрим эту когорту в декабре подробнее"
   ]
  },
  {
   "cell_type": "markdown",
   "metadata": {},
   "source": []
  },
  {
   "cell_type": "code",
   "execution_count": 137,
   "metadata": {},
   "outputs": [
    {
     "data": {
      "text/html": [
       "<div>\n",
       "<style scoped>\n",
       "    .dataframe tbody tr th:only-of-type {\n",
       "        vertical-align: middle;\n",
       "    }\n",
       "\n",
       "    .dataframe tbody tr th {\n",
       "        vertical-align: top;\n",
       "    }\n",
       "\n",
       "    .dataframe thead th {\n",
       "        text-align: right;\n",
       "    }\n",
       "</style>\n",
       "<table border=\"1\" class=\"dataframe\">\n",
       "  <thead>\n",
       "    <tr style=\"text-align: right;\">\n",
       "      <th></th>\n",
       "      <th>uid</th>\n",
       "      <th>revenue</th>\n",
       "    </tr>\n",
       "  </thead>\n",
       "  <tbody>\n",
       "    <tr>\n",
       "      <th>21730</th>\n",
       "      <td>5539673724080479777</td>\n",
       "      <td>58.05</td>\n",
       "    </tr>\n",
       "    <tr>\n",
       "      <th>21806</th>\n",
       "      <td>5539673724080479777</td>\n",
       "      <td>65.69</td>\n",
       "    </tr>\n",
       "    <tr>\n",
       "      <th>21906</th>\n",
       "      <td>5539673724080479777</td>\n",
       "      <td>344.36</td>\n",
       "    </tr>\n",
       "    <tr>\n",
       "      <th>21961</th>\n",
       "      <td>5539673724080479777</td>\n",
       "      <td>402.72</td>\n",
       "    </tr>\n",
       "    <tr>\n",
       "      <th>22769</th>\n",
       "      <td>5539673724080479777</td>\n",
       "      <td>360.55</td>\n",
       "    </tr>\n",
       "    <tr>\n",
       "      <th>23165</th>\n",
       "      <td>5539673724080479777</td>\n",
       "      <td>1195.64</td>\n",
       "    </tr>\n",
       "    <tr>\n",
       "      <th>23196</th>\n",
       "      <td>5539673724080479777</td>\n",
       "      <td>243.83</td>\n",
       "    </tr>\n",
       "    <tr>\n",
       "      <th>23244</th>\n",
       "      <td>5539673724080479777</td>\n",
       "      <td>2633.28</td>\n",
       "    </tr>\n",
       "    <tr>\n",
       "      <th>23483</th>\n",
       "      <td>5539673724080479777</td>\n",
       "      <td>293.03</td>\n",
       "    </tr>\n",
       "    <tr>\n",
       "      <th>23516</th>\n",
       "      <td>5539673724080479777</td>\n",
       "      <td>200.44</td>\n",
       "    </tr>\n",
       "    <tr>\n",
       "      <th>23600</th>\n",
       "      <td>5539673724080479777</td>\n",
       "      <td>88.92</td>\n",
       "    </tr>\n",
       "    <tr>\n",
       "      <th>23717</th>\n",
       "      <td>5539673724080479777</td>\n",
       "      <td>68.44</td>\n",
       "    </tr>\n",
       "    <tr>\n",
       "      <th>23781</th>\n",
       "      <td>8539015707073391293</td>\n",
       "      <td>138.69</td>\n",
       "    </tr>\n",
       "    <tr>\n",
       "      <th>23952</th>\n",
       "      <td>5539673724080479777</td>\n",
       "      <td>113.97</td>\n",
       "    </tr>\n",
       "    <tr>\n",
       "      <th>24116</th>\n",
       "      <td>5539673724080479777</td>\n",
       "      <td>144.83</td>\n",
       "    </tr>\n",
       "    <tr>\n",
       "      <th>24316</th>\n",
       "      <td>5539673724080479777</td>\n",
       "      <td>189.44</td>\n",
       "    </tr>\n",
       "    <tr>\n",
       "      <th>24341</th>\n",
       "      <td>5539673724080479777</td>\n",
       "      <td>604.39</td>\n",
       "    </tr>\n",
       "    <tr>\n",
       "      <th>24499</th>\n",
       "      <td>5539673724080479777</td>\n",
       "      <td>58.67</td>\n",
       "    </tr>\n",
       "    <tr>\n",
       "      <th>24512</th>\n",
       "      <td>5539673724080479777</td>\n",
       "      <td>73.03</td>\n",
       "    </tr>\n",
       "    <tr>\n",
       "      <th>24519</th>\n",
       "      <td>11218248891942632814</td>\n",
       "      <td>89.22</td>\n",
       "    </tr>\n",
       "    <tr>\n",
       "      <th>24627</th>\n",
       "      <td>5539673724080479777</td>\n",
       "      <td>114.28</td>\n",
       "    </tr>\n",
       "    <tr>\n",
       "      <th>24775</th>\n",
       "      <td>5539673724080479777</td>\n",
       "      <td>337.33</td>\n",
       "    </tr>\n",
       "    <tr>\n",
       "      <th>24830</th>\n",
       "      <td>5539673724080479777</td>\n",
       "      <td>54.08</td>\n",
       "    </tr>\n",
       "    <tr>\n",
       "      <th>24856</th>\n",
       "      <td>5539673724080479777</td>\n",
       "      <td>209.61</td>\n",
       "    </tr>\n",
       "    <tr>\n",
       "      <th>24942</th>\n",
       "      <td>5539673724080479777</td>\n",
       "      <td>191.89</td>\n",
       "    </tr>\n",
       "    <tr>\n",
       "      <th>25393</th>\n",
       "      <td>10246903932085021612</td>\n",
       "      <td>110.00</td>\n",
       "    </tr>\n",
       "    <tr>\n",
       "      <th>25480</th>\n",
       "      <td>5539673724080479777</td>\n",
       "      <td>304.94</td>\n",
       "    </tr>\n",
       "    <tr>\n",
       "      <th>25601</th>\n",
       "      <td>5539673724080479777</td>\n",
       "      <td>205.03</td>\n",
       "    </tr>\n",
       "    <tr>\n",
       "      <th>25692</th>\n",
       "      <td>5539673724080479777</td>\n",
       "      <td>69.67</td>\n",
       "    </tr>\n",
       "    <tr>\n",
       "      <th>26200</th>\n",
       "      <td>5539673724080479777</td>\n",
       "      <td>55.00</td>\n",
       "    </tr>\n",
       "  </tbody>\n",
       "</table>\n",
       "</div>"
      ],
      "text/plain": [
       "                        uid  revenue\n",
       "21730   5539673724080479777    58.05\n",
       "21806   5539673724080479777    65.69\n",
       "21906   5539673724080479777   344.36\n",
       "21961   5539673724080479777   402.72\n",
       "22769   5539673724080479777   360.55\n",
       "23165   5539673724080479777  1195.64\n",
       "23196   5539673724080479777   243.83\n",
       "23244   5539673724080479777  2633.28\n",
       "23483   5539673724080479777   293.03\n",
       "23516   5539673724080479777   200.44\n",
       "23600   5539673724080479777    88.92\n",
       "23717   5539673724080479777    68.44\n",
       "23781   8539015707073391293   138.69\n",
       "23952   5539673724080479777   113.97\n",
       "24116   5539673724080479777   144.83\n",
       "24316   5539673724080479777   189.44\n",
       "24341   5539673724080479777   604.39\n",
       "24499   5539673724080479777    58.67\n",
       "24512   5539673724080479777    73.03\n",
       "24519  11218248891942632814    89.22\n",
       "24627   5539673724080479777   114.28\n",
       "24775   5539673724080479777   337.33\n",
       "24830   5539673724080479777    54.08\n",
       "24856   5539673724080479777   209.61\n",
       "24942   5539673724080479777   191.89\n",
       "25393  10246903932085021612   110.00\n",
       "25480   5539673724080479777   304.94\n",
       "25601   5539673724080479777   205.03\n",
       "25692   5539673724080479777    69.67\n",
       "26200   5539673724080479777    55.00"
      ]
     },
     "execution_count": 137,
     "metadata": {},
     "output_type": "execute_result"
    }
   ],
   "source": [
    "orders[(orders['first_order_month']=='2017-09-01')&(orders['buy_month']=='2017-12-01')&(orders['revenue']>50)][['uid','revenue']]"
   ]
  },
  {
   "cell_type": "markdown",
   "metadata": {},
   "source": [
    "Очень много выплат за 50 руб, есть выплаты превышающее 1000 - этим и объясняется высокий средний чек"
   ]
  },
  {
   "cell_type": "markdown",
   "metadata": {},
   "source": [
    "### LTV"
   ]
  },
  {
   "cell_type": "markdown",
   "metadata": {},
   "source": [
    "Последнюю метрику которую мы посмотрим изучая доходность сайта - LTV"
   ]
  },
  {
   "cell_type": "code",
   "execution_count": 138,
   "metadata": {},
   "outputs": [
    {
     "data": {
      "text/html": [
       "<div>\n",
       "<style scoped>\n",
       "    .dataframe tbody tr th:only-of-type {\n",
       "        vertical-align: middle;\n",
       "    }\n",
       "\n",
       "    .dataframe tbody tr th {\n",
       "        vertical-align: top;\n",
       "    }\n",
       "\n",
       "    .dataframe thead th {\n",
       "        text-align: right;\n",
       "    }\n",
       "</style>\n",
       "<table border=\"1\" class=\"dataframe\">\n",
       "  <thead>\n",
       "    <tr style=\"text-align: right;\">\n",
       "      <th></th>\n",
       "      <th>buy ts</th>\n",
       "      <th>revenue</th>\n",
       "      <th>uid</th>\n",
       "      <th>first_order</th>\n",
       "      <th>first_order_month</th>\n",
       "      <th>buy_month</th>\n",
       "    </tr>\n",
       "  </thead>\n",
       "  <tbody>\n",
       "    <tr>\n",
       "      <th>0</th>\n",
       "      <td>2017-06-01 00:10:00</td>\n",
       "      <td>17.00</td>\n",
       "      <td>10329302124590727494</td>\n",
       "      <td>2017-06-01 00:10:00</td>\n",
       "      <td>2017-06-01</td>\n",
       "      <td>2017-06-01</td>\n",
       "    </tr>\n",
       "    <tr>\n",
       "      <th>1</th>\n",
       "      <td>2017-06-01 00:25:00</td>\n",
       "      <td>0.55</td>\n",
       "      <td>11627257723692907447</td>\n",
       "      <td>2017-06-01 00:25:00</td>\n",
       "      <td>2017-06-01</td>\n",
       "      <td>2017-06-01</td>\n",
       "    </tr>\n",
       "    <tr>\n",
       "      <th>2</th>\n",
       "      <td>2017-06-01 00:27:00</td>\n",
       "      <td>0.37</td>\n",
       "      <td>17903680561304213844</td>\n",
       "      <td>2017-06-01 00:27:00</td>\n",
       "      <td>2017-06-01</td>\n",
       "      <td>2017-06-01</td>\n",
       "    </tr>\n",
       "  </tbody>\n",
       "</table>\n",
       "</div>"
      ],
      "text/plain": [
       "               buy ts  revenue                   uid         first_order  \\\n",
       "0 2017-06-01 00:10:00    17.00  10329302124590727494 2017-06-01 00:10:00   \n",
       "1 2017-06-01 00:25:00     0.55  11627257723692907447 2017-06-01 00:25:00   \n",
       "2 2017-06-01 00:27:00     0.37  17903680561304213844 2017-06-01 00:27:00   \n",
       "\n",
       "  first_order_month  buy_month  \n",
       "0        2017-06-01 2017-06-01  \n",
       "1        2017-06-01 2017-06-01  \n",
       "2        2017-06-01 2017-06-01  "
      ]
     },
     "execution_count": 138,
     "metadata": {},
     "output_type": "execute_result"
    }
   ],
   "source": [
    "orders.head(3)"
   ]
  },
  {
   "cell_type": "code",
   "execution_count": 139,
   "metadata": {},
   "outputs": [],
   "source": [
    "cohorts_buy = orders.groupby(['first_order_month','buy_month']).agg({'revenue': 'sum','uid': 'nunique'}).reset_index()"
   ]
  },
  {
   "cell_type": "code",
   "execution_count": 140,
   "metadata": {},
   "outputs": [
    {
     "data": {
      "text/html": [
       "<div>\n",
       "<style scoped>\n",
       "    .dataframe tbody tr th:only-of-type {\n",
       "        vertical-align: middle;\n",
       "    }\n",
       "\n",
       "    .dataframe tbody tr th {\n",
       "        vertical-align: top;\n",
       "    }\n",
       "\n",
       "    .dataframe thead th {\n",
       "        text-align: right;\n",
       "    }\n",
       "</style>\n",
       "<table border=\"1\" class=\"dataframe\">\n",
       "  <thead>\n",
       "    <tr style=\"text-align: right;\">\n",
       "      <th></th>\n",
       "      <th>first_order_month</th>\n",
       "      <th>buy_month</th>\n",
       "      <th>revenue</th>\n",
       "      <th>uid</th>\n",
       "    </tr>\n",
       "  </thead>\n",
       "  <tbody>\n",
       "    <tr>\n",
       "      <th>0</th>\n",
       "      <td>2017-06-01</td>\n",
       "      <td>2017-06-01</td>\n",
       "      <td>9557.49</td>\n",
       "      <td>2022</td>\n",
       "    </tr>\n",
       "    <tr>\n",
       "      <th>1</th>\n",
       "      <td>2017-06-01</td>\n",
       "      <td>2017-07-01</td>\n",
       "      <td>981.82</td>\n",
       "      <td>61</td>\n",
       "    </tr>\n",
       "    <tr>\n",
       "      <th>2</th>\n",
       "      <td>2017-06-01</td>\n",
       "      <td>2017-08-01</td>\n",
       "      <td>885.34</td>\n",
       "      <td>50</td>\n",
       "    </tr>\n",
       "  </tbody>\n",
       "</table>\n",
       "</div>"
      ],
      "text/plain": [
       "  first_order_month  buy_month  revenue   uid\n",
       "0        2017-06-01 2017-06-01  9557.49  2022\n",
       "1        2017-06-01 2017-07-01   981.82    61\n",
       "2        2017-06-01 2017-08-01   885.34    50"
      ]
     },
     "execution_count": 140,
     "metadata": {},
     "output_type": "execute_result"
    }
   ],
   "source": [
    "cohorts_buy.head(3)"
   ]
  },
  {
   "cell_type": "code",
   "execution_count": 141,
   "metadata": {},
   "outputs": [],
   "source": [
    "# LTV расчитывается исходя из прибыли\n",
    "margin_rate = 1\n",
    "cohorts_buy['gp'] = cohorts_buy['revenue'] * margin_rate\n",
    "cohorts_buy['age'] = (cohorts_buy['buy_month'] - cohorts_buy['first_order_month']) / np.timedelta64(1, 'M')\n",
    "cohorts_buy['age'] = cohorts_buy['age'].round().astype('int')"
   ]
  },
  {
   "cell_type": "code",
   "execution_count": 142,
   "metadata": {},
   "outputs": [
    {
     "data": {
      "text/html": [
       "<div>\n",
       "<style scoped>\n",
       "    .dataframe tbody tr th:only-of-type {\n",
       "        vertical-align: middle;\n",
       "    }\n",
       "\n",
       "    .dataframe tbody tr th {\n",
       "        vertical-align: top;\n",
       "    }\n",
       "\n",
       "    .dataframe thead th {\n",
       "        text-align: right;\n",
       "    }\n",
       "</style>\n",
       "<table border=\"1\" class=\"dataframe\">\n",
       "  <thead>\n",
       "    <tr style=\"text-align: right;\">\n",
       "      <th></th>\n",
       "      <th>first_order_month</th>\n",
       "      <th>buy_month</th>\n",
       "      <th>revenue</th>\n",
       "      <th>uid</th>\n",
       "      <th>gp</th>\n",
       "      <th>age</th>\n",
       "    </tr>\n",
       "  </thead>\n",
       "  <tbody>\n",
       "    <tr>\n",
       "      <th>0</th>\n",
       "      <td>2017-06-01</td>\n",
       "      <td>2017-06-01</td>\n",
       "      <td>9557.49</td>\n",
       "      <td>2022</td>\n",
       "      <td>9557.49</td>\n",
       "      <td>0</td>\n",
       "    </tr>\n",
       "    <tr>\n",
       "      <th>1</th>\n",
       "      <td>2017-06-01</td>\n",
       "      <td>2017-07-01</td>\n",
       "      <td>981.82</td>\n",
       "      <td>61</td>\n",
       "      <td>981.82</td>\n",
       "      <td>1</td>\n",
       "    </tr>\n",
       "    <tr>\n",
       "      <th>2</th>\n",
       "      <td>2017-06-01</td>\n",
       "      <td>2017-08-01</td>\n",
       "      <td>885.34</td>\n",
       "      <td>50</td>\n",
       "      <td>885.34</td>\n",
       "      <td>2</td>\n",
       "    </tr>\n",
       "  </tbody>\n",
       "</table>\n",
       "</div>"
      ],
      "text/plain": [
       "  first_order_month  buy_month  revenue   uid       gp  age\n",
       "0        2017-06-01 2017-06-01  9557.49  2022  9557.49    0\n",
       "1        2017-06-01 2017-07-01   981.82    61   981.82    1\n",
       "2        2017-06-01 2017-08-01   885.34    50   885.34    2"
      ]
     },
     "execution_count": 142,
     "metadata": {},
     "output_type": "execute_result"
    }
   ],
   "source": [
    "cohorts_buy.head(3)"
   ]
  },
  {
   "cell_type": "markdown",
   "metadata": {},
   "source": [
    "Наконец, найдём LTV. Разделим валовую прибыль когорт за каждый месяц на общее число пользователей в каждой когорте. Для наглядности визуализируем когорты в виде сводной таблицы"
   ]
  },
  {
   "cell_type": "code",
   "execution_count": 143,
   "metadata": {},
   "outputs": [],
   "source": [
    "cohorts_buy['ltv'] = cohorts_buy['gp'] / cohorts_buy['uid']"
   ]
  },
  {
   "cell_type": "code",
   "execution_count": 144,
   "metadata": {},
   "outputs": [],
   "source": [
    "output = cohorts_buy.pivot_table(index='first_order_month',columns='age',values='ltv',aggfunc='mean').round()"
   ]
  },
  {
   "cell_type": "code",
   "execution_count": 145,
   "metadata": {},
   "outputs": [
    {
     "data": {
      "text/html": [
       "<div>\n",
       "<style scoped>\n",
       "    .dataframe tbody tr th:only-of-type {\n",
       "        vertical-align: middle;\n",
       "    }\n",
       "\n",
       "    .dataframe tbody tr th {\n",
       "        vertical-align: top;\n",
       "    }\n",
       "\n",
       "    .dataframe thead th {\n",
       "        text-align: right;\n",
       "    }\n",
       "</style>\n",
       "<table border=\"1\" class=\"dataframe\">\n",
       "  <thead>\n",
       "    <tr style=\"text-align: right;\">\n",
       "      <th>age</th>\n",
       "      <th>0</th>\n",
       "      <th>1</th>\n",
       "      <th>2</th>\n",
       "      <th>3</th>\n",
       "      <th>4</th>\n",
       "      <th>5</th>\n",
       "      <th>6</th>\n",
       "      <th>7</th>\n",
       "      <th>8</th>\n",
       "      <th>9</th>\n",
       "      <th>10</th>\n",
       "      <th>11</th>\n",
       "    </tr>\n",
       "    <tr>\n",
       "      <th>first_order_month</th>\n",
       "      <th></th>\n",
       "      <th></th>\n",
       "      <th></th>\n",
       "      <th></th>\n",
       "      <th></th>\n",
       "      <th></th>\n",
       "      <th></th>\n",
       "      <th></th>\n",
       "      <th></th>\n",
       "      <th></th>\n",
       "      <th></th>\n",
       "      <th></th>\n",
       "    </tr>\n",
       "  </thead>\n",
       "  <tbody>\n",
       "    <tr>\n",
       "      <th>2017-06-01</th>\n",
       "      <td>5.0</td>\n",
       "      <td>16</td>\n",
       "      <td>18</td>\n",
       "      <td>36</td>\n",
       "      <td>24</td>\n",
       "      <td>22</td>\n",
       "      <td>31</td>\n",
       "      <td>25</td>\n",
       "      <td>19</td>\n",
       "      <td>27</td>\n",
       "      <td>26</td>\n",
       "      <td>10</td>\n",
       "    </tr>\n",
       "    <tr>\n",
       "      <th>2017-07-01</th>\n",
       "      <td>6.0</td>\n",
       "      <td>12</td>\n",
       "      <td>21</td>\n",
       "      <td>11</td>\n",
       "      <td>7</td>\n",
       "      <td>8</td>\n",
       "      <td>6</td>\n",
       "      <td>7</td>\n",
       "      <td>7</td>\n",
       "      <td>13</td>\n",
       "      <td>12</td>\n",
       "      <td></td>\n",
       "    </tr>\n",
       "    <tr>\n",
       "      <th>2017-08-01</th>\n",
       "      <td>5.0</td>\n",
       "      <td>11</td>\n",
       "      <td>12</td>\n",
       "      <td>12</td>\n",
       "      <td>17</td>\n",
       "      <td>12</td>\n",
       "      <td>10</td>\n",
       "      <td>13</td>\n",
       "      <td>21</td>\n",
       "      <td>8</td>\n",
       "      <td></td>\n",
       "      <td></td>\n",
       "    </tr>\n",
       "    <tr>\n",
       "      <th>2017-09-01</th>\n",
       "      <td>6.0</td>\n",
       "      <td>22</td>\n",
       "      <td>13</td>\n",
       "      <td>139</td>\n",
       "      <td>20</td>\n",
       "      <td>26</td>\n",
       "      <td>27</td>\n",
       "      <td>17</td>\n",
       "      <td>11</td>\n",
       "      <td></td>\n",
       "      <td></td>\n",
       "      <td></td>\n",
       "    </tr>\n",
       "    <tr>\n",
       "      <th>2017-10-01</th>\n",
       "      <td>5.0</td>\n",
       "      <td>11</td>\n",
       "      <td>7</td>\n",
       "      <td>7</td>\n",
       "      <td>7</td>\n",
       "      <td>7</td>\n",
       "      <td>7</td>\n",
       "      <td>7</td>\n",
       "      <td></td>\n",
       "      <td></td>\n",
       "      <td></td>\n",
       "      <td></td>\n",
       "    </tr>\n",
       "    <tr>\n",
       "      <th>2017-11-01</th>\n",
       "      <td>5.0</td>\n",
       "      <td>7</td>\n",
       "      <td>7</td>\n",
       "      <td>13</td>\n",
       "      <td>7</td>\n",
       "      <td>5</td>\n",
       "      <td>8</td>\n",
       "      <td></td>\n",
       "      <td></td>\n",
       "      <td></td>\n",
       "      <td></td>\n",
       "      <td></td>\n",
       "    </tr>\n",
       "    <tr>\n",
       "      <th>2017-12-01</th>\n",
       "      <td>5.0</td>\n",
       "      <td>8</td>\n",
       "      <td>39</td>\n",
       "      <td>48</td>\n",
       "      <td>27</td>\n",
       "      <td>24</td>\n",
       "      <td></td>\n",
       "      <td></td>\n",
       "      <td></td>\n",
       "      <td></td>\n",
       "      <td></td>\n",
       "      <td></td>\n",
       "    </tr>\n",
       "    <tr>\n",
       "      <th>2018-01-01</th>\n",
       "      <td>4.0</td>\n",
       "      <td>9</td>\n",
       "      <td>12</td>\n",
       "      <td>11</td>\n",
       "      <td>5</td>\n",
       "      <td></td>\n",
       "      <td></td>\n",
       "      <td></td>\n",
       "      <td></td>\n",
       "      <td></td>\n",
       "      <td></td>\n",
       "      <td></td>\n",
       "    </tr>\n",
       "    <tr>\n",
       "      <th>2018-02-01</th>\n",
       "      <td>4.0</td>\n",
       "      <td>9</td>\n",
       "      <td>5</td>\n",
       "      <td>7</td>\n",
       "      <td></td>\n",
       "      <td></td>\n",
       "      <td></td>\n",
       "      <td></td>\n",
       "      <td></td>\n",
       "      <td></td>\n",
       "      <td></td>\n",
       "      <td></td>\n",
       "    </tr>\n",
       "    <tr>\n",
       "      <th>2018-03-01</th>\n",
       "      <td>5.0</td>\n",
       "      <td>12</td>\n",
       "      <td>19</td>\n",
       "      <td></td>\n",
       "      <td></td>\n",
       "      <td></td>\n",
       "      <td></td>\n",
       "      <td></td>\n",
       "      <td></td>\n",
       "      <td></td>\n",
       "      <td></td>\n",
       "      <td></td>\n",
       "    </tr>\n",
       "    <tr>\n",
       "      <th>2018-04-01</th>\n",
       "      <td>5.0</td>\n",
       "      <td>18</td>\n",
       "      <td></td>\n",
       "      <td></td>\n",
       "      <td></td>\n",
       "      <td></td>\n",
       "      <td></td>\n",
       "      <td></td>\n",
       "      <td></td>\n",
       "      <td></td>\n",
       "      <td></td>\n",
       "      <td></td>\n",
       "    </tr>\n",
       "    <tr>\n",
       "      <th>2018-05-01</th>\n",
       "      <td>5.0</td>\n",
       "      <td></td>\n",
       "      <td></td>\n",
       "      <td></td>\n",
       "      <td></td>\n",
       "      <td></td>\n",
       "      <td></td>\n",
       "      <td></td>\n",
       "      <td></td>\n",
       "      <td></td>\n",
       "      <td></td>\n",
       "      <td></td>\n",
       "    </tr>\n",
       "    <tr>\n",
       "      <th>2018-06-01</th>\n",
       "      <td>3.0</td>\n",
       "      <td></td>\n",
       "      <td></td>\n",
       "      <td></td>\n",
       "      <td></td>\n",
       "      <td></td>\n",
       "      <td></td>\n",
       "      <td></td>\n",
       "      <td></td>\n",
       "      <td></td>\n",
       "      <td></td>\n",
       "      <td></td>\n",
       "    </tr>\n",
       "  </tbody>\n",
       "</table>\n",
       "</div>"
      ],
      "text/plain": [
       "age                 0   1   2    3   4   5   6   7   8   9   10  11\n",
       "first_order_month                                                  \n",
       "2017-06-01         5.0  16  18   36  24  22  31  25  19  27  26  10\n",
       "2017-07-01         6.0  12  21   11   7   8   6   7   7  13  12    \n",
       "2017-08-01         5.0  11  12   12  17  12  10  13  21   8        \n",
       "2017-09-01         6.0  22  13  139  20  26  27  17  11            \n",
       "2017-10-01         5.0  11   7    7   7   7   7   7                \n",
       "2017-11-01         5.0   7   7   13   7   5   8                    \n",
       "2017-12-01         5.0   8  39   48  27  24                        \n",
       "2018-01-01         4.0   9  12   11   5                            \n",
       "2018-02-01         4.0   9   5    7                                \n",
       "2018-03-01         5.0  12  19                                     \n",
       "2018-04-01         5.0  18                                         \n",
       "2018-05-01         5.0                                             \n",
       "2018-06-01         3.0                                             "
      ]
     },
     "execution_count": 145,
     "metadata": {},
     "output_type": "execute_result"
    }
   ],
   "source": [
    "output.fillna('')"
   ]
  },
  {
   "cell_type": "code",
   "execution_count": 146,
   "metadata": {},
   "outputs": [
    {
     "data": {
      "text/plain": [
       "first_order_month\n",
       "2017-06-01    259.0\n",
       "2017-07-01    110.0\n",
       "2017-08-01    121.0\n",
       "2017-09-01    281.0\n",
       "2017-10-01     58.0\n",
       "2017-11-01     52.0\n",
       "2017-12-01    151.0\n",
       "2018-01-01     41.0\n",
       "2018-02-01     25.0\n",
       "2018-03-01     36.0\n",
       "2018-04-01     23.0\n",
       "2018-05-01      5.0\n",
       "2018-06-01      3.0\n",
       "dtype: float64"
      ]
     },
     "execution_count": 146,
     "metadata": {},
     "output_type": "execute_result"
    }
   ],
   "source": [
    "# посмотрим сколько в среднем принес каждый клиент за весь период\n",
    "output.sum(axis=1)"
   ]
  },
  {
   "cell_type": "markdown",
   "metadata": {},
   "source": [
    "Больше всего принесли 2 когорты - июнь 2017 и сентябрь 2017 : это объясняется временем существования коготры. Также у сентябрьской когорбы был высокий средний чек в декабре"
   ]
  },
  {
   "cell_type": "code",
   "execution_count": 147,
   "metadata": {},
   "outputs": [
    {
     "data": {
      "text/plain": [
       "<matplotlib.axes._subplots.AxesSubplot at 0x1b2c184f548>"
      ]
     },
     "execution_count": 147,
     "metadata": {},
     "output_type": "execute_result"
    },
    {
     "data": {
      "image/png": "[encoded data removed]",
      "text/plain": [
       "<Figure size 432x288 with 1 Axes>"
      ]
     },
     "metadata": {},
     "output_type": "display_data"
    }
   ],
   "source": [
    "# посмотрим какие клиеты в среднем приносят больше денег\n",
    "output.median(axis=1).plot(kind='bar')"
   ]
  },
  {
   "cell_type": "markdown",
   "metadata": {},
   "source": [
    "В среднем ежемесячно больше всего приносят денег когорты: июнь 2017, сентябрь 2017 и декабрь 2017"
   ]
  },
  {
   "cell_type": "markdown",
   "metadata": {},
   "source": [
    "#### ВЫВОД\n",
    "\n",
    "Общая выручка составила 252057.2\n",
    "В 20 сентября и декабре 2017 сайт получил большую выручку (возможно в эти дни были проведены акции). 36509 клиентов осуществляли транзакции; причем проводили на сайте примерно столько же времени сколько и те кто ничего не покупал. В  среднем время от первого посещения сайта до покупки занимает 16 минут. В среднем (из тех кто покупал) осуществляли заказ только 1 раз. Что и показал нам retention, stiky factor - очень низкая вовлеченность и удержание клиента. \n",
    "С августа по январь 2018 г наблидается рост покупок , с января постепенное снижение (либо сезонность, либо маркетинг, либо деятельность конкурентов - надо смотреть подробнее). Размер среднего чека 11.82 руб. Больше всего покупок было у октябрьской, ноябрьской и декабрьской когорт; больше всего компания выручила от сентябрьской, октябрьской, ноябрьской и июньской когорт (большое количество покупок, высокий средний чек). Больше всего (в среднем каждый покупатель) принесла компании июньская, сентябрьская и декабрьская когорты."
   ]
  },
  {
   "cell_type": "markdown",
   "metadata": {},
   "source": [
    "### Анализ расходов"
   ]
  },
  {
   "cell_type": "markdown",
   "metadata": {},
   "source": [
    "###### <a id=\"cell5\"></a>"
   ]
  },
  {
   "cell_type": "code",
   "execution_count": 148,
   "metadata": {},
   "outputs": [
    {
     "data": {
      "text/html": [
       "<div>\n",
       "<style scoped>\n",
       "    .dataframe tbody tr th:only-of-type {\n",
       "        vertical-align: middle;\n",
       "    }\n",
       "\n",
       "    .dataframe tbody tr th {\n",
       "        vertical-align: top;\n",
       "    }\n",
       "\n",
       "    .dataframe thead th {\n",
       "        text-align: right;\n",
       "    }\n",
       "</style>\n",
       "<table border=\"1\" class=\"dataframe\">\n",
       "  <thead>\n",
       "    <tr style=\"text-align: right;\">\n",
       "      <th></th>\n",
       "      <th>source_id</th>\n",
       "      <th>dt</th>\n",
       "      <th>costs</th>\n",
       "    </tr>\n",
       "  </thead>\n",
       "  <tbody>\n",
       "    <tr>\n",
       "      <th>0</th>\n",
       "      <td>1</td>\n",
       "      <td>2017-06-01</td>\n",
       "      <td>75.20</td>\n",
       "    </tr>\n",
       "    <tr>\n",
       "      <th>1</th>\n",
       "      <td>1</td>\n",
       "      <td>2017-06-02</td>\n",
       "      <td>62.25</td>\n",
       "    </tr>\n",
       "    <tr>\n",
       "      <th>2</th>\n",
       "      <td>1</td>\n",
       "      <td>2017-06-03</td>\n",
       "      <td>36.53</td>\n",
       "    </tr>\n",
       "  </tbody>\n",
       "</table>\n",
       "</div>"
      ],
      "text/plain": [
       "   source_id         dt  costs\n",
       "0          1 2017-06-01  75.20\n",
       "1          1 2017-06-02  62.25\n",
       "2          1 2017-06-03  36.53"
      ]
     },
     "execution_count": 148,
     "metadata": {},
     "output_type": "execute_result"
    }
   ],
   "source": [
    "costs.head(3)"
   ]
  },
  {
   "cell_type": "code",
   "execution_count": 149,
   "metadata": {},
   "outputs": [
    {
     "data": {
      "text/plain": [
       "Timestamp('2017-06-01 00:00:00')"
      ]
     },
     "execution_count": 149,
     "metadata": {},
     "output_type": "execute_result"
    }
   ],
   "source": [
    "costs['dt'].min()"
   ]
  },
  {
   "cell_type": "code",
   "execution_count": 150,
   "metadata": {},
   "outputs": [
    {
     "data": {
      "text/plain": [
       "Timestamp('2018-05-31 00:00:00')"
      ]
     },
     "execution_count": 150,
     "metadata": {},
     "output_type": "execute_result"
    }
   ],
   "source": [
    "costs['dt'].max()"
   ]
  },
  {
   "cell_type": "code",
   "execution_count": 151,
   "metadata": {},
   "outputs": [],
   "source": [
    "# приведем к 1 дню месяца\n",
    "costs['first_month'] = costs['dt'].astype('datetime64[M]')"
   ]
  },
  {
   "cell_type": "code",
   "execution_count": 152,
   "metadata": {},
   "outputs": [
    {
     "data": {
      "text/html": [
       "<div>\n",
       "<style scoped>\n",
       "    .dataframe tbody tr th:only-of-type {\n",
       "        vertical-align: middle;\n",
       "    }\n",
       "\n",
       "    .dataframe tbody tr th {\n",
       "        vertical-align: top;\n",
       "    }\n",
       "\n",
       "    .dataframe thead th {\n",
       "        text-align: right;\n",
       "    }\n",
       "</style>\n",
       "<table border=\"1\" class=\"dataframe\">\n",
       "  <thead>\n",
       "    <tr style=\"text-align: right;\">\n",
       "      <th></th>\n",
       "      <th>source_id</th>\n",
       "      <th>dt</th>\n",
       "      <th>costs</th>\n",
       "      <th>first_month</th>\n",
       "    </tr>\n",
       "  </thead>\n",
       "  <tbody>\n",
       "    <tr>\n",
       "      <th>0</th>\n",
       "      <td>1</td>\n",
       "      <td>2017-06-01</td>\n",
       "      <td>75.20</td>\n",
       "      <td>2017-06-01</td>\n",
       "    </tr>\n",
       "    <tr>\n",
       "      <th>1</th>\n",
       "      <td>1</td>\n",
       "      <td>2017-06-02</td>\n",
       "      <td>62.25</td>\n",
       "      <td>2017-06-01</td>\n",
       "    </tr>\n",
       "    <tr>\n",
       "      <th>2</th>\n",
       "      <td>1</td>\n",
       "      <td>2017-06-03</td>\n",
       "      <td>36.53</td>\n",
       "      <td>2017-06-01</td>\n",
       "    </tr>\n",
       "  </tbody>\n",
       "</table>\n",
       "</div>"
      ],
      "text/plain": [
       "   source_id         dt  costs first_month\n",
       "0          1 2017-06-01  75.20  2017-06-01\n",
       "1          1 2017-06-02  62.25  2017-06-01\n",
       "2          1 2017-06-03  36.53  2017-06-01"
      ]
     },
     "execution_count": 152,
     "metadata": {},
     "output_type": "execute_result"
    }
   ],
   "source": [
    "costs.head(3)"
   ]
  },
  {
   "cell_type": "code",
   "execution_count": 153,
   "metadata": {},
   "outputs": [
    {
     "data": {
      "text/plain": [
       "329131.62"
      ]
     },
     "execution_count": 153,
     "metadata": {},
     "output_type": "execute_result"
    }
   ],
   "source": [
    "# посмотрим сколько всего потратила компания за весь период\n",
    "costs['costs'].sum()"
   ]
  },
  {
   "cell_type": "markdown",
   "metadata": {},
   "source": [
    "Общие затраты превышают выручку. Посмотрим в какой рекламный источник вложили больше всего денег и замый затратный месяц"
   ]
  },
  {
   "cell_type": "code",
   "execution_count": 154,
   "metadata": {},
   "outputs": [
    {
     "data": {
      "text/plain": [
       "Text(0.5, 1.0, 'Распределение затрат среди рекламных источников')"
      ]
     },
     "execution_count": 154,
     "metadata": {},
     "output_type": "execute_result"
    },
    {
     "data": {
      "image/png": "[encoded data removed]",
      "text/plain": [
       "<Figure size 432x288 with 1 Axes>"
      ]
     },
     "metadata": {},
     "output_type": "display_data"
    }
   ],
   "source": [
    "# посмотрим затраты на рекламные источники\n",
    "costs.groupby('source_id')['costs'].sum().sort_values().plot(kind='bar',grid=True)\n",
    "plt.xlabel('Рекламный источник') \n",
    "plt.ylabel('Затраты, руб') \n",
    "plt.title('Распределение затрат среди рекламных источников')"
   ]
  },
  {
   "cell_type": "markdown",
   "metadata": {},
   "source": [
    "Самый затратный рекламный источник №3"
   ]
  },
  {
   "cell_type": "code",
   "execution_count": 155,
   "metadata": {},
   "outputs": [
    {
     "data": {
      "text/plain": [
       "Text(0.5, 1.0, 'Изменение затрат на рекламу')"
      ]
     },
     "execution_count": 155,
     "metadata": {},
     "output_type": "execute_result"
    },
    {
     "data": {
      "image/png": "[encoded data removed]",
      "text/plain": [
       "<Figure size 432x288 with 1 Axes>"
      ]
     },
     "metadata": {},
     "output_type": "display_data"
    }
   ],
   "source": [
    "# посмотрим затраты по месяцам\n",
    "costs.groupby('first_month')['costs'].sum().plot(grid=True)\n",
    "plt.xlabel('Период, месяц') \n",
    "plt.ylabel('Затраты, руб') \n",
    "plt.title('Изменение затрат на рекламу')"
   ]
  },
  {
   "cell_type": "markdown",
   "metadata": {},
   "source": [
    "График очень похож на динамику продаж (с августа рост, с января снижение). Соотнесем графики затрат и выручки"
   ]
  },
  {
   "cell_type": "code",
   "execution_count": 156,
   "metadata": {},
   "outputs": [
    {
     "data": {
      "text/plain": [
       "Text(0.5, 1.0, 'Динамика затрат и выручки с июня 2017 по июнь 2018гг')"
      ]
     },
     "execution_count": 156,
     "metadata": {},
     "output_type": "execute_result"
    },
    {
     "data": {
      "image/png": "[encoded data removed]",
      "text/plain": [
       "<Figure size 1152x648 with 1 Axes>"
      ]
     },
     "metadata": {},
     "output_type": "display_data"
    }
   ],
   "source": [
    "ax=costs.groupby('first_month')['costs'].sum().plot(figsize=(16,9),grid=True,legend=True)\n",
    "orders.groupby('first_order_month')['revenue'].sum().plot(figsize=(16,9),grid=True,ax=ax,legend=True)\n",
    "plt.xlabel('Период, мес') \n",
    "plt.ylabel('Затраты / выручка, руб') \n",
    "plt.title('Динамика затрат и выручки с июня 2017 по июнь 2018гг')"
   ]
  },
  {
   "cell_type": "markdown",
   "metadata": {},
   "source": [
    "Наша гипотеза о том что росту продаж способствует рекламная компания подтвердилась: с ростом/уменьшением затрат происходит рост/уменьшение продаж. Только с середины сентября что-то пошло не так: затраты превышают выручку. Нельзя забывать о низкой вовлеченности посетителей.\n",
    "Соотношение суммарной выручки и затрат показал что сайт не оккупается. Для большей наглядности расчитаем CAC и ROI"
   ]
  },
  {
   "cell_type": "markdown",
   "metadata": {},
   "source": [
    "### САС, ROMI"
   ]
  },
  {
   "cell_type": "markdown",
   "metadata": {},
   "source": [
    "Перед тем как расчитать данные метрики необходимо объединить таблицы"
   ]
  },
  {
   "cell_type": "code",
   "execution_count": 157,
   "metadata": {},
   "outputs": [
    {
     "data": {
      "text/html": [
       "<div>\n",
       "<style scoped>\n",
       "    .dataframe tbody tr th:only-of-type {\n",
       "        vertical-align: middle;\n",
       "    }\n",
       "\n",
       "    .dataframe tbody tr th {\n",
       "        vertical-align: top;\n",
       "    }\n",
       "\n",
       "    .dataframe thead th {\n",
       "        text-align: right;\n",
       "    }\n",
       "</style>\n",
       "<table border=\"1\" class=\"dataframe\">\n",
       "  <thead>\n",
       "    <tr style=\"text-align: right;\">\n",
       "      <th></th>\n",
       "      <th>buy ts</th>\n",
       "      <th>revenue</th>\n",
       "      <th>uid</th>\n",
       "      <th>first_order</th>\n",
       "      <th>first_order_month</th>\n",
       "      <th>buy_month</th>\n",
       "    </tr>\n",
       "  </thead>\n",
       "  <tbody>\n",
       "    <tr>\n",
       "      <th>0</th>\n",
       "      <td>2017-06-01 00:10:00</td>\n",
       "      <td>17.00</td>\n",
       "      <td>10329302124590727494</td>\n",
       "      <td>2017-06-01 00:10:00</td>\n",
       "      <td>2017-06-01</td>\n",
       "      <td>2017-06-01</td>\n",
       "    </tr>\n",
       "    <tr>\n",
       "      <th>1</th>\n",
       "      <td>2017-06-01 00:25:00</td>\n",
       "      <td>0.55</td>\n",
       "      <td>11627257723692907447</td>\n",
       "      <td>2017-06-01 00:25:00</td>\n",
       "      <td>2017-06-01</td>\n",
       "      <td>2017-06-01</td>\n",
       "    </tr>\n",
       "    <tr>\n",
       "      <th>2</th>\n",
       "      <td>2017-06-01 00:27:00</td>\n",
       "      <td>0.37</td>\n",
       "      <td>17903680561304213844</td>\n",
       "      <td>2017-06-01 00:27:00</td>\n",
       "      <td>2017-06-01</td>\n",
       "      <td>2017-06-01</td>\n",
       "    </tr>\n",
       "  </tbody>\n",
       "</table>\n",
       "</div>"
      ],
      "text/plain": [
       "               buy ts  revenue                   uid         first_order  \\\n",
       "0 2017-06-01 00:10:00    17.00  10329302124590727494 2017-06-01 00:10:00   \n",
       "1 2017-06-01 00:25:00     0.55  11627257723692907447 2017-06-01 00:25:00   \n",
       "2 2017-06-01 00:27:00     0.37  17903680561304213844 2017-06-01 00:27:00   \n",
       "\n",
       "  first_order_month  buy_month  \n",
       "0        2017-06-01 2017-06-01  \n",
       "1        2017-06-01 2017-06-01  \n",
       "2        2017-06-01 2017-06-01  "
      ]
     },
     "execution_count": 157,
     "metadata": {},
     "output_type": "execute_result"
    }
   ],
   "source": [
    "orders.head(3)"
   ]
  },
  {
   "cell_type": "code",
   "execution_count": 158,
   "metadata": {},
   "outputs": [],
   "source": [
    "orders=orders.drop('buy_month',axis=1)"
   ]
  },
  {
   "cell_type": "code",
   "execution_count": 159,
   "metadata": {},
   "outputs": [
    {
     "data": {
      "text/plain": [
       "3644482766749211722     239\n",
       "13888745432979765063    238\n",
       "11920452646463905188    227\n",
       "6731421022966725351     183\n",
       "3501596628378158474     150\n",
       "                       ... \n",
       "4591076985649693640       1\n",
       "10123118655365033769      1\n",
       "17398492294358629398      1\n",
       "15974676665349104064      1\n",
       "9505264890679494151       1\n",
       "Name: uid, Length: 36509, dtype: int64"
      ]
     },
     "execution_count": 159,
     "metadata": {},
     "output_type": "execute_result"
    }
   ],
   "source": [
    "orders['uid'].value_counts()"
   ]
  },
  {
   "cell_type": "code",
   "execution_count": 160,
   "metadata": {},
   "outputs": [],
   "source": [
    "# преобразуем дату покупки\n",
    "orders['date']=orders['buy ts'].astype('datetime64[D]')"
   ]
  },
  {
   "cell_type": "code",
   "execution_count": 161,
   "metadata": {},
   "outputs": [],
   "source": [
    "order=orders.groupby(['uid','first_order_month']).agg({'revenue': 'sum'}).reset_index()"
   ]
  },
  {
   "cell_type": "code",
   "execution_count": 162,
   "metadata": {},
   "outputs": [
    {
     "data": {
      "text/html": [
       "<div>\n",
       "<style scoped>\n",
       "    .dataframe tbody tr th:only-of-type {\n",
       "        vertical-align: middle;\n",
       "    }\n",
       "\n",
       "    .dataframe tbody tr th {\n",
       "        vertical-align: top;\n",
       "    }\n",
       "\n",
       "    .dataframe thead th {\n",
       "        text-align: right;\n",
       "    }\n",
       "</style>\n",
       "<table border=\"1\" class=\"dataframe\">\n",
       "  <thead>\n",
       "    <tr style=\"text-align: right;\">\n",
       "      <th></th>\n",
       "      <th>device</th>\n",
       "      <th>end ts</th>\n",
       "      <th>source id</th>\n",
       "      <th>start ts</th>\n",
       "      <th>uid</th>\n",
       "      <th>year</th>\n",
       "      <th>month</th>\n",
       "      <th>week</th>\n",
       "      <th>date</th>\n",
       "      <th>duration</th>\n",
       "      <th>first_date</th>\n",
       "      <th>activ_month</th>\n",
       "      <th>first_activ_month</th>\n",
       "      <th>lifetime</th>\n",
       "    </tr>\n",
       "  </thead>\n",
       "  <tbody>\n",
       "    <tr>\n",
       "      <th>0</th>\n",
       "      <td>touch</td>\n",
       "      <td>2017-12-20 17:38:00</td>\n",
       "      <td>4</td>\n",
       "      <td>2017-12-20 17:20:00</td>\n",
       "      <td>16879256277535980062</td>\n",
       "      <td>2017</td>\n",
       "      <td>12</td>\n",
       "      <td>51</td>\n",
       "      <td>2017-12-20</td>\n",
       "      <td>1080</td>\n",
       "      <td>2017-12-20 17:20:00</td>\n",
       "      <td>2017-12-01</td>\n",
       "      <td>2017-12</td>\n",
       "      <td>0</td>\n",
       "    </tr>\n",
       "    <tr>\n",
       "      <th>1</th>\n",
       "      <td>desktop</td>\n",
       "      <td>2018-02-19 17:21:00</td>\n",
       "      <td>2</td>\n",
       "      <td>2018-02-19 16:53:00</td>\n",
       "      <td>104060357244891740</td>\n",
       "      <td>2018</td>\n",
       "      <td>2</td>\n",
       "      <td>8</td>\n",
       "      <td>2018-02-19</td>\n",
       "      <td>1680</td>\n",
       "      <td>2018-02-19 16:53:00</td>\n",
       "      <td>2018-02-01</td>\n",
       "      <td>2018-02</td>\n",
       "      <td>0</td>\n",
       "    </tr>\n",
       "    <tr>\n",
       "      <th>2</th>\n",
       "      <td>touch</td>\n",
       "      <td>2017-07-01 01:54:00</td>\n",
       "      <td>5</td>\n",
       "      <td>2017-07-01 01:54:00</td>\n",
       "      <td>7459035603376831527</td>\n",
       "      <td>2017</td>\n",
       "      <td>7</td>\n",
       "      <td>26</td>\n",
       "      <td>2017-07-01</td>\n",
       "      <td>0</td>\n",
       "      <td>2017-07-01 01:54:00</td>\n",
       "      <td>2017-07-01</td>\n",
       "      <td>2017-07</td>\n",
       "      <td>0</td>\n",
       "    </tr>\n",
       "  </tbody>\n",
       "</table>\n",
       "</div>"
      ],
      "text/plain": [
       "    device              end ts  source id            start ts  \\\n",
       "0    touch 2017-12-20 17:38:00          4 2017-12-20 17:20:00   \n",
       "1  desktop 2018-02-19 17:21:00          2 2018-02-19 16:53:00   \n",
       "2    touch 2017-07-01 01:54:00          5 2017-07-01 01:54:00   \n",
       "\n",
       "                    uid  year  month  week        date  duration  \\\n",
       "0  16879256277535980062  2017     12    51  2017-12-20      1080   \n",
       "1    104060357244891740  2018      2     8  2018-02-19      1680   \n",
       "2   7459035603376831527  2017      7    26  2017-07-01         0   \n",
       "\n",
       "           first_date activ_month first_activ_month  lifetime  \n",
       "0 2017-12-20 17:20:00  2017-12-01           2017-12         0  \n",
       "1 2018-02-19 16:53:00  2018-02-01           2018-02         0  \n",
       "2 2017-07-01 01:54:00  2017-07-01           2017-07         0  "
      ]
     },
     "execution_count": 162,
     "metadata": {},
     "output_type": "execute_result"
    }
   ],
   "source": [
    "visits.head(3)"
   ]
  },
  {
   "cell_type": "code",
   "execution_count": 163,
   "metadata": {},
   "outputs": [],
   "source": [
    "# во время расчетов создали много дополнительных столбцов; для удобства дальнейших расчетов удалим их\n",
    "visits=visits.drop(['year','month','week','date','first_activ_month','lifetime'],axis=1)"
   ]
  },
  {
   "cell_type": "code",
   "execution_count": 164,
   "metadata": {},
   "outputs": [
    {
     "data": {
      "text/html": [
       "<div>\n",
       "<style scoped>\n",
       "    .dataframe tbody tr th:only-of-type {\n",
       "        vertical-align: middle;\n",
       "    }\n",
       "\n",
       "    .dataframe tbody tr th {\n",
       "        vertical-align: top;\n",
       "    }\n",
       "\n",
       "    .dataframe thead th {\n",
       "        text-align: right;\n",
       "    }\n",
       "</style>\n",
       "<table border=\"1\" class=\"dataframe\">\n",
       "  <thead>\n",
       "    <tr style=\"text-align: right;\">\n",
       "      <th></th>\n",
       "      <th>device</th>\n",
       "      <th>end ts</th>\n",
       "      <th>source id</th>\n",
       "      <th>start ts</th>\n",
       "      <th>uid</th>\n",
       "      <th>duration</th>\n",
       "      <th>first_date</th>\n",
       "      <th>activ_month</th>\n",
       "    </tr>\n",
       "  </thead>\n",
       "  <tbody>\n",
       "    <tr>\n",
       "      <th>0</th>\n",
       "      <td>touch</td>\n",
       "      <td>2017-12-20 17:38:00</td>\n",
       "      <td>4</td>\n",
       "      <td>2017-12-20 17:20:00</td>\n",
       "      <td>16879256277535980062</td>\n",
       "      <td>1080</td>\n",
       "      <td>2017-12-20 17:20:00</td>\n",
       "      <td>2017-12-01</td>\n",
       "    </tr>\n",
       "    <tr>\n",
       "      <th>1</th>\n",
       "      <td>desktop</td>\n",
       "      <td>2018-02-19 17:21:00</td>\n",
       "      <td>2</td>\n",
       "      <td>2018-02-19 16:53:00</td>\n",
       "      <td>104060357244891740</td>\n",
       "      <td>1680</td>\n",
       "      <td>2018-02-19 16:53:00</td>\n",
       "      <td>2018-02-01</td>\n",
       "    </tr>\n",
       "    <tr>\n",
       "      <th>2</th>\n",
       "      <td>touch</td>\n",
       "      <td>2017-07-01 01:54:00</td>\n",
       "      <td>5</td>\n",
       "      <td>2017-07-01 01:54:00</td>\n",
       "      <td>7459035603376831527</td>\n",
       "      <td>0</td>\n",
       "      <td>2017-07-01 01:54:00</td>\n",
       "      <td>2017-07-01</td>\n",
       "    </tr>\n",
       "  </tbody>\n",
       "</table>\n",
       "</div>"
      ],
      "text/plain": [
       "    device              end ts  source id            start ts  \\\n",
       "0    touch 2017-12-20 17:38:00          4 2017-12-20 17:20:00   \n",
       "1  desktop 2018-02-19 17:21:00          2 2018-02-19 16:53:00   \n",
       "2    touch 2017-07-01 01:54:00          5 2017-07-01 01:54:00   \n",
       "\n",
       "                    uid  duration          first_date activ_month  \n",
       "0  16879256277535980062      1080 2017-12-20 17:20:00  2017-12-01  \n",
       "1    104060357244891740      1680 2018-02-19 16:53:00  2018-02-01  \n",
       "2   7459035603376831527         0 2017-07-01 01:54:00  2017-07-01  "
      ]
     },
     "execution_count": 164,
     "metadata": {},
     "output_type": "execute_result"
    }
   ],
   "source": [
    "visits.head(3)"
   ]
  },
  {
   "cell_type": "code",
   "execution_count": 165,
   "metadata": {},
   "outputs": [],
   "source": [
    "# переменуем active_month в firts_order_month и source id в source_id\n",
    "visits.columns=['device', 'end ts', 'source_id', 'start ts', 'uid', 'duration','first_date', 'first_order_month']"
   ]
  },
  {
   "cell_type": "code",
   "execution_count": 166,
   "metadata": {},
   "outputs": [],
   "source": [
    "visits['date']=visits['start ts'].astype('datetime64[D]')"
   ]
  },
  {
   "cell_type": "code",
   "execution_count": 167,
   "metadata": {},
   "outputs": [],
   "source": [
    "# для дальнейшего объединения сгруппируем visits; так как возможно песетители заходили с разных источников рекламы, учтем первый\n",
    "visit=visits.groupby(['first_order_month','device','uid']).agg({'source_id': 'first'}).reset_index()"
   ]
  },
  {
   "cell_type": "code",
   "execution_count": 168,
   "metadata": {},
   "outputs": [],
   "source": [
    "visit_order=order.merge(visit,on=['uid','first_order_month'])"
   ]
  },
  {
   "cell_type": "code",
   "execution_count": 169,
   "metadata": {},
   "outputs": [
    {
     "data": {
      "text/html": [
       "<div>\n",
       "<style scoped>\n",
       "    .dataframe tbody tr th:only-of-type {\n",
       "        vertical-align: middle;\n",
       "    }\n",
       "\n",
       "    .dataframe tbody tr th {\n",
       "        vertical-align: top;\n",
       "    }\n",
       "\n",
       "    .dataframe thead th {\n",
       "        text-align: right;\n",
       "    }\n",
       "</style>\n",
       "<table border=\"1\" class=\"dataframe\">\n",
       "  <thead>\n",
       "    <tr style=\"text-align: right;\">\n",
       "      <th></th>\n",
       "      <th>uid</th>\n",
       "      <th>first_order_month</th>\n",
       "      <th>revenue</th>\n",
       "      <th>device</th>\n",
       "      <th>source_id</th>\n",
       "    </tr>\n",
       "  </thead>\n",
       "  <tbody>\n",
       "    <tr>\n",
       "      <th>0</th>\n",
       "      <td>1575281904278712</td>\n",
       "      <td>2017-06-01</td>\n",
       "      <td>3.05</td>\n",
       "      <td>touch</td>\n",
       "      <td>10</td>\n",
       "    </tr>\n",
       "    <tr>\n",
       "      <th>1</th>\n",
       "      <td>2429014661409475</td>\n",
       "      <td>2017-10-01</td>\n",
       "      <td>73.33</td>\n",
       "      <td>desktop</td>\n",
       "      <td>3</td>\n",
       "    </tr>\n",
       "    <tr>\n",
       "      <th>2</th>\n",
       "      <td>2464366381792757</td>\n",
       "      <td>2018-01-01</td>\n",
       "      <td>2.44</td>\n",
       "      <td>desktop</td>\n",
       "      <td>5</td>\n",
       "    </tr>\n",
       "  </tbody>\n",
       "</table>\n",
       "</div>"
      ],
      "text/plain": [
       "                uid first_order_month  revenue   device  source_id\n",
       "0  1575281904278712        2017-06-01     3.05    touch         10\n",
       "1  2429014661409475        2017-10-01    73.33  desktop          3\n",
       "2  2464366381792757        2018-01-01     2.44  desktop          5"
      ]
     },
     "execution_count": 169,
     "metadata": {},
     "output_type": "execute_result"
    }
   ],
   "source": [
    "visit_order.head(3)"
   ]
  },
  {
   "cell_type": "code",
   "execution_count": 170,
   "metadata": {},
   "outputs": [
    {
     "data": {
      "text/plain": [
       "8"
      ]
     },
     "execution_count": 170,
     "metadata": {},
     "output_type": "execute_result"
    }
   ],
   "source": [
    "visit_order['source_id'].nunique()"
   ]
  },
  {
   "cell_type": "code",
   "execution_count": 171,
   "metadata": {},
   "outputs": [],
   "source": [
    "#маржинальность равно 1 : прибыль и выручка равны\n",
    "margin_rate = 1\n"
   ]
  },
  {
   "cell_type": "code",
   "execution_count": 172,
   "metadata": {},
   "outputs": [],
   "source": [
    "# создадим итоговую табл \n",
    "report=visit_order.groupby(['first_order_month','device','source_id']).agg({'uid': 'nunique','revenue':'sum'}).reset_index()"
   ]
  },
  {
   "cell_type": "code",
   "execution_count": 173,
   "metadata": {},
   "outputs": [],
   "source": [
    "report_source=visit_order.groupby(['first_order_month','source_id']).agg({'uid': 'nunique','revenue':'sum'}).reset_index()"
   ]
  },
  {
   "cell_type": "code",
   "execution_count": 174,
   "metadata": {
    "scrolled": true
   },
   "outputs": [
    {
     "data": {
      "text/html": [
       "<div>\n",
       "<style scoped>\n",
       "    .dataframe tbody tr th:only-of-type {\n",
       "        vertical-align: middle;\n",
       "    }\n",
       "\n",
       "    .dataframe tbody tr th {\n",
       "        vertical-align: top;\n",
       "    }\n",
       "\n",
       "    .dataframe thead th {\n",
       "        text-align: right;\n",
       "    }\n",
       "</style>\n",
       "<table border=\"1\" class=\"dataframe\">\n",
       "  <thead>\n",
       "    <tr style=\"text-align: right;\">\n",
       "      <th></th>\n",
       "      <th>first_order_month</th>\n",
       "      <th>device</th>\n",
       "      <th>source_id</th>\n",
       "      <th>uid</th>\n",
       "      <th>revenue</th>\n",
       "    </tr>\n",
       "  </thead>\n",
       "  <tbody>\n",
       "    <tr>\n",
       "      <th>0</th>\n",
       "      <td>2017-06-01</td>\n",
       "      <td>desktop</td>\n",
       "      <td>1</td>\n",
       "      <td>193</td>\n",
       "      <td>6236.39</td>\n",
       "    </tr>\n",
       "    <tr>\n",
       "      <th>1</th>\n",
       "      <td>2017-06-01</td>\n",
       "      <td>desktop</td>\n",
       "      <td>2</td>\n",
       "      <td>222</td>\n",
       "      <td>7059.57</td>\n",
       "    </tr>\n",
       "    <tr>\n",
       "      <th>2</th>\n",
       "      <td>2017-06-01</td>\n",
       "      <td>desktop</td>\n",
       "      <td>3</td>\n",
       "      <td>534</td>\n",
       "      <td>3112.61</td>\n",
       "    </tr>\n",
       "    <tr>\n",
       "      <th>3</th>\n",
       "      <td>2017-06-01</td>\n",
       "      <td>desktop</td>\n",
       "      <td>4</td>\n",
       "      <td>331</td>\n",
       "      <td>2563.69</td>\n",
       "    </tr>\n",
       "    <tr>\n",
       "      <th>4</th>\n",
       "      <td>2017-06-01</td>\n",
       "      <td>desktop</td>\n",
       "      <td>5</td>\n",
       "      <td>331</td>\n",
       "      <td>3275.12</td>\n",
       "    </tr>\n",
       "    <tr>\n",
       "      <th>...</th>\n",
       "      <td>...</td>\n",
       "      <td>...</td>\n",
       "      <td>...</td>\n",
       "      <td>...</td>\n",
       "      <td>...</td>\n",
       "    </tr>\n",
       "    <tr>\n",
       "      <th>164</th>\n",
       "      <td>2018-05-01</td>\n",
       "      <td>touch</td>\n",
       "      <td>3</td>\n",
       "      <td>124</td>\n",
       "      <td>567.78</td>\n",
       "    </tr>\n",
       "    <tr>\n",
       "      <th>165</th>\n",
       "      <td>2018-05-01</td>\n",
       "      <td>touch</td>\n",
       "      <td>4</td>\n",
       "      <td>162</td>\n",
       "      <td>694.45</td>\n",
       "    </tr>\n",
       "    <tr>\n",
       "      <th>166</th>\n",
       "      <td>2018-05-01</td>\n",
       "      <td>touch</td>\n",
       "      <td>5</td>\n",
       "      <td>88</td>\n",
       "      <td>334.10</td>\n",
       "    </tr>\n",
       "    <tr>\n",
       "      <th>167</th>\n",
       "      <td>2018-05-01</td>\n",
       "      <td>touch</td>\n",
       "      <td>9</td>\n",
       "      <td>6</td>\n",
       "      <td>25.23</td>\n",
       "    </tr>\n",
       "    <tr>\n",
       "      <th>168</th>\n",
       "      <td>2018-05-01</td>\n",
       "      <td>touch</td>\n",
       "      <td>10</td>\n",
       "      <td>33</td>\n",
       "      <td>86.14</td>\n",
       "    </tr>\n",
       "  </tbody>\n",
       "</table>\n",
       "<p>169 rows × 5 columns</p>\n",
       "</div>"
      ],
      "text/plain": [
       "    first_order_month   device  source_id  uid  revenue\n",
       "0          2017-06-01  desktop          1  193  6236.39\n",
       "1          2017-06-01  desktop          2  222  7059.57\n",
       "2          2017-06-01  desktop          3  534  3112.61\n",
       "3          2017-06-01  desktop          4  331  2563.69\n",
       "4          2017-06-01  desktop          5  331  3275.12\n",
       "..                ...      ...        ...  ...      ...\n",
       "164        2018-05-01    touch          3  124   567.78\n",
       "165        2018-05-01    touch          4  162   694.45\n",
       "166        2018-05-01    touch          5   88   334.10\n",
       "167        2018-05-01    touch          9    6    25.23\n",
       "168        2018-05-01    touch         10   33    86.14\n",
       "\n",
       "[169 rows x 5 columns]"
      ]
     },
     "execution_count": 174,
     "metadata": {},
     "output_type": "execute_result"
    }
   ],
   "source": [
    "report"
   ]
  },
  {
   "cell_type": "code",
   "execution_count": 175,
   "metadata": {},
   "outputs": [
    {
     "data": {
      "text/html": [
       "<div>\n",
       "<style scoped>\n",
       "    .dataframe tbody tr th:only-of-type {\n",
       "        vertical-align: middle;\n",
       "    }\n",
       "\n",
       "    .dataframe tbody tr th {\n",
       "        vertical-align: top;\n",
       "    }\n",
       "\n",
       "    .dataframe thead th {\n",
       "        text-align: right;\n",
       "    }\n",
       "</style>\n",
       "<table border=\"1\" class=\"dataframe\">\n",
       "  <thead>\n",
       "    <tr style=\"text-align: right;\">\n",
       "      <th></th>\n",
       "      <th>index</th>\n",
       "      <th>source_id</th>\n",
       "      <th>dt</th>\n",
       "      <th>costs</th>\n",
       "      <th>first_month</th>\n",
       "    </tr>\n",
       "  </thead>\n",
       "  <tbody>\n",
       "    <tr>\n",
       "      <th>0</th>\n",
       "      <td>0</td>\n",
       "      <td>1</td>\n",
       "      <td>2017-06-01</td>\n",
       "      <td>75.20</td>\n",
       "      <td>2017-06-01</td>\n",
       "    </tr>\n",
       "    <tr>\n",
       "      <th>1</th>\n",
       "      <td>1</td>\n",
       "      <td>1</td>\n",
       "      <td>2017-06-02</td>\n",
       "      <td>62.25</td>\n",
       "      <td>2017-06-01</td>\n",
       "    </tr>\n",
       "    <tr>\n",
       "      <th>2</th>\n",
       "      <td>2</td>\n",
       "      <td>1</td>\n",
       "      <td>2017-06-03</td>\n",
       "      <td>36.53</td>\n",
       "      <td>2017-06-01</td>\n",
       "    </tr>\n",
       "    <tr>\n",
       "      <th>3</th>\n",
       "      <td>3</td>\n",
       "      <td>1</td>\n",
       "      <td>2017-06-04</td>\n",
       "      <td>55.00</td>\n",
       "      <td>2017-06-01</td>\n",
       "    </tr>\n",
       "    <tr>\n",
       "      <th>4</th>\n",
       "      <td>4</td>\n",
       "      <td>1</td>\n",
       "      <td>2017-06-05</td>\n",
       "      <td>57.08</td>\n",
       "      <td>2017-06-01</td>\n",
       "    </tr>\n",
       "    <tr>\n",
       "      <th>...</th>\n",
       "      <td>...</td>\n",
       "      <td>...</td>\n",
       "      <td>...</td>\n",
       "      <td>...</td>\n",
       "      <td>...</td>\n",
       "    </tr>\n",
       "    <tr>\n",
       "      <th>2537</th>\n",
       "      <td>2537</td>\n",
       "      <td>10</td>\n",
       "      <td>2018-05-27</td>\n",
       "      <td>9.92</td>\n",
       "      <td>2018-05-01</td>\n",
       "    </tr>\n",
       "    <tr>\n",
       "      <th>2538</th>\n",
       "      <td>2538</td>\n",
       "      <td>10</td>\n",
       "      <td>2018-05-28</td>\n",
       "      <td>21.26</td>\n",
       "      <td>2018-05-01</td>\n",
       "    </tr>\n",
       "    <tr>\n",
       "      <th>2539</th>\n",
       "      <td>2539</td>\n",
       "      <td>10</td>\n",
       "      <td>2018-05-29</td>\n",
       "      <td>11.32</td>\n",
       "      <td>2018-05-01</td>\n",
       "    </tr>\n",
       "    <tr>\n",
       "      <th>2540</th>\n",
       "      <td>2540</td>\n",
       "      <td>10</td>\n",
       "      <td>2018-05-30</td>\n",
       "      <td>33.15</td>\n",
       "      <td>2018-05-01</td>\n",
       "    </tr>\n",
       "    <tr>\n",
       "      <th>2541</th>\n",
       "      <td>2541</td>\n",
       "      <td>10</td>\n",
       "      <td>2018-05-31</td>\n",
       "      <td>17.60</td>\n",
       "      <td>2018-05-01</td>\n",
       "    </tr>\n",
       "  </tbody>\n",
       "</table>\n",
       "<p>2542 rows × 5 columns</p>\n",
       "</div>"
      ],
      "text/plain": [
       "      index  source_id         dt  costs first_month\n",
       "0         0          1 2017-06-01  75.20  2017-06-01\n",
       "1         1          1 2017-06-02  62.25  2017-06-01\n",
       "2         2          1 2017-06-03  36.53  2017-06-01\n",
       "3         3          1 2017-06-04  55.00  2017-06-01\n",
       "4         4          1 2017-06-05  57.08  2017-06-01\n",
       "...     ...        ...        ...    ...         ...\n",
       "2537   2537         10 2018-05-27   9.92  2018-05-01\n",
       "2538   2538         10 2018-05-28  21.26  2018-05-01\n",
       "2539   2539         10 2018-05-29  11.32  2018-05-01\n",
       "2540   2540         10 2018-05-30  33.15  2018-05-01\n",
       "2541   2541         10 2018-05-31  17.60  2018-05-01\n",
       "\n",
       "[2542 rows x 5 columns]"
      ]
     },
     "execution_count": 175,
     "metadata": {},
     "output_type": "execute_result"
    }
   ],
   "source": [
    "# перейдем к затратам\n",
    "costs.reset_index()"
   ]
  },
  {
   "cell_type": "code",
   "execution_count": 176,
   "metadata": {},
   "outputs": [],
   "source": [
    "costs=costs.groupby(['first_month','source_id'])['costs'].sum().reset_index()"
   ]
  },
  {
   "cell_type": "code",
   "execution_count": 177,
   "metadata": {},
   "outputs": [],
   "source": [
    "costs.columns=['first_order_month', 'source_id', 'costs']"
   ]
  },
  {
   "cell_type": "code",
   "execution_count": 178,
   "metadata": {},
   "outputs": [
    {
     "data": {
      "text/html": [
       "<div>\n",
       "<style scoped>\n",
       "    .dataframe tbody tr th:only-of-type {\n",
       "        vertical-align: middle;\n",
       "    }\n",
       "\n",
       "    .dataframe tbody tr th {\n",
       "        vertical-align: top;\n",
       "    }\n",
       "\n",
       "    .dataframe thead th {\n",
       "        text-align: right;\n",
       "    }\n",
       "</style>\n",
       "<table border=\"1\" class=\"dataframe\">\n",
       "  <thead>\n",
       "    <tr style=\"text-align: right;\">\n",
       "      <th></th>\n",
       "      <th>first_order_month</th>\n",
       "      <th>source_id</th>\n",
       "      <th>costs</th>\n",
       "    </tr>\n",
       "  </thead>\n",
       "  <tbody>\n",
       "    <tr>\n",
       "      <th>0</th>\n",
       "      <td>2017-06-01</td>\n",
       "      <td>1</td>\n",
       "      <td>1125.61</td>\n",
       "    </tr>\n",
       "    <tr>\n",
       "      <th>1</th>\n",
       "      <td>2017-06-01</td>\n",
       "      <td>2</td>\n",
       "      <td>2427.38</td>\n",
       "    </tr>\n",
       "    <tr>\n",
       "      <th>2</th>\n",
       "      <td>2017-06-01</td>\n",
       "      <td>3</td>\n",
       "      <td>7731.65</td>\n",
       "    </tr>\n",
       "    <tr>\n",
       "      <th>3</th>\n",
       "      <td>2017-06-01</td>\n",
       "      <td>4</td>\n",
       "      <td>3514.80</td>\n",
       "    </tr>\n",
       "    <tr>\n",
       "      <th>4</th>\n",
       "      <td>2017-06-01</td>\n",
       "      <td>5</td>\n",
       "      <td>2616.12</td>\n",
       "    </tr>\n",
       "    <tr>\n",
       "      <th>...</th>\n",
       "      <td>...</td>\n",
       "      <td>...</td>\n",
       "      <td>...</td>\n",
       "    </tr>\n",
       "    <tr>\n",
       "      <th>79</th>\n",
       "      <td>2018-05-01</td>\n",
       "      <td>3</td>\n",
       "      <td>9411.42</td>\n",
       "    </tr>\n",
       "    <tr>\n",
       "      <th>80</th>\n",
       "      <td>2018-05-01</td>\n",
       "      <td>4</td>\n",
       "      <td>4214.21</td>\n",
       "    </tr>\n",
       "    <tr>\n",
       "      <th>81</th>\n",
       "      <td>2018-05-01</td>\n",
       "      <td>5</td>\n",
       "      <td>3669.56</td>\n",
       "    </tr>\n",
       "    <tr>\n",
       "      <th>82</th>\n",
       "      <td>2018-05-01</td>\n",
       "      <td>9</td>\n",
       "      <td>362.17</td>\n",
       "    </tr>\n",
       "    <tr>\n",
       "      <th>83</th>\n",
       "      <td>2018-05-01</td>\n",
       "      <td>10</td>\n",
       "      <td>409.86</td>\n",
       "    </tr>\n",
       "  </tbody>\n",
       "</table>\n",
       "<p>84 rows × 3 columns</p>\n",
       "</div>"
      ],
      "text/plain": [
       "   first_order_month  source_id    costs\n",
       "0         2017-06-01          1  1125.61\n",
       "1         2017-06-01          2  2427.38\n",
       "2         2017-06-01          3  7731.65\n",
       "3         2017-06-01          4  3514.80\n",
       "4         2017-06-01          5  2616.12\n",
       "..               ...        ...      ...\n",
       "79        2018-05-01          3  9411.42\n",
       "80        2018-05-01          4  4214.21\n",
       "81        2018-05-01          5  3669.56\n",
       "82        2018-05-01          9   362.17\n",
       "83        2018-05-01         10   409.86\n",
       "\n",
       "[84 rows x 3 columns]"
      ]
     },
     "execution_count": 178,
     "metadata": {},
     "output_type": "execute_result"
    }
   ],
   "source": [
    "costs"
   ]
  },
  {
   "cell_type": "code",
   "execution_count": 179,
   "metadata": {},
   "outputs": [],
   "source": [
    "output=report_source.merge(costs,on=['first_order_month','source_id'])"
   ]
  },
  {
   "cell_type": "code",
   "execution_count": 180,
   "metadata": {},
   "outputs": [
    {
     "data": {
      "text/html": [
       "<div>\n",
       "<style scoped>\n",
       "    .dataframe tbody tr th:only-of-type {\n",
       "        vertical-align: middle;\n",
       "    }\n",
       "\n",
       "    .dataframe tbody tr th {\n",
       "        vertical-align: top;\n",
       "    }\n",
       "\n",
       "    .dataframe thead th {\n",
       "        text-align: right;\n",
       "    }\n",
       "</style>\n",
       "<table border=\"1\" class=\"dataframe\">\n",
       "  <thead>\n",
       "    <tr style=\"text-align: right;\">\n",
       "      <th></th>\n",
       "      <th>first_order_month</th>\n",
       "      <th>source_id</th>\n",
       "      <th>uid</th>\n",
       "      <th>revenue</th>\n",
       "      <th>costs</th>\n",
       "    </tr>\n",
       "  </thead>\n",
       "  <tbody>\n",
       "    <tr>\n",
       "      <th>0</th>\n",
       "      <td>2017-06-01</td>\n",
       "      <td>1</td>\n",
       "      <td>234</td>\n",
       "      <td>6685.42</td>\n",
       "      <td>1125.61</td>\n",
       "    </tr>\n",
       "    <tr>\n",
       "      <th>1</th>\n",
       "      <td>2017-06-01</td>\n",
       "      <td>2</td>\n",
       "      <td>276</td>\n",
       "      <td>7347.56</td>\n",
       "      <td>2427.38</td>\n",
       "    </tr>\n",
       "    <tr>\n",
       "      <th>2</th>\n",
       "      <td>2017-06-01</td>\n",
       "      <td>3</td>\n",
       "      <td>601</td>\n",
       "      <td>3394.47</td>\n",
       "      <td>7731.65</td>\n",
       "    </tr>\n",
       "    <tr>\n",
       "      <th>3</th>\n",
       "      <td>2017-06-01</td>\n",
       "      <td>4</td>\n",
       "      <td>402</td>\n",
       "      <td>3021.06</td>\n",
       "      <td>3514.80</td>\n",
       "    </tr>\n",
       "    <tr>\n",
       "      <th>4</th>\n",
       "      <td>2017-06-01</td>\n",
       "      <td>5</td>\n",
       "      <td>395</td>\n",
       "      <td>3682.72</td>\n",
       "      <td>2616.12</td>\n",
       "    </tr>\n",
       "    <tr>\n",
       "      <th>...</th>\n",
       "      <td>...</td>\n",
       "      <td>...</td>\n",
       "      <td>...</td>\n",
       "      <td>...</td>\n",
       "      <td>...</td>\n",
       "    </tr>\n",
       "    <tr>\n",
       "      <th>79</th>\n",
       "      <td>2018-05-01</td>\n",
       "      <td>3</td>\n",
       "      <td>698</td>\n",
       "      <td>2666.84</td>\n",
       "      <td>9411.42</td>\n",
       "    </tr>\n",
       "    <tr>\n",
       "      <th>80</th>\n",
       "      <td>2018-05-01</td>\n",
       "      <td>4</td>\n",
       "      <td>691</td>\n",
       "      <td>3362.61</td>\n",
       "      <td>4214.21</td>\n",
       "    </tr>\n",
       "    <tr>\n",
       "      <th>81</th>\n",
       "      <td>2018-05-01</td>\n",
       "      <td>5</td>\n",
       "      <td>505</td>\n",
       "      <td>2043.95</td>\n",
       "      <td>3669.56</td>\n",
       "    </tr>\n",
       "    <tr>\n",
       "      <th>82</th>\n",
       "      <td>2018-05-01</td>\n",
       "      <td>9</td>\n",
       "      <td>47</td>\n",
       "      <td>179.71</td>\n",
       "      <td>362.17</td>\n",
       "    </tr>\n",
       "    <tr>\n",
       "      <th>83</th>\n",
       "      <td>2018-05-01</td>\n",
       "      <td>10</td>\n",
       "      <td>115</td>\n",
       "      <td>448.32</td>\n",
       "      <td>409.86</td>\n",
       "    </tr>\n",
       "  </tbody>\n",
       "</table>\n",
       "<p>84 rows × 5 columns</p>\n",
       "</div>"
      ],
      "text/plain": [
       "   first_order_month  source_id  uid  revenue    costs\n",
       "0         2017-06-01          1  234  6685.42  1125.61\n",
       "1         2017-06-01          2  276  7347.56  2427.38\n",
       "2         2017-06-01          3  601  3394.47  7731.65\n",
       "3         2017-06-01          4  402  3021.06  3514.80\n",
       "4         2017-06-01          5  395  3682.72  2616.12\n",
       "..               ...        ...  ...      ...      ...\n",
       "79        2018-05-01          3  698  2666.84  9411.42\n",
       "80        2018-05-01          4  691  3362.61  4214.21\n",
       "81        2018-05-01          5  505  2043.95  3669.56\n",
       "82        2018-05-01          9   47   179.71   362.17\n",
       "83        2018-05-01         10  115   448.32   409.86\n",
       "\n",
       "[84 rows x 5 columns]"
      ]
     },
     "execution_count": 180,
     "metadata": {},
     "output_type": "execute_result"
    }
   ],
   "source": [
    "output"
   ]
  },
  {
   "cell_type": "code",
   "execution_count": 181,
   "metadata": {},
   "outputs": [
    {
     "data": {
      "text/plain": [
       "329131.61999999994"
      ]
     },
     "execution_count": 181,
     "metadata": {},
     "output_type": "execute_result"
    }
   ],
   "source": [
    "output['costs'].sum()"
   ]
  },
  {
   "cell_type": "code",
   "execution_count": 182,
   "metadata": {},
   "outputs": [],
   "source": [
    "# расчитаем метрики для каждого рек источника предварительно выполнив группировку\n",
    "source=output.groupby('source_id').agg({'uid':'sum','revenue':'sum','costs':'sum'}).reset_index()"
   ]
  },
  {
   "cell_type": "code",
   "execution_count": 183,
   "metadata": {},
   "outputs": [
    {
     "data": {
      "text/html": [
       "<div>\n",
       "<style scoped>\n",
       "    .dataframe tbody tr th:only-of-type {\n",
       "        vertical-align: middle;\n",
       "    }\n",
       "\n",
       "    .dataframe tbody tr th {\n",
       "        vertical-align: top;\n",
       "    }\n",
       "\n",
       "    .dataframe thead th {\n",
       "        text-align: right;\n",
       "    }\n",
       "</style>\n",
       "<table border=\"1\" class=\"dataframe\">\n",
       "  <thead>\n",
       "    <tr style=\"text-align: right;\">\n",
       "      <th></th>\n",
       "      <th>source_id</th>\n",
       "      <th>uid</th>\n",
       "      <th>revenue</th>\n",
       "      <th>costs</th>\n",
       "    </tr>\n",
       "  </thead>\n",
       "  <tbody>\n",
       "    <tr>\n",
       "      <th>0</th>\n",
       "      <td>1</td>\n",
       "      <td>3988</td>\n",
       "      <td>39550.82</td>\n",
       "      <td>20833.27</td>\n",
       "    </tr>\n",
       "    <tr>\n",
       "      <th>1</th>\n",
       "      <td>2</td>\n",
       "      <td>4209</td>\n",
       "      <td>57063.29</td>\n",
       "      <td>42806.04</td>\n",
       "    </tr>\n",
       "    <tr>\n",
       "      <th>2</th>\n",
       "      <td>3</td>\n",
       "      <td>8878</td>\n",
       "      <td>44044.67</td>\n",
       "      <td>141321.63</td>\n",
       "    </tr>\n",
       "    <tr>\n",
       "      <th>3</th>\n",
       "      <td>4</td>\n",
       "      <td>9474</td>\n",
       "      <td>52257.87</td>\n",
       "      <td>61073.60</td>\n",
       "    </tr>\n",
       "    <tr>\n",
       "      <th>4</th>\n",
       "      <td>5</td>\n",
       "      <td>6757</td>\n",
       "      <td>53587.12</td>\n",
       "      <td>51757.10</td>\n",
       "    </tr>\n",
       "    <tr>\n",
       "      <th>5</th>\n",
       "      <td>9</td>\n",
       "      <td>998</td>\n",
       "      <td>4803.32</td>\n",
       "      <td>5517.49</td>\n",
       "    </tr>\n",
       "    <tr>\n",
       "      <th>6</th>\n",
       "      <td>10</td>\n",
       "      <td>1249</td>\n",
       "      <td>4411.50</td>\n",
       "      <td>5822.49</td>\n",
       "    </tr>\n",
       "  </tbody>\n",
       "</table>\n",
       "</div>"
      ],
      "text/plain": [
       "   source_id   uid   revenue      costs\n",
       "0          1  3988  39550.82   20833.27\n",
       "1          2  4209  57063.29   42806.04\n",
       "2          3  8878  44044.67  141321.63\n",
       "3          4  9474  52257.87   61073.60\n",
       "4          5  6757  53587.12   51757.10\n",
       "5          9   998   4803.32    5517.49\n",
       "6         10  1249   4411.50    5822.49"
      ]
     },
     "execution_count": 183,
     "metadata": {},
     "output_type": "execute_result"
    }
   ],
   "source": [
    "source"
   ]
  },
  {
   "cell_type": "code",
   "execution_count": 184,
   "metadata": {},
   "outputs": [],
   "source": [
    "# расчитаем cac и ltv\n",
    "source['cac']=source['costs']/source['uid']\n",
    "source['ltv']=source['revenue']/source['uid']\n",
    "source['romi']=source['ltv']/source['cac']"
   ]
  },
  {
   "cell_type": "code",
   "execution_count": 185,
   "metadata": {},
   "outputs": [
    {
     "data": {
      "text/html": [
       "<div>\n",
       "<style scoped>\n",
       "    .dataframe tbody tr th:only-of-type {\n",
       "        vertical-align: middle;\n",
       "    }\n",
       "\n",
       "    .dataframe tbody tr th {\n",
       "        vertical-align: top;\n",
       "    }\n",
       "\n",
       "    .dataframe thead th {\n",
       "        text-align: right;\n",
       "    }\n",
       "</style>\n",
       "<table border=\"1\" class=\"dataframe\">\n",
       "  <thead>\n",
       "    <tr style=\"text-align: right;\">\n",
       "      <th></th>\n",
       "      <th>source_id</th>\n",
       "      <th>uid</th>\n",
       "      <th>revenue</th>\n",
       "      <th>costs</th>\n",
       "      <th>cac</th>\n",
       "      <th>ltv</th>\n",
       "      <th>romi</th>\n",
       "    </tr>\n",
       "  </thead>\n",
       "  <tbody>\n",
       "    <tr>\n",
       "      <th>0</th>\n",
       "      <td>1</td>\n",
       "      <td>3988</td>\n",
       "      <td>39550.82</td>\n",
       "      <td>20833.27</td>\n",
       "      <td>5.223989</td>\n",
       "      <td>9.917457</td>\n",
       "      <td>1.898445</td>\n",
       "    </tr>\n",
       "    <tr>\n",
       "      <th>1</th>\n",
       "      <td>2</td>\n",
       "      <td>4209</td>\n",
       "      <td>57063.29</td>\n",
       "      <td>42806.04</td>\n",
       "      <td>10.170121</td>\n",
       "      <td>13.557446</td>\n",
       "      <td>1.333066</td>\n",
       "    </tr>\n",
       "    <tr>\n",
       "      <th>2</th>\n",
       "      <td>3</td>\n",
       "      <td>8878</td>\n",
       "      <td>44044.67</td>\n",
       "      <td>141321.63</td>\n",
       "      <td>15.918183</td>\n",
       "      <td>4.961103</td>\n",
       "      <td>0.311663</td>\n",
       "    </tr>\n",
       "    <tr>\n",
       "      <th>3</th>\n",
       "      <td>4</td>\n",
       "      <td>9474</td>\n",
       "      <td>52257.87</td>\n",
       "      <td>61073.60</td>\n",
       "      <td>6.446443</td>\n",
       "      <td>5.515925</td>\n",
       "      <td>0.855654</td>\n",
       "    </tr>\n",
       "    <tr>\n",
       "      <th>4</th>\n",
       "      <td>5</td>\n",
       "      <td>6757</td>\n",
       "      <td>53587.12</td>\n",
       "      <td>51757.10</td>\n",
       "      <td>7.659775</td>\n",
       "      <td>7.930608</td>\n",
       "      <td>1.035358</td>\n",
       "    </tr>\n",
       "    <tr>\n",
       "      <th>5</th>\n",
       "      <td>9</td>\n",
       "      <td>998</td>\n",
       "      <td>4803.32</td>\n",
       "      <td>5517.49</td>\n",
       "      <td>5.528547</td>\n",
       "      <td>4.812946</td>\n",
       "      <td>0.870563</td>\n",
       "    </tr>\n",
       "    <tr>\n",
       "      <th>6</th>\n",
       "      <td>10</td>\n",
       "      <td>1249</td>\n",
       "      <td>4411.50</td>\n",
       "      <td>5822.49</td>\n",
       "      <td>4.661721</td>\n",
       "      <td>3.532026</td>\n",
       "      <td>0.757666</td>\n",
       "    </tr>\n",
       "  </tbody>\n",
       "</table>\n",
       "</div>"
      ],
      "text/plain": [
       "   source_id   uid   revenue      costs        cac        ltv      romi\n",
       "0          1  3988  39550.82   20833.27   5.223989   9.917457  1.898445\n",
       "1          2  4209  57063.29   42806.04  10.170121  13.557446  1.333066\n",
       "2          3  8878  44044.67  141321.63  15.918183   4.961103  0.311663\n",
       "3          4  9474  52257.87   61073.60   6.446443   5.515925  0.855654\n",
       "4          5  6757  53587.12   51757.10   7.659775   7.930608  1.035358\n",
       "5          9   998   4803.32    5517.49   5.528547   4.812946  0.870563\n",
       "6         10  1249   4411.50    5822.49   4.661721   3.532026  0.757666"
      ]
     },
     "execution_count": 185,
     "metadata": {},
     "output_type": "execute_result"
    }
   ],
   "source": [
    "source"
   ]
  },
  {
   "cell_type": "markdown",
   "metadata": {},
   "source": [
    "Больше всех привлек аудиторию источник №4,но данный источник не оккупился. Самый дорогой источник - №3: да он привлек 8878 пользователей, но данная аутитория либо не платежеспособна, либо не хочет платить. От данного источника стоит отказаться. Больше всех денег принесла аудитория от 2 рек источника (13.5 руб с пользователя); хоть данный рек источник имеет высокую стоимость - все равно оккупается. Рек источник №9 привлек меньше всего аудитории - и не оккупился, от него стоит отказаться. Рек источник №1 оккупился (romi 1.89) - привлек небольшую аудиторию, но данная аудитория готова платить.\n",
    "Стоит однозначно отказываться от таких рекламных источников как №3, №9,№10. Привлекательными рек источниками являются : №1, №2, №5. От рек источника №4 тоже не стоит отказываться (хотя и не оккупился, но привлек большую аудиторию) - возможно на данную когорту стимулировать акциями, спец предложениями."
   ]
  },
  {
   "cell_type": "code",
   "execution_count": 186,
   "metadata": {},
   "outputs": [
    {
     "data": {
      "text/plain": [
       "Text(0.5, 1.0, 'Аудитория разных источников')"
      ]
     },
     "execution_count": 186,
     "metadata": {},
     "output_type": "execute_result"
    },
    {
     "data": {
      "image/png": "[encoded data removed]",
      "text/plain": [
       "<Figure size 432x288 with 1 Axes>"
      ]
     },
     "metadata": {},
     "output_type": "display_data"
    }
   ],
   "source": [
    "source.groupby('source_id')['uid'].sum().sort_values().plot(kind='bar',grid=True,legend=True)\n",
    "plt.xlabel('Рекламные источники')\n",
    "plt.ylabel('Количество посетителей') \n",
    "plt.title('Аудитория разных источников')"
   ]
  },
  {
   "cell_type": "code",
   "execution_count": 187,
   "metadata": {},
   "outputs": [
    {
     "data": {
      "text/plain": [
       "Text(0.5, 1.0, 'Оккупаемость разных источников')"
      ]
     },
     "execution_count": 187,
     "metadata": {},
     "output_type": "execute_result"
    },
    {
     "data": {
      "image/png": "[encoded data removed]",
      "text/plain": [
       "<Figure size 432x288 with 1 Axes>"
      ]
     },
     "metadata": {},
     "output_type": "display_data"
    }
   ],
   "source": [
    "source.groupby('source_id')['romi'].sum().sort_values().plot(kind='bar',grid=True,legend=True)\n",
    "plt.xlabel('Рекламные источники')\n",
    "plt.ylabel('ROMI') \n",
    "plt.title('Оккупаемость разных источников')"
   ]
  },
  {
   "cell_type": "markdown",
   "metadata": {},
   "source": [
    "### CAC, LTV и ROMI в динамике"
   ]
  },
  {
   "cell_type": "code",
   "execution_count": 188,
   "metadata": {},
   "outputs": [],
   "source": [
    "# посмотрим как меняются показатели во времени\n",
    "time_roi=output.groupby('first_order_month').agg({'revenue': 'sum','uid':'sum','costs':'sum'}).reset_index()"
   ]
  },
  {
   "cell_type": "code",
   "execution_count": 189,
   "metadata": {},
   "outputs": [
    {
     "data": {
      "text/html": [
       "<div>\n",
       "<style scoped>\n",
       "    .dataframe tbody tr th:only-of-type {\n",
       "        vertical-align: middle;\n",
       "    }\n",
       "\n",
       "    .dataframe tbody tr th {\n",
       "        vertical-align: top;\n",
       "    }\n",
       "\n",
       "    .dataframe thead th {\n",
       "        text-align: right;\n",
       "    }\n",
       "</style>\n",
       "<table border=\"1\" class=\"dataframe\">\n",
       "  <thead>\n",
       "    <tr style=\"text-align: right;\">\n",
       "      <th></th>\n",
       "      <th>first_order_month</th>\n",
       "      <th>revenue</th>\n",
       "      <th>uid</th>\n",
       "      <th>costs</th>\n",
       "    </tr>\n",
       "  </thead>\n",
       "  <tbody>\n",
       "    <tr>\n",
       "      <th>0</th>\n",
       "      <td>2017-06-01</td>\n",
       "      <td>24699.18</td>\n",
       "      <td>2070</td>\n",
       "      <td>18015.00</td>\n",
       "    </tr>\n",
       "    <tr>\n",
       "      <th>1</th>\n",
       "      <td>2017-07-01</td>\n",
       "      <td>16472.21</td>\n",
       "      <td>1932</td>\n",
       "      <td>18240.59</td>\n",
       "    </tr>\n",
       "    <tr>\n",
       "      <th>2</th>\n",
       "      <td>2017-08-01</td>\n",
       "      <td>11559.01</td>\n",
       "      <td>1339</td>\n",
       "      <td>14790.54</td>\n",
       "    </tr>\n",
       "    <tr>\n",
       "      <th>3</th>\n",
       "      <td>2017-09-01</td>\n",
       "      <td>36187.78</td>\n",
       "      <td>2529</td>\n",
       "      <td>24368.91</td>\n",
       "    </tr>\n",
       "    <tr>\n",
       "      <th>4</th>\n",
       "      <td>2017-10-01</td>\n",
       "      <td>28778.73</td>\n",
       "      <td>4315</td>\n",
       "      <td>36322.88</td>\n",
       "    </tr>\n",
       "    <tr>\n",
       "      <th>5</th>\n",
       "      <td>2017-11-01</td>\n",
       "      <td>27699.75</td>\n",
       "      <td>4049</td>\n",
       "      <td>37907.88</td>\n",
       "    </tr>\n",
       "    <tr>\n",
       "      <th>6</th>\n",
       "      <td>2017-12-01</td>\n",
       "      <td>33289.89</td>\n",
       "      <td>4248</td>\n",
       "      <td>38315.35</td>\n",
       "    </tr>\n",
       "    <tr>\n",
       "      <th>7</th>\n",
       "      <td>2018-01-01</td>\n",
       "      <td>16238.49</td>\n",
       "      <td>3232</td>\n",
       "      <td>33518.52</td>\n",
       "    </tr>\n",
       "    <tr>\n",
       "      <th>8</th>\n",
       "      <td>2018-02-01</td>\n",
       "      <td>16237.14</td>\n",
       "      <td>3505</td>\n",
       "      <td>32723.03</td>\n",
       "    </tr>\n",
       "    <tr>\n",
       "      <th>9</th>\n",
       "      <td>2018-03-01</td>\n",
       "      <td>19733.08</td>\n",
       "      <td>3354</td>\n",
       "      <td>30415.27</td>\n",
       "    </tr>\n",
       "    <tr>\n",
       "      <th>10</th>\n",
       "      <td>2018-04-01</td>\n",
       "      <td>11412.83</td>\n",
       "      <td>2150</td>\n",
       "      <td>22289.38</td>\n",
       "    </tr>\n",
       "    <tr>\n",
       "      <th>11</th>\n",
       "      <td>2018-05-01</td>\n",
       "      <td>13410.50</td>\n",
       "      <td>2830</td>\n",
       "      <td>22224.27</td>\n",
       "    </tr>\n",
       "  </tbody>\n",
       "</table>\n",
       "</div>"
      ],
      "text/plain": [
       "   first_order_month   revenue   uid     costs\n",
       "0         2017-06-01  24699.18  2070  18015.00\n",
       "1         2017-07-01  16472.21  1932  18240.59\n",
       "2         2017-08-01  11559.01  1339  14790.54\n",
       "3         2017-09-01  36187.78  2529  24368.91\n",
       "4         2017-10-01  28778.73  4315  36322.88\n",
       "5         2017-11-01  27699.75  4049  37907.88\n",
       "6         2017-12-01  33289.89  4248  38315.35\n",
       "7         2018-01-01  16238.49  3232  33518.52\n",
       "8         2018-02-01  16237.14  3505  32723.03\n",
       "9         2018-03-01  19733.08  3354  30415.27\n",
       "10        2018-04-01  11412.83  2150  22289.38\n",
       "11        2018-05-01  13410.50  2830  22224.27"
      ]
     },
     "execution_count": 189,
     "metadata": {},
     "output_type": "execute_result"
    }
   ],
   "source": [
    "time_roi"
   ]
  },
  {
   "cell_type": "code",
   "execution_count": 190,
   "metadata": {},
   "outputs": [],
   "source": [
    "# расчитаем метрики\n",
    "time_roi['cac']=time_roi['costs']/time_roi['uid']\n",
    "time_roi['ltv']=time_roi['revenue']/time_roi['uid']\n",
    "time_roi['romi']=time_roi['ltv']/time_roi['cac']"
   ]
  },
  {
   "cell_type": "code",
   "execution_count": 191,
   "metadata": {},
   "outputs": [
    {
     "data": {
      "text/html": [
       "<div>\n",
       "<style scoped>\n",
       "    .dataframe tbody tr th:only-of-type {\n",
       "        vertical-align: middle;\n",
       "    }\n",
       "\n",
       "    .dataframe tbody tr th {\n",
       "        vertical-align: top;\n",
       "    }\n",
       "\n",
       "    .dataframe thead th {\n",
       "        text-align: right;\n",
       "    }\n",
       "</style>\n",
       "<table border=\"1\" class=\"dataframe\">\n",
       "  <thead>\n",
       "    <tr style=\"text-align: right;\">\n",
       "      <th></th>\n",
       "      <th>first_order_month</th>\n",
       "      <th>revenue</th>\n",
       "      <th>uid</th>\n",
       "      <th>costs</th>\n",
       "      <th>cac</th>\n",
       "      <th>ltv</th>\n",
       "      <th>romi</th>\n",
       "    </tr>\n",
       "  </thead>\n",
       "  <tbody>\n",
       "    <tr>\n",
       "      <th>0</th>\n",
       "      <td>2017-06-01</td>\n",
       "      <td>24699.18</td>\n",
       "      <td>2070</td>\n",
       "      <td>18015.00</td>\n",
       "      <td>8.702899</td>\n",
       "      <td>11.931971</td>\n",
       "      <td>1.371034</td>\n",
       "    </tr>\n",
       "    <tr>\n",
       "      <th>1</th>\n",
       "      <td>2017-07-01</td>\n",
       "      <td>16472.21</td>\n",
       "      <td>1932</td>\n",
       "      <td>18240.59</td>\n",
       "      <td>9.441299</td>\n",
       "      <td>8.525989</td>\n",
       "      <td>0.903052</td>\n",
       "    </tr>\n",
       "    <tr>\n",
       "      <th>2</th>\n",
       "      <td>2017-08-01</td>\n",
       "      <td>11559.01</td>\n",
       "      <td>1339</td>\n",
       "      <td>14790.54</td>\n",
       "      <td>11.045960</td>\n",
       "      <td>8.632569</td>\n",
       "      <td>0.781514</td>\n",
       "    </tr>\n",
       "    <tr>\n",
       "      <th>3</th>\n",
       "      <td>2017-09-01</td>\n",
       "      <td>36187.78</td>\n",
       "      <td>2529</td>\n",
       "      <td>24368.91</td>\n",
       "      <td>9.635789</td>\n",
       "      <td>14.309126</td>\n",
       "      <td>1.484998</td>\n",
       "    </tr>\n",
       "    <tr>\n",
       "      <th>4</th>\n",
       "      <td>2017-10-01</td>\n",
       "      <td>28778.73</td>\n",
       "      <td>4315</td>\n",
       "      <td>36322.88</td>\n",
       "      <td>8.417817</td>\n",
       "      <td>6.669462</td>\n",
       "      <td>0.792303</td>\n",
       "    </tr>\n",
       "    <tr>\n",
       "      <th>5</th>\n",
       "      <td>2017-11-01</td>\n",
       "      <td>27699.75</td>\n",
       "      <td>4049</td>\n",
       "      <td>37907.88</td>\n",
       "      <td>9.362282</td>\n",
       "      <td>6.841134</td>\n",
       "      <td>0.730712</td>\n",
       "    </tr>\n",
       "    <tr>\n",
       "      <th>6</th>\n",
       "      <td>2017-12-01</td>\n",
       "      <td>33289.89</td>\n",
       "      <td>4248</td>\n",
       "      <td>38315.35</td>\n",
       "      <td>9.019621</td>\n",
       "      <td>7.836603</td>\n",
       "      <td>0.868840</td>\n",
       "    </tr>\n",
       "    <tr>\n",
       "      <th>7</th>\n",
       "      <td>2018-01-01</td>\n",
       "      <td>16238.49</td>\n",
       "      <td>3232</td>\n",
       "      <td>33518.52</td>\n",
       "      <td>10.370829</td>\n",
       "      <td>5.024285</td>\n",
       "      <td>0.484463</td>\n",
       "    </tr>\n",
       "    <tr>\n",
       "      <th>8</th>\n",
       "      <td>2018-02-01</td>\n",
       "      <td>16237.14</td>\n",
       "      <td>3505</td>\n",
       "      <td>32723.03</td>\n",
       "      <td>9.336100</td>\n",
       "      <td>4.632565</td>\n",
       "      <td>0.496199</td>\n",
       "    </tr>\n",
       "    <tr>\n",
       "      <th>9</th>\n",
       "      <td>2018-03-01</td>\n",
       "      <td>19733.08</td>\n",
       "      <td>3354</td>\n",
       "      <td>30415.27</td>\n",
       "      <td>9.068357</td>\n",
       "      <td>5.883447</td>\n",
       "      <td>0.648789</td>\n",
       "    </tr>\n",
       "    <tr>\n",
       "      <th>10</th>\n",
       "      <td>2018-04-01</td>\n",
       "      <td>11412.83</td>\n",
       "      <td>2150</td>\n",
       "      <td>22289.38</td>\n",
       "      <td>10.367153</td>\n",
       "      <td>5.308293</td>\n",
       "      <td>0.512030</td>\n",
       "    </tr>\n",
       "    <tr>\n",
       "      <th>11</th>\n",
       "      <td>2018-05-01</td>\n",
       "      <td>13410.50</td>\n",
       "      <td>2830</td>\n",
       "      <td>22224.27</td>\n",
       "      <td>7.853099</td>\n",
       "      <td>4.738693</td>\n",
       "      <td>0.603417</td>\n",
       "    </tr>\n",
       "  </tbody>\n",
       "</table>\n",
       "</div>"
      ],
      "text/plain": [
       "   first_order_month   revenue   uid     costs        cac        ltv      romi\n",
       "0         2017-06-01  24699.18  2070  18015.00   8.702899  11.931971  1.371034\n",
       "1         2017-07-01  16472.21  1932  18240.59   9.441299   8.525989  0.903052\n",
       "2         2017-08-01  11559.01  1339  14790.54  11.045960   8.632569  0.781514\n",
       "3         2017-09-01  36187.78  2529  24368.91   9.635789  14.309126  1.484998\n",
       "4         2017-10-01  28778.73  4315  36322.88   8.417817   6.669462  0.792303\n",
       "5         2017-11-01  27699.75  4049  37907.88   9.362282   6.841134  0.730712\n",
       "6         2017-12-01  33289.89  4248  38315.35   9.019621   7.836603  0.868840\n",
       "7         2018-01-01  16238.49  3232  33518.52  10.370829   5.024285  0.484463\n",
       "8         2018-02-01  16237.14  3505  32723.03   9.336100   4.632565  0.496199\n",
       "9         2018-03-01  19733.08  3354  30415.27   9.068357   5.883447  0.648789\n",
       "10        2018-04-01  11412.83  2150  22289.38  10.367153   5.308293  0.512030\n",
       "11        2018-05-01  13410.50  2830  22224.27   7.853099   4.738693  0.603417"
      ]
     },
     "execution_count": 191,
     "metadata": {},
     "output_type": "execute_result"
    }
   ],
   "source": [
    "time_roi"
   ]
  },
  {
   "cell_type": "code",
   "execution_count": 192,
   "metadata": {},
   "outputs": [
    {
     "data": {
      "text/plain": [
       "Text(0.5, 1.0, 'Динамика затрат и выручки на каждого посетителя с июня 2017 по июнь 2018гг')"
      ]
     },
     "execution_count": 192,
     "metadata": {},
     "output_type": "execute_result"
    },
    {
     "data": {
      "image/png": "[encoded data removed]",
      "text/plain": [
       "<Figure size 1152x648 with 1 Axes>"
      ]
     },
     "metadata": {},
     "output_type": "display_data"
    }
   ],
   "source": [
    "ax=time_roi.groupby('first_order_month')['cac'].sum().plot(figsize=(16,9),grid=True,legend=True)\n",
    "time_roi.groupby('first_order_month')['ltv'].sum().plot(figsize=(16,9),grid=True,ax=ax,legend=True)\n",
    "plt.xlabel('Период, мес') \n",
    "plt.ylabel('Затраты / выручка, руб') \n",
    "plt.title('Динамика затрат и выручки на каждого посетителя с июня 2017 по июнь 2018гг')"
   ]
  },
  {
   "cell_type": "markdown",
   "metadata": {},
   "source": [
    "Общие и средние затраты отражают после сентября преобладание затрат над выручкой. Также после сентября снижается количество покупок. Пора проводить стимулирующие акции, делать рассылки.\n",
    "Посмотрим метрики с разных устройств с которых заходили пользователи"
   ]
  },
  {
   "cell_type": "markdown",
   "metadata": {},
   "source": [
    "##### DESKTOP"
   ]
  },
  {
   "cell_type": "code",
   "execution_count": 193,
   "metadata": {},
   "outputs": [],
   "source": [
    "desktop=report[report['device']=='desktop']"
   ]
  },
  {
   "cell_type": "code",
   "execution_count": 194,
   "metadata": {},
   "outputs": [],
   "source": [
    "desktop_output=desktop.merge(costs,on=['first_order_month','source_id'])"
   ]
  },
  {
   "cell_type": "code",
   "execution_count": 195,
   "metadata": {},
   "outputs": [],
   "source": [
    "desktop_time=desktop_output.groupby('first_order_month').agg({'revenue': 'sum','uid':'sum','costs':'sum'}).reset_index()"
   ]
  },
  {
   "cell_type": "code",
   "execution_count": 196,
   "metadata": {},
   "outputs": [],
   "source": [
    "# расчитаем метрики\n",
    "desktop_time['cac']=desktop_time['costs']/desktop_time['uid']\n",
    "desktop_time['ltv']=desktop_time['revenue']/desktop_time['uid']\n",
    "desktop_time['romi']=desktop_time['ltv']/desktop_time['cac']"
   ]
  },
  {
   "cell_type": "code",
   "execution_count": 197,
   "metadata": {},
   "outputs": [
    {
     "data": {
      "text/html": [
       "<div>\n",
       "<style scoped>\n",
       "    .dataframe tbody tr th:only-of-type {\n",
       "        vertical-align: middle;\n",
       "    }\n",
       "\n",
       "    .dataframe tbody tr th {\n",
       "        vertical-align: top;\n",
       "    }\n",
       "\n",
       "    .dataframe thead th {\n",
       "        text-align: right;\n",
       "    }\n",
       "</style>\n",
       "<table border=\"1\" class=\"dataframe\">\n",
       "  <thead>\n",
       "    <tr style=\"text-align: right;\">\n",
       "      <th></th>\n",
       "      <th>first_order_month</th>\n",
       "      <th>revenue</th>\n",
       "      <th>uid</th>\n",
       "      <th>costs</th>\n",
       "      <th>cac</th>\n",
       "      <th>ltv</th>\n",
       "      <th>romi</th>\n",
       "    </tr>\n",
       "  </thead>\n",
       "  <tbody>\n",
       "    <tr>\n",
       "      <th>0</th>\n",
       "      <td>2017-06-01</td>\n",
       "      <td>22724.00</td>\n",
       "      <td>1739</td>\n",
       "      <td>18015.00</td>\n",
       "      <td>10.359402</td>\n",
       "      <td>13.067280</td>\n",
       "      <td>1.261393</td>\n",
       "    </tr>\n",
       "    <tr>\n",
       "      <th>1</th>\n",
       "      <td>2017-07-01</td>\n",
       "      <td>13579.26</td>\n",
       "      <td>1540</td>\n",
       "      <td>18240.59</td>\n",
       "      <td>11.844539</td>\n",
       "      <td>8.817701</td>\n",
       "      <td>0.744453</td>\n",
       "    </tr>\n",
       "    <tr>\n",
       "      <th>2</th>\n",
       "      <td>2017-08-01</td>\n",
       "      <td>9920.18</td>\n",
       "      <td>1098</td>\n",
       "      <td>14790.54</td>\n",
       "      <td>13.470437</td>\n",
       "      <td>9.034772</td>\n",
       "      <td>0.670711</td>\n",
       "    </tr>\n",
       "    <tr>\n",
       "      <th>3</th>\n",
       "      <td>2017-09-01</td>\n",
       "      <td>31008.00</td>\n",
       "      <td>2047</td>\n",
       "      <td>24368.91</td>\n",
       "      <td>11.904695</td>\n",
       "      <td>15.148021</td>\n",
       "      <td>1.272441</td>\n",
       "    </tr>\n",
       "    <tr>\n",
       "      <th>4</th>\n",
       "      <td>2017-10-01</td>\n",
       "      <td>23381.18</td>\n",
       "      <td>3542</td>\n",
       "      <td>36322.88</td>\n",
       "      <td>10.254907</td>\n",
       "      <td>6.601124</td>\n",
       "      <td>0.643704</td>\n",
       "    </tr>\n",
       "    <tr>\n",
       "      <th>5</th>\n",
       "      <td>2017-11-01</td>\n",
       "      <td>21537.98</td>\n",
       "      <td>3316</td>\n",
       "      <td>37907.88</td>\n",
       "      <td>11.431809</td>\n",
       "      <td>6.495169</td>\n",
       "      <td>0.568166</td>\n",
       "    </tr>\n",
       "    <tr>\n",
       "      <th>6</th>\n",
       "      <td>2017-12-01</td>\n",
       "      <td>29320.73</td>\n",
       "      <td>3423</td>\n",
       "      <td>38315.35</td>\n",
       "      <td>11.193500</td>\n",
       "      <td>8.565799</td>\n",
       "      <td>0.765248</td>\n",
       "    </tr>\n",
       "    <tr>\n",
       "      <th>7</th>\n",
       "      <td>2018-01-01</td>\n",
       "      <td>13337.35</td>\n",
       "      <td>2579</td>\n",
       "      <td>33518.52</td>\n",
       "      <td>12.996712</td>\n",
       "      <td>5.171520</td>\n",
       "      <td>0.397910</td>\n",
       "    </tr>\n",
       "    <tr>\n",
       "      <th>8</th>\n",
       "      <td>2018-02-01</td>\n",
       "      <td>12817.97</td>\n",
       "      <td>2735</td>\n",
       "      <td>32723.03</td>\n",
       "      <td>11.964545</td>\n",
       "      <td>4.686644</td>\n",
       "      <td>0.391711</td>\n",
       "    </tr>\n",
       "    <tr>\n",
       "      <th>9</th>\n",
       "      <td>2018-03-01</td>\n",
       "      <td>14776.14</td>\n",
       "      <td>2669</td>\n",
       "      <td>30415.27</td>\n",
       "      <td>11.395755</td>\n",
       "      <td>5.536208</td>\n",
       "      <td>0.485813</td>\n",
       "    </tr>\n",
       "    <tr>\n",
       "      <th>10</th>\n",
       "      <td>2018-04-01</td>\n",
       "      <td>9468.97</td>\n",
       "      <td>1753</td>\n",
       "      <td>22289.38</td>\n",
       "      <td>12.714991</td>\n",
       "      <td>5.401580</td>\n",
       "      <td>0.424820</td>\n",
       "    </tr>\n",
       "    <tr>\n",
       "      <th>11</th>\n",
       "      <td>2018-05-01</td>\n",
       "      <td>10806.59</td>\n",
       "      <td>2251</td>\n",
       "      <td>22224.27</td>\n",
       "      <td>9.873065</td>\n",
       "      <td>4.800795</td>\n",
       "      <td>0.486252</td>\n",
       "    </tr>\n",
       "  </tbody>\n",
       "</table>\n",
       "</div>"
      ],
      "text/plain": [
       "   first_order_month   revenue   uid     costs        cac        ltv      romi\n",
       "0         2017-06-01  22724.00  1739  18015.00  10.359402  13.067280  1.261393\n",
       "1         2017-07-01  13579.26  1540  18240.59  11.844539   8.817701  0.744453\n",
       "2         2017-08-01   9920.18  1098  14790.54  13.470437   9.034772  0.670711\n",
       "3         2017-09-01  31008.00  2047  24368.91  11.904695  15.148021  1.272441\n",
       "4         2017-10-01  23381.18  3542  36322.88  10.254907   6.601124  0.643704\n",
       "5         2017-11-01  21537.98  3316  37907.88  11.431809   6.495169  0.568166\n",
       "6         2017-12-01  29320.73  3423  38315.35  11.193500   8.565799  0.765248\n",
       "7         2018-01-01  13337.35  2579  33518.52  12.996712   5.171520  0.397910\n",
       "8         2018-02-01  12817.97  2735  32723.03  11.964545   4.686644  0.391711\n",
       "9         2018-03-01  14776.14  2669  30415.27  11.395755   5.536208  0.485813\n",
       "10        2018-04-01   9468.97  1753  22289.38  12.714991   5.401580  0.424820\n",
       "11        2018-05-01  10806.59  2251  22224.27   9.873065   4.800795  0.486252"
      ]
     },
     "execution_count": 197,
     "metadata": {},
     "output_type": "execute_result"
    }
   ],
   "source": [
    "desktop_time"
   ]
  },
  {
   "cell_type": "code",
   "execution_count": 198,
   "metadata": {},
   "outputs": [],
   "source": [
    "desktop_source=desktop_output.groupby('source_id').agg({'uid':'sum','revenue':'sum','costs':'sum'}).reset_index()"
   ]
  },
  {
   "cell_type": "code",
   "execution_count": 199,
   "metadata": {},
   "outputs": [],
   "source": [
    "# расчитаем метрики\n",
    "desktop_source['cac']=desktop_source['costs']/desktop_source['uid']\n",
    "desktop_source['ltv']=desktop_source['revenue']/desktop_source['uid']\n",
    "desktop_source['romi']=desktop_source['ltv']/desktop_source['cac']"
   ]
  },
  {
   "cell_type": "code",
   "execution_count": 200,
   "metadata": {},
   "outputs": [
    {
     "data": {
      "text/html": [
       "<div>\n",
       "<style scoped>\n",
       "    .dataframe tbody tr th:only-of-type {\n",
       "        vertical-align: middle;\n",
       "    }\n",
       "\n",
       "    .dataframe tbody tr th {\n",
       "        vertical-align: top;\n",
       "    }\n",
       "\n",
       "    .dataframe thead th {\n",
       "        text-align: right;\n",
       "    }\n",
       "</style>\n",
       "<table border=\"1\" class=\"dataframe\">\n",
       "  <thead>\n",
       "    <tr style=\"text-align: right;\">\n",
       "      <th></th>\n",
       "      <th>source_id</th>\n",
       "      <th>uid</th>\n",
       "      <th>revenue</th>\n",
       "      <th>costs</th>\n",
       "      <th>cac</th>\n",
       "      <th>ltv</th>\n",
       "      <th>romi</th>\n",
       "    </tr>\n",
       "  </thead>\n",
       "  <tbody>\n",
       "    <tr>\n",
       "      <th>0</th>\n",
       "      <td>1</td>\n",
       "      <td>3109</td>\n",
       "      <td>32779.61</td>\n",
       "      <td>20833.27</td>\n",
       "      <td>6.700955</td>\n",
       "      <td>10.543458</td>\n",
       "      <td>1.573426</td>\n",
       "    </tr>\n",
       "    <tr>\n",
       "      <th>1</th>\n",
       "      <td>2</td>\n",
       "      <td>3194</td>\n",
       "      <td>48181.62</td>\n",
       "      <td>42806.04</td>\n",
       "      <td>13.402016</td>\n",
       "      <td>15.085041</td>\n",
       "      <td>1.125580</td>\n",
       "    </tr>\n",
       "    <tr>\n",
       "      <th>2</th>\n",
       "      <td>3</td>\n",
       "      <td>7496</td>\n",
       "      <td>37043.88</td>\n",
       "      <td>141321.63</td>\n",
       "      <td>18.852939</td>\n",
       "      <td>4.941820</td>\n",
       "      <td>0.262125</td>\n",
       "    </tr>\n",
       "    <tr>\n",
       "      <th>3</th>\n",
       "      <td>4</td>\n",
       "      <td>7395</td>\n",
       "      <td>40665.46</td>\n",
       "      <td>61073.60</td>\n",
       "      <td>8.258769</td>\n",
       "      <td>5.499048</td>\n",
       "      <td>0.665844</td>\n",
       "    </tr>\n",
       "    <tr>\n",
       "      <th>4</th>\n",
       "      <td>5</td>\n",
       "      <td>5668</td>\n",
       "      <td>46455.87</td>\n",
       "      <td>51757.10</td>\n",
       "      <td>9.131457</td>\n",
       "      <td>8.196166</td>\n",
       "      <td>0.897575</td>\n",
       "    </tr>\n",
       "    <tr>\n",
       "      <th>5</th>\n",
       "      <td>9</td>\n",
       "      <td>824</td>\n",
       "      <td>3916.17</td>\n",
       "      <td>5517.49</td>\n",
       "      <td>6.695983</td>\n",
       "      <td>4.752633</td>\n",
       "      <td>0.709774</td>\n",
       "    </tr>\n",
       "    <tr>\n",
       "      <th>6</th>\n",
       "      <td>10</td>\n",
       "      <td>1006</td>\n",
       "      <td>3635.74</td>\n",
       "      <td>5822.49</td>\n",
       "      <td>5.787763</td>\n",
       "      <td>3.614056</td>\n",
       "      <td>0.624430</td>\n",
       "    </tr>\n",
       "  </tbody>\n",
       "</table>\n",
       "</div>"
      ],
      "text/plain": [
       "   source_id   uid   revenue      costs        cac        ltv      romi\n",
       "0          1  3109  32779.61   20833.27   6.700955  10.543458  1.573426\n",
       "1          2  3194  48181.62   42806.04  13.402016  15.085041  1.125580\n",
       "2          3  7496  37043.88  141321.63  18.852939   4.941820  0.262125\n",
       "3          4  7395  40665.46   61073.60   8.258769   5.499048  0.665844\n",
       "4          5  5668  46455.87   51757.10   9.131457   8.196166  0.897575\n",
       "5          9   824   3916.17    5517.49   6.695983   4.752633  0.709774\n",
       "6         10  1006   3635.74    5822.49   5.787763   3.614056  0.624430"
      ]
     },
     "execution_count": 200,
     "metadata": {},
     "output_type": "execute_result"
    }
   ],
   "source": [
    "desktop_source"
   ]
  },
  {
   "cell_type": "markdown",
   "metadata": {},
   "source": [
    "Анализ показал что в основном пользователи заходят с desktop, соответсвенно метрики по источникам и в динамике будут совпадать с общими. Посмотрим как обстоит с платформой touch"
   ]
  },
  {
   "cell_type": "markdown",
   "metadata": {},
   "source": [
    "##### TOUCH"
   ]
  },
  {
   "cell_type": "code",
   "execution_count": 201,
   "metadata": {},
   "outputs": [],
   "source": [
    "touch=report[report['device']=='touch']"
   ]
  },
  {
   "cell_type": "code",
   "execution_count": 202,
   "metadata": {},
   "outputs": [],
   "source": [
    "touch_output=touch.merge(costs,on=['first_order_month','source_id'])"
   ]
  },
  {
   "cell_type": "code",
   "execution_count": 203,
   "metadata": {},
   "outputs": [],
   "source": [
    "touch_time=touch_output.groupby('first_order_month').agg({'revenue': 'sum','uid':'sum','costs':'sum'}).reset_index()"
   ]
  },
  {
   "cell_type": "code",
   "execution_count": 204,
   "metadata": {},
   "outputs": [],
   "source": [
    "# расчитаем метрики\n",
    "touch_time['cac']=touch_time['costs']/touch_time['uid']\n",
    "touch_time['ltv']=touch_time['revenue']/touch_time['uid']\n",
    "touch_time['romi']=touch_time['ltv']/touch_time['cac']"
   ]
  },
  {
   "cell_type": "code",
   "execution_count": 205,
   "metadata": {},
   "outputs": [
    {
     "data": {
      "text/html": [
       "<div>\n",
       "<style scoped>\n",
       "    .dataframe tbody tr th:only-of-type {\n",
       "        vertical-align: middle;\n",
       "    }\n",
       "\n",
       "    .dataframe tbody tr th {\n",
       "        vertical-align: top;\n",
       "    }\n",
       "\n",
       "    .dataframe thead th {\n",
       "        text-align: right;\n",
       "    }\n",
       "</style>\n",
       "<table border=\"1\" class=\"dataframe\">\n",
       "  <thead>\n",
       "    <tr style=\"text-align: right;\">\n",
       "      <th></th>\n",
       "      <th>first_order_month</th>\n",
       "      <th>revenue</th>\n",
       "      <th>uid</th>\n",
       "      <th>costs</th>\n",
       "      <th>cac</th>\n",
       "      <th>ltv</th>\n",
       "      <th>romi</th>\n",
       "    </tr>\n",
       "  </thead>\n",
       "  <tbody>\n",
       "    <tr>\n",
       "      <th>0</th>\n",
       "      <td>2017-06-01</td>\n",
       "      <td>1975.18</td>\n",
       "      <td>357</td>\n",
       "      <td>18015.00</td>\n",
       "      <td>50.462185</td>\n",
       "      <td>5.532717</td>\n",
       "      <td>0.109641</td>\n",
       "    </tr>\n",
       "    <tr>\n",
       "      <th>1</th>\n",
       "      <td>2017-07-01</td>\n",
       "      <td>2892.95</td>\n",
       "      <td>414</td>\n",
       "      <td>18240.59</td>\n",
       "      <td>44.059396</td>\n",
       "      <td>6.987802</td>\n",
       "      <td>0.158600</td>\n",
       "    </tr>\n",
       "    <tr>\n",
       "      <th>2</th>\n",
       "      <td>2017-08-01</td>\n",
       "      <td>1638.83</td>\n",
       "      <td>251</td>\n",
       "      <td>14790.54</td>\n",
       "      <td>58.926454</td>\n",
       "      <td>6.529203</td>\n",
       "      <td>0.110803</td>\n",
       "    </tr>\n",
       "    <tr>\n",
       "      <th>3</th>\n",
       "      <td>2017-09-01</td>\n",
       "      <td>5179.78</td>\n",
       "      <td>512</td>\n",
       "      <td>24368.91</td>\n",
       "      <td>47.595527</td>\n",
       "      <td>10.116758</td>\n",
       "      <td>0.212557</td>\n",
       "    </tr>\n",
       "    <tr>\n",
       "      <th>4</th>\n",
       "      <td>2017-10-01</td>\n",
       "      <td>5397.55</td>\n",
       "      <td>813</td>\n",
       "      <td>36322.88</td>\n",
       "      <td>44.677589</td>\n",
       "      <td>6.639053</td>\n",
       "      <td>0.148599</td>\n",
       "    </tr>\n",
       "    <tr>\n",
       "      <th>5</th>\n",
       "      <td>2017-11-01</td>\n",
       "      <td>6161.77</td>\n",
       "      <td>781</td>\n",
       "      <td>37907.88</td>\n",
       "      <td>48.537618</td>\n",
       "      <td>7.889590</td>\n",
       "      <td>0.162546</td>\n",
       "    </tr>\n",
       "    <tr>\n",
       "      <th>6</th>\n",
       "      <td>2017-12-01</td>\n",
       "      <td>3969.16</td>\n",
       "      <td>876</td>\n",
       "      <td>38315.35</td>\n",
       "      <td>43.738984</td>\n",
       "      <td>4.531005</td>\n",
       "      <td>0.103592</td>\n",
       "    </tr>\n",
       "    <tr>\n",
       "      <th>7</th>\n",
       "      <td>2018-01-01</td>\n",
       "      <td>2901.14</td>\n",
       "      <td>682</td>\n",
       "      <td>33518.52</td>\n",
       "      <td>49.147390</td>\n",
       "      <td>4.253871</td>\n",
       "      <td>0.086553</td>\n",
       "    </tr>\n",
       "    <tr>\n",
       "      <th>8</th>\n",
       "      <td>2018-02-01</td>\n",
       "      <td>3419.17</td>\n",
       "      <td>810</td>\n",
       "      <td>32723.03</td>\n",
       "      <td>40.398802</td>\n",
       "      <td>4.221198</td>\n",
       "      <td>0.104488</td>\n",
       "    </tr>\n",
       "    <tr>\n",
       "      <th>9</th>\n",
       "      <td>2018-03-01</td>\n",
       "      <td>4956.94</td>\n",
       "      <td>724</td>\n",
       "      <td>30415.27</td>\n",
       "      <td>42.010041</td>\n",
       "      <td>6.846602</td>\n",
       "      <td>0.162975</td>\n",
       "    </tr>\n",
       "    <tr>\n",
       "      <th>10</th>\n",
       "      <td>2018-04-01</td>\n",
       "      <td>1943.86</td>\n",
       "      <td>409</td>\n",
       "      <td>22289.38</td>\n",
       "      <td>54.497262</td>\n",
       "      <td>4.752714</td>\n",
       "      <td>0.087210</td>\n",
       "    </tr>\n",
       "    <tr>\n",
       "      <th>11</th>\n",
       "      <td>2018-05-01</td>\n",
       "      <td>2603.91</td>\n",
       "      <td>604</td>\n",
       "      <td>22224.27</td>\n",
       "      <td>36.795149</td>\n",
       "      <td>4.311109</td>\n",
       "      <td>0.117165</td>\n",
       "    </tr>\n",
       "  </tbody>\n",
       "</table>\n",
       "</div>"
      ],
      "text/plain": [
       "   first_order_month  revenue  uid     costs        cac        ltv      romi\n",
       "0         2017-06-01  1975.18  357  18015.00  50.462185   5.532717  0.109641\n",
       "1         2017-07-01  2892.95  414  18240.59  44.059396   6.987802  0.158600\n",
       "2         2017-08-01  1638.83  251  14790.54  58.926454   6.529203  0.110803\n",
       "3         2017-09-01  5179.78  512  24368.91  47.595527  10.116758  0.212557\n",
       "4         2017-10-01  5397.55  813  36322.88  44.677589   6.639053  0.148599\n",
       "5         2017-11-01  6161.77  781  37907.88  48.537618   7.889590  0.162546\n",
       "6         2017-12-01  3969.16  876  38315.35  43.738984   4.531005  0.103592\n",
       "7         2018-01-01  2901.14  682  33518.52  49.147390   4.253871  0.086553\n",
       "8         2018-02-01  3419.17  810  32723.03  40.398802   4.221198  0.104488\n",
       "9         2018-03-01  4956.94  724  30415.27  42.010041   6.846602  0.162975\n",
       "10        2018-04-01  1943.86  409  22289.38  54.497262   4.752714  0.087210\n",
       "11        2018-05-01  2603.91  604  22224.27  36.795149   4.311109  0.117165"
      ]
     },
     "execution_count": 205,
     "metadata": {},
     "output_type": "execute_result"
    }
   ],
   "source": [
    "touch_time"
   ]
  },
  {
   "cell_type": "code",
   "execution_count": 206,
   "metadata": {},
   "outputs": [],
   "source": [
    "touch_source=touch_output.groupby('source_id').agg({'uid':'sum','revenue':'sum','costs':'sum'}).reset_index()"
   ]
  },
  {
   "cell_type": "code",
   "execution_count": 207,
   "metadata": {},
   "outputs": [],
   "source": [
    "# расчитаем метрики\n",
    "touch_source['cac']=touch_source['costs']/touch_source['uid']\n",
    "touch_source['ltv']=touch_source['revenue']/touch_source['uid']\n",
    "touch_source['romi']=touch_source['ltv']/touch_source['cac']"
   ]
  },
  {
   "cell_type": "code",
   "execution_count": 208,
   "metadata": {},
   "outputs": [
    {
     "data": {
      "text/html": [
       "<div>\n",
       "<style scoped>\n",
       "    .dataframe tbody tr th:only-of-type {\n",
       "        vertical-align: middle;\n",
       "    }\n",
       "\n",
       "    .dataframe tbody tr th {\n",
       "        vertical-align: top;\n",
       "    }\n",
       "\n",
       "    .dataframe thead th {\n",
       "        text-align: right;\n",
       "    }\n",
       "</style>\n",
       "<table border=\"1\" class=\"dataframe\">\n",
       "  <thead>\n",
       "    <tr style=\"text-align: right;\">\n",
       "      <th></th>\n",
       "      <th>source_id</th>\n",
       "      <th>uid</th>\n",
       "      <th>revenue</th>\n",
       "      <th>costs</th>\n",
       "      <th>cac</th>\n",
       "      <th>ltv</th>\n",
       "      <th>romi</th>\n",
       "    </tr>\n",
       "  </thead>\n",
       "  <tbody>\n",
       "    <tr>\n",
       "      <th>0</th>\n",
       "      <td>1</td>\n",
       "      <td>908</td>\n",
       "      <td>6771.21</td>\n",
       "      <td>20833.27</td>\n",
       "      <td>22.944130</td>\n",
       "      <td>7.457280</td>\n",
       "      <td>0.325019</td>\n",
       "    </tr>\n",
       "    <tr>\n",
       "      <th>1</th>\n",
       "      <td>2</td>\n",
       "      <td>1080</td>\n",
       "      <td>8881.67</td>\n",
       "      <td>42806.04</td>\n",
       "      <td>39.635222</td>\n",
       "      <td>8.223769</td>\n",
       "      <td>0.207486</td>\n",
       "    </tr>\n",
       "    <tr>\n",
       "      <th>2</th>\n",
       "      <td>3</td>\n",
       "      <td>1492</td>\n",
       "      <td>7000.79</td>\n",
       "      <td>141321.63</td>\n",
       "      <td>94.719591</td>\n",
       "      <td>4.692218</td>\n",
       "      <td>0.049538</td>\n",
       "    </tr>\n",
       "    <tr>\n",
       "      <th>3</th>\n",
       "      <td>4</td>\n",
       "      <td>2178</td>\n",
       "      <td>11592.41</td>\n",
       "      <td>61073.60</td>\n",
       "      <td>28.041139</td>\n",
       "      <td>5.322502</td>\n",
       "      <td>0.189810</td>\n",
       "    </tr>\n",
       "    <tr>\n",
       "      <th>4</th>\n",
       "      <td>5</td>\n",
       "      <td>1131</td>\n",
       "      <td>7131.25</td>\n",
       "      <td>51757.10</td>\n",
       "      <td>45.762246</td>\n",
       "      <td>6.305261</td>\n",
       "      <td>0.137783</td>\n",
       "    </tr>\n",
       "    <tr>\n",
       "      <th>5</th>\n",
       "      <td>9</td>\n",
       "      <td>187</td>\n",
       "      <td>887.15</td>\n",
       "      <td>5517.49</td>\n",
       "      <td>29.505294</td>\n",
       "      <td>4.744118</td>\n",
       "      <td>0.160789</td>\n",
       "    </tr>\n",
       "    <tr>\n",
       "      <th>6</th>\n",
       "      <td>10</td>\n",
       "      <td>257</td>\n",
       "      <td>775.76</td>\n",
       "      <td>5822.49</td>\n",
       "      <td>22.655603</td>\n",
       "      <td>3.018521</td>\n",
       "      <td>0.133235</td>\n",
       "    </tr>\n",
       "  </tbody>\n",
       "</table>\n",
       "</div>"
      ],
      "text/plain": [
       "   source_id   uid   revenue      costs        cac       ltv      romi\n",
       "0          1   908   6771.21   20833.27  22.944130  7.457280  0.325019\n",
       "1          2  1080   8881.67   42806.04  39.635222  8.223769  0.207486\n",
       "2          3  1492   7000.79  141321.63  94.719591  4.692218  0.049538\n",
       "3          4  2178  11592.41   61073.60  28.041139  5.322502  0.189810\n",
       "4          5  1131   7131.25   51757.10  45.762246  6.305261  0.137783\n",
       "5          9   187    887.15    5517.49  29.505294  4.744118  0.160789\n",
       "6         10   257    775.76    5822.49  22.655603  3.018521  0.133235"
      ]
     },
     "execution_count": 208,
     "metadata": {},
     "output_type": "execute_result"
    }
   ],
   "source": [
    "touch_source"
   ]
  },
  {
   "cell_type": "markdown",
   "metadata": {},
   "source": [
    "Аудитория которая заходит на сайт с touch намного меньше, тех кто заходит с desktop. Соответсвенно средние затраты будут очень высокими и romi очень низким. Сравним ltv двух платформ."
   ]
  },
  {
   "cell_type": "code",
   "execution_count": 209,
   "metadata": {},
   "outputs": [
    {
     "data": {
      "text/plain": [
       "Text(0.5, 1.0, 'Динамика LTV пользователей DESKTOP и TOUCH с июня 2017 по июнь 2018гг')"
      ]
     },
     "execution_count": 209,
     "metadata": {},
     "output_type": "execute_result"
    },
    {
     "data": {
      "image/png": "[encoded data removed]",
      "text/plain": [
       "<Figure size 1152x648 with 1 Axes>"
      ]
     },
     "metadata": {},
     "output_type": "display_data"
    }
   ],
   "source": [
    "ax=desktop_time.groupby('first_order_month')['ltv'].sum().plot(figsize=(16,9),grid=True,label='desktop',legend=True)\n",
    "touch_time.groupby('first_order_month')['ltv'].sum().plot(figsize=(16,9),grid=True,ax=ax,label='touch',legend=True)\n",
    "plt.xlabel('Период, мес') \n",
    "plt.ylabel('LTV, руб') \n",
    "plt.title('Динамика LTV пользователей DESKTOP и TOUCH с июня 2017 по июнь 2018гг')"
   ]
  },
  {
   "cell_type": "markdown",
   "metadata": {},
   "source": [
    "В самом начале прибыль с покупателя выше у аудитории DESKTOP, но с октября выручка у двух платформ пересекается и иногда у аудитории TOUCH данный показатель выше. Вообще после октября у сайта переломный момент: количество покупок снижается, общее среднее ltv снижается, ltv аудитории touch растет. Возможно в этот период компания решила стимулировать пользователей платформы touch- необходима дополнительная информация."
   ]
  },
  {
   "cell_type": "markdown",
   "metadata": {},
   "source": [
    "###### ВЫВОД"
   ]
  },
  {
   "cell_type": "markdown",
   "metadata": {},
   "source": [
    "Наша гипотеза о том что росту продаж способствует рекламная компания подтвердилась: с ростом/уменьшением затрат происходит рост/уменьшение продаж. Только с середины сентября что-то пошло не так: затраты превышают выручку. Нельзя забывать о низкой вовлеченности посетителей. Соотношение суммарной выручки и затрат показал что сайт не оккупается. \n",
    "\n",
    "Больше всех привлек аудиторию источник №4,но данный источник не оккупился. Самый дорогой источник - №3: да он привлек 8878 пользователей, но данная аутитория либо не платежеспособна, либо нЕ хочет платить. От данного источника стоит отказаться. Больше всех денег принесла аудитория от 2 рек источника (13.5 руб с пользователя); хоть данный рек источник имеет высокую стоимость - все равно оккупается. Рек источник №9 привлек меньше всего аудитории - и не оккупился, от него стоит отказаться. Рек источник №1 оккупился (romi 1.89) - привлек небольшую аудиторию, но данная аудитория готова платить.\n",
    "Стоит однозначно отказываться от таких рекламных источников как №3, №9,№10. Привлекательными рек источниками являются : №1, №2, №5. От рек источника №4 тоже не стоит отказываться (хотя и не оккупился, но привлек большую аудиторию) - возможно на данную когорту стимулировать акциями, спец предложениями.\n",
    "\n",
    "Общие и средние затраты отражают после сентября преобладание затрат над выручкой. Также после сентября снижается количество покупок. Пора проводить стимулирующие акции, делать рассылки.\n",
    "\n",
    "Анализ показал что в основном пользователи заходят с desktop, соответсвенно метрики по источникам и в динамике будут совпадать с общими. Аудитория которая заходит на сайт с touch намного меньше, тех кто заходит с desktop. Соответсвенно средние затраты будут очень высокими и romi очень низким. В самом начале прибыль с покупателя выше у аудитории DESKTOP, но с октября выручка у двух платформ пересекается и иногда у аудитории TOUCH данный показатель выше. Вообще после октября у сайта переломный момент: количество покупок снижается, общее среднее ltv снижается, ltv аудитории touch растет. Возможно в этот период компания решила стимулировать пользователей платформы touch- необходима дополнительная информация."
   ]
  },
  {
   "cell_type": "markdown",
   "metadata": {},
   "source": [
    "## ОБЩИЙ ВЫВОД"
   ]
  },
  {
   "cell_type": "markdown",
   "metadata": {},
   "source": [
    "###### <a id=\"cell6\"></a>"
   ]
  },
  {
   "cell_type": "markdown",
   "metadata": {},
   "source": [
    "С 1 июня 2017 по 1 июня 2018 г было 359500 посещений на сайт Яндекс.Афиша 228169 пользователями. Из всех пользователей заказ оформили только 36523 клиентов (16%) и суммарная выручка за весь период составила 252057 руб. В основном заходили со стационарных устройств. Больше всего посещений с 4 рекламного источника. Затраты на рекламу различаются не только в зависимости от источника рекламы, но и в зависимости от даты посещения.\n",
    "Для того чтобы приступить к анализу информации необходимо предварительно выполнить преобработку данных: изменить тип данных у дат и привести к нижнему регистру названия столбцов.\n",
    "Проанализировав с июня 2017г по июнь 2018 г пользовательску активность пришли к неочень утешительным выводам.\n",
    "Ежедневно на сайт заходят 907 пользователей, еженедельно - 5716, ежемесячно - 23228. sticky factor очень низкий (3.9%) - очень низкая частота и регулярность использования продукта. В среднем каждый пользователь заходит на сайт 1.28 раз, причем в среднем длительность сессии небольшая (300 сек).\n",
    "Больше всего пользователей было с октября 2017 г по март 2018г.\n",
    "Retention также показывает очень низкую воволеченность пользователей: в среднем после первого посещения сайта опять пользовались сайтом только 4,2% аудитории.\n",
    "Для изучения низкой вовлеченность необходимо посторить воронки продаж, оценить поведение пользователей при помощи Яндекс.Метрики.\n",
    "\n",
    "20 сентября и декабре 2017 сайт получил большую выручку (возможно в эти дни были проведены акции). 36509 клиентов осуществляли транзакции; причем проводили на сайте примерно столько же времени сколько и те кто ничего не покупал. В  среднем время от первого посещения сайта до покупки занимает 16 минут. В среднем (из тех кто покупал) осуществляли заказ только 1 раз. Что и показал нам retention, stiky factor - очень низкая вовлеченность и удержание клиента. \n",
    "С августа по январь 2018 г наблюдается рост покупок , с января постепенное снижение (либо сезонность, либо маркетинг, либо деятельность конкурентов - надо смотреть подробнее). Размер среднего чека 11.82 руб. Больше всего покупок было у октябрьской, ноябрьской и декабрьской когорт; больше всего компания выручила от сентябрьской, октябрьской, ноябрьской и июньской когорт (большое количество покупок, высокий средний чек). Больше всего (в среднем каждый покупатель) принесла компании июньская, сентябрьская и декабрьская когорты.\n",
    "\n",
    "Наша гипотеза о том что росту продаж способствует рекламная компания подтвердилась: с ростом/уменьшением затрат происходит рост/уменьшение продаж. Только с середины сентября что-то пошло не так: затраты превышают выручку. Нельзя забывать о низкой вовлеченности посетителей. Соотношение суммарной выручки и затрат показал что сайт не оккупается. \n",
    "\n",
    "Больше всех привлек аудиторию источник №4,но данный источник не оккупился. Самый дорогой источник - №3: да он привлек 8878 пользователей, но данная аутитория либо не платежеспособна, либо нЕ хочет платить. От данного источника стоит отказаться. Больше всех денег принесла аудитория от 2 рек источника (13.5 руб с пользователя); хоть данный рек источник имеет высокую стоимость - все равно оккупается. Рек источник №9 привлек меньше всего аудитории - и не оккупился, от него стоит отказаться. Рек источник №1 оккупился (romi 1.89) - привлек небольшую аудиторию, но данная аудитория готова платить.\n",
    "Стоит однозначно отказываться от таких рекламных источников как №3, №9,№10. Привлекательными рек источниками являются : №1, №2, №5. От рек источника №4 тоже не стоит отказываться (хотя и не оккупился, но привлек большую аудиторию) - возможно на данную когорту стимулировать акциями, спец предложениями.\n",
    "\n",
    "Общие и средние затраты отражают после сентября преобладание затрат над выручкой. Также после сентября снижается количество покупок. Пора проводить стимулирующие акции, делать рассылки.\n",
    "\n",
    "Анализ показал что в основном пользователи заходят с desktop, соответсвенно метрики по источникам и в динамике будут совпадать с общими. Аудитория которая заходит на сайт с touch намного меньше, тех кто заходит с desktop. Соответсвенно средние затраты будут очень высокими и romi очень низким. В самом начале прибыль с покупателя выше у аудитории DESKTOP, но с октября выручка у двух платформ пересекается и иногда у аудитории TOUCH данный показатель выше. Вообще после октября у сайта переломный момент: количество покупок снижается, общее среднее ltv снижается, ltv аудитории touch растет. Возможно в этот период компания решила стимулировать пользователей платформы touch- необходима дополнительная информация."
   ]
  },
  {
   "cell_type": "markdown",
   "metadata": {},
   "source": [
    "## РЕКОМЕНДАЦИИ"
   ]
  },
  {
   "cell_type": "markdown",
   "metadata": {},
   "source": [
    "Анализ данных показал очень низкую вовлеченность клиентов: тратим деньги на привлечение посетителей, а удерживать аудиторию не можем. Дешевле клиента удержать, чем привлечь нового. Необходимо продолжить анализ данных и изучить воронки продаж, оценить поведение пользователей при помощи Яндекс.Метрики.\n",
    "С ростом затрат на рекламу ростут продажи- реклама делает свое дело. Но низкая пользовательская активность не оккупает денег потраченных на рекламу. Стоит однозначно отказываться от таких рекламных источников как №3, №9,№10. Привлекательными рек источниками являются : №1, №2, №5. От рек источника №4 тоже не стоит отказываться (хотя и не оккупился, но привлек большую аудиторию) - возможно на данную когорту стимулировать акциями, спец предложениями.\n",
    "\n",
    "Если рассматривать 2 платформы (desktop и touch): в самом начале периода аудитория desktop приносила больше прибыли, но в последнее время touch показывает хорошую динамику , поэтому реклама направленная на привлечение аудитории touch позволит увеличить компании выручку.\n",
    "\n",
    "Основной вывод: реклама работает, но сайт либо не интересен, либо пользователю сложно разобраться, т.е необходимо дополнительно анализировать причину низкой вовлеченности"
   ]
  },
  {
   "cell_type": "code",
   "execution_count": null,
   "metadata": {},
   "outputs": [],
   "source": []
  }
 ],
 "metadata": {
  "kernelspec": {
   "display_name": "Python 3",
   "language": "python",
   "name": "python3"
  },
  "language_info": {
   "codemirror_mode": {
    "name": "ipython",
    "version": 3
   },
   "file_extension": ".py",
   "mimetype": "text/x-python",
   "name": "python",
   "nbconvert_exporter": "python",
   "pygments_lexer": "ipython3",
   "version": "3.7.6"
  }
 },
 "nbformat": 4,
 "nbformat_minor": 2
}
