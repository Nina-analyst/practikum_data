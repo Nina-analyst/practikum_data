{
 "cells": [
  {
   "cell_type": "markdown",
   "metadata": {},
   "source": [
    "# Мобильная игра «Космические братья»\n",
    "# Анализ рекламных источников"
   ]
  },
  {
   "cell_type": "markdown",
   "metadata": {},
   "source": [
    "#### ЦЕЛЬ:  проанализировать поведения игроков в зависимости от источника перехода и дать рекомендации по ментетезации игры"
   ]
  },
  {
   "cell_type": "markdown",
   "metadata": {},
   "source": [
    "#### ЗАДАЧИ:\n",
    "- провести исследовательский анализ данных;\n",
    "- проанализировать влияние источника перехода в игру на поведение пользователя;\n",
    "- проверьте статистические гипотезы\n",
    "    "
   ]
  },
  {
   "cell_type": "markdown",
   "metadata": {},
   "source": [
    "#### Оисание данных:\n",
    "Датасет *game_actions.csv*:\n",
    "\n",
    "- `event_datetime` — время события;\n",
    "- `event` — одно из трёх событий (building — объект построен, finished_stage_1 — первый уровень завершён, project — проект завершён)\n",
    "- `building_type` — один из трёх типов здания (assembly_shop — сборочный цех, spaceport — космопорт, research_center — исследовательский центр)\n",
    "- `user_id` — идентификатор пользователя;\n",
    "- `project_type` — тип реализованного проекта\n",
    "\n",
    "Датасет *ad_cost.csv*:\n",
    "\n",
    "- `day` - день, в который был совершен клик по объявлению\n",
    "- `source` - источник трафика\n",
    "- `cost` - стоимость кликов\n",
    "\n",
    "Датасет user_source.csv содержит колонки:\n",
    "\n",
    "- `user_id` - идентификатор пользователя\n",
    "- `source` - источников, с которого пришёл пользователь, установивший приложение"
   ]
  },
  {
   "cell_type": "markdown",
   "metadata": {},
   "source": [
    "#### Структура проекта:\n",
    "\n",
    " 1. Изучение общей информации    *[jump to code cell 1](#cell1)\n",
    " 2. Преобработка данных          *[jump to code cell 2](#cell2)\n",
    " 3. Анализ данных:\n",
    "      - Анализ поведения игроков                                     *[jump to code cell 3](#cell3)\n",
    "      - Анализ рекламных источников                                  *[jump to code cell 4](#cell4)\n",
    "      - Проверка статистических гипотез                              *[jump to code cell 5](#cell5)\n",
    " 4. Вывод и рекомендации         *[jump to code cell 6](#cell6)\n",
    " 5. DASHBOARD"
   ]
  },
  {
   "cell_type": "markdown",
   "metadata": {},
   "source": [
    "## Общая информация"
   ]
  },
  {
   "cell_type": "markdown",
   "metadata": {},
   "source": [
    "<a id=\"cell1\"></a>"
   ]
  },
  {
   "cell_type": "code",
   "execution_count": 1,
   "metadata": {},
   "outputs": [],
   "source": [
    "from IPython.display import display\n",
    "import pandas as pd\n",
    "import numpy as np\n",
    "from scipy import stats as st\n",
    "import math as mth\n",
    "import datetime as dt\n",
    "from matplotlib import pyplot as plt\n",
    "from plotly import graph_objects as go\n",
    "import scipy.stats as stats\n",
    "import seaborn as sns"
   ]
  },
  {
   "cell_type": "code",
   "execution_count": 2,
   "metadata": {},
   "outputs": [],
   "source": [
    "# датасет об игровых событиях\n",
    "game_actions=pd.read_csv('game_actions.csv')"
   ]
  },
  {
   "cell_type": "code",
   "execution_count": 3,
   "metadata": {},
   "outputs": [],
   "source": [
    " # таблица по затратам от разных источников трафика\n",
    "cost=pd.read_csv('ad_costs.csv')"
   ]
  },
  {
   "cell_type": "code",
   "execution_count": 4,
   "metadata": {},
   "outputs": [],
   "source": [
    "# данные о пользователях пришедших от разных рекламных источников\n",
    "user_source=pd.read_csv('user_source.csv')"
   ]
  },
  {
   "cell_type": "code",
   "execution_count": 5,
   "metadata": {},
   "outputs": [],
   "source": [
    "def df_look(df):\n",
    "    \"\"\"\n",
    "    Функция для получения общей информации о датафрейме\n",
    "    \"\"\"\n",
    "    print('ДАННЫЕ')\n",
    "    display('-'*100)\n",
    "    display(df.head(3))\n",
    "    display('='*100)\n",
    "    print('Размер датафрейма: (строк:столбцов) {}'.format(df.shape))\n",
    "    display('='*100)\n",
    "    print('Типы данных и общая информация')\n",
    "    display('-'*100)\n",
    "    display(df.info())\n",
    "    display('='*100)\n",
    "    print('Наличие дубликатов')\n",
    "    display('='*100)\n",
    "    display(df.duplicated().sum())\n",
    "    display('-'*100)\n",
    "    print('Наличие пропусков')\n",
    "    display('-'*100)\n",
    "    display(df.isna().mean())\n",
    "    display('='*100)"
   ]
  },
  {
   "cell_type": "markdown",
   "metadata": {},
   "source": [
    "###### Игровые события"
   ]
  },
  {
   "cell_type": "code",
   "execution_count": 6,
   "metadata": {},
   "outputs": [
    {
     "name": "stdout",
     "output_type": "stream",
     "text": [
      "ДАННЫЕ\n"
     ]
    },
    {
     "data": {
      "text/plain": [
       "'----------------------------------------------------------------------------------------------------'"
      ]
     },
     "metadata": {},
     "output_type": "display_data"
    },
    {
     "data": {
      "text/html": [
       "<div>\n",
       "<style scoped>\n",
       "    .dataframe tbody tr th:only-of-type {\n",
       "        vertical-align: middle;\n",
       "    }\n",
       "\n",
       "    .dataframe tbody tr th {\n",
       "        vertical-align: top;\n",
       "    }\n",
       "\n",
       "    .dataframe thead th {\n",
       "        text-align: right;\n",
       "    }\n",
       "</style>\n",
       "<table border=\"1\" class=\"dataframe\">\n",
       "  <thead>\n",
       "    <tr style=\"text-align: right;\">\n",
       "      <th></th>\n",
       "      <th>event_datetime</th>\n",
       "      <th>event</th>\n",
       "      <th>building_type</th>\n",
       "      <th>user_id</th>\n",
       "      <th>project_type</th>\n",
       "    </tr>\n",
       "  </thead>\n",
       "  <tbody>\n",
       "    <tr>\n",
       "      <th>0</th>\n",
       "      <td>2020-05-04 00:00:01</td>\n",
       "      <td>building</td>\n",
       "      <td>assembly_shop</td>\n",
       "      <td>55e92310-cb8e-4754-b622-597e124b03de</td>\n",
       "      <td>NaN</td>\n",
       "    </tr>\n",
       "    <tr>\n",
       "      <th>1</th>\n",
       "      <td>2020-05-04 00:00:03</td>\n",
       "      <td>building</td>\n",
       "      <td>assembly_shop</td>\n",
       "      <td>c07b1c10-f477-44dc-81dc-ec82254b1347</td>\n",
       "      <td>NaN</td>\n",
       "    </tr>\n",
       "    <tr>\n",
       "      <th>2</th>\n",
       "      <td>2020-05-04 00:00:16</td>\n",
       "      <td>building</td>\n",
       "      <td>assembly_shop</td>\n",
       "      <td>6edd42cc-e753-4ff6-a947-2107cd560710</td>\n",
       "      <td>NaN</td>\n",
       "    </tr>\n",
       "  </tbody>\n",
       "</table>\n",
       "</div>"
      ],
      "text/plain": [
       "        event_datetime     event  building_type  \\\n",
       "0  2020-05-04 00:00:01  building  assembly_shop   \n",
       "1  2020-05-04 00:00:03  building  assembly_shop   \n",
       "2  2020-05-04 00:00:16  building  assembly_shop   \n",
       "\n",
       "                                user_id project_type  \n",
       "0  55e92310-cb8e-4754-b622-597e124b03de          NaN  \n",
       "1  c07b1c10-f477-44dc-81dc-ec82254b1347          NaN  \n",
       "2  6edd42cc-e753-4ff6-a947-2107cd560710          NaN  "
      ]
     },
     "metadata": {},
     "output_type": "display_data"
    },
    {
     "data": {
      "text/plain": [
       "'===================================================================================================='"
      ]
     },
     "metadata": {},
     "output_type": "display_data"
    },
    {
     "name": "stdout",
     "output_type": "stream",
     "text": [
      "Размер датафрейма: (строк:столбцов) (135640, 5)\n"
     ]
    },
    {
     "data": {
      "text/plain": [
       "'===================================================================================================='"
      ]
     },
     "metadata": {},
     "output_type": "display_data"
    },
    {
     "name": "stdout",
     "output_type": "stream",
     "text": [
      "Типы данных и общая информация\n"
     ]
    },
    {
     "data": {
      "text/plain": [
       "'----------------------------------------------------------------------------------------------------'"
      ]
     },
     "metadata": {},
     "output_type": "display_data"
    },
    {
     "name": "stdout",
     "output_type": "stream",
     "text": [
      "<class 'pandas.core.frame.DataFrame'>\n",
      "RangeIndex: 135640 entries, 0 to 135639\n",
      "Data columns (total 5 columns):\n",
      " #   Column          Non-Null Count   Dtype \n",
      "---  ------          --------------   ----- \n",
      " 0   event_datetime  135640 non-null  object\n",
      " 1   event           135640 non-null  object\n",
      " 2   building_type   127957 non-null  object\n",
      " 3   user_id         135640 non-null  object\n",
      " 4   project_type    1866 non-null    object\n",
      "dtypes: object(5)\n",
      "memory usage: 5.2+ MB\n"
     ]
    },
    {
     "data": {
      "text/plain": [
       "None"
      ]
     },
     "metadata": {},
     "output_type": "display_data"
    },
    {
     "data": {
      "text/plain": [
       "'===================================================================================================='"
      ]
     },
     "metadata": {},
     "output_type": "display_data"
    },
    {
     "name": "stdout",
     "output_type": "stream",
     "text": [
      "Наличие дубликатов\n"
     ]
    },
    {
     "data": {
      "text/plain": [
       "'===================================================================================================='"
      ]
     },
     "metadata": {},
     "output_type": "display_data"
    },
    {
     "data": {
      "text/plain": [
       "1"
      ]
     },
     "metadata": {},
     "output_type": "display_data"
    },
    {
     "data": {
      "text/plain": [
       "'----------------------------------------------------------------------------------------------------'"
      ]
     },
     "metadata": {},
     "output_type": "display_data"
    },
    {
     "name": "stdout",
     "output_type": "stream",
     "text": [
      "Наличие пропусков\n"
     ]
    },
    {
     "data": {
      "text/plain": [
       "'----------------------------------------------------------------------------------------------------'"
      ]
     },
     "metadata": {},
     "output_type": "display_data"
    },
    {
     "data": {
      "text/plain": [
       "event_datetime    0.000000\n",
       "event             0.000000\n",
       "building_type     0.056643\n",
       "user_id           0.000000\n",
       "project_type      0.986243\n",
       "dtype: float64"
      ]
     },
     "metadata": {},
     "output_type": "display_data"
    },
    {
     "data": {
      "text/plain": [
       "'===================================================================================================='"
      ]
     },
     "metadata": {},
     "output_type": "display_data"
    }
   ],
   "source": [
    "df_look(game_actions)"
   ]
  },
  {
   "cell_type": "markdown",
   "metadata": {},
   "source": [
    "Всего 135640 строк и 5 столбцов. Тип данных у даты неверный. Есть 1 дубликат. Пропущено 98% информации у типа проекта и 5.6% у типа здания. Пропуски у типа проектов заполнять не будем. Для разграничения игроков на разные группы создадим отдельный столбец"
   ]
  },
  {
   "cell_type": "code",
   "execution_count": 7,
   "metadata": {},
   "outputs": [
    {
     "data": {
      "text/plain": [
       "13576"
      ]
     },
     "execution_count": 7,
     "metadata": {},
     "output_type": "execute_result"
    }
   ],
   "source": [
    "# всего игроков\n",
    "game_actions['user_id'].nunique()"
   ]
  },
  {
   "cell_type": "code",
   "execution_count": 8,
   "metadata": {},
   "outputs": [
    {
     "data": {
      "text/plain": [
       "event\n",
       "building            13576\n",
       "finished_stage_1     5817\n",
       "project              1866\n",
       "Name: user_id, dtype: int64"
      ]
     },
     "execution_count": 8,
     "metadata": {},
     "output_type": "execute_result"
    }
   ],
   "source": [
    "# посмотрим как рапределяются игроки по событиям\n",
    "game_actions.groupby('event')['user_id'].nunique()"
   ]
  },
  {
   "cell_type": "markdown",
   "metadata": {},
   "source": [
    "Из 13576 игроков построили здания все игроки, у 5817 первый уровень завершён ,  у 1866 - проект завершён"
   ]
  },
  {
   "cell_type": "code",
   "execution_count": 9,
   "metadata": {},
   "outputs": [],
   "source": [
    "# посмотрим как распределяются события среди игроков\n",
    "# построим сводную таблицу\n",
    "# для дальнейшего анализа заполним пропуски в столбцах finished_stage_1, project 0\n",
    "events=game_actions.pivot_table(index='user_id',columns='event',values='event_datetime',aggfunc='nunique').reset_index()\n",
    "events['finished_stage_1']=events['finished_stage_1'].fillna(0)\n",
    "events['project']=events['project'].fillna(0)"
   ]
  },
  {
   "cell_type": "code",
   "execution_count": 10,
   "metadata": {},
   "outputs": [
    {
     "data": {
      "text/html": [
       "<div>\n",
       "<style scoped>\n",
       "    .dataframe tbody tr th:only-of-type {\n",
       "        vertical-align: middle;\n",
       "    }\n",
       "\n",
       "    .dataframe tbody tr th {\n",
       "        vertical-align: top;\n",
       "    }\n",
       "\n",
       "    .dataframe thead th {\n",
       "        text-align: right;\n",
       "    }\n",
       "</style>\n",
       "<table border=\"1\" class=\"dataframe\">\n",
       "  <thead>\n",
       "    <tr style=\"text-align: right;\">\n",
       "      <th>event</th>\n",
       "      <th>user_id</th>\n",
       "      <th>building</th>\n",
       "      <th>finished_stage_1</th>\n",
       "      <th>project</th>\n",
       "    </tr>\n",
       "  </thead>\n",
       "  <tbody>\n",
       "    <tr>\n",
       "      <th>0</th>\n",
       "      <td>0001f83c-c6ac-4621-b7f0-8a28b283ac30</td>\n",
       "      <td>13.0</td>\n",
       "      <td>0.0</td>\n",
       "      <td>0.0</td>\n",
       "    </tr>\n",
       "    <tr>\n",
       "      <th>1</th>\n",
       "      <td>00151b4f-ba38-44a8-a650-d7cf130a0105</td>\n",
       "      <td>9.0</td>\n",
       "      <td>0.0</td>\n",
       "      <td>0.0</td>\n",
       "    </tr>\n",
       "    <tr>\n",
       "      <th>2</th>\n",
       "      <td>001aaea6-3d14-43f1-8ca8-7f48820f17aa</td>\n",
       "      <td>4.0</td>\n",
       "      <td>0.0</td>\n",
       "      <td>0.0</td>\n",
       "    </tr>\n",
       "    <tr>\n",
       "      <th>3</th>\n",
       "      <td>001d39dc-366c-4021-9604-6a3b9ff01e25</td>\n",
       "      <td>8.0</td>\n",
       "      <td>1.0</td>\n",
       "      <td>0.0</td>\n",
       "    </tr>\n",
       "    <tr>\n",
       "      <th>4</th>\n",
       "      <td>002f508f-67b6-479f-814b-b05f00d4e995</td>\n",
       "      <td>12.0</td>\n",
       "      <td>0.0</td>\n",
       "      <td>0.0</td>\n",
       "    </tr>\n",
       "    <tr>\n",
       "      <th>...</th>\n",
       "      <td>...</td>\n",
       "      <td>...</td>\n",
       "      <td>...</td>\n",
       "      <td>...</td>\n",
       "    </tr>\n",
       "    <tr>\n",
       "      <th>13571</th>\n",
       "      <td>ffef4fed-164c-40e1-bde1-3980f76d0fb5</td>\n",
       "      <td>9.0</td>\n",
       "      <td>1.0</td>\n",
       "      <td>0.0</td>\n",
       "    </tr>\n",
       "    <tr>\n",
       "      <th>13572</th>\n",
       "      <td>fffab3da-da0e-4e30-ae62-10d0a2e24a4e</td>\n",
       "      <td>16.0</td>\n",
       "      <td>0.0</td>\n",
       "      <td>0.0</td>\n",
       "    </tr>\n",
       "    <tr>\n",
       "      <th>13573</th>\n",
       "      <td>fffb626c-5ab6-47c9-8113-2062a2f18494</td>\n",
       "      <td>9.0</td>\n",
       "      <td>1.0</td>\n",
       "      <td>0.0</td>\n",
       "    </tr>\n",
       "    <tr>\n",
       "      <th>13574</th>\n",
       "      <td>ffff194a-56b7-4c12-860d-3485242ae7f5</td>\n",
       "      <td>7.0</td>\n",
       "      <td>0.0</td>\n",
       "      <td>0.0</td>\n",
       "    </tr>\n",
       "    <tr>\n",
       "      <th>13575</th>\n",
       "      <td>ffff69cc-fec1-4fd3-9f98-93be1112a6b8</td>\n",
       "      <td>12.0</td>\n",
       "      <td>1.0</td>\n",
       "      <td>1.0</td>\n",
       "    </tr>\n",
       "  </tbody>\n",
       "</table>\n",
       "<p>13576 rows × 4 columns</p>\n",
       "</div>"
      ],
      "text/plain": [
       "event                               user_id  building  finished_stage_1  \\\n",
       "0      0001f83c-c6ac-4621-b7f0-8a28b283ac30      13.0               0.0   \n",
       "1      00151b4f-ba38-44a8-a650-d7cf130a0105       9.0               0.0   \n",
       "2      001aaea6-3d14-43f1-8ca8-7f48820f17aa       4.0               0.0   \n",
       "3      001d39dc-366c-4021-9604-6a3b9ff01e25       8.0               1.0   \n",
       "4      002f508f-67b6-479f-814b-b05f00d4e995      12.0               0.0   \n",
       "...                                     ...       ...               ...   \n",
       "13571  ffef4fed-164c-40e1-bde1-3980f76d0fb5       9.0               1.0   \n",
       "13572  fffab3da-da0e-4e30-ae62-10d0a2e24a4e      16.0               0.0   \n",
       "13573  fffb626c-5ab6-47c9-8113-2062a2f18494       9.0               1.0   \n",
       "13574  ffff194a-56b7-4c12-860d-3485242ae7f5       7.0               0.0   \n",
       "13575  ffff69cc-fec1-4fd3-9f98-93be1112a6b8      12.0               1.0   \n",
       "\n",
       "event  project  \n",
       "0          0.0  \n",
       "1          0.0  \n",
       "2          0.0  \n",
       "3          0.0  \n",
       "4          0.0  \n",
       "...        ...  \n",
       "13571      0.0  \n",
       "13572      0.0  \n",
       "13573      0.0  \n",
       "13574      0.0  \n",
       "13575      1.0  \n",
       "\n",
       "[13576 rows x 4 columns]"
      ]
     },
     "execution_count": 10,
     "metadata": {},
     "output_type": "execute_result"
    }
   ],
   "source": [
    "events"
   ]
  },
  {
   "cell_type": "code",
   "execution_count": 11,
   "metadata": {},
   "outputs": [],
   "source": [
    "# если у игрока есть инфо об finished stage, но нет инфо о завершении проекта - игрок завершил уровень победой\n",
    "# если у игрока есть инфо об finished stage и есть инфо о завершении проекта - игрок завершил уровень проектом\n",
    "# создадим столбец type в котором просуммируем 2 столбца: finished stage и project\n",
    "events['type']=events['finished_stage_1']+events['project']"
   ]
  },
  {
   "cell_type": "code",
   "execution_count": 12,
   "metadata": {},
   "outputs": [],
   "source": [
    "#для анализа данных необходимо созать категории по распределению играков\n",
    "# если в столбце type 1 - игрок завершил уровень победой\n",
    "# если в столбце type 2 - игрок завершил уровень проектом\n",
    "def play_group(play):\n",
    "    if play==1:\n",
    "        return 'winner'\n",
    "    if play==2:\n",
    "        return 'project'\n",
    "    return 'unfinished'\n",
    "#children(4)\n",
    "events['play_group']=events['type'].apply(play_group)\n"
   ]
  },
  {
   "cell_type": "code",
   "execution_count": 13,
   "metadata": {},
   "outputs": [
    {
     "data": {
      "text/plain": [
       "unfinished    7759\n",
       "winner        3951\n",
       "project       1866\n",
       "Name: play_group, dtype: int64"
      ]
     },
     "execution_count": 13,
     "metadata": {},
     "output_type": "execute_result"
    }
   ],
   "source": [
    "events['play_group'].value_counts()"
   ]
  },
  {
   "cell_type": "markdown",
   "metadata": {},
   "source": [
    "Получается из тех кто закончил 1 уровень(5817): 1866 игроков разработали орбитальную сборку спутников, а остальные 3951 игроков осущиствили победу над первым врагом. Не завершили уровень 7759 игроков"
   ]
  },
  {
   "cell_type": "markdown",
   "metadata": {},
   "source": [
    "##### Стоимость трафика"
   ]
  },
  {
   "cell_type": "code",
   "execution_count": 14,
   "metadata": {},
   "outputs": [
    {
     "name": "stdout",
     "output_type": "stream",
     "text": [
      "ДАННЫЕ\n"
     ]
    },
    {
     "data": {
      "text/plain": [
       "'----------------------------------------------------------------------------------------------------'"
      ]
     },
     "metadata": {},
     "output_type": "display_data"
    },
    {
     "data": {
      "text/html": [
       "<div>\n",
       "<style scoped>\n",
       "    .dataframe tbody tr th:only-of-type {\n",
       "        vertical-align: middle;\n",
       "    }\n",
       "\n",
       "    .dataframe tbody tr th {\n",
       "        vertical-align: top;\n",
       "    }\n",
       "\n",
       "    .dataframe thead th {\n",
       "        text-align: right;\n",
       "    }\n",
       "</style>\n",
       "<table border=\"1\" class=\"dataframe\">\n",
       "  <thead>\n",
       "    <tr style=\"text-align: right;\">\n",
       "      <th></th>\n",
       "      <th>source</th>\n",
       "      <th>day</th>\n",
       "      <th>cost</th>\n",
       "    </tr>\n",
       "  </thead>\n",
       "  <tbody>\n",
       "    <tr>\n",
       "      <th>0</th>\n",
       "      <td>facebook_ads</td>\n",
       "      <td>2020-05-03</td>\n",
       "      <td>935.882786</td>\n",
       "    </tr>\n",
       "    <tr>\n",
       "      <th>1</th>\n",
       "      <td>facebook_ads</td>\n",
       "      <td>2020-05-04</td>\n",
       "      <td>548.354480</td>\n",
       "    </tr>\n",
       "    <tr>\n",
       "      <th>2</th>\n",
       "      <td>facebook_ads</td>\n",
       "      <td>2020-05-05</td>\n",
       "      <td>260.185754</td>\n",
       "    </tr>\n",
       "  </tbody>\n",
       "</table>\n",
       "</div>"
      ],
      "text/plain": [
       "         source         day        cost\n",
       "0  facebook_ads  2020-05-03  935.882786\n",
       "1  facebook_ads  2020-05-04  548.354480\n",
       "2  facebook_ads  2020-05-05  260.185754"
      ]
     },
     "metadata": {},
     "output_type": "display_data"
    },
    {
     "data": {
      "text/plain": [
       "'===================================================================================================='"
      ]
     },
     "metadata": {},
     "output_type": "display_data"
    },
    {
     "name": "stdout",
     "output_type": "stream",
     "text": [
      "Размер датафрейма: (строк:столбцов) (28, 3)\n"
     ]
    },
    {
     "data": {
      "text/plain": [
       "'===================================================================================================='"
      ]
     },
     "metadata": {},
     "output_type": "display_data"
    },
    {
     "name": "stdout",
     "output_type": "stream",
     "text": [
      "Типы данных и общая информация\n"
     ]
    },
    {
     "data": {
      "text/plain": [
       "'----------------------------------------------------------------------------------------------------'"
      ]
     },
     "metadata": {},
     "output_type": "display_data"
    },
    {
     "name": "stdout",
     "output_type": "stream",
     "text": [
      "<class 'pandas.core.frame.DataFrame'>\n",
      "RangeIndex: 28 entries, 0 to 27\n",
      "Data columns (total 3 columns):\n",
      " #   Column  Non-Null Count  Dtype  \n",
      "---  ------  --------------  -----  \n",
      " 0   source  28 non-null     object \n",
      " 1   day     28 non-null     object \n",
      " 2   cost    28 non-null     float64\n",
      "dtypes: float64(1), object(2)\n",
      "memory usage: 800.0+ bytes\n"
     ]
    },
    {
     "data": {
      "text/plain": [
       "None"
      ]
     },
     "metadata": {},
     "output_type": "display_data"
    },
    {
     "data": {
      "text/plain": [
       "'===================================================================================================='"
      ]
     },
     "metadata": {},
     "output_type": "display_data"
    },
    {
     "name": "stdout",
     "output_type": "stream",
     "text": [
      "Наличие дубликатов\n"
     ]
    },
    {
     "data": {
      "text/plain": [
       "'===================================================================================================='"
      ]
     },
     "metadata": {},
     "output_type": "display_data"
    },
    {
     "data": {
      "text/plain": [
       "0"
      ]
     },
     "metadata": {},
     "output_type": "display_data"
    },
    {
     "data": {
      "text/plain": [
       "'----------------------------------------------------------------------------------------------------'"
      ]
     },
     "metadata": {},
     "output_type": "display_data"
    },
    {
     "name": "stdout",
     "output_type": "stream",
     "text": [
      "Наличие пропусков\n"
     ]
    },
    {
     "data": {
      "text/plain": [
       "'----------------------------------------------------------------------------------------------------'"
      ]
     },
     "metadata": {},
     "output_type": "display_data"
    },
    {
     "data": {
      "text/plain": [
       "source    0.0\n",
       "day       0.0\n",
       "cost      0.0\n",
       "dtype: float64"
      ]
     },
     "metadata": {},
     "output_type": "display_data"
    },
    {
     "data": {
      "text/plain": [
       "'===================================================================================================='"
      ]
     },
     "metadata": {},
     "output_type": "display_data"
    }
   ],
   "source": [
    "df_look(cost)"
   ]
  },
  {
   "cell_type": "markdown",
   "metadata": {},
   "source": [
    "У данных нет ни пропусков, ни дубликатов. Единственное что нужно скорректировать - тип данных у даты"
   ]
  },
  {
   "cell_type": "markdown",
   "metadata": {},
   "source": [
    "##### Пользователи которые пришли от разных рекламных источников"
   ]
  },
  {
   "cell_type": "code",
   "execution_count": 15,
   "metadata": {},
   "outputs": [
    {
     "name": "stdout",
     "output_type": "stream",
     "text": [
      "ДАННЫЕ\n"
     ]
    },
    {
     "data": {
      "text/plain": [
       "'----------------------------------------------------------------------------------------------------'"
      ]
     },
     "metadata": {},
     "output_type": "display_data"
    },
    {
     "data": {
      "text/html": [
       "<div>\n",
       "<style scoped>\n",
       "    .dataframe tbody tr th:only-of-type {\n",
       "        vertical-align: middle;\n",
       "    }\n",
       "\n",
       "    .dataframe tbody tr th {\n",
       "        vertical-align: top;\n",
       "    }\n",
       "\n",
       "    .dataframe thead th {\n",
       "        text-align: right;\n",
       "    }\n",
       "</style>\n",
       "<table border=\"1\" class=\"dataframe\">\n",
       "  <thead>\n",
       "    <tr style=\"text-align: right;\">\n",
       "      <th></th>\n",
       "      <th>user_id</th>\n",
       "      <th>source</th>\n",
       "    </tr>\n",
       "  </thead>\n",
       "  <tbody>\n",
       "    <tr>\n",
       "      <th>0</th>\n",
       "      <td>0001f83c-c6ac-4621-b7f0-8a28b283ac30</td>\n",
       "      <td>facebook_ads</td>\n",
       "    </tr>\n",
       "    <tr>\n",
       "      <th>1</th>\n",
       "      <td>00151b4f-ba38-44a8-a650-d7cf130a0105</td>\n",
       "      <td>yandex_direct</td>\n",
       "    </tr>\n",
       "    <tr>\n",
       "      <th>2</th>\n",
       "      <td>001aaea6-3d14-43f1-8ca8-7f48820f17aa</td>\n",
       "      <td>youtube_channel_reklama</td>\n",
       "    </tr>\n",
       "  </tbody>\n",
       "</table>\n",
       "</div>"
      ],
      "text/plain": [
       "                                user_id                   source\n",
       "0  0001f83c-c6ac-4621-b7f0-8a28b283ac30             facebook_ads\n",
       "1  00151b4f-ba38-44a8-a650-d7cf130a0105            yandex_direct\n",
       "2  001aaea6-3d14-43f1-8ca8-7f48820f17aa  youtube_channel_reklama"
      ]
     },
     "metadata": {},
     "output_type": "display_data"
    },
    {
     "data": {
      "text/plain": [
       "'===================================================================================================='"
      ]
     },
     "metadata": {},
     "output_type": "display_data"
    },
    {
     "name": "stdout",
     "output_type": "stream",
     "text": [
      "Размер датафрейма: (строк:столбцов) (13576, 2)\n"
     ]
    },
    {
     "data": {
      "text/plain": [
       "'===================================================================================================='"
      ]
     },
     "metadata": {},
     "output_type": "display_data"
    },
    {
     "name": "stdout",
     "output_type": "stream",
     "text": [
      "Типы данных и общая информация\n"
     ]
    },
    {
     "data": {
      "text/plain": [
       "'----------------------------------------------------------------------------------------------------'"
      ]
     },
     "metadata": {},
     "output_type": "display_data"
    },
    {
     "name": "stdout",
     "output_type": "stream",
     "text": [
      "<class 'pandas.core.frame.DataFrame'>\n",
      "RangeIndex: 13576 entries, 0 to 13575\n",
      "Data columns (total 2 columns):\n",
      " #   Column   Non-Null Count  Dtype \n",
      "---  ------   --------------  ----- \n",
      " 0   user_id  13576 non-null  object\n",
      " 1   source   13576 non-null  object\n",
      "dtypes: object(2)\n",
      "memory usage: 212.2+ KB\n"
     ]
    },
    {
     "data": {
      "text/plain": [
       "None"
      ]
     },
     "metadata": {},
     "output_type": "display_data"
    },
    {
     "data": {
      "text/plain": [
       "'===================================================================================================='"
      ]
     },
     "metadata": {},
     "output_type": "display_data"
    },
    {
     "name": "stdout",
     "output_type": "stream",
     "text": [
      "Наличие дубликатов\n"
     ]
    },
    {
     "data": {
      "text/plain": [
       "'===================================================================================================='"
      ]
     },
     "metadata": {},
     "output_type": "display_data"
    },
    {
     "data": {
      "text/plain": [
       "0"
      ]
     },
     "metadata": {},
     "output_type": "display_data"
    },
    {
     "data": {
      "text/plain": [
       "'----------------------------------------------------------------------------------------------------'"
      ]
     },
     "metadata": {},
     "output_type": "display_data"
    },
    {
     "name": "stdout",
     "output_type": "stream",
     "text": [
      "Наличие пропусков\n"
     ]
    },
    {
     "data": {
      "text/plain": [
       "'----------------------------------------------------------------------------------------------------'"
      ]
     },
     "metadata": {},
     "output_type": "display_data"
    },
    {
     "data": {
      "text/plain": [
       "user_id    0.0\n",
       "source     0.0\n",
       "dtype: float64"
      ]
     },
     "metadata": {},
     "output_type": "display_data"
    },
    {
     "data": {
      "text/plain": [
       "'===================================================================================================='"
      ]
     },
     "metadata": {},
     "output_type": "display_data"
    }
   ],
   "source": [
    "df_look(user_source)"
   ]
  },
  {
   "cell_type": "markdown",
   "metadata": {},
   "source": [
    "Данные данной таблицы в преобработке не нуждаются"
   ]
  },
  {
   "cell_type": "markdown",
   "metadata": {},
   "source": [
    "Итак, данные таблицы user_source не нуждаются в преобработке, а вот для таблицы cost необходимо изменить тип данных у даты, для таблицы game_actions удалить дубликат, изменить тип данных у даты и заполнить пропуски."
   ]
  },
  {
   "cell_type": "markdown",
   "metadata": {},
   "source": [
    "## Преобработка данных"
   ]
  },
  {
   "cell_type": "markdown",
   "metadata": {},
   "source": [
    "<a id=\"cell2\"></a>"
   ]
  },
  {
   "cell_type": "markdown",
   "metadata": {},
   "source": [
    "###### Удаление дубликатов"
   ]
  },
  {
   "cell_type": "code",
   "execution_count": 16,
   "metadata": {},
   "outputs": [],
   "source": [
    "game_actions=game_actions.drop_duplicates()"
   ]
  },
  {
   "cell_type": "code",
   "execution_count": 17,
   "metadata": {},
   "outputs": [
    {
     "data": {
      "text/plain": [
       "0"
      ]
     },
     "execution_count": 17,
     "metadata": {},
     "output_type": "execute_result"
    }
   ],
   "source": [
    "game_actions.duplicated().sum()"
   ]
  },
  {
   "cell_type": "markdown",
   "metadata": {},
   "source": [
    "###### Изменение типа данных (дата)"
   ]
  },
  {
   "cell_type": "code",
   "execution_count": 18,
   "metadata": {},
   "outputs": [],
   "source": [
    "cost['day']=pd.to_datetime(cost['day'])\n",
    "game_actions['event_datetime']=pd.to_datetime(game_actions['event_datetime'])"
   ]
  },
  {
   "cell_type": "code",
   "execution_count": 19,
   "metadata": {},
   "outputs": [
    {
     "data": {
      "text/plain": [
       "event_datetime    datetime64[ns]\n",
       "event                     object\n",
       "building_type             object\n",
       "user_id                   object\n",
       "project_type              object\n",
       "dtype: object"
      ]
     },
     "execution_count": 19,
     "metadata": {},
     "output_type": "execute_result"
    }
   ],
   "source": [
    "# проверяем\n",
    "game_actions.dtypes"
   ]
  },
  {
   "cell_type": "code",
   "execution_count": 20,
   "metadata": {},
   "outputs": [
    {
     "data": {
      "text/plain": [
       "source            object\n",
       "day       datetime64[ns]\n",
       "cost             float64\n",
       "dtype: object"
      ]
     },
     "execution_count": 20,
     "metadata": {},
     "output_type": "execute_result"
    }
   ],
   "source": [
    "# проверяем\n",
    "cost.dtypes"
   ]
  },
  {
   "cell_type": "markdown",
   "metadata": {},
   "source": [
    "Пропуски у building_type нет необходимости заполнять\n",
    "\n",
    "Данные преобработаны и можно приступать к анализу данных"
   ]
  },
  {
   "cell_type": "markdown",
   "metadata": {},
   "source": [
    "# Анализ данных"
   ]
  },
  {
   "cell_type": "markdown",
   "metadata": {},
   "source": [
    "#### Анализ поведения игроков"
   ]
  },
  {
   "cell_type": "markdown",
   "metadata": {},
   "source": [
    "<a id=\"cell3\"></a>"
   ]
  },
  {
   "cell_type": "code",
   "execution_count": 21,
   "metadata": {},
   "outputs": [
    {
     "data": {
      "text/html": [
       "<div>\n",
       "<style scoped>\n",
       "    .dataframe tbody tr th:only-of-type {\n",
       "        vertical-align: middle;\n",
       "    }\n",
       "\n",
       "    .dataframe tbody tr th {\n",
       "        vertical-align: top;\n",
       "    }\n",
       "\n",
       "    .dataframe thead th {\n",
       "        text-align: right;\n",
       "    }\n",
       "</style>\n",
       "<table border=\"1\" class=\"dataframe\">\n",
       "  <thead>\n",
       "    <tr style=\"text-align: right;\">\n",
       "      <th></th>\n",
       "      <th>event_datetime</th>\n",
       "      <th>event</th>\n",
       "      <th>building_type</th>\n",
       "      <th>user_id</th>\n",
       "      <th>project_type</th>\n",
       "    </tr>\n",
       "  </thead>\n",
       "  <tbody>\n",
       "    <tr>\n",
       "      <th>0</th>\n",
       "      <td>2020-05-04 00:00:01</td>\n",
       "      <td>building</td>\n",
       "      <td>assembly_shop</td>\n",
       "      <td>55e92310-cb8e-4754-b622-597e124b03de</td>\n",
       "      <td>NaN</td>\n",
       "    </tr>\n",
       "    <tr>\n",
       "      <th>1</th>\n",
       "      <td>2020-05-04 00:00:03</td>\n",
       "      <td>building</td>\n",
       "      <td>assembly_shop</td>\n",
       "      <td>c07b1c10-f477-44dc-81dc-ec82254b1347</td>\n",
       "      <td>NaN</td>\n",
       "    </tr>\n",
       "  </tbody>\n",
       "</table>\n",
       "</div>"
      ],
      "text/plain": [
       "       event_datetime     event  building_type  \\\n",
       "0 2020-05-04 00:00:01  building  assembly_shop   \n",
       "1 2020-05-04 00:00:03  building  assembly_shop   \n",
       "\n",
       "                                user_id project_type  \n",
       "0  55e92310-cb8e-4754-b622-597e124b03de          NaN  \n",
       "1  c07b1c10-f477-44dc-81dc-ec82254b1347          NaN  "
      ]
     },
     "execution_count": 21,
     "metadata": {},
     "output_type": "execute_result"
    }
   ],
   "source": [
    "game_actions.head(2)"
   ]
  },
  {
   "cell_type": "code",
   "execution_count": 22,
   "metadata": {},
   "outputs": [
    {
     "data": {
      "text/plain": [
       "building            127956\n",
       "finished_stage_1      5817\n",
       "project               1866\n",
       "Name: event, dtype: int64"
      ]
     },
     "execution_count": 22,
     "metadata": {},
     "output_type": "execute_result"
    }
   ],
   "source": [
    "# расчитаем количество всех событий\n",
    "game_actions['event'].value_counts()"
   ]
  },
  {
   "cell_type": "code",
   "execution_count": 23,
   "metadata": {},
   "outputs": [
    {
     "data": {
      "text/plain": [
       "1"
      ]
     },
     "execution_count": 23,
     "metadata": {},
     "output_type": "execute_result"
    }
   ],
   "source": [
    "# расчитаем минимальное количество событий building\n",
    "game_actions[game_actions['event']=='building'].groupby('user_id')['event'].count().min()"
   ]
  },
  {
   "cell_type": "code",
   "execution_count": 24,
   "metadata": {},
   "outputs": [
    {
     "data": {
      "text/plain": [
       "20"
      ]
     },
     "execution_count": 24,
     "metadata": {},
     "output_type": "execute_result"
    }
   ],
   "source": [
    "# расчитаем максимальное количество событий building\n",
    "game_actions[game_actions['event']=='building'].groupby('user_id')['event'].count().max()"
   ]
  },
  {
   "cell_type": "code",
   "execution_count": 25,
   "metadata": {},
   "outputs": [
    {
     "data": {
      "text/plain": [
       "event\n",
       "building            13576\n",
       "finished_stage_1     5817\n",
       "project              1866\n",
       "Name: user_id, dtype: int64"
      ]
     },
     "execution_count": 25,
     "metadata": {},
     "output_type": "execute_result"
    }
   ],
   "source": [
    "# расчитаем количество игроков всех событий\n",
    "game_actions.groupby('event')['user_id'].nunique()"
   ]
  },
  {
   "cell_type": "markdown",
   "metadata": {},
   "source": [
    "Каждый игрок что-либо постороил, но лишь 5817 игроков прошли 1 уровень (1866 игроков завершили 1-й уровень реализацией проекта, 3951 игрок завершили уровень победой над врагом). Игроки завершили событие building от 1 до 20 раз"
   ]
  },
  {
   "cell_type": "code",
   "execution_count": 26,
   "metadata": {},
   "outputs": [
    {
     "data": {
      "text/html": [
       "<div>\n",
       "<style scoped>\n",
       "    .dataframe tbody tr th:only-of-type {\n",
       "        vertical-align: middle;\n",
       "    }\n",
       "\n",
       "    .dataframe tbody tr th {\n",
       "        vertical-align: top;\n",
       "    }\n",
       "\n",
       "    .dataframe thead th {\n",
       "        text-align: right;\n",
       "    }\n",
       "</style>\n",
       "<table border=\"1\" class=\"dataframe\">\n",
       "  <thead>\n",
       "    <tr style=\"text-align: right;\">\n",
       "      <th></th>\n",
       "      <th>event_datetime</th>\n",
       "      <th>event</th>\n",
       "      <th>building_type</th>\n",
       "      <th>user_id</th>\n",
       "      <th>project_type</th>\n",
       "    </tr>\n",
       "  </thead>\n",
       "  <tbody>\n",
       "    <tr>\n",
       "      <th>0</th>\n",
       "      <td>2020-05-04 00:00:01</td>\n",
       "      <td>building</td>\n",
       "      <td>assembly_shop</td>\n",
       "      <td>55e92310-cb8e-4754-b622-597e124b03de</td>\n",
       "      <td>NaN</td>\n",
       "    </tr>\n",
       "    <tr>\n",
       "      <th>1</th>\n",
       "      <td>2020-05-04 00:00:03</td>\n",
       "      <td>building</td>\n",
       "      <td>assembly_shop</td>\n",
       "      <td>c07b1c10-f477-44dc-81dc-ec82254b1347</td>\n",
       "      <td>NaN</td>\n",
       "    </tr>\n",
       "    <tr>\n",
       "      <th>2</th>\n",
       "      <td>2020-05-04 00:00:16</td>\n",
       "      <td>building</td>\n",
       "      <td>assembly_shop</td>\n",
       "      <td>6edd42cc-e753-4ff6-a947-2107cd560710</td>\n",
       "      <td>NaN</td>\n",
       "    </tr>\n",
       "    <tr>\n",
       "      <th>3</th>\n",
       "      <td>2020-05-04 00:00:16</td>\n",
       "      <td>building</td>\n",
       "      <td>assembly_shop</td>\n",
       "      <td>92c69003-d60a-444a-827f-8cc51bf6bf4c</td>\n",
       "      <td>NaN</td>\n",
       "    </tr>\n",
       "    <tr>\n",
       "      <th>4</th>\n",
       "      <td>2020-05-04 00:00:35</td>\n",
       "      <td>building</td>\n",
       "      <td>assembly_shop</td>\n",
       "      <td>cdc6bb92-0ccb-4490-9866-ef142f09139d</td>\n",
       "      <td>NaN</td>\n",
       "    </tr>\n",
       "    <tr>\n",
       "      <th>...</th>\n",
       "      <td>...</td>\n",
       "      <td>...</td>\n",
       "      <td>...</td>\n",
       "      <td>...</td>\n",
       "      <td>...</td>\n",
       "    </tr>\n",
       "    <tr>\n",
       "      <th>135635</th>\n",
       "      <td>2020-06-05 00:08:06</td>\n",
       "      <td>building</td>\n",
       "      <td>research_center</td>\n",
       "      <td>f21d179f-1c4b-437e-b9c6-ab1976907195</td>\n",
       "      <td>NaN</td>\n",
       "    </tr>\n",
       "    <tr>\n",
       "      <th>135636</th>\n",
       "      <td>2020-06-05 02:25:12</td>\n",
       "      <td>finished_stage_1</td>\n",
       "      <td>NaN</td>\n",
       "      <td>515c1952-99aa-4bca-a7ea-d0449eb5385a</td>\n",
       "      <td>NaN</td>\n",
       "    </tr>\n",
       "    <tr>\n",
       "      <th>135637</th>\n",
       "      <td>2020-06-05 08:57:52</td>\n",
       "      <td>building</td>\n",
       "      <td>research_center</td>\n",
       "      <td>ed3e7d02-8a96-4be7-9998-e9813ff9c316</td>\n",
       "      <td>NaN</td>\n",
       "    </tr>\n",
       "    <tr>\n",
       "      <th>135638</th>\n",
       "      <td>2020-06-05 12:12:27</td>\n",
       "      <td>finished_stage_1</td>\n",
       "      <td>NaN</td>\n",
       "      <td>32572adb-900f-4b5d-a453-1eb1e6d88d8b</td>\n",
       "      <td>NaN</td>\n",
       "    </tr>\n",
       "    <tr>\n",
       "      <th>135639</th>\n",
       "      <td>2020-06-05 12:32:49</td>\n",
       "      <td>finished_stage_1</td>\n",
       "      <td>NaN</td>\n",
       "      <td>f21d179f-1c4b-437e-b9c6-ab1976907195</td>\n",
       "      <td>NaN</td>\n",
       "    </tr>\n",
       "  </tbody>\n",
       "</table>\n",
       "<p>135639 rows × 5 columns</p>\n",
       "</div>"
      ],
      "text/plain": [
       "            event_datetime             event    building_type  \\\n",
       "0      2020-05-04 00:00:01          building    assembly_shop   \n",
       "1      2020-05-04 00:00:03          building    assembly_shop   \n",
       "2      2020-05-04 00:00:16          building    assembly_shop   \n",
       "3      2020-05-04 00:00:16          building    assembly_shop   \n",
       "4      2020-05-04 00:00:35          building    assembly_shop   \n",
       "...                    ...               ...              ...   \n",
       "135635 2020-06-05 00:08:06          building  research_center   \n",
       "135636 2020-06-05 02:25:12  finished_stage_1              NaN   \n",
       "135637 2020-06-05 08:57:52          building  research_center   \n",
       "135638 2020-06-05 12:12:27  finished_stage_1              NaN   \n",
       "135639 2020-06-05 12:32:49  finished_stage_1              NaN   \n",
       "\n",
       "                                     user_id project_type  \n",
       "0       55e92310-cb8e-4754-b622-597e124b03de          NaN  \n",
       "1       c07b1c10-f477-44dc-81dc-ec82254b1347          NaN  \n",
       "2       6edd42cc-e753-4ff6-a947-2107cd560710          NaN  \n",
       "3       92c69003-d60a-444a-827f-8cc51bf6bf4c          NaN  \n",
       "4       cdc6bb92-0ccb-4490-9866-ef142f09139d          NaN  \n",
       "...                                      ...          ...  \n",
       "135635  f21d179f-1c4b-437e-b9c6-ab1976907195          NaN  \n",
       "135636  515c1952-99aa-4bca-a7ea-d0449eb5385a          NaN  \n",
       "135637  ed3e7d02-8a96-4be7-9998-e9813ff9c316          NaN  \n",
       "135638  32572adb-900f-4b5d-a453-1eb1e6d88d8b          NaN  \n",
       "135639  f21d179f-1c4b-437e-b9c6-ab1976907195          NaN  \n",
       "\n",
       "[135639 rows x 5 columns]"
      ]
     },
     "execution_count": 26,
     "metadata": {},
     "output_type": "execute_result"
    }
   ],
   "source": [
    "game_actions"
   ]
  },
  {
   "cell_type": "code",
   "execution_count": 27,
   "metadata": {},
   "outputs": [],
   "source": [
    "#  выделим дату , неделю и час из даты сессий\n",
    "game_actions['date']=game_actions['event_datetime'].dt.date\n",
    "game_actions['week']=game_actions['event_datetime'].dt.week\n",
    "game_actions['hour']=game_actions['event_datetime'].dt.hour"
   ]
  },
  {
   "cell_type": "code",
   "execution_count": 28,
   "metadata": {},
   "outputs": [
    {
     "data": {
      "text/plain": [
       "event_datetime    datetime64[ns]\n",
       "event                     object\n",
       "building_type             object\n",
       "user_id                   object\n",
       "project_type              object\n",
       "date                      object\n",
       "week                       int64\n",
       "hour                       int64\n",
       "dtype: object"
      ]
     },
     "execution_count": 28,
     "metadata": {},
     "output_type": "execute_result"
    }
   ],
   "source": [
    "# проверяем типы данных у новых столбцов\n",
    "game_actions.dtypes"
   ]
  },
  {
   "cell_type": "code",
   "execution_count": 29,
   "metadata": {},
   "outputs": [],
   "source": [
    "# меняем тип данных у date\n",
    "game_actions['date']=pd.to_datetime(game_actions['date'])"
   ]
  },
  {
   "cell_type": "code",
   "execution_count": 30,
   "metadata": {},
   "outputs": [
    {
     "data": {
      "text/plain": [
       "Timestamp('2020-05-04 00:00:00')"
      ]
     },
     "execution_count": 30,
     "metadata": {},
     "output_type": "execute_result"
    }
   ],
   "source": [
    "# самая первая дата\n",
    "game_actions['date'].min()"
   ]
  },
  {
   "cell_type": "code",
   "execution_count": 31,
   "metadata": {},
   "outputs": [
    {
     "data": {
      "text/plain": [
       "Timestamp('2020-06-05 00:00:00')"
      ]
     },
     "execution_count": 31,
     "metadata": {},
     "output_type": "execute_result"
    }
   ],
   "source": [
    "# самая последняя дата\n",
    "game_actions['date'].max()"
   ]
  },
  {
   "cell_type": "markdown",
   "metadata": {},
   "source": [
    "Игровые события происходят с 4 мая по 5 июня 2020 г"
   ]
  },
  {
   "cell_type": "markdown",
   "metadata": {},
   "source": [
    "Для дальнейшего анализа необходимо добавить play_group из таблицы events в таблицу game_actions"
   ]
  },
  {
   "cell_type": "code",
   "execution_count": 32,
   "metadata": {},
   "outputs": [],
   "source": [
    "events=events.drop(['building','finished_stage_1','project','type'],axis=1)"
   ]
  },
  {
   "cell_type": "code",
   "execution_count": 33,
   "metadata": {},
   "outputs": [],
   "source": [
    "game_actions=game_actions.merge(events, on='user_id')"
   ]
  },
  {
   "cell_type": "markdown",
   "metadata": {},
   "source": [
    "Поведение игроков может различаться не только по игровой стратегии которую они избрали, но и по рекламному источнико из которого они пришли. Объеденим таблицы для анализа рекламных источников"
   ]
  },
  {
   "cell_type": "code",
   "execution_count": 34,
   "metadata": {},
   "outputs": [
    {
     "data": {
      "text/html": [
       "<div>\n",
       "<style scoped>\n",
       "    .dataframe tbody tr th:only-of-type {\n",
       "        vertical-align: middle;\n",
       "    }\n",
       "\n",
       "    .dataframe tbody tr th {\n",
       "        vertical-align: top;\n",
       "    }\n",
       "\n",
       "    .dataframe thead th {\n",
       "        text-align: right;\n",
       "    }\n",
       "</style>\n",
       "<table border=\"1\" class=\"dataframe\">\n",
       "  <thead>\n",
       "    <tr style=\"text-align: right;\">\n",
       "      <th></th>\n",
       "      <th>event_datetime</th>\n",
       "      <th>event</th>\n",
       "      <th>building_type</th>\n",
       "      <th>user_id</th>\n",
       "      <th>project_type</th>\n",
       "      <th>date</th>\n",
       "      <th>week</th>\n",
       "      <th>hour</th>\n",
       "      <th>play_group</th>\n",
       "    </tr>\n",
       "  </thead>\n",
       "  <tbody>\n",
       "    <tr>\n",
       "      <th>0</th>\n",
       "      <td>2020-05-04 00:00:01</td>\n",
       "      <td>building</td>\n",
       "      <td>assembly_shop</td>\n",
       "      <td>55e92310-cb8e-4754-b622-597e124b03de</td>\n",
       "      <td>NaN</td>\n",
       "      <td>2020-05-04</td>\n",
       "      <td>19</td>\n",
       "      <td>0</td>\n",
       "      <td>unfinished</td>\n",
       "    </tr>\n",
       "    <tr>\n",
       "      <th>1</th>\n",
       "      <td>2020-05-05 05:20:15</td>\n",
       "      <td>building</td>\n",
       "      <td>assembly_shop</td>\n",
       "      <td>55e92310-cb8e-4754-b622-597e124b03de</td>\n",
       "      <td>NaN</td>\n",
       "      <td>2020-05-05</td>\n",
       "      <td>19</td>\n",
       "      <td>5</td>\n",
       "      <td>unfinished</td>\n",
       "    </tr>\n",
       "    <tr>\n",
       "      <th>2</th>\n",
       "      <td>2020-05-05 19:24:02</td>\n",
       "      <td>building</td>\n",
       "      <td>assembly_shop</td>\n",
       "      <td>55e92310-cb8e-4754-b622-597e124b03de</td>\n",
       "      <td>NaN</td>\n",
       "      <td>2020-05-05</td>\n",
       "      <td>19</td>\n",
       "      <td>19</td>\n",
       "      <td>unfinished</td>\n",
       "    </tr>\n",
       "    <tr>\n",
       "      <th>3</th>\n",
       "      <td>2020-05-05 20:59:19</td>\n",
       "      <td>building</td>\n",
       "      <td>assembly_shop</td>\n",
       "      <td>55e92310-cb8e-4754-b622-597e124b03de</td>\n",
       "      <td>NaN</td>\n",
       "      <td>2020-05-05</td>\n",
       "      <td>19</td>\n",
       "      <td>20</td>\n",
       "      <td>unfinished</td>\n",
       "    </tr>\n",
       "    <tr>\n",
       "      <th>4</th>\n",
       "      <td>2020-05-06 00:52:56</td>\n",
       "      <td>building</td>\n",
       "      <td>assembly_shop</td>\n",
       "      <td>55e92310-cb8e-4754-b622-597e124b03de</td>\n",
       "      <td>NaN</td>\n",
       "      <td>2020-05-06</td>\n",
       "      <td>19</td>\n",
       "      <td>0</td>\n",
       "      <td>unfinished</td>\n",
       "    </tr>\n",
       "    <tr>\n",
       "      <th>...</th>\n",
       "      <td>...</td>\n",
       "      <td>...</td>\n",
       "      <td>...</td>\n",
       "      <td>...</td>\n",
       "      <td>...</td>\n",
       "      <td>...</td>\n",
       "      <td>...</td>\n",
       "      <td>...</td>\n",
       "      <td>...</td>\n",
       "    </tr>\n",
       "    <tr>\n",
       "      <th>135634</th>\n",
       "      <td>2020-05-13 23:56:39</td>\n",
       "      <td>building</td>\n",
       "      <td>spaceport</td>\n",
       "      <td>cafd1b8b-507b-49ae-abf0-89fe863a8b03</td>\n",
       "      <td>NaN</td>\n",
       "      <td>2020-05-13</td>\n",
       "      <td>20</td>\n",
       "      <td>23</td>\n",
       "      <td>unfinished</td>\n",
       "    </tr>\n",
       "    <tr>\n",
       "      <th>135635</th>\n",
       "      <td>2020-05-18 00:23:28</td>\n",
       "      <td>building</td>\n",
       "      <td>spaceport</td>\n",
       "      <td>cafd1b8b-507b-49ae-abf0-89fe863a8b03</td>\n",
       "      <td>NaN</td>\n",
       "      <td>2020-05-18</td>\n",
       "      <td>21</td>\n",
       "      <td>0</td>\n",
       "      <td>unfinished</td>\n",
       "    </tr>\n",
       "    <tr>\n",
       "      <th>135636</th>\n",
       "      <td>2020-05-10 23:59:52</td>\n",
       "      <td>building</td>\n",
       "      <td>assembly_shop</td>\n",
       "      <td>bdc53e19-462a-4dc3-8b55-b4a34278af6a</td>\n",
       "      <td>NaN</td>\n",
       "      <td>2020-05-10</td>\n",
       "      <td>19</td>\n",
       "      <td>23</td>\n",
       "      <td>unfinished</td>\n",
       "    </tr>\n",
       "    <tr>\n",
       "      <th>135637</th>\n",
       "      <td>2020-05-13 08:11:19</td>\n",
       "      <td>building</td>\n",
       "      <td>spaceport</td>\n",
       "      <td>bdc53e19-462a-4dc3-8b55-b4a34278af6a</td>\n",
       "      <td>NaN</td>\n",
       "      <td>2020-05-13</td>\n",
       "      <td>20</td>\n",
       "      <td>8</td>\n",
       "      <td>unfinished</td>\n",
       "    </tr>\n",
       "    <tr>\n",
       "      <th>135638</th>\n",
       "      <td>2020-05-18 11:11:11</td>\n",
       "      <td>building</td>\n",
       "      <td>spaceport</td>\n",
       "      <td>bdc53e19-462a-4dc3-8b55-b4a34278af6a</td>\n",
       "      <td>NaN</td>\n",
       "      <td>2020-05-18</td>\n",
       "      <td>21</td>\n",
       "      <td>11</td>\n",
       "      <td>unfinished</td>\n",
       "    </tr>\n",
       "  </tbody>\n",
       "</table>\n",
       "<p>135639 rows × 9 columns</p>\n",
       "</div>"
      ],
      "text/plain": [
       "            event_datetime     event  building_type  \\\n",
       "0      2020-05-04 00:00:01  building  assembly_shop   \n",
       "1      2020-05-05 05:20:15  building  assembly_shop   \n",
       "2      2020-05-05 19:24:02  building  assembly_shop   \n",
       "3      2020-05-05 20:59:19  building  assembly_shop   \n",
       "4      2020-05-06 00:52:56  building  assembly_shop   \n",
       "...                    ...       ...            ...   \n",
       "135634 2020-05-13 23:56:39  building      spaceport   \n",
       "135635 2020-05-18 00:23:28  building      spaceport   \n",
       "135636 2020-05-10 23:59:52  building  assembly_shop   \n",
       "135637 2020-05-13 08:11:19  building      spaceport   \n",
       "135638 2020-05-18 11:11:11  building      spaceport   \n",
       "\n",
       "                                     user_id project_type       date  week  \\\n",
       "0       55e92310-cb8e-4754-b622-597e124b03de          NaN 2020-05-04    19   \n",
       "1       55e92310-cb8e-4754-b622-597e124b03de          NaN 2020-05-05    19   \n",
       "2       55e92310-cb8e-4754-b622-597e124b03de          NaN 2020-05-05    19   \n",
       "3       55e92310-cb8e-4754-b622-597e124b03de          NaN 2020-05-05    19   \n",
       "4       55e92310-cb8e-4754-b622-597e124b03de          NaN 2020-05-06    19   \n",
       "...                                      ...          ...        ...   ...   \n",
       "135634  cafd1b8b-507b-49ae-abf0-89fe863a8b03          NaN 2020-05-13    20   \n",
       "135635  cafd1b8b-507b-49ae-abf0-89fe863a8b03          NaN 2020-05-18    21   \n",
       "135636  bdc53e19-462a-4dc3-8b55-b4a34278af6a          NaN 2020-05-10    19   \n",
       "135637  bdc53e19-462a-4dc3-8b55-b4a34278af6a          NaN 2020-05-13    20   \n",
       "135638  bdc53e19-462a-4dc3-8b55-b4a34278af6a          NaN 2020-05-18    21   \n",
       "\n",
       "        hour  play_group  \n",
       "0          0  unfinished  \n",
       "1          5  unfinished  \n",
       "2         19  unfinished  \n",
       "3         20  unfinished  \n",
       "4          0  unfinished  \n",
       "...      ...         ...  \n",
       "135634    23  unfinished  \n",
       "135635     0  unfinished  \n",
       "135636    23  unfinished  \n",
       "135637     8  unfinished  \n",
       "135638    11  unfinished  \n",
       "\n",
       "[135639 rows x 9 columns]"
      ]
     },
     "execution_count": 34,
     "metadata": {},
     "output_type": "execute_result"
    }
   ],
   "source": [
    "game_actions"
   ]
  },
  {
   "cell_type": "code",
   "execution_count": 35,
   "metadata": {},
   "outputs": [],
   "source": [
    "cost=cost.groupby('source')['cost'].sum().reset_index()"
   ]
  },
  {
   "cell_type": "code",
   "execution_count": 36,
   "metadata": {},
   "outputs": [],
   "source": [
    "# объеденяем таблицы cost и user_source\n",
    "cost=cost.merge(user_source,on='source')"
   ]
  },
  {
   "cell_type": "code",
   "execution_count": 37,
   "metadata": {},
   "outputs": [],
   "source": [
    "# объеденяем таблицы cost и game_actions\n",
    "game_actions=game_actions.merge(cost, on='user_id')"
   ]
  },
  {
   "cell_type": "code",
   "execution_count": 38,
   "metadata": {},
   "outputs": [
    {
     "data": {
      "text/html": [
       "<div>\n",
       "<style scoped>\n",
       "    .dataframe tbody tr th:only-of-type {\n",
       "        vertical-align: middle;\n",
       "    }\n",
       "\n",
       "    .dataframe tbody tr th {\n",
       "        vertical-align: top;\n",
       "    }\n",
       "\n",
       "    .dataframe thead th {\n",
       "        text-align: right;\n",
       "    }\n",
       "</style>\n",
       "<table border=\"1\" class=\"dataframe\">\n",
       "  <thead>\n",
       "    <tr style=\"text-align: right;\">\n",
       "      <th></th>\n",
       "      <th>event_datetime</th>\n",
       "      <th>event</th>\n",
       "      <th>building_type</th>\n",
       "      <th>user_id</th>\n",
       "      <th>project_type</th>\n",
       "      <th>date</th>\n",
       "      <th>week</th>\n",
       "      <th>hour</th>\n",
       "      <th>play_group</th>\n",
       "      <th>source</th>\n",
       "      <th>cost</th>\n",
       "    </tr>\n",
       "  </thead>\n",
       "  <tbody>\n",
       "    <tr>\n",
       "      <th>0</th>\n",
       "      <td>2020-05-04 00:00:01</td>\n",
       "      <td>building</td>\n",
       "      <td>assembly_shop</td>\n",
       "      <td>55e92310-cb8e-4754-b622-597e124b03de</td>\n",
       "      <td>NaN</td>\n",
       "      <td>2020-05-04</td>\n",
       "      <td>19</td>\n",
       "      <td>0</td>\n",
       "      <td>unfinished</td>\n",
       "      <td>youtube_channel_reklama</td>\n",
       "      <td>1068.119204</td>\n",
       "    </tr>\n",
       "    <tr>\n",
       "      <th>1</th>\n",
       "      <td>2020-05-05 05:20:15</td>\n",
       "      <td>building</td>\n",
       "      <td>assembly_shop</td>\n",
       "      <td>55e92310-cb8e-4754-b622-597e124b03de</td>\n",
       "      <td>NaN</td>\n",
       "      <td>2020-05-05</td>\n",
       "      <td>19</td>\n",
       "      <td>5</td>\n",
       "      <td>unfinished</td>\n",
       "      <td>youtube_channel_reklama</td>\n",
       "      <td>1068.119204</td>\n",
       "    </tr>\n",
       "    <tr>\n",
       "      <th>2</th>\n",
       "      <td>2020-05-05 19:24:02</td>\n",
       "      <td>building</td>\n",
       "      <td>assembly_shop</td>\n",
       "      <td>55e92310-cb8e-4754-b622-597e124b03de</td>\n",
       "      <td>NaN</td>\n",
       "      <td>2020-05-05</td>\n",
       "      <td>19</td>\n",
       "      <td>19</td>\n",
       "      <td>unfinished</td>\n",
       "      <td>youtube_channel_reklama</td>\n",
       "      <td>1068.119204</td>\n",
       "    </tr>\n",
       "    <tr>\n",
       "      <th>3</th>\n",
       "      <td>2020-05-05 20:59:19</td>\n",
       "      <td>building</td>\n",
       "      <td>assembly_shop</td>\n",
       "      <td>55e92310-cb8e-4754-b622-597e124b03de</td>\n",
       "      <td>NaN</td>\n",
       "      <td>2020-05-05</td>\n",
       "      <td>19</td>\n",
       "      <td>20</td>\n",
       "      <td>unfinished</td>\n",
       "      <td>youtube_channel_reklama</td>\n",
       "      <td>1068.119204</td>\n",
       "    </tr>\n",
       "    <tr>\n",
       "      <th>4</th>\n",
       "      <td>2020-05-06 00:52:56</td>\n",
       "      <td>building</td>\n",
       "      <td>assembly_shop</td>\n",
       "      <td>55e92310-cb8e-4754-b622-597e124b03de</td>\n",
       "      <td>NaN</td>\n",
       "      <td>2020-05-06</td>\n",
       "      <td>19</td>\n",
       "      <td>0</td>\n",
       "      <td>unfinished</td>\n",
       "      <td>youtube_channel_reklama</td>\n",
       "      <td>1068.119204</td>\n",
       "    </tr>\n",
       "    <tr>\n",
       "      <th>...</th>\n",
       "      <td>...</td>\n",
       "      <td>...</td>\n",
       "      <td>...</td>\n",
       "      <td>...</td>\n",
       "      <td>...</td>\n",
       "      <td>...</td>\n",
       "      <td>...</td>\n",
       "      <td>...</td>\n",
       "      <td>...</td>\n",
       "      <td>...</td>\n",
       "      <td>...</td>\n",
       "    </tr>\n",
       "    <tr>\n",
       "      <th>135634</th>\n",
       "      <td>2020-05-13 23:56:39</td>\n",
       "      <td>building</td>\n",
       "      <td>spaceport</td>\n",
       "      <td>cafd1b8b-507b-49ae-abf0-89fe863a8b03</td>\n",
       "      <td>NaN</td>\n",
       "      <td>2020-05-13</td>\n",
       "      <td>20</td>\n",
       "      <td>23</td>\n",
       "      <td>unfinished</td>\n",
       "      <td>facebook_ads</td>\n",
       "      <td>2140.904643</td>\n",
       "    </tr>\n",
       "    <tr>\n",
       "      <th>135635</th>\n",
       "      <td>2020-05-18 00:23:28</td>\n",
       "      <td>building</td>\n",
       "      <td>spaceport</td>\n",
       "      <td>cafd1b8b-507b-49ae-abf0-89fe863a8b03</td>\n",
       "      <td>NaN</td>\n",
       "      <td>2020-05-18</td>\n",
       "      <td>21</td>\n",
       "      <td>0</td>\n",
       "      <td>unfinished</td>\n",
       "      <td>facebook_ads</td>\n",
       "      <td>2140.904643</td>\n",
       "    </tr>\n",
       "    <tr>\n",
       "      <th>135636</th>\n",
       "      <td>2020-05-10 23:59:52</td>\n",
       "      <td>building</td>\n",
       "      <td>assembly_shop</td>\n",
       "      <td>bdc53e19-462a-4dc3-8b55-b4a34278af6a</td>\n",
       "      <td>NaN</td>\n",
       "      <td>2020-05-10</td>\n",
       "      <td>19</td>\n",
       "      <td>23</td>\n",
       "      <td>unfinished</td>\n",
       "      <td>youtube_channel_reklama</td>\n",
       "      <td>1068.119204</td>\n",
       "    </tr>\n",
       "    <tr>\n",
       "      <th>135637</th>\n",
       "      <td>2020-05-13 08:11:19</td>\n",
       "      <td>building</td>\n",
       "      <td>spaceport</td>\n",
       "      <td>bdc53e19-462a-4dc3-8b55-b4a34278af6a</td>\n",
       "      <td>NaN</td>\n",
       "      <td>2020-05-13</td>\n",
       "      <td>20</td>\n",
       "      <td>8</td>\n",
       "      <td>unfinished</td>\n",
       "      <td>youtube_channel_reklama</td>\n",
       "      <td>1068.119204</td>\n",
       "    </tr>\n",
       "    <tr>\n",
       "      <th>135638</th>\n",
       "      <td>2020-05-18 11:11:11</td>\n",
       "      <td>building</td>\n",
       "      <td>spaceport</td>\n",
       "      <td>bdc53e19-462a-4dc3-8b55-b4a34278af6a</td>\n",
       "      <td>NaN</td>\n",
       "      <td>2020-05-18</td>\n",
       "      <td>21</td>\n",
       "      <td>11</td>\n",
       "      <td>unfinished</td>\n",
       "      <td>youtube_channel_reklama</td>\n",
       "      <td>1068.119204</td>\n",
       "    </tr>\n",
       "  </tbody>\n",
       "</table>\n",
       "<p>135639 rows × 11 columns</p>\n",
       "</div>"
      ],
      "text/plain": [
       "            event_datetime     event  building_type  \\\n",
       "0      2020-05-04 00:00:01  building  assembly_shop   \n",
       "1      2020-05-05 05:20:15  building  assembly_shop   \n",
       "2      2020-05-05 19:24:02  building  assembly_shop   \n",
       "3      2020-05-05 20:59:19  building  assembly_shop   \n",
       "4      2020-05-06 00:52:56  building  assembly_shop   \n",
       "...                    ...       ...            ...   \n",
       "135634 2020-05-13 23:56:39  building      spaceport   \n",
       "135635 2020-05-18 00:23:28  building      spaceport   \n",
       "135636 2020-05-10 23:59:52  building  assembly_shop   \n",
       "135637 2020-05-13 08:11:19  building      spaceport   \n",
       "135638 2020-05-18 11:11:11  building      spaceport   \n",
       "\n",
       "                                     user_id project_type       date  week  \\\n",
       "0       55e92310-cb8e-4754-b622-597e124b03de          NaN 2020-05-04    19   \n",
       "1       55e92310-cb8e-4754-b622-597e124b03de          NaN 2020-05-05    19   \n",
       "2       55e92310-cb8e-4754-b622-597e124b03de          NaN 2020-05-05    19   \n",
       "3       55e92310-cb8e-4754-b622-597e124b03de          NaN 2020-05-05    19   \n",
       "4       55e92310-cb8e-4754-b622-597e124b03de          NaN 2020-05-06    19   \n",
       "...                                      ...          ...        ...   ...   \n",
       "135634  cafd1b8b-507b-49ae-abf0-89fe863a8b03          NaN 2020-05-13    20   \n",
       "135635  cafd1b8b-507b-49ae-abf0-89fe863a8b03          NaN 2020-05-18    21   \n",
       "135636  bdc53e19-462a-4dc3-8b55-b4a34278af6a          NaN 2020-05-10    19   \n",
       "135637  bdc53e19-462a-4dc3-8b55-b4a34278af6a          NaN 2020-05-13    20   \n",
       "135638  bdc53e19-462a-4dc3-8b55-b4a34278af6a          NaN 2020-05-18    21   \n",
       "\n",
       "        hour  play_group                   source         cost  \n",
       "0          0  unfinished  youtube_channel_reklama  1068.119204  \n",
       "1          5  unfinished  youtube_channel_reklama  1068.119204  \n",
       "2         19  unfinished  youtube_channel_reklama  1068.119204  \n",
       "3         20  unfinished  youtube_channel_reklama  1068.119204  \n",
       "4          0  unfinished  youtube_channel_reklama  1068.119204  \n",
       "...      ...         ...                      ...          ...  \n",
       "135634    23  unfinished             facebook_ads  2140.904643  \n",
       "135635     0  unfinished             facebook_ads  2140.904643  \n",
       "135636    23  unfinished  youtube_channel_reklama  1068.119204  \n",
       "135637     8  unfinished  youtube_channel_reklama  1068.119204  \n",
       "135638    11  unfinished  youtube_channel_reklama  1068.119204  \n",
       "\n",
       "[135639 rows x 11 columns]"
      ]
     },
     "execution_count": 38,
     "metadata": {},
     "output_type": "execute_result"
    }
   ],
   "source": [
    "game_actions"
   ]
  },
  {
   "cell_type": "markdown",
   "metadata": {},
   "source": [
    "###### Расчитаем DAU, WAU"
   ]
  },
  {
   "cell_type": "code",
   "execution_count": 39,
   "metadata": {},
   "outputs": [],
   "source": [
    "#расчитаем DAU\n",
    "dau=game_actions.groupby('date').agg({'user_id': 'nunique'}).mean()"
   ]
  },
  {
   "cell_type": "code",
   "execution_count": 40,
   "metadata": {},
   "outputs": [],
   "source": [
    "#расчитаем WAU\n",
    "wau=game_actions.groupby('week').agg({'user_id': 'nunique'}).mean()"
   ]
  },
  {
   "cell_type": "code",
   "execution_count": 41,
   "metadata": {},
   "outputs": [
    {
     "data": {
      "text/plain": [
       "user_id    2884.878788\n",
       "dtype: float64"
      ]
     },
     "execution_count": 41,
     "metadata": {},
     "output_type": "execute_result"
    }
   ],
   "source": [
    "dau"
   ]
  },
  {
   "cell_type": "code",
   "execution_count": 42,
   "metadata": {},
   "outputs": [
    {
     "data": {
      "text/plain": [
       "user_id    6120.0\n",
       "dtype: float64"
      ]
     },
     "execution_count": 42,
     "metadata": {},
     "output_type": "execute_result"
    }
   ],
   "source": [
    "wau"
   ]
  },
  {
   "cell_type": "code",
   "execution_count": 43,
   "metadata": {},
   "outputs": [],
   "source": [
    "# посмотрим мвовлеченность аудитории\n",
    "sticky_wau=dau/wau*100"
   ]
  },
  {
   "cell_type": "code",
   "execution_count": 44,
   "metadata": {},
   "outputs": [
    {
     "data": {
      "text/plain": [
       "user_id    47.138542\n",
       "dtype: float64"
      ]
     },
     "execution_count": 44,
     "metadata": {},
     "output_type": "execute_result"
    }
   ],
   "source": [
    "sticky_wau"
   ]
  },
  {
   "cell_type": "markdown",
   "metadata": {},
   "source": [
    "В среднем каждый день играли 2884 игрока, а каждую неделю в среднем 6120. Stiky factor получился достаточно высокий, но следует отметить что промежуток при расчете данного показателя небольшой, т.е более реалистично он себя покажет если рассмативать более длительные сроки"
   ]
  },
  {
   "cell_type": "code",
   "execution_count": 45,
   "metadata": {},
   "outputs": [],
   "source": [
    "# посмотрим как понедельно распределялись количество игроков\n",
    "week_group=game_actions.groupby('week')['user_id'].nunique().reset_index()"
   ]
  },
  {
   "cell_type": "code",
   "execution_count": 46,
   "metadata": {},
   "outputs": [],
   "source": [
    "# посчитаем долю пользователей от общего и от предыдущего яисла пользователей \n",
    "week_group['user_id,total%']=(week_group['user_id']/week_group['user_id'][0]*100).round(2)\n",
    "week_group['user_id_shift']=week_group['user_id'].shift().fillna(13576)\n",
    "week_group['user_id_prev%']=((week_group['user_id']/week_group['user_id_shift'])*100).round(2)\n",
    "week_group=week_group.drop('user_id_shift',axis=1)"
   ]
  },
  {
   "cell_type": "code",
   "execution_count": 47,
   "metadata": {},
   "outputs": [
    {
     "data": {
      "text/html": [
       "<div>\n",
       "<style scoped>\n",
       "    .dataframe tbody tr th:only-of-type {\n",
       "        vertical-align: middle;\n",
       "    }\n",
       "\n",
       "    .dataframe tbody tr th {\n",
       "        vertical-align: top;\n",
       "    }\n",
       "\n",
       "    .dataframe thead th {\n",
       "        text-align: right;\n",
       "    }\n",
       "</style>\n",
       "<table border=\"1\" class=\"dataframe\">\n",
       "  <thead>\n",
       "    <tr style=\"text-align: right;\">\n",
       "      <th></th>\n",
       "      <th>week</th>\n",
       "      <th>user_id</th>\n",
       "      <th>user_id,total%</th>\n",
       "      <th>user_id_prev%</th>\n",
       "    </tr>\n",
       "  </thead>\n",
       "  <tbody>\n",
       "    <tr>\n",
       "      <th>0</th>\n",
       "      <td>19</td>\n",
       "      <td>13576</td>\n",
       "      <td>100.00</td>\n",
       "      <td>100.00</td>\n",
       "    </tr>\n",
       "    <tr>\n",
       "      <th>1</th>\n",
       "      <td>20</td>\n",
       "      <td>12121</td>\n",
       "      <td>89.28</td>\n",
       "      <td>89.28</td>\n",
       "    </tr>\n",
       "    <tr>\n",
       "      <th>2</th>\n",
       "      <td>21</td>\n",
       "      <td>4353</td>\n",
       "      <td>32.06</td>\n",
       "      <td>35.91</td>\n",
       "    </tr>\n",
       "    <tr>\n",
       "      <th>3</th>\n",
       "      <td>22</td>\n",
       "      <td>521</td>\n",
       "      <td>3.84</td>\n",
       "      <td>11.97</td>\n",
       "    </tr>\n",
       "    <tr>\n",
       "      <th>4</th>\n",
       "      <td>23</td>\n",
       "      <td>29</td>\n",
       "      <td>0.21</td>\n",
       "      <td>5.57</td>\n",
       "    </tr>\n",
       "  </tbody>\n",
       "</table>\n",
       "</div>"
      ],
      "text/plain": [
       "   week  user_id  user_id,total%  user_id_prev%\n",
       "0    19    13576          100.00         100.00\n",
       "1    20    12121           89.28          89.28\n",
       "2    21     4353           32.06          35.91\n",
       "3    22      521            3.84          11.97\n",
       "4    23       29            0.21           5.57"
      ]
     },
     "execution_count": 47,
     "metadata": {},
     "output_type": "execute_result"
    }
   ],
   "source": [
    "week_group"
   ]
  },
  {
   "cell_type": "markdown",
   "metadata": {},
   "source": [
    " На 20 недели количество пользователей практически не изменилось (89%). Резкий отток игроков произошёл на 21 недели (32% от общего количества игроков). Причем на 4-й недели из 4353 игроков играли лишь 11%. И к концу месяца в игре были менее 1 % игроков\n",
    "\n"
   ]
  },
  {
   "cell_type": "markdown",
   "metadata": {},
   "source": [
    "###### Динамика количества событий"
   ]
  },
  {
   "cell_type": "code",
   "execution_count": 48,
   "metadata": {},
   "outputs": [],
   "source": [
    "# создадим функцию для построения графика \n",
    "def plot(df,grouping_col, target_col,x_label,y_label,label,title):\n",
    "    \"\"\" на вход функция получаеет аргументы: датафрейм, фактор по которому группируем, данные которые представлям на графике, \n",
    "        название оси Х, название оси У, название графика\n",
    "        при группировки количество уникальных значений\"\"\"\n",
    "    df.groupby(grouping_col)[target_col].nunique().plot(figsize=(16,9),label=label, grid=True)\n",
    "    plt.xlabel(x_label) \n",
    "    plt.ylabel(y_label) \n",
    "    plt.title(title)\n",
    "    plt.legend()"
   ]
  },
  {
   "cell_type": "code",
   "execution_count": 49,
   "metadata": {},
   "outputs": [
    {
     "data": {
      "image/png": "[encoded data removed]",
      "text/plain": [
       "<Figure size 1152x648 with 1 Axes>"
      ]
     },
     "metadata": {
      "needs_background": "light"
     },
     "output_type": "display_data"
    }
   ],
   "source": [
    "plot(game_actions,'date','user_id','Период, дни','Количество игроков','Количество игроков','Динамика количества игроков')"
   ]
  },
  {
   "cell_type": "code",
   "execution_count": 50,
   "metadata": {},
   "outputs": [
    {
     "data": {
      "text/plain": [
       "satellite_orbital_assembly    1866\n",
       "Name: project_type, dtype: int64"
      ]
     },
     "execution_count": 50,
     "metadata": {},
     "output_type": "execute_result"
    }
   ],
   "source": [
    "game_actions['project_type'].value_counts()"
   ]
  },
  {
   "cell_type": "code",
   "execution_count": 51,
   "metadata": {},
   "outputs": [
    {
     "data": {
      "text/plain": [
       "yandex_direct              47694\n",
       "instagram_new_adverts      33757\n",
       "facebook_ads               27672\n",
       "youtube_channel_reklama    26516\n",
       "Name: source, dtype: int64"
      ]
     },
     "execution_count": 51,
     "metadata": {},
     "output_type": "execute_result"
    }
   ],
   "source": [
    "game_actions['source'].value_counts()"
   ]
  },
  {
   "cell_type": "code",
   "execution_count": 52,
   "metadata": {},
   "outputs": [
    {
     "data": {
      "text/html": [
       "<div>\n",
       "<style scoped>\n",
       "    .dataframe tbody tr th:only-of-type {\n",
       "        vertical-align: middle;\n",
       "    }\n",
       "\n",
       "    .dataframe tbody tr th {\n",
       "        vertical-align: top;\n",
       "    }\n",
       "\n",
       "    .dataframe thead th {\n",
       "        text-align: right;\n",
       "    }\n",
       "</style>\n",
       "<table border=\"1\" class=\"dataframe\">\n",
       "  <thead>\n",
       "    <tr style=\"text-align: right;\">\n",
       "      <th></th>\n",
       "      <th>event_datetime</th>\n",
       "      <th>event</th>\n",
       "      <th>building_type</th>\n",
       "      <th>user_id</th>\n",
       "      <th>project_type</th>\n",
       "      <th>date</th>\n",
       "      <th>week</th>\n",
       "      <th>hour</th>\n",
       "      <th>play_group</th>\n",
       "      <th>source</th>\n",
       "      <th>cost</th>\n",
       "    </tr>\n",
       "  </thead>\n",
       "  <tbody>\n",
       "    <tr>\n",
       "      <th>0</th>\n",
       "      <td>2020-05-04 00:00:01</td>\n",
       "      <td>building</td>\n",
       "      <td>assembly_shop</td>\n",
       "      <td>55e92310-cb8e-4754-b622-597e124b03de</td>\n",
       "      <td>NaN</td>\n",
       "      <td>2020-05-04</td>\n",
       "      <td>19</td>\n",
       "      <td>0</td>\n",
       "      <td>unfinished</td>\n",
       "      <td>youtube_channel_reklama</td>\n",
       "      <td>1068.119204</td>\n",
       "    </tr>\n",
       "    <tr>\n",
       "      <th>1</th>\n",
       "      <td>2020-05-05 05:20:15</td>\n",
       "      <td>building</td>\n",
       "      <td>assembly_shop</td>\n",
       "      <td>55e92310-cb8e-4754-b622-597e124b03de</td>\n",
       "      <td>NaN</td>\n",
       "      <td>2020-05-05</td>\n",
       "      <td>19</td>\n",
       "      <td>5</td>\n",
       "      <td>unfinished</td>\n",
       "      <td>youtube_channel_reklama</td>\n",
       "      <td>1068.119204</td>\n",
       "    </tr>\n",
       "    <tr>\n",
       "      <th>2</th>\n",
       "      <td>2020-05-05 19:24:02</td>\n",
       "      <td>building</td>\n",
       "      <td>assembly_shop</td>\n",
       "      <td>55e92310-cb8e-4754-b622-597e124b03de</td>\n",
       "      <td>NaN</td>\n",
       "      <td>2020-05-05</td>\n",
       "      <td>19</td>\n",
       "      <td>19</td>\n",
       "      <td>unfinished</td>\n",
       "      <td>youtube_channel_reklama</td>\n",
       "      <td>1068.119204</td>\n",
       "    </tr>\n",
       "  </tbody>\n",
       "</table>\n",
       "</div>"
      ],
      "text/plain": [
       "       event_datetime     event  building_type  \\\n",
       "0 2020-05-04 00:00:01  building  assembly_shop   \n",
       "1 2020-05-05 05:20:15  building  assembly_shop   \n",
       "2 2020-05-05 19:24:02  building  assembly_shop   \n",
       "\n",
       "                                user_id project_type       date  week  hour  \\\n",
       "0  55e92310-cb8e-4754-b622-597e124b03de          NaN 2020-05-04    19     0   \n",
       "1  55e92310-cb8e-4754-b622-597e124b03de          NaN 2020-05-05    19     5   \n",
       "2  55e92310-cb8e-4754-b622-597e124b03de          NaN 2020-05-05    19    19   \n",
       "\n",
       "   play_group                   source         cost  \n",
       "0  unfinished  youtube_channel_reklama  1068.119204  \n",
       "1  unfinished  youtube_channel_reklama  1068.119204  \n",
       "2  unfinished  youtube_channel_reklama  1068.119204  "
      ]
     },
     "execution_count": 52,
     "metadata": {},
     "output_type": "execute_result"
    }
   ],
   "source": [
    "game_actions.head(3)"
   ]
  },
  {
   "cell_type": "code",
   "execution_count": 53,
   "metadata": {},
   "outputs": [],
   "source": [
    "# срез данных по игрокам завершившим проект и победившим врага\n",
    "winner=game_actions[game_actions['play_group']=='winner']\n",
    "project=game_actions[game_actions['play_group']=='project']\n",
    "unfinished=game_actions[game_actions['play_group']=='unfinished']"
   ]
  },
  {
   "cell_type": "code",
   "execution_count": 54,
   "metadata": {},
   "outputs": [],
   "source": [
    "# срез данных по игрокам завершившим проект и победившим врага\n",
    "winner_type=game_actions[(game_actions['event']!='building')&(game_actions['play_group']=='winner')]\n",
    "project_type=game_actions[(game_actions['event']!='building')&(game_actions['play_group']=='project')]"
   ]
  },
  {
   "cell_type": "code",
   "execution_count": 55,
   "metadata": {},
   "outputs": [],
   "source": [
    "# срез данных по игрокам разных рекламных источников\n",
    "yandex=game_actions[game_actions['source']=='yandex_direct']\n",
    "instagram=game_actions[game_actions['source']=='instagram_new_adverts']\n",
    "facebook=game_actions[game_actions['source']=='facebook_ads']\n",
    "youtube=game_actions[game_actions['source']=='youtube_channel_reklama']"
   ]
  },
  {
   "cell_type": "code",
   "execution_count": 56,
   "metadata": {},
   "outputs": [
    {
     "data": {
      "image/png": "[encoded data removed]",
      "text/plain": [
       "<Figure size 1152x648 with 1 Axes>"
      ]
     },
     "metadata": {
      "needs_background": "light"
     },
     "output_type": "display_data"
    }
   ],
   "source": [
    "# сравним динамику по разным группам игроков\n",
    "plot(game_actions,'date','user_id','Период, дни','Количество игроков','Общее количество игроков','Динамика количества игроков')\n",
    "plot(winner,'date','user_id','Период, дни','Количество игроков','Победили врага','Динамика количества игроков')\n",
    "plot(project,'date','user_id','Период, дни','Количество игроков','Завершили проект','Динамика количества игроков')\n",
    "plot(unfinished,'date','user_id','Период, дни','Количество игроков','Не завершили уровень','Динамика количества игроков')\n",
    "plt.show()"
   ]
  },
  {
   "cell_type": "markdown",
   "metadata": {},
   "source": [
    "Динамика активности у всех групп игроков (кто не завершил уровень и кто завершил уровень разными способами). До 6-го дня произходит рост количества игроков, после 6.го дня - резкое снижение.\n",
    "\n",
    "Посмотрим какое количество игроков завершают такие события как победа над врагом и завершения проекта"
   ]
  },
  {
   "cell_type": "code",
   "execution_count": 57,
   "metadata": {},
   "outputs": [
    {
     "data": {
      "image/png": "[encoded data removed]",
      "text/plain": [
       "<Figure size 1152x648 with 1 Axes>"
      ]
     },
     "metadata": {
      "needs_background": "light"
     },
     "output_type": "display_data"
    }
   ],
   "source": [
    "# сравним динамику по разным группам игроков\n",
    "plot(winner_type,'date','user_id','Период, дни','Количество игроков','Победили врага','Динамика количества игроков')\n",
    "plot(project_type,'date','user_id','Период, дни','Количество игроков','Завершили проект','Динамика количества игроков')"
   ]
  },
  {
   "cell_type": "markdown",
   "metadata": {},
   "source": [
    "Игроки активно строят постройки, после 10 мая начинают события либо победа над врагом, либо завершнение проекта. После 15-16 мая эти события идут на спад"
   ]
  },
  {
   "cell_type": "code",
   "execution_count": 58,
   "metadata": {},
   "outputs": [
    {
     "data": {
      "image/png": "[encoded data removed]",
      "text/plain": [
       "<Figure size 1152x648 with 1 Axes>"
      ]
     },
     "metadata": {
      "needs_background": "light"
     },
     "output_type": "display_data"
    }
   ],
   "source": [
    "# сравним только игроков, которые пришли из разных рекламных источников\n",
    "plot(yandex,'date','user_id','Период, дни','Количество посетителей','Yandex','Динамика количества посетителей')\n",
    "plot(instagram,'date','user_id','Период, дни','Количество посетителей','Instagram','Динамика количества посетителей')\n",
    "plot(facebook,'date','user_id','Период, дни','Количество посетителей','Facebook','Динамика количества посетителей')\n",
    "plot(youtube,'date','user_id','Период, дни','Количество посетителей','Youtube','Динамика количества посетителей')\n",
    "plt.show()"
   ]
  },
  {
   "cell_type": "markdown",
   "metadata": {},
   "source": [
    "Динамика участия игороков которые либо победили врага, либо завершли проект схожа. Пик участия приходится на 15-16 мая\n",
    "Динамика участия игроков пришедших  с разных рекламных источников тоже не различается, но от Yandex пришло больше всего игроков, затем от Instagram, затем Facebook и Youtube. Причем от Facebook и Youtube пришло примерно одинаковое количество игроков"
   ]
  },
  {
   "cell_type": "markdown",
   "metadata": {},
   "source": [
    "Количество игроков пришедших из разных рекламных источников"
   ]
  },
  {
   "cell_type": "code",
   "execution_count": 59,
   "metadata": {},
   "outputs": [
    {
     "data": {
      "text/html": [
       "<div>\n",
       "<style scoped>\n",
       "    .dataframe tbody tr th:only-of-type {\n",
       "        vertical-align: middle;\n",
       "    }\n",
       "\n",
       "    .dataframe tbody tr th {\n",
       "        vertical-align: top;\n",
       "    }\n",
       "\n",
       "    .dataframe thead th {\n",
       "        text-align: right;\n",
       "    }\n",
       "</style>\n",
       "<table border=\"1\" class=\"dataframe\">\n",
       "  <thead>\n",
       "    <tr style=\"text-align: right;\">\n",
       "      <th></th>\n",
       "      <th>source</th>\n",
       "      <th>user_id</th>\n",
       "    </tr>\n",
       "  </thead>\n",
       "  <tbody>\n",
       "    <tr>\n",
       "      <th>2</th>\n",
       "      <td>yandex_direct</td>\n",
       "      <td>4817</td>\n",
       "    </tr>\n",
       "    <tr>\n",
       "      <th>1</th>\n",
       "      <td>instagram_new_adverts</td>\n",
       "      <td>3347</td>\n",
       "    </tr>\n",
       "    <tr>\n",
       "      <th>0</th>\n",
       "      <td>facebook_ads</td>\n",
       "      <td>2726</td>\n",
       "    </tr>\n",
       "    <tr>\n",
       "      <th>3</th>\n",
       "      <td>youtube_channel_reklama</td>\n",
       "      <td>2686</td>\n",
       "    </tr>\n",
       "  </tbody>\n",
       "</table>\n",
       "</div>"
      ],
      "text/plain": [
       "                    source  user_id\n",
       "2            yandex_direct     4817\n",
       "1    instagram_new_adverts     3347\n",
       "0             facebook_ads     2726\n",
       "3  youtube_channel_reklama     2686"
      ]
     },
     "execution_count": 59,
     "metadata": {},
     "output_type": "execute_result"
    }
   ],
   "source": [
    "game_actions.groupby('source')['user_id'].nunique().reset_index().sort_values(by='user_id',ascending=False)"
   ]
  },
  {
   "cell_type": "markdown",
   "metadata": {},
   "source": [
    "Активность игроков в разный период суток"
   ]
  },
  {
   "cell_type": "code",
   "execution_count": 60,
   "metadata": {},
   "outputs": [
    {
     "data": {
      "image/png": "[encoded data removed]",
      "text/plain": [
       "<Figure size 1152x648 with 1 Axes>"
      ]
     },
     "metadata": {
      "needs_background": "light"
     },
     "output_type": "display_data"
    }
   ],
   "source": [
    "# Посмотрим в какие часы игроки чаще всего играют\n",
    "plot(game_actions,'hour','user_id','Период, часы','Количество игроков','Количество игроков','Количество игроков в разное время суток')"
   ]
  },
  {
   "cell_type": "markdown",
   "metadata": {},
   "source": [
    "Из графика видно что есть время высокой и низкой активности. Посмортим различаются ли активности у тех кто завершил проект, либо победил врага"
   ]
  },
  {
   "cell_type": "markdown",
   "metadata": {},
   "source": [
    "###### Время игровой активности"
   ]
  },
  {
   "cell_type": "code",
   "execution_count": 61,
   "metadata": {},
   "outputs": [
    {
     "data": {
      "image/png": "[encoded data removed]",
      "text/plain": [
       "<Figure size 1152x648 with 1 Axes>"
      ]
     },
     "metadata": {
      "needs_background": "light"
     },
     "output_type": "display_data"
    }
   ],
   "source": [
    "# сравним только игроков, которые завершили уровень \n",
    "plot(winner,'hour','user_id','Период, часы','Количество игроков','Победили врага','Количество игроков в разное время суток')\n",
    "plot(project,'hour','user_id','Период, часы','Количество игроков','Завершили проект','Количество игроков в разное время суток')\n",
    "plot(unfinished,'hour','user_id','Период, часы','Количество игроков','Не завершили уровень','Количество игроков в разное время суток')\n",
    "plt.show()"
   ]
  },
  {
   "cell_type": "markdown",
   "metadata": {},
   "source": [
    "Динамика активности у игроков которые закончили уровень разными способами схожа, но различается с теми кто не завершил уровень. Посмотрим в какое время игроки завершают уровень (исключим строительство)"
   ]
  },
  {
   "cell_type": "code",
   "execution_count": 62,
   "metadata": {},
   "outputs": [
    {
     "data": {
      "text/html": [
       "<div>\n",
       "<style scoped>\n",
       "    .dataframe tbody tr th:only-of-type {\n",
       "        vertical-align: middle;\n",
       "    }\n",
       "\n",
       "    .dataframe tbody tr th {\n",
       "        vertical-align: top;\n",
       "    }\n",
       "\n",
       "    .dataframe thead th {\n",
       "        text-align: right;\n",
       "    }\n",
       "</style>\n",
       "<table border=\"1\" class=\"dataframe\">\n",
       "  <thead>\n",
       "    <tr style=\"text-align: right;\">\n",
       "      <th></th>\n",
       "      <th>event_datetime</th>\n",
       "      <th>event</th>\n",
       "      <th>building_type</th>\n",
       "      <th>user_id</th>\n",
       "      <th>project_type</th>\n",
       "      <th>date</th>\n",
       "      <th>week</th>\n",
       "      <th>hour</th>\n",
       "      <th>play_group</th>\n",
       "      <th>source</th>\n",
       "      <th>cost</th>\n",
       "    </tr>\n",
       "  </thead>\n",
       "  <tbody>\n",
       "    <tr>\n",
       "      <th>0</th>\n",
       "      <td>2020-05-04 00:00:01</td>\n",
       "      <td>building</td>\n",
       "      <td>assembly_shop</td>\n",
       "      <td>55e92310-cb8e-4754-b622-597e124b03de</td>\n",
       "      <td>NaN</td>\n",
       "      <td>2020-05-04</td>\n",
       "      <td>19</td>\n",
       "      <td>0</td>\n",
       "      <td>unfinished</td>\n",
       "      <td>youtube_channel_reklama</td>\n",
       "      <td>1068.119204</td>\n",
       "    </tr>\n",
       "    <tr>\n",
       "      <th>1</th>\n",
       "      <td>2020-05-05 05:20:15</td>\n",
       "      <td>building</td>\n",
       "      <td>assembly_shop</td>\n",
       "      <td>55e92310-cb8e-4754-b622-597e124b03de</td>\n",
       "      <td>NaN</td>\n",
       "      <td>2020-05-05</td>\n",
       "      <td>19</td>\n",
       "      <td>5</td>\n",
       "      <td>unfinished</td>\n",
       "      <td>youtube_channel_reklama</td>\n",
       "      <td>1068.119204</td>\n",
       "    </tr>\n",
       "    <tr>\n",
       "      <th>2</th>\n",
       "      <td>2020-05-05 19:24:02</td>\n",
       "      <td>building</td>\n",
       "      <td>assembly_shop</td>\n",
       "      <td>55e92310-cb8e-4754-b622-597e124b03de</td>\n",
       "      <td>NaN</td>\n",
       "      <td>2020-05-05</td>\n",
       "      <td>19</td>\n",
       "      <td>19</td>\n",
       "      <td>unfinished</td>\n",
       "      <td>youtube_channel_reklama</td>\n",
       "      <td>1068.119204</td>\n",
       "    </tr>\n",
       "  </tbody>\n",
       "</table>\n",
       "</div>"
      ],
      "text/plain": [
       "       event_datetime     event  building_type  \\\n",
       "0 2020-05-04 00:00:01  building  assembly_shop   \n",
       "1 2020-05-05 05:20:15  building  assembly_shop   \n",
       "2 2020-05-05 19:24:02  building  assembly_shop   \n",
       "\n",
       "                                user_id project_type       date  week  hour  \\\n",
       "0  55e92310-cb8e-4754-b622-597e124b03de          NaN 2020-05-04    19     0   \n",
       "1  55e92310-cb8e-4754-b622-597e124b03de          NaN 2020-05-05    19     5   \n",
       "2  55e92310-cb8e-4754-b622-597e124b03de          NaN 2020-05-05    19    19   \n",
       "\n",
       "   play_group                   source         cost  \n",
       "0  unfinished  youtube_channel_reklama  1068.119204  \n",
       "1  unfinished  youtube_channel_reklama  1068.119204  \n",
       "2  unfinished  youtube_channel_reklama  1068.119204  "
      ]
     },
     "execution_count": 62,
     "metadata": {},
     "output_type": "execute_result"
    }
   ],
   "source": [
    "game_actions.head(3)"
   ]
  },
  {
   "cell_type": "markdown",
   "metadata": {},
   "source": [
    "Чтобы определить в какое время суток чаще играют - разделим время на утро, день, вечер, ночь"
   ]
  },
  {
   "cell_type": "code",
   "execution_count": 63,
   "metadata": {},
   "outputs": [],
   "source": [
    "#для анализа данных необходимо созать категории по распределению играков\n",
    "# если в столбце type 1 - игрок завершил уровень победой\n",
    "# если в столбце type 2 - игрок завершил уровень проектом\n",
    "def times (time):\n",
    "    if (time>=5) and (time<=11):\n",
    "        return 'утро'\n",
    "    if (time>=12) and (time<=16):\n",
    "        return 'день'\n",
    "    if (time>=17) and (time<=23):\n",
    "        return 'вечер'\n",
    "    if (time>=0) and (time<=4):\n",
    "        return 'ночь'\n",
    "    \n",
    "    return 'unfinished'\n",
    "\n",
    "game_actions['time']=game_actions['hour'].apply(times)"
   ]
  },
  {
   "cell_type": "code",
   "execution_count": 64,
   "metadata": {},
   "outputs": [
    {
     "data": {
      "text/html": [
       "<div>\n",
       "<style scoped>\n",
       "    .dataframe tbody tr th:only-of-type {\n",
       "        vertical-align: middle;\n",
       "    }\n",
       "\n",
       "    .dataframe tbody tr th {\n",
       "        vertical-align: top;\n",
       "    }\n",
       "\n",
       "    .dataframe thead th {\n",
       "        text-align: right;\n",
       "    }\n",
       "</style>\n",
       "<table border=\"1\" class=\"dataframe\">\n",
       "  <thead>\n",
       "    <tr style=\"text-align: right;\">\n",
       "      <th></th>\n",
       "      <th>event_datetime</th>\n",
       "      <th>event</th>\n",
       "      <th>building_type</th>\n",
       "      <th>user_id</th>\n",
       "      <th>project_type</th>\n",
       "      <th>date</th>\n",
       "      <th>week</th>\n",
       "      <th>hour</th>\n",
       "      <th>play_group</th>\n",
       "      <th>source</th>\n",
       "      <th>cost</th>\n",
       "      <th>time</th>\n",
       "    </tr>\n",
       "  </thead>\n",
       "  <tbody>\n",
       "    <tr>\n",
       "      <th>0</th>\n",
       "      <td>2020-05-04 00:00:01</td>\n",
       "      <td>building</td>\n",
       "      <td>assembly_shop</td>\n",
       "      <td>55e92310-cb8e-4754-b622-597e124b03de</td>\n",
       "      <td>NaN</td>\n",
       "      <td>2020-05-04</td>\n",
       "      <td>19</td>\n",
       "      <td>0</td>\n",
       "      <td>unfinished</td>\n",
       "      <td>youtube_channel_reklama</td>\n",
       "      <td>1068.119204</td>\n",
       "      <td>ночь</td>\n",
       "    </tr>\n",
       "    <tr>\n",
       "      <th>1</th>\n",
       "      <td>2020-05-05 05:20:15</td>\n",
       "      <td>building</td>\n",
       "      <td>assembly_shop</td>\n",
       "      <td>55e92310-cb8e-4754-b622-597e124b03de</td>\n",
       "      <td>NaN</td>\n",
       "      <td>2020-05-05</td>\n",
       "      <td>19</td>\n",
       "      <td>5</td>\n",
       "      <td>unfinished</td>\n",
       "      <td>youtube_channel_reklama</td>\n",
       "      <td>1068.119204</td>\n",
       "      <td>утро</td>\n",
       "    </tr>\n",
       "    <tr>\n",
       "      <th>2</th>\n",
       "      <td>2020-05-05 19:24:02</td>\n",
       "      <td>building</td>\n",
       "      <td>assembly_shop</td>\n",
       "      <td>55e92310-cb8e-4754-b622-597e124b03de</td>\n",
       "      <td>NaN</td>\n",
       "      <td>2020-05-05</td>\n",
       "      <td>19</td>\n",
       "      <td>19</td>\n",
       "      <td>unfinished</td>\n",
       "      <td>youtube_channel_reklama</td>\n",
       "      <td>1068.119204</td>\n",
       "      <td>вечер</td>\n",
       "    </tr>\n",
       "  </tbody>\n",
       "</table>\n",
       "</div>"
      ],
      "text/plain": [
       "       event_datetime     event  building_type  \\\n",
       "0 2020-05-04 00:00:01  building  assembly_shop   \n",
       "1 2020-05-05 05:20:15  building  assembly_shop   \n",
       "2 2020-05-05 19:24:02  building  assembly_shop   \n",
       "\n",
       "                                user_id project_type       date  week  hour  \\\n",
       "0  55e92310-cb8e-4754-b622-597e124b03de          NaN 2020-05-04    19     0   \n",
       "1  55e92310-cb8e-4754-b622-597e124b03de          NaN 2020-05-05    19     5   \n",
       "2  55e92310-cb8e-4754-b622-597e124b03de          NaN 2020-05-05    19    19   \n",
       "\n",
       "   play_group                   source         cost   time  \n",
       "0  unfinished  youtube_channel_reklama  1068.119204   ночь  \n",
       "1  unfinished  youtube_channel_reklama  1068.119204   утро  \n",
       "2  unfinished  youtube_channel_reklama  1068.119204  вечер  "
      ]
     },
     "execution_count": 64,
     "metadata": {},
     "output_type": "execute_result"
    }
   ],
   "source": [
    "game_actions.head(3)"
   ]
  },
  {
   "cell_type": "code",
   "execution_count": 65,
   "metadata": {},
   "outputs": [],
   "source": [
    "# срез данных по игрокам завершившим проект и победившим врага\n",
    "winner=game_actions[game_actions['play_group']=='winner']\n",
    "project=game_actions[game_actions['play_group']=='project']\n",
    "unfinished=game_actions[game_actions['play_group']=='unfinished']"
   ]
  },
  {
   "cell_type": "code",
   "execution_count": 66,
   "metadata": {},
   "outputs": [],
   "source": [
    "# срез данных по игрокам разных рекламных источников\n",
    "yandex=game_actions[game_actions['source']=='yandex_direct']\n",
    "instagram=game_actions[game_actions['source']=='instagram_new_adverts']\n",
    "facebook=game_actions[game_actions['source']=='facebook_ads']\n",
    "youtube=game_actions[game_actions['source']=='youtube_channel_reklama']"
   ]
  },
  {
   "cell_type": "markdown",
   "metadata": {},
   "source": [
    "###### Распределение игроков по игровому времени"
   ]
  },
  {
   "cell_type": "code",
   "execution_count": 67,
   "metadata": {},
   "outputs": [],
   "source": [
    "# по-часовая активность всех игроков\n",
    "time=game_actions.groupby('time')['user_id'].nunique().reset_index().sort_values(by='user_id')"
   ]
  },
  {
   "cell_type": "code",
   "execution_count": 68,
   "metadata": {},
   "outputs": [],
   "source": [
    "# по-часовая активность игроков победивших врага\n",
    "time_winner=winner.groupby('time')['user_id'].nunique().reset_index().sort_values(by='user_id')\n",
    "time_winner.columns=['time', 'winner']"
   ]
  },
  {
   "cell_type": "code",
   "execution_count": 69,
   "metadata": {},
   "outputs": [],
   "source": [
    "# по-часовая активность игроков завершивших проект\n",
    "time_project=project.groupby('time')['user_id'].nunique().reset_index().sort_values(by='user_id')\n",
    "time_project.columns=['time', 'project']"
   ]
  },
  {
   "cell_type": "code",
   "execution_count": 70,
   "metadata": {},
   "outputs": [],
   "source": [
    "# по-часовая активность игроков завершивших проект\n",
    "time_unfinished=unfinished.groupby('time')['user_id'].nunique().reset_index().sort_values(by='user_id')\n",
    "time_unfinished.columns=['time', 'unfinished']"
   ]
  },
  {
   "cell_type": "code",
   "execution_count": 71,
   "metadata": {},
   "outputs": [],
   "source": [
    "# объеденим таблицы\n",
    "time=time.merge(time_winner,on='time')\n",
    "time=time.merge(time_project,on='time')\n",
    "time=time.merge(time_unfinished,on='time')"
   ]
  },
  {
   "cell_type": "code",
   "execution_count": 72,
   "metadata": {},
   "outputs": [],
   "source": [
    "# общее количество игроков 13576, из них: 1866 завершили проект,3951 победили врага, не завершили уровень 7759 \n",
    "# посчитаем долю игроков в разное время суток\n",
    "\n",
    "time['user_id,%']=(time['user_id']/13576).map('{:.2%}'.format)\n",
    "time['winner,%']=(time['winner']/3951).map('{:.2%}'.format)\n",
    "time['project,%']=(time['project']/1866).map('{:.2%}'.format)\n",
    "time['unfinished,%']=(time['unfinished']/7759).map('{:.2%}'.format)"
   ]
  },
  {
   "cell_type": "code",
   "execution_count": 73,
   "metadata": {},
   "outputs": [
    {
     "data": {
      "text/html": [
       "<div>\n",
       "<style scoped>\n",
       "    .dataframe tbody tr th:only-of-type {\n",
       "        vertical-align: middle;\n",
       "    }\n",
       "\n",
       "    .dataframe tbody tr th {\n",
       "        vertical-align: top;\n",
       "    }\n",
       "\n",
       "    .dataframe thead th {\n",
       "        text-align: right;\n",
       "    }\n",
       "</style>\n",
       "<table border=\"1\" class=\"dataframe\">\n",
       "  <thead>\n",
       "    <tr style=\"text-align: right;\">\n",
       "      <th></th>\n",
       "      <th>time</th>\n",
       "      <th>user_id</th>\n",
       "      <th>winner</th>\n",
       "      <th>project</th>\n",
       "      <th>unfinished</th>\n",
       "      <th>user_id,%</th>\n",
       "      <th>winner,%</th>\n",
       "      <th>project,%</th>\n",
       "      <th>unfinished,%</th>\n",
       "    </tr>\n",
       "  </thead>\n",
       "  <tbody>\n",
       "    <tr>\n",
       "      <th>0</th>\n",
       "      <td>ночь</td>\n",
       "      <td>11508</td>\n",
       "      <td>3485</td>\n",
       "      <td>1808</td>\n",
       "      <td>6215</td>\n",
       "      <td>84.77%</td>\n",
       "      <td>88.21%</td>\n",
       "      <td>96.89%</td>\n",
       "      <td>80.10%</td>\n",
       "    </tr>\n",
       "    <tr>\n",
       "      <th>1</th>\n",
       "      <td>день</td>\n",
       "      <td>11548</td>\n",
       "      <td>3505</td>\n",
       "      <td>1792</td>\n",
       "      <td>6251</td>\n",
       "      <td>85.06%</td>\n",
       "      <td>88.71%</td>\n",
       "      <td>96.03%</td>\n",
       "      <td>80.56%</td>\n",
       "    </tr>\n",
       "    <tr>\n",
       "      <th>2</th>\n",
       "      <td>утро</td>\n",
       "      <td>12481</td>\n",
       "      <td>3742</td>\n",
       "      <td>1857</td>\n",
       "      <td>6882</td>\n",
       "      <td>91.93%</td>\n",
       "      <td>94.71%</td>\n",
       "      <td>99.52%</td>\n",
       "      <td>88.70%</td>\n",
       "    </tr>\n",
       "    <tr>\n",
       "      <th>3</th>\n",
       "      <td>вечер</td>\n",
       "      <td>12499</td>\n",
       "      <td>3741</td>\n",
       "      <td>1852</td>\n",
       "      <td>6906</td>\n",
       "      <td>92.07%</td>\n",
       "      <td>94.68%</td>\n",
       "      <td>99.25%</td>\n",
       "      <td>89.01%</td>\n",
       "    </tr>\n",
       "  </tbody>\n",
       "</table>\n",
       "</div>"
      ],
      "text/plain": [
       "    time  user_id  winner  project  unfinished user_id,% winner,% project,%  \\\n",
       "0   ночь    11508    3485     1808        6215    84.77%   88.21%    96.89%   \n",
       "1   день    11548    3505     1792        6251    85.06%   88.71%    96.03%   \n",
       "2   утро    12481    3742     1857        6882    91.93%   94.71%    99.52%   \n",
       "3  вечер    12499    3741     1852        6906    92.07%   94.68%    99.25%   \n",
       "\n",
       "  unfinished,%  \n",
       "0       80.10%  \n",
       "1       80.56%  \n",
       "2       88.70%  \n",
       "3       89.01%  "
      ]
     },
     "execution_count": 73,
     "metadata": {},
     "output_type": "execute_result"
    }
   ],
   "source": [
    "time"
   ]
  },
  {
   "cell_type": "markdown",
   "metadata": {},
   "source": [
    "У всех групп игроков самая высокая активность утром и вечером. Игроки , которые нацелены завершить уровень реализацией проекта, участвуют практически расномерно. У игроков, которые не завершили уровень и которые завершили игру победой над врагом - чаще всего появляются утром и вечером (днем - работа, учеба, ночью - сон)"
   ]
  },
  {
   "cell_type": "markdown",
   "metadata": {},
   "source": [
    "###### Распределение количества событий по игровому времени"
   ]
  },
  {
   "cell_type": "code",
   "execution_count": 74,
   "metadata": {},
   "outputs": [],
   "source": [
    "# по-часовая активность всех игроков\n",
    "time_event=game_actions.groupby('time')['user_id'].count().reset_index().sort_values(by='user_id')\n",
    "time_event.columns=['time', 'event']"
   ]
  },
  {
   "cell_type": "code",
   "execution_count": 75,
   "metadata": {},
   "outputs": [],
   "source": [
    "# по-часовая активность игроков победивших врага\n",
    "time_winner_event=winner.groupby('time')['user_id'].count().reset_index().sort_values(by='user_id')\n",
    "time_winner_event.columns=['time', 'event_winner']"
   ]
  },
  {
   "cell_type": "code",
   "execution_count": 76,
   "metadata": {},
   "outputs": [],
   "source": [
    "# по-часовая активность игроков завершивших проект\n",
    "time_unfinished_event=unfinished.groupby('time')['user_id'].count().reset_index().sort_values(by='user_id')\n",
    "time_unfinished_event.columns=['time', 'event_unfin']"
   ]
  },
  {
   "cell_type": "code",
   "execution_count": 77,
   "metadata": {},
   "outputs": [],
   "source": [
    "# по-часовая активность игроков завершивших проект\n",
    "time_project_event=project.groupby('time')['user_id'].count().reset_index().sort_values(by='user_id')\n",
    "time_project_event.columns=['time', 'event_project']"
   ]
  },
  {
   "cell_type": "code",
   "execution_count": 78,
   "metadata": {},
   "outputs": [],
   "source": [
    "# объеденим таблицы\n",
    "time_event=time_event.merge(time_winner_event,on='time')\n",
    "time_event=time_event.merge(time_project_event,on='time')\n",
    "time_event=time_event.merge(time_unfinished_event,on='time')"
   ]
  },
  {
   "cell_type": "code",
   "execution_count": 79,
   "metadata": {},
   "outputs": [
    {
     "data": {
      "text/html": [
       "<div>\n",
       "<style scoped>\n",
       "    .dataframe tbody tr th:only-of-type {\n",
       "        vertical-align: middle;\n",
       "    }\n",
       "\n",
       "    .dataframe tbody tr th {\n",
       "        vertical-align: top;\n",
       "    }\n",
       "\n",
       "    .dataframe thead th {\n",
       "        text-align: right;\n",
       "    }\n",
       "</style>\n",
       "<table border=\"1\" class=\"dataframe\">\n",
       "  <thead>\n",
       "    <tr style=\"text-align: right;\">\n",
       "      <th></th>\n",
       "      <th>time</th>\n",
       "      <th>event</th>\n",
       "      <th>event_winner</th>\n",
       "      <th>event_project</th>\n",
       "      <th>event_unfin</th>\n",
       "    </tr>\n",
       "  </thead>\n",
       "  <tbody>\n",
       "    <tr>\n",
       "      <th>0</th>\n",
       "      <td>ночь</td>\n",
       "      <td>28140</td>\n",
       "      <td>8584</td>\n",
       "      <td>5644</td>\n",
       "      <td>13912</td>\n",
       "    </tr>\n",
       "    <tr>\n",
       "      <th>1</th>\n",
       "      <td>день</td>\n",
       "      <td>28262</td>\n",
       "      <td>8550</td>\n",
       "      <td>5642</td>\n",
       "      <td>14070</td>\n",
       "    </tr>\n",
       "    <tr>\n",
       "      <th>2</th>\n",
       "      <td>вечер</td>\n",
       "      <td>39465</td>\n",
       "      <td>11952</td>\n",
       "      <td>8024</td>\n",
       "      <td>19489</td>\n",
       "    </tr>\n",
       "    <tr>\n",
       "      <th>3</th>\n",
       "      <td>утро</td>\n",
       "      <td>39772</td>\n",
       "      <td>12050</td>\n",
       "      <td>8023</td>\n",
       "      <td>19699</td>\n",
       "    </tr>\n",
       "  </tbody>\n",
       "</table>\n",
       "</div>"
      ],
      "text/plain": [
       "    time  event  event_winner  event_project  event_unfin\n",
       "0   ночь  28140          8584           5644        13912\n",
       "1   день  28262          8550           5642        14070\n",
       "2  вечер  39465         11952           8024        19489\n",
       "3   утро  39772         12050           8023        19699"
      ]
     },
     "execution_count": 79,
     "metadata": {},
     "output_type": "execute_result"
    }
   ],
   "source": [
    "time_event"
   ]
  },
  {
   "cell_type": "code",
   "execution_count": 80,
   "metadata": {},
   "outputs": [],
   "source": [
    "# объеденим 2 таблицы\n",
    "time=time.merge(time_event,on='time')"
   ]
  },
  {
   "cell_type": "code",
   "execution_count": 81,
   "metadata": {},
   "outputs": [
    {
     "data": {
      "text/html": [
       "<div>\n",
       "<style scoped>\n",
       "    .dataframe tbody tr th:only-of-type {\n",
       "        vertical-align: middle;\n",
       "    }\n",
       "\n",
       "    .dataframe tbody tr th {\n",
       "        vertical-align: top;\n",
       "    }\n",
       "\n",
       "    .dataframe thead th {\n",
       "        text-align: right;\n",
       "    }\n",
       "</style>\n",
       "<table border=\"1\" class=\"dataframe\">\n",
       "  <thead>\n",
       "    <tr style=\"text-align: right;\">\n",
       "      <th></th>\n",
       "      <th>time</th>\n",
       "      <th>user_id</th>\n",
       "      <th>winner</th>\n",
       "      <th>project</th>\n",
       "      <th>unfinished</th>\n",
       "      <th>user_id,%</th>\n",
       "      <th>winner,%</th>\n",
       "      <th>project,%</th>\n",
       "      <th>unfinished,%</th>\n",
       "      <th>event</th>\n",
       "      <th>event_winner</th>\n",
       "      <th>event_project</th>\n",
       "      <th>event_unfin</th>\n",
       "    </tr>\n",
       "  </thead>\n",
       "  <tbody>\n",
       "    <tr>\n",
       "      <th>0</th>\n",
       "      <td>ночь</td>\n",
       "      <td>11508</td>\n",
       "      <td>3485</td>\n",
       "      <td>1808</td>\n",
       "      <td>6215</td>\n",
       "      <td>84.77%</td>\n",
       "      <td>88.21%</td>\n",
       "      <td>96.89%</td>\n",
       "      <td>80.10%</td>\n",
       "      <td>28140</td>\n",
       "      <td>8584</td>\n",
       "      <td>5644</td>\n",
       "      <td>13912</td>\n",
       "    </tr>\n",
       "    <tr>\n",
       "      <th>1</th>\n",
       "      <td>день</td>\n",
       "      <td>11548</td>\n",
       "      <td>3505</td>\n",
       "      <td>1792</td>\n",
       "      <td>6251</td>\n",
       "      <td>85.06%</td>\n",
       "      <td>88.71%</td>\n",
       "      <td>96.03%</td>\n",
       "      <td>80.56%</td>\n",
       "      <td>28262</td>\n",
       "      <td>8550</td>\n",
       "      <td>5642</td>\n",
       "      <td>14070</td>\n",
       "    </tr>\n",
       "    <tr>\n",
       "      <th>2</th>\n",
       "      <td>утро</td>\n",
       "      <td>12481</td>\n",
       "      <td>3742</td>\n",
       "      <td>1857</td>\n",
       "      <td>6882</td>\n",
       "      <td>91.93%</td>\n",
       "      <td>94.71%</td>\n",
       "      <td>99.52%</td>\n",
       "      <td>88.70%</td>\n",
       "      <td>39772</td>\n",
       "      <td>12050</td>\n",
       "      <td>8023</td>\n",
       "      <td>19699</td>\n",
       "    </tr>\n",
       "    <tr>\n",
       "      <th>3</th>\n",
       "      <td>вечер</td>\n",
       "      <td>12499</td>\n",
       "      <td>3741</td>\n",
       "      <td>1852</td>\n",
       "      <td>6906</td>\n",
       "      <td>92.07%</td>\n",
       "      <td>94.68%</td>\n",
       "      <td>99.25%</td>\n",
       "      <td>89.01%</td>\n",
       "      <td>39465</td>\n",
       "      <td>11952</td>\n",
       "      <td>8024</td>\n",
       "      <td>19489</td>\n",
       "    </tr>\n",
       "  </tbody>\n",
       "</table>\n",
       "</div>"
      ],
      "text/plain": [
       "    time  user_id  winner  project  unfinished user_id,% winner,% project,%  \\\n",
       "0   ночь    11508    3485     1808        6215    84.77%   88.21%    96.89%   \n",
       "1   день    11548    3505     1792        6251    85.06%   88.71%    96.03%   \n",
       "2   утро    12481    3742     1857        6882    91.93%   94.71%    99.52%   \n",
       "3  вечер    12499    3741     1852        6906    92.07%   94.68%    99.25%   \n",
       "\n",
       "  unfinished,%  event  event_winner  event_project  event_unfin  \n",
       "0       80.10%  28140          8584           5644        13912  \n",
       "1       80.56%  28262          8550           5642        14070  \n",
       "2       88.70%  39772         12050           8023        19699  \n",
       "3       89.01%  39465         11952           8024        19489  "
      ]
     },
     "execution_count": 81,
     "metadata": {},
     "output_type": "execute_result"
    }
   ],
   "source": [
    "time"
   ]
  },
  {
   "cell_type": "code",
   "execution_count": 82,
   "metadata": {},
   "outputs": [],
   "source": [
    "# рассчитаем среднее значение сессий игроков для каждой группы\n",
    "time['session']=time['event']/time['user_id']\n",
    "time['sess_win']=time['event_winner']/time['winner']\n",
    "time['sess_proj']=time['event_project']/time['project']\n",
    "time['sess_unfin']=time['event_unfin']/time['unfinished']"
   ]
  },
  {
   "cell_type": "code",
   "execution_count": 83,
   "metadata": {},
   "outputs": [
    {
     "data": {
      "text/html": [
       "<div>\n",
       "<style scoped>\n",
       "    .dataframe tbody tr th:only-of-type {\n",
       "        vertical-align: middle;\n",
       "    }\n",
       "\n",
       "    .dataframe tbody tr th {\n",
       "        vertical-align: top;\n",
       "    }\n",
       "\n",
       "    .dataframe thead th {\n",
       "        text-align: right;\n",
       "    }\n",
       "</style>\n",
       "<table border=\"1\" class=\"dataframe\">\n",
       "  <thead>\n",
       "    <tr style=\"text-align: right;\">\n",
       "      <th></th>\n",
       "      <th>time</th>\n",
       "      <th>user_id</th>\n",
       "      <th>winner</th>\n",
       "      <th>project</th>\n",
       "      <th>unfinished</th>\n",
       "      <th>user_id,%</th>\n",
       "      <th>winner,%</th>\n",
       "      <th>project,%</th>\n",
       "      <th>unfinished,%</th>\n",
       "      <th>event</th>\n",
       "      <th>event_winner</th>\n",
       "      <th>event_project</th>\n",
       "      <th>event_unfin</th>\n",
       "      <th>session</th>\n",
       "      <th>sess_win</th>\n",
       "      <th>sess_proj</th>\n",
       "      <th>sess_unfin</th>\n",
       "    </tr>\n",
       "  </thead>\n",
       "  <tbody>\n",
       "    <tr>\n",
       "      <th>0</th>\n",
       "      <td>ночь</td>\n",
       "      <td>11508</td>\n",
       "      <td>3485</td>\n",
       "      <td>1808</td>\n",
       "      <td>6215</td>\n",
       "      <td>84.77%</td>\n",
       "      <td>88.21%</td>\n",
       "      <td>96.89%</td>\n",
       "      <td>80.10%</td>\n",
       "      <td>28140</td>\n",
       "      <td>8584</td>\n",
       "      <td>5644</td>\n",
       "      <td>13912</td>\n",
       "      <td>2.445255</td>\n",
       "      <td>2.463128</td>\n",
       "      <td>3.121681</td>\n",
       "      <td>2.238455</td>\n",
       "    </tr>\n",
       "    <tr>\n",
       "      <th>1</th>\n",
       "      <td>день</td>\n",
       "      <td>11548</td>\n",
       "      <td>3505</td>\n",
       "      <td>1792</td>\n",
       "      <td>6251</td>\n",
       "      <td>85.06%</td>\n",
       "      <td>88.71%</td>\n",
       "      <td>96.03%</td>\n",
       "      <td>80.56%</td>\n",
       "      <td>28262</td>\n",
       "      <td>8550</td>\n",
       "      <td>5642</td>\n",
       "      <td>14070</td>\n",
       "      <td>2.447350</td>\n",
       "      <td>2.439372</td>\n",
       "      <td>3.148438</td>\n",
       "      <td>2.250840</td>\n",
       "    </tr>\n",
       "    <tr>\n",
       "      <th>2</th>\n",
       "      <td>утро</td>\n",
       "      <td>12481</td>\n",
       "      <td>3742</td>\n",
       "      <td>1857</td>\n",
       "      <td>6882</td>\n",
       "      <td>91.93%</td>\n",
       "      <td>94.71%</td>\n",
       "      <td>99.52%</td>\n",
       "      <td>88.70%</td>\n",
       "      <td>39772</td>\n",
       "      <td>12050</td>\n",
       "      <td>8023</td>\n",
       "      <td>19699</td>\n",
       "      <td>3.186604</td>\n",
       "      <td>3.220203</td>\n",
       "      <td>4.320409</td>\n",
       "      <td>2.862395</td>\n",
       "    </tr>\n",
       "    <tr>\n",
       "      <th>3</th>\n",
       "      <td>вечер</td>\n",
       "      <td>12499</td>\n",
       "      <td>3741</td>\n",
       "      <td>1852</td>\n",
       "      <td>6906</td>\n",
       "      <td>92.07%</td>\n",
       "      <td>94.68%</td>\n",
       "      <td>99.25%</td>\n",
       "      <td>89.01%</td>\n",
       "      <td>39465</td>\n",
       "      <td>11952</td>\n",
       "      <td>8024</td>\n",
       "      <td>19489</td>\n",
       "      <td>3.157453</td>\n",
       "      <td>3.194868</td>\n",
       "      <td>4.332613</td>\n",
       "      <td>2.822039</td>\n",
       "    </tr>\n",
       "  </tbody>\n",
       "</table>\n",
       "</div>"
      ],
      "text/plain": [
       "    time  user_id  winner  project  unfinished user_id,% winner,% project,%  \\\n",
       "0   ночь    11508    3485     1808        6215    84.77%   88.21%    96.89%   \n",
       "1   день    11548    3505     1792        6251    85.06%   88.71%    96.03%   \n",
       "2   утро    12481    3742     1857        6882    91.93%   94.71%    99.52%   \n",
       "3  вечер    12499    3741     1852        6906    92.07%   94.68%    99.25%   \n",
       "\n",
       "  unfinished,%  event  event_winner  event_project  event_unfin   session  \\\n",
       "0       80.10%  28140          8584           5644        13912  2.445255   \n",
       "1       80.56%  28262          8550           5642        14070  2.447350   \n",
       "2       88.70%  39772         12050           8023        19699  3.186604   \n",
       "3       89.01%  39465         11952           8024        19489  3.157453   \n",
       "\n",
       "   sess_win  sess_proj  sess_unfin  \n",
       "0  2.463128   3.121681    2.238455  \n",
       "1  2.439372   3.148438    2.250840  \n",
       "2  3.220203   4.320409    2.862395  \n",
       "3  3.194868   4.332613    2.822039  "
      ]
     },
     "execution_count": 83,
     "metadata": {},
     "output_type": "execute_result"
    }
   ],
   "source": [
    "time"
   ]
  },
  {
   "cell_type": "markdown",
   "metadata": {},
   "source": [
    "Также утром и вечером у игроков больше количество событий. Посмотрим игровую активность расчитав среднее количество сессий на 1 игрока"
   ]
  },
  {
   "cell_type": "markdown",
   "metadata": {},
   "source": [
    "##### Игровая сессия"
   ]
  },
  {
   "cell_type": "code",
   "execution_count": 84,
   "metadata": {},
   "outputs": [],
   "source": [
    "# сгруппируем ланные для расчета количества сессий и количества посетителей\n",
    "sessions=game_actions.groupby('date').agg({'user_id': ['count','nunique']})\n",
    "# переименуем названия столбцов\n",
    "sessions.columns=['n_sessions','n_users']\n",
    "# расчитаем количество сессий\n",
    "sessions['session_per_user']=sessions['n_sessions']/sessions['n_users']"
   ]
  },
  {
   "cell_type": "code",
   "execution_count": 85,
   "metadata": {},
   "outputs": [
    {
     "data": {
      "text/plain": [
       "1.3334837067723855"
      ]
     },
     "execution_count": 85,
     "metadata": {},
     "output_type": "execute_result"
    }
   ],
   "source": [
    "# среднее количество событий на игрока\n",
    "sessions['session_per_user'].mean()"
   ]
  },
  {
   "cell_type": "code",
   "execution_count": 86,
   "metadata": {},
   "outputs": [
    {
     "data": {
      "text/plain": [
       "<matplotlib.lines.Line2D at 0x270f3249d88>"
      ]
     },
     "execution_count": 86,
     "metadata": {},
     "output_type": "execute_result"
    },
    {
     "data": {
      "image/png": "[encoded data removed]",
      "text/plain": [
       "<Figure size 1152x648 with 1 Axes>"
      ]
     },
     "metadata": {
      "needs_background": "light"
     },
     "output_type": "display_data"
    }
   ],
   "source": [
    "# посмотрим как распределялась средняя величина сессий по дням\n",
    "sessions.groupby('date')['session_per_user'].max().plot(figsize=(16,9),label='Средняя величина сессий', grid=True)\n",
    "plt.xlabel('Период, дни') \n",
    "plt.ylabel('Средняя величина сессий') \n",
    "plt.title('Изменение средней величины сессий за период')\n",
    "plt.legend()\n",
    "plt.axhline(y=1.33,color='blue', linestyle='--')"
   ]
  },
  {
   "cell_type": "markdown",
   "metadata": {},
   "source": [
    "Если сравнивать с динамикой игроков - то в начале происходт рост количества пользователей, на 6-й день количество игроков снижается, то если расматривать активность игроков, то на 6-й день также снижается активность, то после 15 игрового дня активность начинает \"лихорадить\": то снижается, то растет. Посмотрим как меняется активность у разных групп игроков"
   ]
  },
  {
   "cell_type": "markdown",
   "metadata": {},
   "source": [
    "###### Сессии у игроков победивших врага и завершившие проект"
   ]
  },
  {
   "cell_type": "code",
   "execution_count": 87,
   "metadata": {},
   "outputs": [],
   "source": [
    "# группируем данные\n",
    "sessions_play_group=game_actions.groupby(['play_group','date']).agg({'user_id': ['count','nunique']})\n",
    "# переименуе столбцы\n",
    "sessions_play_group.columns=['n_sessions','n_users']\n",
    "# расчитаем количество сессий\n",
    "sessions_play_group['session_per_user']=sessions_play_group['n_sessions']/sessions_play_group['n_users']"
   ]
  },
  {
   "cell_type": "code",
   "execution_count": 88,
   "metadata": {},
   "outputs": [
    {
     "data": {
      "text/plain": [
       "1.3420144511983214"
      ]
     },
     "execution_count": 88,
     "metadata": {},
     "output_type": "execute_result"
    }
   ],
   "source": [
    "# среднее количество событий на игрока\n",
    "sessions_play_group['session_per_user'].mean()"
   ]
  },
  {
   "cell_type": "code",
   "execution_count": 89,
   "metadata": {},
   "outputs": [],
   "source": [
    "sessions_play_group=sessions_play_group.reset_index()"
   ]
  },
  {
   "cell_type": "code",
   "execution_count": 90,
   "metadata": {},
   "outputs": [],
   "source": [
    "# срез данных по игрокам завершившим проект и победившим врага\n",
    "winner_session=sessions_play_group[sessions_play_group['play_group']=='winner']\n",
    "project_session=sessions_play_group[sessions_play_group['play_group']=='project']\n",
    "unfinished_session=sessions_play_group[sessions_play_group['play_group']=='unfinished']"
   ]
  },
  {
   "cell_type": "code",
   "execution_count": 91,
   "metadata": {},
   "outputs": [
    {
     "data": {
      "text/plain": [
       "1.3450170002034652"
      ]
     },
     "execution_count": 91,
     "metadata": {},
     "output_type": "execute_result"
    }
   ],
   "source": [
    "# среднее количество событий на игрока победившего врага\n",
    "winner_session['session_per_user'].mean()"
   ]
  },
  {
   "cell_type": "code",
   "execution_count": 92,
   "metadata": {},
   "outputs": [
    {
     "data": {
      "text/plain": [
       "1.4423860881203652"
      ]
     },
     "execution_count": 92,
     "metadata": {},
     "output_type": "execute_result"
    }
   ],
   "source": [
    "# среднее количество событий на игрока завершившего проект\n",
    "project_session['session_per_user'].mean()"
   ]
  },
  {
   "cell_type": "code",
   "execution_count": 93,
   "metadata": {},
   "outputs": [
    {
     "data": {
      "text/plain": [
       "1.2352087576926727"
      ]
     },
     "execution_count": 93,
     "metadata": {},
     "output_type": "execute_result"
    }
   ],
   "source": [
    "# среднее количество событий на игрока не завершившего уровень\n",
    "unfinished_session['session_per_user'].mean()"
   ]
  },
  {
   "cell_type": "code",
   "execution_count": 94,
   "metadata": {},
   "outputs": [
    {
     "data": {
      "image/png": "[encoded data removed]",
      "text/plain": [
       "<Figure size 1152x648 with 1 Axes>"
      ]
     },
     "metadata": {
      "needs_background": "light"
     },
     "output_type": "display_data"
    }
   ],
   "source": [
    "# посмотрим как распределялась средняя величина сессий по дням\n",
    "winner_session.groupby('date')['session_per_user'].max().plot(figsize=(16,9),label='Победившие врага', grid=True)\n",
    "project_session.groupby('date')['session_per_user'].max().plot(figsize=(16,9),label='Завершившие проект', grid=True)\n",
    "plt.xlabel('Период, дни') \n",
    "plt.ylabel('Средняя величина сессий') \n",
    "plt.title('Изменение средней величины сессий за период')\n",
    "plt.legend()\n",
    "plt.axhline(y=1.345,color='blue', linestyle='--')\n",
    "plt.axhline(y=1.44,color='orange', linestyle='--')\n",
    "plt.show()\n"
   ]
  },
  {
   "cell_type": "markdown",
   "metadata": {},
   "source": [
    "Хотя те группа игроков которые победили врага более много численная, но игроки которые завершили проект более активные (возможно для  разработки орбитальной сборки спутников требуется построить больше зданий, совершить больше событий)"
   ]
  },
  {
   "cell_type": "markdown",
   "metadata": {},
   "source": [
    "###### Сравнения активности игроков в зависимости от рекламного источника"
   ]
  },
  {
   "cell_type": "code",
   "execution_count": 95,
   "metadata": {},
   "outputs": [],
   "source": [
    "# группируем данные\n",
    "sessions_source=game_actions.groupby(['source','date']).agg({'user_id': ['count','nunique']})\n",
    "# переименуе столбцы\n",
    "sessions_source.columns=['n_sessions','n_users']\n",
    "# расчитаем количество сессий\n",
    "sessions_source['session_per_user']=sessions_source['n_sessions']/sessions_source['n_users']"
   ]
  },
  {
   "cell_type": "code",
   "execution_count": 96,
   "metadata": {},
   "outputs": [
    {
     "data": {
      "text/plain": [
       "1.3359242014823574"
      ]
     },
     "execution_count": 96,
     "metadata": {},
     "output_type": "execute_result"
    }
   ],
   "source": [
    "# среднее количество событий на игрока\n",
    "sessions_source['session_per_user'].mean()"
   ]
  },
  {
   "cell_type": "code",
   "execution_count": 97,
   "metadata": {},
   "outputs": [],
   "source": [
    "sessions_source=sessions_source.reset_index()"
   ]
  },
  {
   "cell_type": "code",
   "execution_count": 98,
   "metadata": {},
   "outputs": [],
   "source": [
    "# срез данных по игрокам разных рекламных источников\n",
    "yandex_session=sessions_source[sessions_source['source']=='yandex_direct']\n",
    "instagram_session=sessions_source[sessions_source['source']=='instagram_new_adverts']\n",
    "facebook_session=sessions_source[sessions_source['source']=='facebook_ads']\n",
    "youtube_session=sessions_source[sessions_source['source']=='youtube_channel_reklama']"
   ]
  },
  {
   "cell_type": "code",
   "execution_count": 99,
   "metadata": {},
   "outputs": [
    {
     "data": {
      "text/plain": [
       "1.3048004664896014"
      ]
     },
     "execution_count": 99,
     "metadata": {},
     "output_type": "execute_result"
    }
   ],
   "source": [
    "# среднее количество событий игроков пришедших от yandex\n",
    "yandex_session['session_per_user'].mean()"
   ]
  },
  {
   "cell_type": "code",
   "execution_count": 100,
   "metadata": {},
   "outputs": [
    {
     "data": {
      "text/plain": [
       "1.3458418952593776"
      ]
     },
     "execution_count": 100,
     "metadata": {},
     "output_type": "execute_result"
    }
   ],
   "source": [
    "# среднее количество событий игроков пришедших от instagram\n",
    "instagram_session['session_per_user'].mean()"
   ]
  },
  {
   "cell_type": "code",
   "execution_count": 101,
   "metadata": {},
   "outputs": [
    {
     "data": {
      "text/plain": [
       "1.3339172114071451"
      ]
     },
     "execution_count": 101,
     "metadata": {},
     "output_type": "execute_result"
    }
   ],
   "source": [
    "# среднее количество событий игроков пришедших от facebook\n",
    "facebook_session['session_per_user'].mean()"
   ]
  },
  {
   "cell_type": "code",
   "execution_count": 102,
   "metadata": {},
   "outputs": [
    {
     "data": {
      "text/plain": [
       "1.3598626400011473"
      ]
     },
     "execution_count": 102,
     "metadata": {},
     "output_type": "execute_result"
    }
   ],
   "source": [
    "# среднее количество событий игроков пришедших от youtube\n",
    "youtube_session['session_per_user'].mean()"
   ]
  },
  {
   "cell_type": "code",
   "execution_count": 103,
   "metadata": {},
   "outputs": [],
   "source": [
    "# запишем все средние в таблицу\n",
    "avg_session= pd.DataFrame({'source':['yandex_direct', 'instagram_new_adverts', 'facebook_ads', 'youtube_channel_reklama'], 'avg_session':[1.30, 1.346, 1.33, 1.359]})"
   ]
  },
  {
   "cell_type": "code",
   "execution_count": 104,
   "metadata": {},
   "outputs": [
    {
     "data": {
      "text/html": [
       "<div>\n",
       "<style scoped>\n",
       "    .dataframe tbody tr th:only-of-type {\n",
       "        vertical-align: middle;\n",
       "    }\n",
       "\n",
       "    .dataframe tbody tr th {\n",
       "        vertical-align: top;\n",
       "    }\n",
       "\n",
       "    .dataframe thead th {\n",
       "        text-align: right;\n",
       "    }\n",
       "</style>\n",
       "<table border=\"1\" class=\"dataframe\">\n",
       "  <thead>\n",
       "    <tr style=\"text-align: right;\">\n",
       "      <th></th>\n",
       "      <th>source</th>\n",
       "      <th>avg_session</th>\n",
       "    </tr>\n",
       "  </thead>\n",
       "  <tbody>\n",
       "    <tr>\n",
       "      <th>0</th>\n",
       "      <td>yandex_direct</td>\n",
       "      <td>1.300</td>\n",
       "    </tr>\n",
       "    <tr>\n",
       "      <th>1</th>\n",
       "      <td>instagram_new_adverts</td>\n",
       "      <td>1.346</td>\n",
       "    </tr>\n",
       "    <tr>\n",
       "      <th>2</th>\n",
       "      <td>facebook_ads</td>\n",
       "      <td>1.330</td>\n",
       "    </tr>\n",
       "    <tr>\n",
       "      <th>3</th>\n",
       "      <td>youtube_channel_reklama</td>\n",
       "      <td>1.359</td>\n",
       "    </tr>\n",
       "  </tbody>\n",
       "</table>\n",
       "</div>"
      ],
      "text/plain": [
       "                    source  avg_session\n",
       "0            yandex_direct        1.300\n",
       "1    instagram_new_adverts        1.346\n",
       "2             facebook_ads        1.330\n",
       "3  youtube_channel_reklama        1.359"
      ]
     },
     "execution_count": 104,
     "metadata": {},
     "output_type": "execute_result"
    }
   ],
   "source": [
    "avg_session"
   ]
  },
  {
   "cell_type": "code",
   "execution_count": 105,
   "metadata": {},
   "outputs": [
    {
     "data": {
      "image/png": "[encoded data removed]",
      "text/plain": [
       "<Figure size 1152x648 with 1 Axes>"
      ]
     },
     "metadata": {
      "needs_background": "light"
     },
     "output_type": "display_data"
    }
   ],
   "source": [
    "# посмотрим как распределялась средняя величина сессий по дням\n",
    "yandex_session.groupby('date')['session_per_user'].max().plot(figsize=(16,9),label='yandex', grid=True)\n",
    "instagram_session.groupby('date')['session_per_user'].max().plot(figsize=(16,9),label='instagram', grid=True)\n",
    "facebook_session.groupby('date')['session_per_user'].max().plot(figsize=(16,9),label='facebook', grid=True)\n",
    "youtube_session.groupby('date')['session_per_user'].max().plot(figsize=(16,9),label='youtube', grid=True)\n",
    "\n",
    "plt.xlabel('Период, дни') \n",
    "plt.ylabel('Средняя величина сессий') \n",
    "plt.title('Изменение средней величины сессий за период')\n",
    "plt.legend()\n",
    "plt.show()\n"
   ]
  },
  {
   "cell_type": "markdown",
   "metadata": {},
   "source": [
    "Активность игроков, пришедших от разных рекламных источников на первых этапах практически никак не различаются. Но вот после 21 игрового дня игровая активность меняется: высокие активности у игроков пришедших из youtube и instagram; активность игроков facebook и yandex схожа и она меньше чем у youtube и instagram. \n",
    "Активность и вовлеченность в игру это хорошо, но не менее важным фактором является - платежеспособность аудитории, желание и готовность платить. Это будет видно только после введения монетизации игры\n",
    "\n",
    "Т.е при выборе того или иного рекламного источника можно ориентироваться:\n",
    " 1) на количество пришедших игроков (1.Yandex, 2.Instagram: 3.Facebook,4.Youtube)\n",
    " 2) на активность игроков (1.Youtube, 2.Instagram, 3.Facebook, 4.Yandex)\n",
    " \n",
    " Посмотрим расходы на каждый источник "
   ]
  },
  {
   "cell_type": "markdown",
   "metadata": {},
   "source": [
    "##### Анализ расходов"
   ]
  },
  {
   "cell_type": "code",
   "execution_count": 106,
   "metadata": {},
   "outputs": [],
   "source": [
    "# данные о расходах даны с 03 по 09 мая, соответсвенно для расчетов сделаем срез по дате\n",
    "date_cost=game_actions[(game_actions['date']>='2020-05-03')&(game_actions['date']<='2020-05-09')]"
   ]
  },
  {
   "cell_type": "code",
   "execution_count": 107,
   "metadata": {},
   "outputs": [],
   "source": [
    "# группируем данные\n",
    "source_cost=date_cost.groupby(['source']).agg({'user_id':'nunique','cost':'max'}).sort_values(by='user_id',ascending=False)"
   ]
  },
  {
   "cell_type": "code",
   "execution_count": 108,
   "metadata": {},
   "outputs": [
    {
     "data": {
      "text/html": [
       "<div>\n",
       "<style scoped>\n",
       "    .dataframe tbody tr th:only-of-type {\n",
       "        vertical-align: middle;\n",
       "    }\n",
       "\n",
       "    .dataframe tbody tr th {\n",
       "        vertical-align: top;\n",
       "    }\n",
       "\n",
       "    .dataframe thead th {\n",
       "        text-align: right;\n",
       "    }\n",
       "</style>\n",
       "<table border=\"1\" class=\"dataframe\">\n",
       "  <thead>\n",
       "    <tr style=\"text-align: right;\">\n",
       "      <th></th>\n",
       "      <th>user_id</th>\n",
       "      <th>cost</th>\n",
       "    </tr>\n",
       "    <tr>\n",
       "      <th>source</th>\n",
       "      <th></th>\n",
       "      <th></th>\n",
       "    </tr>\n",
       "  </thead>\n",
       "  <tbody>\n",
       "    <tr>\n",
       "      <th>yandex_direct</th>\n",
       "      <td>4728</td>\n",
       "      <td>2233.111449</td>\n",
       "    </tr>\n",
       "    <tr>\n",
       "      <th>instagram_new_adverts</th>\n",
       "      <td>3277</td>\n",
       "      <td>2161.441691</td>\n",
       "    </tr>\n",
       "    <tr>\n",
       "      <th>facebook_ads</th>\n",
       "      <td>2670</td>\n",
       "      <td>2140.904643</td>\n",
       "    </tr>\n",
       "    <tr>\n",
       "      <th>youtube_channel_reklama</th>\n",
       "      <td>2630</td>\n",
       "      <td>1068.119204</td>\n",
       "    </tr>\n",
       "  </tbody>\n",
       "</table>\n",
       "</div>"
      ],
      "text/plain": [
       "                         user_id         cost\n",
       "source                                       \n",
       "yandex_direct               4728  2233.111449\n",
       "instagram_new_adverts       3277  2161.441691\n",
       "facebook_ads                2670  2140.904643\n",
       "youtube_channel_reklama     2630  1068.119204"
      ]
     },
     "execution_count": 108,
     "metadata": {},
     "output_type": "execute_result"
    }
   ],
   "source": [
    "source_cost"
   ]
  },
  {
   "cell_type": "code",
   "execution_count": 109,
   "metadata": {},
   "outputs": [],
   "source": [
    "source_cost=source_cost.reset_index()"
   ]
  },
  {
   "cell_type": "code",
   "execution_count": 110,
   "metadata": {},
   "outputs": [],
   "source": [
    "# расчитаем средние затраты на 1 игрока\n",
    "source_cost['cost per user']=source_cost['cost']/source_cost['user_id']"
   ]
  },
  {
   "cell_type": "code",
   "execution_count": 111,
   "metadata": {},
   "outputs": [
    {
     "data": {
      "text/html": [
       "<div>\n",
       "<style scoped>\n",
       "    .dataframe tbody tr th:only-of-type {\n",
       "        vertical-align: middle;\n",
       "    }\n",
       "\n",
       "    .dataframe tbody tr th {\n",
       "        vertical-align: top;\n",
       "    }\n",
       "\n",
       "    .dataframe thead th {\n",
       "        text-align: right;\n",
       "    }\n",
       "</style>\n",
       "<table border=\"1\" class=\"dataframe\">\n",
       "  <thead>\n",
       "    <tr style=\"text-align: right;\">\n",
       "      <th></th>\n",
       "      <th>source</th>\n",
       "      <th>user_id</th>\n",
       "      <th>cost</th>\n",
       "      <th>cost per user</th>\n",
       "    </tr>\n",
       "  </thead>\n",
       "  <tbody>\n",
       "    <tr>\n",
       "      <th>0</th>\n",
       "      <td>yandex_direct</td>\n",
       "      <td>4728</td>\n",
       "      <td>2233.111449</td>\n",
       "      <td>0.472316</td>\n",
       "    </tr>\n",
       "    <tr>\n",
       "      <th>1</th>\n",
       "      <td>instagram_new_adverts</td>\n",
       "      <td>3277</td>\n",
       "      <td>2161.441691</td>\n",
       "      <td>0.659579</td>\n",
       "    </tr>\n",
       "    <tr>\n",
       "      <th>2</th>\n",
       "      <td>facebook_ads</td>\n",
       "      <td>2670</td>\n",
       "      <td>2140.904643</td>\n",
       "      <td>0.801837</td>\n",
       "    </tr>\n",
       "    <tr>\n",
       "      <th>3</th>\n",
       "      <td>youtube_channel_reklama</td>\n",
       "      <td>2630</td>\n",
       "      <td>1068.119204</td>\n",
       "      <td>0.406129</td>\n",
       "    </tr>\n",
       "  </tbody>\n",
       "</table>\n",
       "</div>"
      ],
      "text/plain": [
       "                    source  user_id         cost  cost per user\n",
       "0            yandex_direct     4728  2233.111449       0.472316\n",
       "1    instagram_new_adverts     3277  2161.441691       0.659579\n",
       "2             facebook_ads     2670  2140.904643       0.801837\n",
       "3  youtube_channel_reklama     2630  1068.119204       0.406129"
      ]
     },
     "execution_count": 111,
     "metadata": {},
     "output_type": "execute_result"
    }
   ],
   "source": [
    "source_cost"
   ]
  },
  {
   "cell_type": "code",
   "execution_count": 112,
   "metadata": {},
   "outputs": [],
   "source": [
    "# добавим таблицу по активности пользователей\n",
    "source=source_cost.merge(avg_session,on='source')"
   ]
  },
  {
   "cell_type": "code",
   "execution_count": 113,
   "metadata": {},
   "outputs": [
    {
     "data": {
      "text/plain": [
       "0.5849654038074821"
      ]
     },
     "execution_count": 113,
     "metadata": {},
     "output_type": "execute_result"
    }
   ],
   "source": [
    "# средняя стоимость привлечения 1 игрока\n",
    "source['cost per user'].mean()"
   ]
  },
  {
   "cell_type": "code",
   "execution_count": 114,
   "metadata": {},
   "outputs": [
    {
     "data": {
      "text/html": [
       "<div>\n",
       "<style scoped>\n",
       "    .dataframe tbody tr th:only-of-type {\n",
       "        vertical-align: middle;\n",
       "    }\n",
       "\n",
       "    .dataframe tbody tr th {\n",
       "        vertical-align: top;\n",
       "    }\n",
       "\n",
       "    .dataframe thead th {\n",
       "        text-align: right;\n",
       "    }\n",
       "</style>\n",
       "<table border=\"1\" class=\"dataframe\">\n",
       "  <thead>\n",
       "    <tr style=\"text-align: right;\">\n",
       "      <th></th>\n",
       "      <th>source</th>\n",
       "      <th>user_id</th>\n",
       "      <th>cost</th>\n",
       "      <th>cost per user</th>\n",
       "      <th>avg_session</th>\n",
       "    </tr>\n",
       "  </thead>\n",
       "  <tbody>\n",
       "    <tr>\n",
       "      <th>0</th>\n",
       "      <td>yandex_direct</td>\n",
       "      <td>4728</td>\n",
       "      <td>2233.111449</td>\n",
       "      <td>0.472316</td>\n",
       "      <td>1.300</td>\n",
       "    </tr>\n",
       "    <tr>\n",
       "      <th>1</th>\n",
       "      <td>instagram_new_adverts</td>\n",
       "      <td>3277</td>\n",
       "      <td>2161.441691</td>\n",
       "      <td>0.659579</td>\n",
       "      <td>1.346</td>\n",
       "    </tr>\n",
       "    <tr>\n",
       "      <th>2</th>\n",
       "      <td>facebook_ads</td>\n",
       "      <td>2670</td>\n",
       "      <td>2140.904643</td>\n",
       "      <td>0.801837</td>\n",
       "      <td>1.330</td>\n",
       "    </tr>\n",
       "    <tr>\n",
       "      <th>3</th>\n",
       "      <td>youtube_channel_reklama</td>\n",
       "      <td>2630</td>\n",
       "      <td>1068.119204</td>\n",
       "      <td>0.406129</td>\n",
       "      <td>1.359</td>\n",
       "    </tr>\n",
       "  </tbody>\n",
       "</table>\n",
       "</div>"
      ],
      "text/plain": [
       "                    source  user_id         cost  cost per user  avg_session\n",
       "0            yandex_direct     4728  2233.111449       0.472316        1.300\n",
       "1    instagram_new_adverts     3277  2161.441691       0.659579        1.346\n",
       "2             facebook_ads     2670  2140.904643       0.801837        1.330\n",
       "3  youtube_channel_reklama     2630  1068.119204       0.406129        1.359"
      ]
     },
     "execution_count": 114,
     "metadata": {},
     "output_type": "execute_result"
    }
   ],
   "source": [
    "source"
   ]
  },
  {
   "cell_type": "markdown",
   "metadata": {},
   "source": [
    "Из 4-x рекламных источников лучше всего себя показали yandex  и youtube. Во-первых у обоих источников цена ниже средней, во-вторых yandex привлек больше всех игроков, в-третьих игроки youtube самые активные. Но случайны данные показатели или нет рассмотрим при изучение статистической значимости гипотез"
   ]
  },
  {
   "cell_type": "markdown",
   "metadata": {},
   "source": [
    "#### Изучение длительности периода между событиями"
   ]
  },
  {
   "cell_type": "markdown",
   "metadata": {},
   "source": [
    "У нас нет информации о начале сессий, есть инфо только об завершении событий. Можем посмотреть сколько времени в среднем игроку нужно для того чтобы перейти от одногь завершенного события к другому"
   ]
  },
  {
   "cell_type": "code",
   "execution_count": 115,
   "metadata": {},
   "outputs": [],
   "source": [
    "# сместим время события на 1 строку и пропуски заполним временем события\n",
    "game_actions['event_datetime_shift'] = game_actions.groupby(['user_id'])['event_datetime'].shift().\\\n",
    "                                                  fillna(game_actions['event_datetime'])"
   ]
  },
  {
   "cell_type": "code",
   "execution_count": 116,
   "metadata": {},
   "outputs": [],
   "source": [
    "# расчитаем период (в часах) между событиями и удалим вспомогательный столбец\n",
    "game_actions['period']=(game_actions['event_datetime']-game_actions['event_datetime_shift']).dt.seconds/3600\n",
    "game_actions=game_actions.drop('event_datetime_shift',axis=1)"
   ]
  },
  {
   "cell_type": "code",
   "execution_count": 117,
   "metadata": {},
   "outputs": [
    {
     "data": {
      "text/html": [
       "<div>\n",
       "<style scoped>\n",
       "    .dataframe tbody tr th:only-of-type {\n",
       "        vertical-align: middle;\n",
       "    }\n",
       "\n",
       "    .dataframe tbody tr th {\n",
       "        vertical-align: top;\n",
       "    }\n",
       "\n",
       "    .dataframe thead th {\n",
       "        text-align: right;\n",
       "    }\n",
       "</style>\n",
       "<table border=\"1\" class=\"dataframe\">\n",
       "  <thead>\n",
       "    <tr style=\"text-align: right;\">\n",
       "      <th></th>\n",
       "      <th>event_datetime</th>\n",
       "      <th>event</th>\n",
       "      <th>building_type</th>\n",
       "      <th>user_id</th>\n",
       "      <th>project_type</th>\n",
       "      <th>date</th>\n",
       "      <th>week</th>\n",
       "      <th>hour</th>\n",
       "      <th>play_group</th>\n",
       "      <th>source</th>\n",
       "      <th>cost</th>\n",
       "      <th>time</th>\n",
       "      <th>period</th>\n",
       "    </tr>\n",
       "  </thead>\n",
       "  <tbody>\n",
       "    <tr>\n",
       "      <th>0</th>\n",
       "      <td>2020-05-04 00:00:01</td>\n",
       "      <td>building</td>\n",
       "      <td>assembly_shop</td>\n",
       "      <td>55e92310-cb8e-4754-b622-597e124b03de</td>\n",
       "      <td>NaN</td>\n",
       "      <td>2020-05-04</td>\n",
       "      <td>19</td>\n",
       "      <td>0</td>\n",
       "      <td>unfinished</td>\n",
       "      <td>youtube_channel_reklama</td>\n",
       "      <td>1068.119204</td>\n",
       "      <td>ночь</td>\n",
       "      <td>0.000000</td>\n",
       "    </tr>\n",
       "    <tr>\n",
       "      <th>1</th>\n",
       "      <td>2020-05-05 05:20:15</td>\n",
       "      <td>building</td>\n",
       "      <td>assembly_shop</td>\n",
       "      <td>55e92310-cb8e-4754-b622-597e124b03de</td>\n",
       "      <td>NaN</td>\n",
       "      <td>2020-05-05</td>\n",
       "      <td>19</td>\n",
       "      <td>5</td>\n",
       "      <td>unfinished</td>\n",
       "      <td>youtube_channel_reklama</td>\n",
       "      <td>1068.119204</td>\n",
       "      <td>утро</td>\n",
       "      <td>5.337222</td>\n",
       "    </tr>\n",
       "    <tr>\n",
       "      <th>2</th>\n",
       "      <td>2020-05-05 19:24:02</td>\n",
       "      <td>building</td>\n",
       "      <td>assembly_shop</td>\n",
       "      <td>55e92310-cb8e-4754-b622-597e124b03de</td>\n",
       "      <td>NaN</td>\n",
       "      <td>2020-05-05</td>\n",
       "      <td>19</td>\n",
       "      <td>19</td>\n",
       "      <td>unfinished</td>\n",
       "      <td>youtube_channel_reklama</td>\n",
       "      <td>1068.119204</td>\n",
       "      <td>вечер</td>\n",
       "      <td>14.063056</td>\n",
       "    </tr>\n",
       "    <tr>\n",
       "      <th>3</th>\n",
       "      <td>2020-05-05 20:59:19</td>\n",
       "      <td>building</td>\n",
       "      <td>assembly_shop</td>\n",
       "      <td>55e92310-cb8e-4754-b622-597e124b03de</td>\n",
       "      <td>NaN</td>\n",
       "      <td>2020-05-05</td>\n",
       "      <td>19</td>\n",
       "      <td>20</td>\n",
       "      <td>unfinished</td>\n",
       "      <td>youtube_channel_reklama</td>\n",
       "      <td>1068.119204</td>\n",
       "      <td>вечер</td>\n",
       "      <td>1.588056</td>\n",
       "    </tr>\n",
       "    <tr>\n",
       "      <th>4</th>\n",
       "      <td>2020-05-06 00:52:56</td>\n",
       "      <td>building</td>\n",
       "      <td>assembly_shop</td>\n",
       "      <td>55e92310-cb8e-4754-b622-597e124b03de</td>\n",
       "      <td>NaN</td>\n",
       "      <td>2020-05-06</td>\n",
       "      <td>19</td>\n",
       "      <td>0</td>\n",
       "      <td>unfinished</td>\n",
       "      <td>youtube_channel_reklama</td>\n",
       "      <td>1068.119204</td>\n",
       "      <td>ночь</td>\n",
       "      <td>3.893611</td>\n",
       "    </tr>\n",
       "  </tbody>\n",
       "</table>\n",
       "</div>"
      ],
      "text/plain": [
       "       event_datetime     event  building_type  \\\n",
       "0 2020-05-04 00:00:01  building  assembly_shop   \n",
       "1 2020-05-05 05:20:15  building  assembly_shop   \n",
       "2 2020-05-05 19:24:02  building  assembly_shop   \n",
       "3 2020-05-05 20:59:19  building  assembly_shop   \n",
       "4 2020-05-06 00:52:56  building  assembly_shop   \n",
       "\n",
       "                                user_id project_type       date  week  hour  \\\n",
       "0  55e92310-cb8e-4754-b622-597e124b03de          NaN 2020-05-04    19     0   \n",
       "1  55e92310-cb8e-4754-b622-597e124b03de          NaN 2020-05-05    19     5   \n",
       "2  55e92310-cb8e-4754-b622-597e124b03de          NaN 2020-05-05    19    19   \n",
       "3  55e92310-cb8e-4754-b622-597e124b03de          NaN 2020-05-05    19    20   \n",
       "4  55e92310-cb8e-4754-b622-597e124b03de          NaN 2020-05-06    19     0   \n",
       "\n",
       "   play_group                   source         cost   time     period  \n",
       "0  unfinished  youtube_channel_reklama  1068.119204   ночь   0.000000  \n",
       "1  unfinished  youtube_channel_reklama  1068.119204   утро   5.337222  \n",
       "2  unfinished  youtube_channel_reklama  1068.119204  вечер  14.063056  \n",
       "3  unfinished  youtube_channel_reklama  1068.119204  вечер   1.588056  \n",
       "4  unfinished  youtube_channel_reklama  1068.119204   ночь   3.893611  "
      ]
     },
     "execution_count": 117,
     "metadata": {},
     "output_type": "execute_result"
    }
   ],
   "source": [
    "game_actions.head()"
   ]
  },
  {
   "cell_type": "code",
   "execution_count": 118,
   "metadata": {},
   "outputs": [],
   "source": [
    "# срез данных по игрокам завершившим проект и победившим врага\n",
    "winner=game_actions[game_actions['play_group']=='winner']\n",
    "project=game_actions[game_actions['play_group']=='project']\n",
    "unfinished=game_actions[game_actions['play_group']=='unfinished']"
   ]
  },
  {
   "cell_type": "code",
   "execution_count": 119,
   "metadata": {},
   "outputs": [
    {
     "data": {
      "text/plain": [
       "9.419134973061757"
      ]
     },
     "execution_count": 119,
     "metadata": {},
     "output_type": "execute_result"
    }
   ],
   "source": [
    "# расчитаем средний период\n",
    "game_actions['period'].mean()"
   ]
  },
  {
   "cell_type": "code",
   "execution_count": 120,
   "metadata": {},
   "outputs": [
    {
     "data": {
      "text/plain": [
       "9.60540459964781"
      ]
     },
     "execution_count": 120,
     "metadata": {},
     "output_type": "execute_result"
    }
   ],
   "source": [
    "winner['period'].mean()"
   ]
  },
  {
   "cell_type": "code",
   "execution_count": 121,
   "metadata": {},
   "outputs": [
    {
     "data": {
      "text/plain": [
       "9.62380522933209"
      ]
     },
     "execution_count": 121,
     "metadata": {},
     "output_type": "execute_result"
    }
   ],
   "source": [
    "project['period'].mean()"
   ]
  },
  {
   "cell_type": "code",
   "execution_count": 122,
   "metadata": {},
   "outputs": [
    {
     "data": {
      "text/plain": [
       "9.22177544538729"
      ]
     },
     "execution_count": 122,
     "metadata": {},
     "output_type": "execute_result"
    }
   ],
   "source": [
    "unfinished['period'].mean()"
   ]
  },
  {
   "cell_type": "code",
   "execution_count": 123,
   "metadata": {},
   "outputs": [],
   "source": [
    "# запишем все средние в таблицу\n",
    "avg_period= pd.DataFrame({'user_group':['all', 'winner', 'project', 'unfinished'], 'avg_period':[9.42, 9.61, 9.62, 9.22]})"
   ]
  },
  {
   "cell_type": "code",
   "execution_count": 124,
   "metadata": {},
   "outputs": [
    {
     "data": {
      "text/html": [
       "<div>\n",
       "<style scoped>\n",
       "    .dataframe tbody tr th:only-of-type {\n",
       "        vertical-align: middle;\n",
       "    }\n",
       "\n",
       "    .dataframe tbody tr th {\n",
       "        vertical-align: top;\n",
       "    }\n",
       "\n",
       "    .dataframe thead th {\n",
       "        text-align: right;\n",
       "    }\n",
       "</style>\n",
       "<table border=\"1\" class=\"dataframe\">\n",
       "  <thead>\n",
       "    <tr style=\"text-align: right;\">\n",
       "      <th></th>\n",
       "      <th>user_group</th>\n",
       "      <th>avg_period</th>\n",
       "    </tr>\n",
       "  </thead>\n",
       "  <tbody>\n",
       "    <tr>\n",
       "      <th>0</th>\n",
       "      <td>all</td>\n",
       "      <td>9.42</td>\n",
       "    </tr>\n",
       "    <tr>\n",
       "      <th>1</th>\n",
       "      <td>winner</td>\n",
       "      <td>9.61</td>\n",
       "    </tr>\n",
       "    <tr>\n",
       "      <th>2</th>\n",
       "      <td>project</td>\n",
       "      <td>9.62</td>\n",
       "    </tr>\n",
       "    <tr>\n",
       "      <th>3</th>\n",
       "      <td>unfinished</td>\n",
       "      <td>9.22</td>\n",
       "    </tr>\n",
       "  </tbody>\n",
       "</table>\n",
       "</div>"
      ],
      "text/plain": [
       "   user_group  avg_period\n",
       "0         all        9.42\n",
       "1      winner        9.61\n",
       "2     project        9.62\n",
       "3  unfinished        9.22"
      ]
     },
     "execution_count": 124,
     "metadata": {},
     "output_type": "execute_result"
    }
   ],
   "source": [
    "avg_period"
   ]
  },
  {
   "cell_type": "markdown",
   "metadata": {},
   "source": [
    "##### Анализ постороек"
   ]
  },
  {
   "cell_type": "code",
   "execution_count": 125,
   "metadata": {},
   "outputs": [],
   "source": [
    "# общее количество событий\n",
    "building_event=game_actions['building_type'].value_counts().reset_index()\n",
    "building_event.columns=['building_type', 'events']"
   ]
  },
  {
   "cell_type": "code",
   "execution_count": 126,
   "metadata": {},
   "outputs": [],
   "source": [
    "# какое количество игроков построили \n",
    "building_user=game_actions.groupby('building_type')['user_id'].nunique().reset_index()\n",
    "building_user.columns=['building_type', 'user_id']"
   ]
  },
  {
   "cell_type": "code",
   "execution_count": 127,
   "metadata": {},
   "outputs": [],
   "source": [
    "# объеденим таблицы\n",
    "building=building_event.merge(building_user,on='building_type')"
   ]
  },
  {
   "cell_type": "code",
   "execution_count": 128,
   "metadata": {},
   "outputs": [
    {
     "data": {
      "text/html": [
       "<div>\n",
       "<style scoped>\n",
       "    .dataframe tbody tr th:only-of-type {\n",
       "        vertical-align: middle;\n",
       "    }\n",
       "\n",
       "    .dataframe tbody tr th {\n",
       "        vertical-align: top;\n",
       "    }\n",
       "\n",
       "    .dataframe thead th {\n",
       "        text-align: right;\n",
       "    }\n",
       "</style>\n",
       "<table border=\"1\" class=\"dataframe\">\n",
       "  <thead>\n",
       "    <tr style=\"text-align: right;\">\n",
       "      <th></th>\n",
       "      <th>building_type</th>\n",
       "      <th>events</th>\n",
       "      <th>user_id</th>\n",
       "    </tr>\n",
       "  </thead>\n",
       "  <tbody>\n",
       "    <tr>\n",
       "      <th>0</th>\n",
       "      <td>spaceport</td>\n",
       "      <td>59325</td>\n",
       "      <td>13231</td>\n",
       "    </tr>\n",
       "    <tr>\n",
       "      <th>1</th>\n",
       "      <td>assembly_shop</td>\n",
       "      <td>54494</td>\n",
       "      <td>13576</td>\n",
       "    </tr>\n",
       "    <tr>\n",
       "      <th>2</th>\n",
       "      <td>research_center</td>\n",
       "      <td>14137</td>\n",
       "      <td>7671</td>\n",
       "    </tr>\n",
       "  </tbody>\n",
       "</table>\n",
       "</div>"
      ],
      "text/plain": [
       "     building_type  events  user_id\n",
       "0        spaceport   59325    13231\n",
       "1    assembly_shop   54494    13576\n",
       "2  research_center   14137     7671"
      ]
     },
     "execution_count": 128,
     "metadata": {},
     "output_type": "execute_result"
    }
   ],
   "source": [
    "building"
   ]
  },
  {
   "cell_type": "code",
   "execution_count": 129,
   "metadata": {},
   "outputs": [],
   "source": [
    "# расчитаем среднее количество построек\n",
    "building['avg_building']=building['events']/building['user_id']"
   ]
  },
  {
   "cell_type": "code",
   "execution_count": 130,
   "metadata": {},
   "outputs": [
    {
     "data": {
      "text/html": [
       "<div>\n",
       "<style scoped>\n",
       "    .dataframe tbody tr th:only-of-type {\n",
       "        vertical-align: middle;\n",
       "    }\n",
       "\n",
       "    .dataframe tbody tr th {\n",
       "        vertical-align: top;\n",
       "    }\n",
       "\n",
       "    .dataframe thead th {\n",
       "        text-align: right;\n",
       "    }\n",
       "</style>\n",
       "<table border=\"1\" class=\"dataframe\">\n",
       "  <thead>\n",
       "    <tr style=\"text-align: right;\">\n",
       "      <th></th>\n",
       "      <th>building_type</th>\n",
       "      <th>events</th>\n",
       "      <th>user_id</th>\n",
       "      <th>avg_building</th>\n",
       "    </tr>\n",
       "  </thead>\n",
       "  <tbody>\n",
       "    <tr>\n",
       "      <th>0</th>\n",
       "      <td>spaceport</td>\n",
       "      <td>59325</td>\n",
       "      <td>13231</td>\n",
       "      <td>4.483788</td>\n",
       "    </tr>\n",
       "    <tr>\n",
       "      <th>1</th>\n",
       "      <td>assembly_shop</td>\n",
       "      <td>54494</td>\n",
       "      <td>13576</td>\n",
       "      <td>4.013995</td>\n",
       "    </tr>\n",
       "    <tr>\n",
       "      <th>2</th>\n",
       "      <td>research_center</td>\n",
       "      <td>14137</td>\n",
       "      <td>7671</td>\n",
       "      <td>1.842915</td>\n",
       "    </tr>\n",
       "  </tbody>\n",
       "</table>\n",
       "</div>"
      ],
      "text/plain": [
       "     building_type  events  user_id  avg_building\n",
       "0        spaceport   59325    13231      4.483788\n",
       "1    assembly_shop   54494    13576      4.013995\n",
       "2  research_center   14137     7671      1.842915"
      ]
     },
     "execution_count": 130,
     "metadata": {},
     "output_type": "execute_result"
    }
   ],
   "source": [
    "building"
   ]
  },
  {
   "cell_type": "markdown",
   "metadata": {},
   "source": [
    "Практически все игроки построили космопорт и сборочный цех, исследовательский центр построили лишь половина.\n",
    "\n",
    "Посмотрим как строительство происходило в динамике"
   ]
  },
  {
   "cell_type": "code",
   "execution_count": 131,
   "metadata": {},
   "outputs": [],
   "source": [
    "# срез данных по игрокам завершившим проект и победившим врага\n",
    "spaceport=game_actions[game_actions['building_type']=='spaceport']\n",
    "assembly_shop=game_actions[game_actions['building_type']=='assembly_shop']\n",
    "research_center=game_actions[game_actions['building_type']=='research_center']"
   ]
  },
  {
   "cell_type": "code",
   "execution_count": 132,
   "metadata": {},
   "outputs": [
    {
     "data": {
      "image/png": "[encoded data removed]",
      "text/plain": [
       "<Figure size 1152x648 with 1 Axes>"
      ]
     },
     "metadata": {
      "needs_background": "light"
     },
     "output_type": "display_data"
    }
   ],
   "source": [
    "plot(spaceport,'date','user_id','Период, дни','Количество игроков','Космопорт','Динамика количества игроков')\n",
    "plot(assembly_shop,'date','user_id','Период, дни','Количество игроков','Сборочный центр','Динамика количества игроков')\n",
    "plot(research_center,'date','user_id','Период, дни','Количество игроков','Исследовательский центр','Динамика количества игроков')"
   ]
  },
  {
   "cell_type": "markdown",
   "metadata": {},
   "source": [
    "Сборочный центр построили все игроки с 1 по 6-й игровой день. Возможно это основное условие чтобы пройти дальше. После 6-го игрового дня количество игроков в игре резко снижается: либо игроки не справились со следущими заданиями (построить космопорт, исследовательский центр), либо не разобрались в следующих этапах, либо потеряли интерес. Посмотрим какие группы игроков какие строили здания"
   ]
  },
  {
   "cell_type": "code",
   "execution_count": 133,
   "metadata": {},
   "outputs": [],
   "source": [
    "# группируем здания\n",
    "building_type=game_actions.groupby(['play_group','building_type']).agg({'user_id': ['count','nunique']})"
   ]
  },
  {
   "cell_type": "code",
   "execution_count": 134,
   "metadata": {},
   "outputs": [],
   "source": [
    "# переименуе столбцы\n",
    "building_type.columns=['n_sessions','n_users']\n",
    "# расчитаем количество сессий\n",
    "building_type['session_per_user']=building_type['n_sessions']/building_type['n_users']"
   ]
  },
  {
   "cell_type": "code",
   "execution_count": 135,
   "metadata": {},
   "outputs": [
    {
     "data": {
      "text/html": [
       "<div>\n",
       "<style scoped>\n",
       "    .dataframe tbody tr th:only-of-type {\n",
       "        vertical-align: middle;\n",
       "    }\n",
       "\n",
       "    .dataframe tbody tr th {\n",
       "        vertical-align: top;\n",
       "    }\n",
       "\n",
       "    .dataframe thead th {\n",
       "        text-align: right;\n",
       "    }\n",
       "</style>\n",
       "<table border=\"1\" class=\"dataframe\">\n",
       "  <thead>\n",
       "    <tr style=\"text-align: right;\">\n",
       "      <th></th>\n",
       "      <th></th>\n",
       "      <th>n_sessions</th>\n",
       "      <th>n_users</th>\n",
       "      <th>session_per_user</th>\n",
       "    </tr>\n",
       "    <tr>\n",
       "      <th>play_group</th>\n",
       "      <th>building_type</th>\n",
       "      <th></th>\n",
       "      <th></th>\n",
       "      <th></th>\n",
       "    </tr>\n",
       "  </thead>\n",
       "  <tbody>\n",
       "    <tr>\n",
       "      <th rowspan=\"3\" valign=\"top\">project</th>\n",
       "      <th>assembly_shop</th>\n",
       "      <td>9116</td>\n",
       "      <td>1866</td>\n",
       "      <td>4.885316</td>\n",
       "    </tr>\n",
       "    <tr>\n",
       "      <th>research_center</th>\n",
       "      <td>3697</td>\n",
       "      <td>1866</td>\n",
       "      <td>1.981243</td>\n",
       "    </tr>\n",
       "    <tr>\n",
       "      <th>spaceport</th>\n",
       "      <td>10788</td>\n",
       "      <td>1866</td>\n",
       "      <td>5.781350</td>\n",
       "    </tr>\n",
       "    <tr>\n",
       "      <th rowspan=\"3\" valign=\"top\">unfinished</th>\n",
       "      <th>assembly_shop</th>\n",
       "      <td>29080</td>\n",
       "      <td>7759</td>\n",
       "      <td>3.747906</td>\n",
       "    </tr>\n",
       "    <tr>\n",
       "      <th>research_center</th>\n",
       "      <td>6685</td>\n",
       "      <td>3463</td>\n",
       "      <td>1.930407</td>\n",
       "    </tr>\n",
       "    <tr>\n",
       "      <th>spaceport</th>\n",
       "      <td>31405</td>\n",
       "      <td>7471</td>\n",
       "      <td>4.203587</td>\n",
       "    </tr>\n",
       "    <tr>\n",
       "      <th rowspan=\"3\" valign=\"top\">winner</th>\n",
       "      <th>assembly_shop</th>\n",
       "      <td>16298</td>\n",
       "      <td>3951</td>\n",
       "      <td>4.125032</td>\n",
       "    </tr>\n",
       "    <tr>\n",
       "      <th>research_center</th>\n",
       "      <td>3755</td>\n",
       "      <td>2342</td>\n",
       "      <td>1.603330</td>\n",
       "    </tr>\n",
       "    <tr>\n",
       "      <th>spaceport</th>\n",
       "      <td>17132</td>\n",
       "      <td>3894</td>\n",
       "      <td>4.399589</td>\n",
       "    </tr>\n",
       "  </tbody>\n",
       "</table>\n",
       "</div>"
      ],
      "text/plain": [
       "                            n_sessions  n_users  session_per_user\n",
       "play_group building_type                                         \n",
       "project    assembly_shop          9116     1866          4.885316\n",
       "           research_center        3697     1866          1.981243\n",
       "           spaceport             10788     1866          5.781350\n",
       "unfinished assembly_shop         29080     7759          3.747906\n",
       "           research_center        6685     3463          1.930407\n",
       "           spaceport             31405     7471          4.203587\n",
       "winner     assembly_shop         16298     3951          4.125032\n",
       "           research_center        3755     2342          1.603330\n",
       "           spaceport             17132     3894          4.399589"
      ]
     },
     "execution_count": 135,
     "metadata": {},
     "output_type": "execute_result"
    }
   ],
   "source": [
    "building_type"
   ]
  },
  {
   "cell_type": "markdown",
   "metadata": {},
   "source": [
    "Активность у всех игроков практически одинаковая. Все игороки завершившие уровень проектом построили все типы зданий. Игроки завершившие уровень победой: все построили сборочный цех, практически все построили космопорт, и 2/3 игроков - исследовательский центр. Игроки которые не завершили уровень: все построили сборочный цех, практически все построили космопорт, и 1/2 игроков - исследовательский центр"
   ]
  },
  {
   "cell_type": "markdown",
   "metadata": {},
   "source": [
    "## Проверка статистических гипотез"
   ]
  },
  {
   "cell_type": "markdown",
   "metadata": {},
   "source": [
    "<a id=\"cell5\"></a>"
   ]
  },
  {
   "cell_type": "code",
   "execution_count": 136,
   "metadata": {},
   "outputs": [],
   "source": [
    "# Функция для проверки p-value\n",
    "def ttest_st(df1, df2):\n",
    "    \"\"\"Функция для проверки стат.гипотез (t-test Стьюдента)\"\"\"\n",
    "    alpha = 0.05\n",
    "    results = st.ttest_ind(df1, df2)\n",
    "    if results.pvalue < alpha:\n",
    "        print(\"Отвергаем нулевую гипотезу, p-value:\", results.pvalue)\n",
    "    else:\n",
    "        print(\"Не получилось отвергнуть нулевую гипотезу,  p-value:\", results.pvalue)"
   ]
  },
  {
   "cell_type": "code",
   "execution_count": 137,
   "metadata": {},
   "outputs": [],
   "source": [
    "def mw_test(df1, df2):\n",
    "    \"\"\"Функция для проверки стат.гипотез (критерий Манна-Уитни)\"\"\"\n",
    "    alpha = 0.05\n",
    "    results = st.mannwhitneyu(df1, df2)\n",
    "    if results.pvalue < alpha:\n",
    "        print(\"Отвергаем нулевую гипотезу, p-value:\", results.pvalue)\n",
    "    else:\n",
    "        print(\"Не получилось отвергнуть нулевую гипотезу,  p-value:\", results.pvalue)"
   ]
  },
  {
   "cell_type": "code",
   "execution_count": 138,
   "metadata": {},
   "outputs": [],
   "source": [
    "def test(df1, df2):\n",
    "    \"\"\"Функция для проверки распределения на нормальность и выбора критерия\n",
    "       в зависимости от результата: нормальное распределение - t-test Стьюдента\n",
    "       ненормальное - критерий Манна-Уитни\n",
    "    \"\"\"\n",
    "    alpha = 0.05\n",
    "    sh_test_result_df1 = st.shapiro(df1)\n",
    "    sh_test_result_df2 = st.shapiro(df2)\n",
    "    if sh_test_result_df1[1] < alpha or sh_test_result_df2[1] < alpha:\n",
    "        print(f'По результатам теста Шапиро-Уилка, p-value={sh_test_result_df1[1]} распределение не нормальное\\n используем критерий Манна-Уитни')\n",
    "        mw_test(df1, df2)\n",
    "    else:\n",
    "        print(f'Распределение нормальное, используем t-test')\n",
    "        ttest_st(df1, df2)"
   ]
  },
  {
   "cell_type": "markdown",
   "metadata": {},
   "source": [
    "##### ГИПОТЕЗЫ:\n",
    "    1. Н0 - у игроков завершивших уровень победой над врагом и у игроков завершивших уровень проектом время завершения события не различается\n",
    "    2. Н1 - у игроков завершивших уровень победой над врагом и у игроков завершивших уровень проектом время завершения события различается"
   ]
  },
  {
   "cell_type": "markdown",
   "metadata": {},
   "source": [
    "Расчитаем среднее время для каждой группы"
   ]
  },
  {
   "cell_type": "code",
   "execution_count": 139,
   "metadata": {},
   "outputs": [
    {
     "data": {
      "text/plain": [
       "11.0"
      ]
     },
     "execution_count": 139,
     "metadata": {},
     "output_type": "execute_result"
    }
   ],
   "source": [
    "winner['hour'].median()"
   ]
  },
  {
   "cell_type": "code",
   "execution_count": 140,
   "metadata": {},
   "outputs": [
    {
     "data": {
      "text/plain": [
       "11.0"
      ]
     },
     "execution_count": 140,
     "metadata": {},
     "output_type": "execute_result"
    }
   ],
   "source": [
    "project['hour'].median()"
   ]
  },
  {
   "cell_type": "code",
   "execution_count": 141,
   "metadata": {},
   "outputs": [],
   "source": [
    "# срез данных\n",
    "winner_group=game_actions[game_actions['play_group']=='winner']['hour']\n",
    "project_group=game_actions[game_actions['play_group']=='project']['hour']"
   ]
  },
  {
   "cell_type": "code",
   "execution_count": 142,
   "metadata": {
    "scrolled": true
   },
   "outputs": [
    {
     "name": "stdout",
     "output_type": "stream",
     "text": [
      "По результатам теста Шапиро-Уилка, p-value=0.0 распределение не нормальное\n",
      " используем критерий Манна-Уитни\n",
      "Не получилось отвергнуть нулевую гипотезу,  p-value: 0.19890057504586062\n"
     ]
    },
    {
     "name": "stderr",
     "output_type": "stream",
     "text": [
      "C:\\Users\\MaNi\\anaconda3\\lib\\site-packages\\scipy\\stats\\morestats.py:1676: UserWarning: p-value may not be accurate for N > 5000.\n",
      "  warnings.warn(\"p-value may not be accurate for N > 5000.\")\n"
     ]
    }
   ],
   "source": [
    "# проверяем гипотезы\n",
    "test(winner_group,project_group);"
   ]
  },
  {
   "cell_type": "markdown",
   "metadata": {},
   "source": [
    "Расчеты средней и стат значимость подтвердили что время игры у групп игроков не различается. Ранее мы выянили что самым популярным временем являются утренние и вечерние часы"
   ]
  },
  {
   "cell_type": "markdown",
   "metadata": {},
   "source": [
    "##### ГИПОТЕЗЫ:\n",
    "    1. Н0 - количество событий и игроков завершивших уровень победой над врагом и заершением проекта не различается\n",
    "    2. Н1 - количество событий и игроков завершивших уровень победой над врагом и заершением проекта различается"
   ]
  },
  {
   "cell_type": "code",
   "execution_count": 143,
   "metadata": {},
   "outputs": [],
   "source": [
    "# ранее создавали срез групп игроков\n",
    "# группируем данные для проверки гипотезы\n",
    "winner_group_2=winner.groupby('user_id')['building_type'].count()\n",
    "project_group_2=project.groupby('user_id')['building_type'].count()"
   ]
  },
  {
   "cell_type": "code",
   "execution_count": 144,
   "metadata": {},
   "outputs": [
    {
     "data": {
      "text/plain": [
       "10.0"
      ]
     },
     "execution_count": 144,
     "metadata": {},
     "output_type": "execute_result"
    }
   ],
   "source": [
    "#расчитаем средние значения\n",
    "winner_group_2.median()"
   ]
  },
  {
   "cell_type": "code",
   "execution_count": 145,
   "metadata": {},
   "outputs": [
    {
     "data": {
      "text/plain": [
       "12.0"
      ]
     },
     "execution_count": 145,
     "metadata": {},
     "output_type": "execute_result"
    }
   ],
   "source": [
    "project_group_2.median()"
   ]
  },
  {
   "cell_type": "markdown",
   "metadata": {},
   "source": [
    "В среднем те кто завершает уровень разработкой орбитальной сборки спутников строят на 2 здания больше. Посмотрим является ли данное различие статистически значемым"
   ]
  },
  {
   "cell_type": "code",
   "execution_count": 146,
   "metadata": {},
   "outputs": [
    {
     "name": "stdout",
     "output_type": "stream",
     "text": [
      "По результатам теста Шапиро-Уилка, p-value=1.8509618116696005e-26 распределение не нормальное\n",
      " используем критерий Манна-Уитни\n",
      "Отвергаем нулевую гипотезу, p-value: 2.605963137511153e-305\n"
     ]
    }
   ],
   "source": [
    "# проверяем гипотезы\n",
    "test(winner_group_2,project_group_2);"
   ]
  },
  {
   "cell_type": "markdown",
   "metadata": {},
   "source": [
    "Да, данное различие является статистически значемым. Игроки завершившие уровень реализацией проекта создали больше строений, т.е если планируется показ рекламы на экране при постройке зданий - этой группе игроков будет показана больше рекламы"
   ]
  },
  {
   "cell_type": "markdown",
   "metadata": {},
   "source": [
    "   ##### ГИПОТЕЗЫ:\n",
    "    1. Н0 - активность игроков пришедших от yandex и youtube одинаковая\n",
    "    2. Н1 - активность игроков пришедших от yandex и youtube разная"
   ]
  },
  {
   "cell_type": "code",
   "execution_count": 147,
   "metadata": {},
   "outputs": [],
   "source": [
    "# df для теста\n",
    "yandex_test_session=yandex_session['session_per_user']\n",
    "youtube_test_session=youtube_session['session_per_user']"
   ]
  },
  {
   "cell_type": "code",
   "execution_count": 148,
   "metadata": {},
   "outputs": [
    {
     "data": {
      "text/plain": [
       "1.2918918918918918"
      ]
     },
     "execution_count": 148,
     "metadata": {},
     "output_type": "execute_result"
    }
   ],
   "source": [
    "#расчитаем средние значения\n",
    "yandex_test_session.median()"
   ]
  },
  {
   "cell_type": "code",
   "execution_count": 149,
   "metadata": {},
   "outputs": [
    {
     "data": {
      "text/plain": [
       "1.329655135080348"
      ]
     },
     "execution_count": 149,
     "metadata": {},
     "output_type": "execute_result"
    }
   ],
   "source": [
    "youtube_test_session.median()"
   ]
  },
  {
   "cell_type": "markdown",
   "metadata": {},
   "source": [
    "Средняя величина сессий игроков которые пришли от yandex и от youtube различаются. Посмотрим является ли данное различие статистически значемым"
   ]
  },
  {
   "cell_type": "code",
   "execution_count": 150,
   "metadata": {},
   "outputs": [
    {
     "name": "stdout",
     "output_type": "stream",
     "text": [
      "По результатам теста Шапиро-Уилка, p-value=0.4864977300167084 распределение не нормальное\n",
      " используем критерий Манна-Уитни\n",
      "Не получилось отвергнуть нулевую гипотезу,  p-value: 0.10153307239834858\n"
     ]
    }
   ],
   "source": [
    "# проверяем гипотезы\n",
    "test(yandex_test_session,youtube_test_session);"
   ]
  },
  {
   "cell_type": "markdown",
   "metadata": {},
   "source": [
    "З% различие между среднеми размерами количества сессий не является статистически значемым"
   ]
  },
  {
   "cell_type": "markdown",
   "metadata": {},
   "source": [
    "Проверка всех гипотез показала:\n",
    "    - время завершения события у игроков которые по разному завершили уровень не различается;\n",
    "    - количество событий и игроков завершивших уровень победой над врагом и заершением проекта различается;\n",
    "    - Активность игроков пришедших от yandex и от youtube не различаются"
   ]
  },
  {
   "cell_type": "markdown",
   "metadata": {},
   "source": [
    "### ВЫВОД И РЕКОМЕНДАЦИИ"
   ]
  },
  {
   "cell_type": "markdown",
   "metadata": {},
   "source": [
    "<a id=\"cell6\"></a>"
   ]
  },
  {
   "cell_type": "markdown",
   "metadata": {},
   "source": [
    "Игровые события происходят с 4 мая по 5 июня 2020 г. Закончили 1 уровень 5817 игроков: 1866 игроков разработали орбитальную сборку спутников, а остальные 3951 игроков осуществили победу над первым врагом. Не завершили уровень 7759 игроков. Игроки завершили событие building от 1 до 20 раз. В среднем каждый день играли 2884 игрока, а каждую неделю в среднем 6120. Stiky factor получился достаточно высокий (47), но следует отметить что промежуток при расчете данного показателя небольшой, т.е более реалистично он себя покажет если рассмативать более длительные сроки. На 20 недели количество пользователей практически не изменилось (89%). Резкий отток игроков произошёл на 21 недели (32% от общего количества игроков). Причем на 4-й недели из 4353 игроков играли лишь 11%. И к концу месяца в игре были менее 1 % игроков.\n",
    "\n",
    "Динамика активности у всех групп игроков (кто не завершил уровень и кто завершил уровень разными способами). До 6-го дня произходит рост количества игроков, после 6.го дня - резкое снижение. Игроки активно строят постройки, после 10 мая начинают события либо победа над врагом, либо завершнение проекта. После 15-16 мая эти события идут на спад. Сборочный центр построили все игроки с 1 по 6-й игровой день. Возможно это основное условие чтобы пройти дальше. Активность у всех игроков практически одинаковая. Все игороки завершившие уровень проектом построили все типы зданий. Игроки завершившие уровень победой: все построили сборочный цех, практически все построили космопорт, и 2/3 игроков - исследовательский центр. Игроки которые не завершили уровень: все построили сборочный цех, практически все построили космопорт, и 1/2 игроков - исследовательский центр. После 6-го игрового дня количество игроков в игре резко снижается: либо игроки не справились со следущими заданиями (построить космопорт, исследовательский центр), либо не разобрались в следующих этапах, либо потеряли интерес.Динамика участия игроков пришедших с разных рекламных источников тоже не различается, но от Yandex пришло больше всего игроков, затем от Instagram, затем Facebook и Youtube. Причем от Facebook и Youtube пришло примерно одинаковое количество игроков. У всех групп игроков самая высокая активность утром и вечером. Игроки , которые нацелены завершить уровень реализацией проекта, участвуют практически равномерно. У игроков, которые не завершили уровень и которые завершили игру победой над врагом - чаще всего появляются утром и вечером (днем - работа, учеба, ночью - сон).  Если расматривать активность игроков, то на 6-й день также снижается активность, то после 15 игрового дня активность начинает \"лихорадить\". Хотя те группа игроков которые победили врага более много численная, но игроки которые завершили проект более активные. Активность игроков, пришедших от разных рекламных источников на первых этапах практически никак не различаются. Но вот после 21 игрового дня игровая активность меняется: высокие активности у игроков пришедших из youtube и instagram; активность игроков facebook и yandex схожа и она меньше чем у youtube и instagram. Активность и вовлеченность в игру это хорошо, но не менее важным фактором является - платежеспособность аудитории, желание и готовность платить. Это будет видно только после введения монетизации игры. \n",
    "\n",
    "Из 4-x рекламных источников лучше всего себя показали yandex и youtube. Во-первых у обоих источников цена ниже средней, во-вторых yandex привлек больше всех игроков.\n",
    "\n",
    "Проверка всех гипотез показала:\n",
    "\n",
    " - время завершения события у игроков которые по разному завершили уровень не различается;\n",
    " - количество событий и игроков завершивших уровень победой над врагом и заершением проекта различается;\n",
    " - активность игроков пришедших от yandex и от youtube не различаются\n",
    "\n"
   ]
  },
  {
   "cell_type": "markdown",
   "metadata": {},
   "source": [
    "#### РЕКОМЕНДАЦИИ"
   ]
  },
  {
   "cell_type": "markdown",
   "metadata": {},
   "source": [
    "1. Из 4-x рекламных источников лучше всего себя показали yandex и youtube. Во-первых у обоих источников цена ниже средней, во-вторых yandex привлек больше всех игроков. НО монетизироваться игроки могут совершенно по разному: возможно рекламный источник приведет большое количество игроков, но данная аудитория будет низко платящей. Поэтому рекомендуем пользоваться всеми рекламными источниками и в дальнейшем расчитывать ARPU, ARPPU, ROI и проверить гипотезу что разные рекламные источники приводят разную платящую аудиторию. \n",
    "2. Наибольшая активность у игроков вечером и утром, поэтому следует приоритетно показывать рекламу в это время\n",
    "3. 1-й этап игры состоит из постройки сборочного цеха и данный этап игроко прошли за 6 дней. Далее игроки перешли к постройке космопорта и исследовательского центра (причем космопорт построили в 2 раза больше игроков нежели исследовательский центр). Рекомендуем в первые игровые дни когорты давать рекламу на экране с выбором постройки сборочного цеха, а в дальнейшем переходить к показу рекламы при строительстве космопорта и исследовательского центра. Причем показ при строительстве космопорта должен быть в 2 раза чаще\n",
    "4. На 6.й игровой день происходит отток игроков: необходимо выяснить причину оттока (не интересно, не понятна игра, сложно)\n",
    "5. На 6-й также снижается игровая активность, но на 21 игровой день активность начинает меняться (начинает \"лихорадить\"). Также нужно выяснить причину таких изменений"
   ]
  },
  {
   "cell_type": "markdown",
   "metadata": {},
   "source": [
    "#### DASHBOARD"
   ]
  },
  {
   "cell_type": "markdown",
   "metadata": {},
   "source": [
    "https://public.tableau.com/views/game_16019738975640/Dashboard1?:language=en&:display_count=y&publish=yes&:origin=viz_share_link"
   ]
  }
 ],
 "metadata": {
  "kernelspec": {
   "display_name": "Python 3",
   "language": "python",
   "name": "python3"
  },
  "language_info": {
   "codemirror_mode": {
    "name": "ipython",
    "version": 3
   },
   "file_extension": ".py",
   "mimetype": "text/x-python",
   "name": "python",
   "nbconvert_exporter": "python",
   "pygments_lexer": "ipython3",
   "version": "3.7.6"
  }
 },
 "nbformat": 4,
 "nbformat_minor": 2
}
