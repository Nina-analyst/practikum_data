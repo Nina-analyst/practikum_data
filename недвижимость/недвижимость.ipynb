{
 "cells": [
  {
   "cell_type": "markdown",
   "metadata": {},
   "source": [
    "# Исследование объявлений о продаже квартир\n",
    "\n",
    "Данные  — архив объявлений о продаже квартир в Санкт-Петербурге и соседних населённых пунктов за несколько лет.  \n",
    "По каждой квартире на продажу доступны два вида данных. Первые вписаны пользователем, вторые — получены автоматически на основе картографических данных. Например, расстояние до центра, аэропорта, ближайшего парка и водоёма. \n",
    "\n",
    "Необходимо изучить такие параметры как: площадь, цена, число комнат, высота потолков,время продажи квартиры.Какие факторы больше всего влияют на стоимость квартиры? Выявить 10 населённых пунктов с наибольшим числом объявлений. Выделить сегмент квартир в центре. Проанализировать эту территорию и изучить следующие параметры: площадь, цена, число комнат, высота потолков. Также выделить факторы, которые влияют на стоимость квартиры (число комнат, этаж, удалённость от центра, дата размещения объявления). "
   ]
  },
  {
   "cell_type": "markdown",
   "metadata": {},
   "source": [
    "##### Описание данных\n",
    "- airports_nearest — расстояние до ближайшего аэропорта в метрах (м)\n",
    "- balcony — число балконов\n",
    "- ceiling_height — высота потолков (м)\n",
    "- cityCenters_nearest — расстояние до центра города (м)\n",
    "- days_exposition — сколько дней было размещено объявление (от публикации до снятия)\n",
    "- first_day_exposition — дата публикации\n",
    "- floor — этаж\n",
    "- floors_total — всего этажей в доме\n",
    "- is_apartment — апартаменты (булев тип)\n",
    "- kitchen_area — площадь кухни в квадратных метрах (м²)\n",
    "- last_price — цена на момент снятия с публикации\n",
    "- living_area — жилая площадь в квадратных метрах(м²)\n",
    "- locality_name — название населённого пункта\n",
    "- open_plan — свободная планировка (булев тип)\n",
    "- parks_around3000 — число парков в радиусе 3 км\n",
    "- parks_nearest — расстояние до ближайшего парка (м)\n",
    "- ponds_around3000 — число водоёмов в радиусе 3 км\n",
    "- ponds_nearest — расстояние до ближайшего водоёма (м)\n",
    "- rooms — число комнат\n",
    "- studio — квартира-студия (булев тип)\n",
    "- total_area — площадь квартиры в квадратных метрах (м²)\n",
    "- total_images — число фотографий квартиры в объявлении"
   ]
  },
  {
   "cell_type": "markdown",
   "metadata": {},
   "source": [
    "### общая информация"
   ]
  },
  {
   "cell_type": "code",
   "execution_count": 1,
   "metadata": {},
   "outputs": [
    {
     "data": {
      "text/html": [
       "<div>\n",
       "<style scoped>\n",
       "    .dataframe tbody tr th:only-of-type {\n",
       "        vertical-align: middle;\n",
       "    }\n",
       "\n",
       "    .dataframe tbody tr th {\n",
       "        vertical-align: top;\n",
       "    }\n",
       "\n",
       "    .dataframe thead th {\n",
       "        text-align: right;\n",
       "    }\n",
       "</style>\n",
       "<table border=\"1\" class=\"dataframe\">\n",
       "  <thead>\n",
       "    <tr style=\"text-align: right;\">\n",
       "      <th></th>\n",
       "      <th>total_images</th>\n",
       "      <th>last_price</th>\n",
       "      <th>total_area</th>\n",
       "      <th>first_day_exposition</th>\n",
       "      <th>rooms</th>\n",
       "      <th>ceiling_height</th>\n",
       "      <th>floors_total</th>\n",
       "      <th>living_area</th>\n",
       "      <th>floor</th>\n",
       "      <th>is_apartment</th>\n",
       "      <th>...</th>\n",
       "      <th>kitchen_area</th>\n",
       "      <th>balcony</th>\n",
       "      <th>locality_name</th>\n",
       "      <th>airports_nearest</th>\n",
       "      <th>cityCenters_nearest</th>\n",
       "      <th>parks_around3000</th>\n",
       "      <th>parks_nearest</th>\n",
       "      <th>ponds_around3000</th>\n",
       "      <th>ponds_nearest</th>\n",
       "      <th>days_exposition</th>\n",
       "    </tr>\n",
       "  </thead>\n",
       "  <tbody>\n",
       "    <tr>\n",
       "      <th>0</th>\n",
       "      <td>20</td>\n",
       "      <td>13000000.0</td>\n",
       "      <td>108.0</td>\n",
       "      <td>2019-03-07T00:00:00</td>\n",
       "      <td>3</td>\n",
       "      <td>2.7</td>\n",
       "      <td>16.0</td>\n",
       "      <td>51.0</td>\n",
       "      <td>8</td>\n",
       "      <td>NaN</td>\n",
       "      <td>...</td>\n",
       "      <td>25.0</td>\n",
       "      <td>NaN</td>\n",
       "      <td>Санкт-Петербург</td>\n",
       "      <td>18863.0</td>\n",
       "      <td>16028.0</td>\n",
       "      <td>1.0</td>\n",
       "      <td>482.0</td>\n",
       "      <td>2.0</td>\n",
       "      <td>755.0</td>\n",
       "      <td>NaN</td>\n",
       "    </tr>\n",
       "    <tr>\n",
       "      <th>1</th>\n",
       "      <td>7</td>\n",
       "      <td>3350000.0</td>\n",
       "      <td>40.4</td>\n",
       "      <td>2018-12-04T00:00:00</td>\n",
       "      <td>1</td>\n",
       "      <td>NaN</td>\n",
       "      <td>11.0</td>\n",
       "      <td>18.6</td>\n",
       "      <td>1</td>\n",
       "      <td>NaN</td>\n",
       "      <td>...</td>\n",
       "      <td>11.0</td>\n",
       "      <td>2.0</td>\n",
       "      <td>посёлок Шушары</td>\n",
       "      <td>12817.0</td>\n",
       "      <td>18603.0</td>\n",
       "      <td>0.0</td>\n",
       "      <td>NaN</td>\n",
       "      <td>0.0</td>\n",
       "      <td>NaN</td>\n",
       "      <td>81.0</td>\n",
       "    </tr>\n",
       "    <tr>\n",
       "      <th>2</th>\n",
       "      <td>10</td>\n",
       "      <td>5196000.0</td>\n",
       "      <td>56.0</td>\n",
       "      <td>2015-08-20T00:00:00</td>\n",
       "      <td>2</td>\n",
       "      <td>NaN</td>\n",
       "      <td>5.0</td>\n",
       "      <td>34.3</td>\n",
       "      <td>4</td>\n",
       "      <td>NaN</td>\n",
       "      <td>...</td>\n",
       "      <td>8.3</td>\n",
       "      <td>0.0</td>\n",
       "      <td>Санкт-Петербург</td>\n",
       "      <td>21741.0</td>\n",
       "      <td>13933.0</td>\n",
       "      <td>1.0</td>\n",
       "      <td>90.0</td>\n",
       "      <td>2.0</td>\n",
       "      <td>574.0</td>\n",
       "      <td>558.0</td>\n",
       "    </tr>\n",
       "  </tbody>\n",
       "</table>\n",
       "<p>3 rows × 22 columns</p>\n",
       "</div>"
      ],
      "text/plain": [
       "   total_images  last_price  total_area first_day_exposition  rooms  \\\n",
       "0            20  13000000.0       108.0  2019-03-07T00:00:00      3   \n",
       "1             7   3350000.0        40.4  2018-12-04T00:00:00      1   \n",
       "2            10   5196000.0        56.0  2015-08-20T00:00:00      2   \n",
       "\n",
       "   ceiling_height  floors_total  living_area  floor is_apartment  ...  \\\n",
       "0             2.7          16.0         51.0      8          NaN  ...   \n",
       "1             NaN          11.0         18.6      1          NaN  ...   \n",
       "2             NaN           5.0         34.3      4          NaN  ...   \n",
       "\n",
       "   kitchen_area  balcony    locality_name  airports_nearest  \\\n",
       "0          25.0      NaN  Санкт-Петербург           18863.0   \n",
       "1          11.0      2.0   посёлок Шушары           12817.0   \n",
       "2           8.3      0.0  Санкт-Петербург           21741.0   \n",
       "\n",
       "  cityCenters_nearest  parks_around3000  parks_nearest  ponds_around3000  \\\n",
       "0             16028.0               1.0          482.0               2.0   \n",
       "1             18603.0               0.0            NaN               0.0   \n",
       "2             13933.0               1.0           90.0               2.0   \n",
       "\n",
       "   ponds_nearest  days_exposition  \n",
       "0          755.0              NaN  \n",
       "1            NaN             81.0  \n",
       "2          574.0            558.0  \n",
       "\n",
       "[3 rows x 22 columns]"
      ]
     },
     "metadata": {},
     "output_type": "display_data"
    }
   ],
   "source": [
    "import pandas as pd\n",
    "import matplotlib.pyplot as plt\n",
    "import seaborn as sns\n",
    "df=pd.read_csv('real_estate_data.csv',sep='\\t')\n",
    "display(df.head(3))"
   ]
  },
  {
   "cell_type": "code",
   "execution_count": 2,
   "metadata": {},
   "outputs": [
    {
     "name": "stdout",
     "output_type": "stream",
     "text": [
      "<class 'pandas.core.frame.DataFrame'>\n",
      "RangeIndex: 23699 entries, 0 to 23698\n",
      "Data columns (total 22 columns):\n",
      " #   Column                Non-Null Count  Dtype  \n",
      "---  ------                --------------  -----  \n",
      " 0   total_images          23699 non-null  int64  \n",
      " 1   last_price            23699 non-null  float64\n",
      " 2   total_area            23699 non-null  float64\n",
      " 3   first_day_exposition  23699 non-null  object \n",
      " 4   rooms                 23699 non-null  int64  \n",
      " 5   ceiling_height        14504 non-null  float64\n",
      " 6   floors_total          23613 non-null  float64\n",
      " 7   living_area           21796 non-null  float64\n",
      " 8   floor                 23699 non-null  int64  \n",
      " 9   is_apartment          2775 non-null   object \n",
      " 10  studio                23699 non-null  bool   \n",
      " 11  open_plan             23699 non-null  bool   \n",
      " 12  kitchen_area          21421 non-null  float64\n",
      " 13  balcony               12180 non-null  float64\n",
      " 14  locality_name         23650 non-null  object \n",
      " 15  airports_nearest      18157 non-null  float64\n",
      " 16  cityCenters_nearest   18180 non-null  float64\n",
      " 17  parks_around3000      18181 non-null  float64\n",
      " 18  parks_nearest         8079 non-null   float64\n",
      " 19  ponds_around3000      18181 non-null  float64\n",
      " 20  ponds_nearest         9110 non-null   float64\n",
      " 21  days_exposition       20518 non-null  float64\n",
      "dtypes: bool(2), float64(14), int64(3), object(3)\n",
      "memory usage: 3.7+ MB\n"
     ]
    }
   ],
   "source": [
    "df.info()"
   ]
  },
  {
   "cell_type": "code",
   "execution_count": 3,
   "metadata": {},
   "outputs": [
    {
     "data": {
      "text/plain": [
       "total_images            0.000000\n",
       "last_price              0.000000\n",
       "total_area              0.000000\n",
       "first_day_exposition    0.000000\n",
       "rooms                   0.000000\n",
       "ceiling_height          0.387991\n",
       "floors_total            0.003629\n",
       "living_area             0.080299\n",
       "floor                   0.000000\n",
       "is_apartment            0.882906\n",
       "studio                  0.000000\n",
       "open_plan               0.000000\n",
       "kitchen_area            0.096122\n",
       "balcony                 0.486054\n",
       "locality_name           0.002068\n",
       "airports_nearest        0.233850\n",
       "cityCenters_nearest     0.232879\n",
       "parks_around3000        0.232837\n",
       "parks_nearest           0.659100\n",
       "ponds_around3000        0.232837\n",
       "ponds_nearest           0.615596\n",
       "days_exposition         0.134225\n",
       "dtype: float64"
      ]
     },
     "execution_count": 3,
     "metadata": {},
     "output_type": "execute_result"
    }
   ],
   "source": [
    "# пропуски\n",
    "df.isna().mean()"
   ]
  },
  {
   "cell_type": "code",
   "execution_count": 4,
   "metadata": {},
   "outputs": [
    {
     "data": {
      "text/plain": [
       "23699"
      ]
     },
     "execution_count": 4,
     "metadata": {},
     "output_type": "execute_result"
    }
   ],
   "source": [
    "len(df)"
   ]
  },
  {
   "cell_type": "code",
   "execution_count": 5,
   "metadata": {},
   "outputs": [
    {
     "data": {
      "text/plain": [
       "False    2725\n",
       "True       50\n",
       "Name: is_apartment, dtype: int64"
      ]
     },
     "execution_count": 5,
     "metadata": {},
     "output_type": "execute_result"
    }
   ],
   "source": [
    "# посмотрим количество уникальных значений в столбцах где есть пропуски\n",
    "df['is_apartment'].value_counts()"
   ]
  },
  {
   "cell_type": "code",
   "execution_count": 6,
   "metadata": {},
   "outputs": [
    {
     "data": {
      "text/plain": [
       "1.0    4195\n",
       "0.0    3758\n",
       "2.0    3659\n",
       "5.0     304\n",
       "4.0     183\n",
       "3.0      81\n",
       "Name: balcony, dtype: int64"
      ]
     },
     "execution_count": 6,
     "metadata": {},
     "output_type": "execute_result"
    }
   ],
   "source": [
    "df['balcony'].value_counts()"
   ]
  },
  {
   "cell_type": "code",
   "execution_count": 7,
   "metadata": {},
   "outputs": [
    {
     "data": {
      "text/plain": [
       "2.50      3515\n",
       "2.60      1646\n",
       "2.70      1574\n",
       "3.00      1112\n",
       "2.80       993\n",
       "          ... \n",
       "27.50        1\n",
       "5.00         1\n",
       "3.59         1\n",
       "4.80         1\n",
       "100.00       1\n",
       "Name: ceiling_height, Length: 183, dtype: int64"
      ]
     },
     "execution_count": 7,
     "metadata": {},
     "output_type": "execute_result"
    }
   ],
   "source": [
    "df['ceiling_height'].value_counts()"
   ]
  },
  {
   "cell_type": "code",
   "execution_count": 8,
   "metadata": {},
   "outputs": [
    {
     "data": {
      "text/plain": [
       "total_images            29\n",
       "last_price              29\n",
       "total_area              29\n",
       "first_day_exposition    29\n",
       "rooms                   29\n",
       "ceiling_height          29\n",
       "floors_total            29\n",
       "living_area             29\n",
       "floor                   29\n",
       "is_apartment            13\n",
       "studio                  29\n",
       "open_plan               29\n",
       "kitchen_area            23\n",
       "balcony                 20\n",
       "locality_name           29\n",
       "airports_nearest        19\n",
       "cityCenters_nearest     19\n",
       "parks_around3000        19\n",
       "parks_nearest            9\n",
       "ponds_around3000        19\n",
       "ponds_nearest            9\n",
       "days_exposition         23\n",
       "dtype: int64"
      ]
     },
     "execution_count": 8,
     "metadata": {},
     "output_type": "execute_result"
    }
   ],
   "source": [
    "#есть высота стен более 6 и это очень странно. посмотрим какое количество этих позиций\n",
    "df.query('ceiling_height>6').count()"
   ]
  },
  {
   "cell_type": "code",
   "execution_count": 9,
   "metadata": {},
   "outputs": [
    {
     "data": {
      "text/plain": [
       "45.0      880\n",
       "60.0      538\n",
       "7.0       234\n",
       "30.0      208\n",
       "90.0      204\n",
       "         ... \n",
       "1110.0      1\n",
       "1049.0      1\n",
       "951.0       1\n",
       "693.0       1\n",
       "773.0       1\n",
       "Name: days_exposition, Length: 1141, dtype: int64"
      ]
     },
     "execution_count": 9,
     "metadata": {},
     "output_type": "execute_result"
    }
   ],
   "source": [
    "df['days_exposition'].value_counts()"
   ]
  },
  {
   "cell_type": "code",
   "execution_count": 10,
   "metadata": {},
   "outputs": [
    {
     "data": {
      "text/plain": [
       "0"
      ]
     },
     "execution_count": 10,
     "metadata": {},
     "output_type": "execute_result"
    }
   ],
   "source": [
    "# количество дубликатов\n",
    "df.duplicated().sum()"
   ]
  },
  {
   "cell_type": "code",
   "execution_count": 11,
   "metadata": {},
   "outputs": [
    {
     "data": {
      "text/html": [
       "<div>\n",
       "<style scoped>\n",
       "    .dataframe tbody tr th:only-of-type {\n",
       "        vertical-align: middle;\n",
       "    }\n",
       "\n",
       "    .dataframe tbody tr th {\n",
       "        vertical-align: top;\n",
       "    }\n",
       "\n",
       "    .dataframe thead th {\n",
       "        text-align: right;\n",
       "    }\n",
       "</style>\n",
       "<table border=\"1\" class=\"dataframe\">\n",
       "  <thead>\n",
       "    <tr style=\"text-align: right;\">\n",
       "      <th></th>\n",
       "      <th>total_images</th>\n",
       "      <th>last_price</th>\n",
       "      <th>total_area</th>\n",
       "      <th>rooms</th>\n",
       "      <th>ceiling_height</th>\n",
       "      <th>floors_total</th>\n",
       "      <th>living_area</th>\n",
       "      <th>floor</th>\n",
       "      <th>kitchen_area</th>\n",
       "      <th>balcony</th>\n",
       "      <th>airports_nearest</th>\n",
       "      <th>cityCenters_nearest</th>\n",
       "      <th>parks_around3000</th>\n",
       "      <th>parks_nearest</th>\n",
       "      <th>ponds_around3000</th>\n",
       "      <th>ponds_nearest</th>\n",
       "      <th>days_exposition</th>\n",
       "    </tr>\n",
       "  </thead>\n",
       "  <tbody>\n",
       "    <tr>\n",
       "      <th>count</th>\n",
       "      <td>23699.000000</td>\n",
       "      <td>2.369900e+04</td>\n",
       "      <td>23699.000000</td>\n",
       "      <td>23699.000000</td>\n",
       "      <td>14504.000000</td>\n",
       "      <td>23613.000000</td>\n",
       "      <td>21796.000000</td>\n",
       "      <td>23699.000000</td>\n",
       "      <td>21421.000000</td>\n",
       "      <td>12180.000000</td>\n",
       "      <td>18157.000000</td>\n",
       "      <td>18180.000000</td>\n",
       "      <td>18181.000000</td>\n",
       "      <td>8079.000000</td>\n",
       "      <td>18181.000000</td>\n",
       "      <td>9110.000000</td>\n",
       "      <td>20518.000000</td>\n",
       "    </tr>\n",
       "    <tr>\n",
       "      <th>mean</th>\n",
       "      <td>9.858475</td>\n",
       "      <td>6.541549e+06</td>\n",
       "      <td>60.348651</td>\n",
       "      <td>2.070636</td>\n",
       "      <td>2.771499</td>\n",
       "      <td>10.673824</td>\n",
       "      <td>34.457852</td>\n",
       "      <td>5.892358</td>\n",
       "      <td>10.569807</td>\n",
       "      <td>1.150082</td>\n",
       "      <td>28793.672193</td>\n",
       "      <td>14191.277833</td>\n",
       "      <td>0.611408</td>\n",
       "      <td>490.804555</td>\n",
       "      <td>0.770255</td>\n",
       "      <td>517.980900</td>\n",
       "      <td>180.888634</td>\n",
       "    </tr>\n",
       "    <tr>\n",
       "      <th>std</th>\n",
       "      <td>5.682529</td>\n",
       "      <td>1.088701e+07</td>\n",
       "      <td>35.654083</td>\n",
       "      <td>1.078405</td>\n",
       "      <td>1.261056</td>\n",
       "      <td>6.597173</td>\n",
       "      <td>22.030445</td>\n",
       "      <td>4.885249</td>\n",
       "      <td>5.905438</td>\n",
       "      <td>1.071300</td>\n",
       "      <td>12630.880622</td>\n",
       "      <td>8608.386210</td>\n",
       "      <td>0.802074</td>\n",
       "      <td>342.317995</td>\n",
       "      <td>0.938346</td>\n",
       "      <td>277.720643</td>\n",
       "      <td>219.727988</td>\n",
       "    </tr>\n",
       "    <tr>\n",
       "      <th>min</th>\n",
       "      <td>0.000000</td>\n",
       "      <td>1.219000e+04</td>\n",
       "      <td>12.000000</td>\n",
       "      <td>0.000000</td>\n",
       "      <td>1.000000</td>\n",
       "      <td>1.000000</td>\n",
       "      <td>2.000000</td>\n",
       "      <td>1.000000</td>\n",
       "      <td>1.300000</td>\n",
       "      <td>0.000000</td>\n",
       "      <td>0.000000</td>\n",
       "      <td>181.000000</td>\n",
       "      <td>0.000000</td>\n",
       "      <td>1.000000</td>\n",
       "      <td>0.000000</td>\n",
       "      <td>13.000000</td>\n",
       "      <td>1.000000</td>\n",
       "    </tr>\n",
       "    <tr>\n",
       "      <th>25%</th>\n",
       "      <td>6.000000</td>\n",
       "      <td>3.400000e+06</td>\n",
       "      <td>40.000000</td>\n",
       "      <td>1.000000</td>\n",
       "      <td>2.520000</td>\n",
       "      <td>5.000000</td>\n",
       "      <td>18.600000</td>\n",
       "      <td>2.000000</td>\n",
       "      <td>7.000000</td>\n",
       "      <td>0.000000</td>\n",
       "      <td>18585.000000</td>\n",
       "      <td>9238.000000</td>\n",
       "      <td>0.000000</td>\n",
       "      <td>288.000000</td>\n",
       "      <td>0.000000</td>\n",
       "      <td>294.000000</td>\n",
       "      <td>45.000000</td>\n",
       "    </tr>\n",
       "    <tr>\n",
       "      <th>50%</th>\n",
       "      <td>9.000000</td>\n",
       "      <td>4.650000e+06</td>\n",
       "      <td>52.000000</td>\n",
       "      <td>2.000000</td>\n",
       "      <td>2.650000</td>\n",
       "      <td>9.000000</td>\n",
       "      <td>30.000000</td>\n",
       "      <td>4.000000</td>\n",
       "      <td>9.100000</td>\n",
       "      <td>1.000000</td>\n",
       "      <td>26726.000000</td>\n",
       "      <td>13098.500000</td>\n",
       "      <td>0.000000</td>\n",
       "      <td>455.000000</td>\n",
       "      <td>1.000000</td>\n",
       "      <td>502.000000</td>\n",
       "      <td>95.000000</td>\n",
       "    </tr>\n",
       "    <tr>\n",
       "      <th>75%</th>\n",
       "      <td>14.000000</td>\n",
       "      <td>6.800000e+06</td>\n",
       "      <td>69.900000</td>\n",
       "      <td>3.000000</td>\n",
       "      <td>2.800000</td>\n",
       "      <td>16.000000</td>\n",
       "      <td>42.300000</td>\n",
       "      <td>8.000000</td>\n",
       "      <td>12.000000</td>\n",
       "      <td>2.000000</td>\n",
       "      <td>37273.000000</td>\n",
       "      <td>16293.000000</td>\n",
       "      <td>1.000000</td>\n",
       "      <td>612.000000</td>\n",
       "      <td>1.000000</td>\n",
       "      <td>729.000000</td>\n",
       "      <td>232.000000</td>\n",
       "    </tr>\n",
       "    <tr>\n",
       "      <th>max</th>\n",
       "      <td>50.000000</td>\n",
       "      <td>7.630000e+08</td>\n",
       "      <td>900.000000</td>\n",
       "      <td>19.000000</td>\n",
       "      <td>100.000000</td>\n",
       "      <td>60.000000</td>\n",
       "      <td>409.700000</td>\n",
       "      <td>33.000000</td>\n",
       "      <td>112.000000</td>\n",
       "      <td>5.000000</td>\n",
       "      <td>84869.000000</td>\n",
       "      <td>65968.000000</td>\n",
       "      <td>3.000000</td>\n",
       "      <td>3190.000000</td>\n",
       "      <td>3.000000</td>\n",
       "      <td>1344.000000</td>\n",
       "      <td>1580.000000</td>\n",
       "    </tr>\n",
       "  </tbody>\n",
       "</table>\n",
       "</div>"
      ],
      "text/plain": [
       "       total_images    last_price    total_area         rooms  ceiling_height  \\\n",
       "count  23699.000000  2.369900e+04  23699.000000  23699.000000    14504.000000   \n",
       "mean       9.858475  6.541549e+06     60.348651      2.070636        2.771499   \n",
       "std        5.682529  1.088701e+07     35.654083      1.078405        1.261056   \n",
       "min        0.000000  1.219000e+04     12.000000      0.000000        1.000000   \n",
       "25%        6.000000  3.400000e+06     40.000000      1.000000        2.520000   \n",
       "50%        9.000000  4.650000e+06     52.000000      2.000000        2.650000   \n",
       "75%       14.000000  6.800000e+06     69.900000      3.000000        2.800000   \n",
       "max       50.000000  7.630000e+08    900.000000     19.000000      100.000000   \n",
       "\n",
       "       floors_total   living_area         floor  kitchen_area       balcony  \\\n",
       "count  23613.000000  21796.000000  23699.000000  21421.000000  12180.000000   \n",
       "mean      10.673824     34.457852      5.892358     10.569807      1.150082   \n",
       "std        6.597173     22.030445      4.885249      5.905438      1.071300   \n",
       "min        1.000000      2.000000      1.000000      1.300000      0.000000   \n",
       "25%        5.000000     18.600000      2.000000      7.000000      0.000000   \n",
       "50%        9.000000     30.000000      4.000000      9.100000      1.000000   \n",
       "75%       16.000000     42.300000      8.000000     12.000000      2.000000   \n",
       "max       60.000000    409.700000     33.000000    112.000000      5.000000   \n",
       "\n",
       "       airports_nearest  cityCenters_nearest  parks_around3000  parks_nearest  \\\n",
       "count      18157.000000         18180.000000      18181.000000    8079.000000   \n",
       "mean       28793.672193         14191.277833          0.611408     490.804555   \n",
       "std        12630.880622          8608.386210          0.802074     342.317995   \n",
       "min            0.000000           181.000000          0.000000       1.000000   \n",
       "25%        18585.000000          9238.000000          0.000000     288.000000   \n",
       "50%        26726.000000         13098.500000          0.000000     455.000000   \n",
       "75%        37273.000000         16293.000000          1.000000     612.000000   \n",
       "max        84869.000000         65968.000000          3.000000    3190.000000   \n",
       "\n",
       "       ponds_around3000  ponds_nearest  days_exposition  \n",
       "count      18181.000000    9110.000000     20518.000000  \n",
       "mean           0.770255     517.980900       180.888634  \n",
       "std            0.938346     277.720643       219.727988  \n",
       "min            0.000000      13.000000         1.000000  \n",
       "25%            0.000000     294.000000        45.000000  \n",
       "50%            1.000000     502.000000        95.000000  \n",
       "75%            1.000000     729.000000       232.000000  \n",
       "max            3.000000    1344.000000      1580.000000  "
      ]
     },
     "execution_count": 11,
     "metadata": {},
     "output_type": "execute_result"
    }
   ],
   "source": [
    "df.describe()"
   ]
  },
  {
   "cell_type": "markdown",
   "metadata": {},
   "source": [
    "### Вывод"
   ]
  },
  {
   "cell_type": "markdown",
   "metadata": {},
   "source": [
    "В датафрейме 23699 объявлений. Некоторые данные указаны корректно, некоторые нет (высота потолков 20,100 метров; размещение объявления больше года). Некоторая инфо заполнена полностью; но в некоторых столбцах есть пропуски (ceiling_height, living_area, is_apartament, balcony...).Для последующего анализа данных необходимо выполнить преобработку данных"
   ]
  },
  {
   "cell_type": "markdown",
   "metadata": {},
   "source": [
    "### предобработка данных"
   ]
  },
  {
   "cell_type": "code",
   "execution_count": 12,
   "metadata": {},
   "outputs": [],
   "source": [
    "#первый столбец с пропущенными данными - ceiling_height. Для того чтобы заполнить пропуски - сначало избавимся от потолков выше\n",
    "#5 метров (скорее всего это отпечатка);расчитаем среднюю высоту у квартир менее 5 меетров\n",
    "ceiling_mean=df[df['ceiling_height']<=5]['ceiling_height'].mean()"
   ]
  },
  {
   "cell_type": "code",
   "execution_count": 13,
   "metadata": {},
   "outputs": [],
   "source": [
    "#заменим слишком высыокие потолки на средний показатель\n",
    "df.loc[df['ceiling_height']>5,'ceiling_height']=ceiling_mean"
   ]
  },
  {
   "cell_type": "code",
   "execution_count": 14,
   "metadata": {},
   "outputs": [
    {
     "data": {
      "text/plain": [
       "Series([], Name: ceiling_height, dtype: int64)"
      ]
     },
     "execution_count": 14,
     "metadata": {},
     "output_type": "execute_result"
    }
   ],
   "source": [
    "#проверим\n",
    "df.loc[df['ceiling_height']>5,'ceiling_height'].value_counts()\n"
   ]
  },
  {
   "cell_type": "code",
   "execution_count": 15,
   "metadata": {},
   "outputs": [
    {
     "data": {
      "text/plain": [
       "2.7251465302736535"
      ]
     },
     "execution_count": 15,
     "metadata": {},
     "output_type": "execute_result"
    }
   ],
   "source": [
    "# для запослнения пропусков расчитаем среднюю высоту и заполним пропуски:\n",
    "ceiling_avr=df['ceiling_height'].mean()\n",
    "ceiling_avr"
   ]
  },
  {
   "cell_type": "code",
   "execution_count": 16,
   "metadata": {},
   "outputs": [
    {
     "data": {
      "text/plain": [
       "0.38799105447487237"
      ]
     },
     "execution_count": 16,
     "metadata": {},
     "output_type": "execute_result"
    }
   ],
   "source": [
    "df['ceiling_height'].isna().mean()"
   ]
  },
  {
   "cell_type": "code",
   "execution_count": 17,
   "metadata": {},
   "outputs": [],
   "source": [
    "for element in df['floors_total'].unique():\n",
    "    ceiling_avr=df['ceiling_height'][df['floors_total']== element].mean()\n",
    "    df.loc[df['floors_total']== element,'ceiling_height']=df.loc[df['floors_total']== element,'ceiling_height']\\\n",
    "                         .fillna(ceiling_avr)"
   ]
  },
  {
   "cell_type": "code",
   "execution_count": 18,
   "metadata": {},
   "outputs": [
    {
     "data": {
      "text/plain": [
       "0.0032912781130005485"
      ]
     },
     "execution_count": 18,
     "metadata": {},
     "output_type": "execute_result"
    }
   ],
   "source": [
    "df['ceiling_height'].isna().mean()"
   ]
  },
  {
   "cell_type": "code",
   "execution_count": 19,
   "metadata": {},
   "outputs": [],
   "source": [
    "# 0.3% пропущенной инфо заполним средним значением\n",
    "df['ceiling_height']=df['ceiling_height'].fillna(ceiling_avr)"
   ]
  },
  {
   "cell_type": "code",
   "execution_count": 20,
   "metadata": {},
   "outputs": [],
   "source": [
    "# floors_total заполним пропуски средним значением\n",
    "floors_total_avr=df['floors_total'].median()\n",
    "df['floors_total']=df['floors_total'].fillna(floors_total_avr)"
   ]
  },
  {
   "cell_type": "code",
   "execution_count": 21,
   "metadata": {},
   "outputs": [
    {
     "data": {
      "text/plain": [
       "total_images            0\n",
       "last_price              0\n",
       "total_area              0\n",
       "first_day_exposition    0\n",
       "rooms                   0\n",
       "ceiling_height          0\n",
       "floors_total            0\n",
       "living_area             0\n",
       "floor                   0\n",
       "is_apartment            0\n",
       "studio                  0\n",
       "open_plan               0\n",
       "kitchen_area            0\n",
       "balcony                 0\n",
       "locality_name           0\n",
       "airports_nearest        0\n",
       "cityCenters_nearest     0\n",
       "parks_around3000        0\n",
       "parks_nearest           0\n",
       "ponds_around3000        0\n",
       "ponds_nearest           0\n",
       "days_exposition         0\n",
       "dtype: int64"
      ]
     },
     "execution_count": 21,
     "metadata": {},
     "output_type": "execute_result"
    }
   ],
   "source": [
    "df[df['ceiling_height'].isnull()].count()"
   ]
  },
  {
   "cell_type": "code",
   "execution_count": 22,
   "metadata": {},
   "outputs": [
    {
     "data": {
      "text/plain": [
       "0.08029874678256467"
      ]
     },
     "execution_count": 22,
     "metadata": {},
     "output_type": "execute_result"
    }
   ],
   "source": [
    "#заполняем пропуски в living_area\n",
    "df['living_area'].isna().mean()"
   ]
  },
  {
   "cell_type": "code",
   "execution_count": 23,
   "metadata": {},
   "outputs": [],
   "source": [
    "#найдем долю жилой площади; расчитаем среднюю долю; заполним пропуски как часть общей площати.\n",
    "part_living_area=df['living_area']/df['total_area']\n",
    "part_liv_area_avr=part_living_area.mean()\n",
    "df['living_area']=df['living_area'].fillna(part_liv_area_avr*df['total_area'])"
   ]
  },
  {
   "cell_type": "code",
   "execution_count": 24,
   "metadata": {},
   "outputs": [
    {
     "data": {
      "text/plain": [
       "False    2725\n",
       "True       50\n",
       "Name: is_apartment, dtype: int64"
      ]
     },
     "execution_count": 24,
     "metadata": {},
     "output_type": "execute_result"
    }
   ],
   "source": [
    "# следующий столбец - is_apartment\n",
    "df['is_apartment'].value_counts()"
   ]
  },
  {
   "cell_type": "code",
   "execution_count": 25,
   "metadata": {},
   "outputs": [],
   "source": [
    "#из всех объявлений - всего 50 апартаментов; апартаменты - очень редки; будем считать если нет инфо - значит это квартира\n",
    "df['is_apartment']=df['is_apartment'].fillna(0)\n"
   ]
  },
  {
   "cell_type": "code",
   "execution_count": 26,
   "metadata": {},
   "outputs": [],
   "source": [
    "df['is_apartment']=df['is_apartment']*1"
   ]
  },
  {
   "cell_type": "code",
   "execution_count": 27,
   "metadata": {},
   "outputs": [
    {
     "data": {
      "text/plain": [
       "0.09612219924891345"
      ]
     },
     "execution_count": 27,
     "metadata": {},
     "output_type": "execute_result"
    }
   ],
   "source": [
    "# kithen_area: тот же принцип что и у жилой площади\n",
    "df['kitchen_area'].isna().mean()"
   ]
  },
  {
   "cell_type": "code",
   "execution_count": 28,
   "metadata": {},
   "outputs": [],
   "source": [
    "part_kitchen_area=df['kitchen_area']/df['total_area']\n",
    "part_kitch_area_avr=part_kitchen_area.mean()\n",
    "df['kitchen_area']=df['kitchen_area'].fillna(part_kitch_area_avr*df['total_area'])"
   ]
  },
  {
   "cell_type": "code",
   "execution_count": 29,
   "metadata": {},
   "outputs": [
    {
     "data": {
      "text/plain": [
       "0.4860542638929913"
      ]
     },
     "execution_count": 29,
     "metadata": {},
     "output_type": "execute_result"
    }
   ],
   "source": [
    "df['balcony'].isna().mean()"
   ]
  },
  {
   "cell_type": "markdown",
   "metadata": {},
   "source": [
    "практически 50% нет инфо о наличии балконов"
   ]
  },
  {
   "cell_type": "code",
   "execution_count": 30,
   "metadata": {},
   "outputs": [
    {
     "data": {
      "text/plain": [
       "1.0    4195\n",
       "0.0    3758\n",
       "2.0    3659\n",
       "5.0     304\n",
       "4.0     183\n",
       "3.0      81\n",
       "Name: balcony, dtype: int64"
      ]
     },
     "execution_count": 30,
     "metadata": {},
     "output_type": "execute_result"
    }
   ],
   "source": [
    "df['balcony'].value_counts()"
   ]
  },
  {
   "cell_type": "code",
   "execution_count": 31,
   "metadata": {},
   "outputs": [],
   "source": [
    "df['total_area_group']=pd.cut(df['total_area'],10)"
   ]
  },
  {
   "cell_type": "code",
   "execution_count": 32,
   "metadata": {},
   "outputs": [
    {
     "data": {
      "text/html": [
       "<div>\n",
       "<style scoped>\n",
       "    .dataframe tbody tr th:only-of-type {\n",
       "        vertical-align: middle;\n",
       "    }\n",
       "\n",
       "    .dataframe tbody tr th {\n",
       "        vertical-align: top;\n",
       "    }\n",
       "\n",
       "    .dataframe thead th {\n",
       "        text-align: right;\n",
       "    }\n",
       "</style>\n",
       "<table border=\"1\" class=\"dataframe\">\n",
       "  <thead>\n",
       "    <tr style=\"text-align: right;\">\n",
       "      <th></th>\n",
       "      <th>count</th>\n",
       "      <th>mean</th>\n",
       "    </tr>\n",
       "    <tr>\n",
       "      <th>total_area_group</th>\n",
       "      <th></th>\n",
       "      <th></th>\n",
       "    </tr>\n",
       "  </thead>\n",
       "  <tbody>\n",
       "    <tr>\n",
       "      <th>(11.112, 100.8]</th>\n",
       "      <td>11354</td>\n",
       "      <td>1.147877</td>\n",
       "    </tr>\n",
       "    <tr>\n",
       "      <th>(100.8, 189.6]</th>\n",
       "      <td>701</td>\n",
       "      <td>1.241084</td>\n",
       "    </tr>\n",
       "    <tr>\n",
       "      <th>(189.6, 278.4]</th>\n",
       "      <td>87</td>\n",
       "      <td>0.850575</td>\n",
       "    </tr>\n",
       "    <tr>\n",
       "      <th>(278.4, 367.2]</th>\n",
       "      <td>22</td>\n",
       "      <td>0.727273</td>\n",
       "    </tr>\n",
       "    <tr>\n",
       "      <th>(367.2, 456.0]</th>\n",
       "      <td>9</td>\n",
       "      <td>1.444444</td>\n",
       "    </tr>\n",
       "    <tr>\n",
       "      <th>(456.0, 544.8]</th>\n",
       "      <td>6</td>\n",
       "      <td>0.166667</td>\n",
       "    </tr>\n",
       "    <tr>\n",
       "      <th>(544.8, 633.6]</th>\n",
       "      <td>1</td>\n",
       "      <td>1.000000</td>\n",
       "    </tr>\n",
       "    <tr>\n",
       "      <th>(633.6, 722.4]</th>\n",
       "      <td>0</td>\n",
       "      <td>NaN</td>\n",
       "    </tr>\n",
       "    <tr>\n",
       "      <th>(722.4, 811.2]</th>\n",
       "      <td>0</td>\n",
       "      <td>NaN</td>\n",
       "    </tr>\n",
       "    <tr>\n",
       "      <th>(811.2, 900.0]</th>\n",
       "      <td>0</td>\n",
       "      <td>NaN</td>\n",
       "    </tr>\n",
       "  </tbody>\n",
       "</table>\n",
       "</div>"
      ],
      "text/plain": [
       "                  count      mean\n",
       "total_area_group                 \n",
       "(11.112, 100.8]   11354  1.147877\n",
       "(100.8, 189.6]      701  1.241084\n",
       "(189.6, 278.4]       87  0.850575\n",
       "(278.4, 367.2]       22  0.727273\n",
       "(367.2, 456.0]        9  1.444444\n",
       "(456.0, 544.8]        6  0.166667\n",
       "(544.8, 633.6]        1  1.000000\n",
       "(633.6, 722.4]        0       NaN\n",
       "(722.4, 811.2]        0       NaN\n",
       "(811.2, 900.0]        0       NaN"
      ]
     },
     "execution_count": 32,
     "metadata": {},
     "output_type": "execute_result"
    }
   ],
   "source": [
    "# посмотрим какое количество балконов в зависимости от площади недвижимости\n",
    "df.groupby('total_area_group')['balcony'].agg(['count','mean'])"
   ]
  },
  {
   "cell_type": "code",
   "execution_count": 33,
   "metadata": {
    "scrolled": true
   },
   "outputs": [
    {
     "data": {
      "text/plain": [
       "balcony\n",
       "0.0    500.0\n",
       "1.0    631.2\n",
       "2.0    402.0\n",
       "3.0    401.0\n",
       "4.0    249.7\n",
       "5.0    431.0\n",
       "Name: total_area, dtype: float64"
      ]
     },
     "execution_count": 33,
     "metadata": {},
     "output_type": "execute_result"
    }
   ],
   "source": [
    "df.groupby('balcony')['total_area'].max()"
   ]
  },
  {
   "cell_type": "code",
   "execution_count": 34,
   "metadata": {},
   "outputs": [],
   "source": [
    "# как видно из группировки балконов нет у квартир площадью более 633 м кв; заменить 48 % на 0 - будет не верно (площади большие, \n",
    "# скорее всего балконы есть); заменим пропуски на -1; при дальнейшем анализе будем понимать что -1 у квартир у которых нет инфо\n",
    "df['balcony']=df['balcony'].fillna(-1)"
   ]
  },
  {
   "cell_type": "code",
   "execution_count": 35,
   "metadata": {},
   "outputs": [],
   "source": [
    "# не указанный населенный пункт заменим на \"no_info\"\n",
    "df['locality_name']=df['locality_name'].fillna('no_info')"
   ]
  },
  {
   "cell_type": "code",
   "execution_count": 36,
   "metadata": {},
   "outputs": [
    {
     "data": {
      "text/plain": [
       "Санкт-Петербург                               15721\n",
       "посёлок Мурино                                  522\n",
       "посёлок Шушары                                  440\n",
       "Всеволожск                                      398\n",
       "Пушкин                                          369\n",
       "                                              ...  \n",
       "посёлок при железнодорожной станции Вещево        1\n",
       "посёлок Мыза-Ивановка                             1\n",
       "поселок Красносельское                            1\n",
       "деревня Раздолье                                  1\n",
       "село Шум                                          1\n",
       "Name: locality_name, Length: 365, dtype: int64"
      ]
     },
     "execution_count": 36,
     "metadata": {},
     "output_type": "execute_result"
    }
   ],
   "source": [
    "df['locality_name'].value_counts()"
   ]
  },
  {
   "cell_type": "code",
   "execution_count": 37,
   "metadata": {},
   "outputs": [
    {
     "data": {
      "text/plain": [
       "1"
      ]
     },
     "execution_count": 37,
     "metadata": {},
     "output_type": "execute_result"
    }
   ],
   "source": [
    "df.loc[df['airports_nearest']==0,'airports_nearest'].count()"
   ]
  },
  {
   "cell_type": "code",
   "execution_count": 38,
   "metadata": {},
   "outputs": [],
   "source": [
    "#если растояние до ближайшего аэропорта не указамно - значит ближайшено аэропорта нет; заполним пропуски -1\n",
    "df['airports_nearest']=df['airports_nearest'].fillna(-1)"
   ]
  },
  {
   "cell_type": "code",
   "execution_count": 39,
   "metadata": {},
   "outputs": [
    {
     "data": {
      "text/html": [
       "<div>\n",
       "<style scoped>\n",
       "    .dataframe tbody tr th:only-of-type {\n",
       "        vertical-align: middle;\n",
       "    }\n",
       "\n",
       "    .dataframe tbody tr th {\n",
       "        vertical-align: top;\n",
       "    }\n",
       "\n",
       "    .dataframe thead th {\n",
       "        text-align: right;\n",
       "    }\n",
       "</style>\n",
       "<table border=\"1\" class=\"dataframe\">\n",
       "  <thead>\n",
       "    <tr style=\"text-align: right;\">\n",
       "      <th></th>\n",
       "      <th>count</th>\n",
       "      <th>mean</th>\n",
       "    </tr>\n",
       "    <tr>\n",
       "      <th>parks_around3000</th>\n",
       "      <th></th>\n",
       "      <th></th>\n",
       "    </tr>\n",
       "  </thead>\n",
       "  <tbody>\n",
       "    <tr>\n",
       "      <th>0.0</th>\n",
       "      <td>4</td>\n",
       "      <td>3114.250000</td>\n",
       "    </tr>\n",
       "    <tr>\n",
       "      <th>1.0</th>\n",
       "      <td>5681</td>\n",
       "      <td>546.246788</td>\n",
       "    </tr>\n",
       "    <tr>\n",
       "      <th>2.0</th>\n",
       "      <td>1747</td>\n",
       "      <td>370.634230</td>\n",
       "    </tr>\n",
       "    <tr>\n",
       "      <th>3.0</th>\n",
       "      <td>647</td>\n",
       "      <td>312.251932</td>\n",
       "    </tr>\n",
       "  </tbody>\n",
       "</table>\n",
       "</div>"
      ],
      "text/plain": [
       "                  count         mean\n",
       "parks_around3000                    \n",
       "0.0                   4  3114.250000\n",
       "1.0                5681   546.246788\n",
       "2.0                1747   370.634230\n",
       "3.0                 647   312.251932"
      ]
     },
     "execution_count": 39,
     "metadata": {},
     "output_type": "execute_result"
    }
   ],
   "source": [
    "df.groupby('parks_around3000')['parks_nearest'].agg(['count','mean'])"
   ]
  },
  {
   "cell_type": "code",
   "execution_count": 40,
   "metadata": {},
   "outputs": [],
   "source": [
    "df['parks_nearest_group']=pd.cut(df['parks_nearest'],10)"
   ]
  },
  {
   "cell_type": "code",
   "execution_count": 41,
   "metadata": {},
   "outputs": [
    {
     "data": {
      "text/html": [
       "<div>\n",
       "<style scoped>\n",
       "    .dataframe tbody tr th:only-of-type {\n",
       "        vertical-align: middle;\n",
       "    }\n",
       "\n",
       "    .dataframe tbody tr th {\n",
       "        vertical-align: top;\n",
       "    }\n",
       "\n",
       "    .dataframe thead th {\n",
       "        text-align: right;\n",
       "    }\n",
       "</style>\n",
       "<table border=\"1\" class=\"dataframe\">\n",
       "  <thead>\n",
       "    <tr style=\"text-align: right;\">\n",
       "      <th></th>\n",
       "      <th>count</th>\n",
       "      <th>mean</th>\n",
       "    </tr>\n",
       "    <tr>\n",
       "      <th>parks_nearest_group</th>\n",
       "      <th></th>\n",
       "      <th></th>\n",
       "    </tr>\n",
       "  </thead>\n",
       "  <tbody>\n",
       "    <tr>\n",
       "      <th>(-2.189, 319.9]</th>\n",
       "      <td>2379</td>\n",
       "      <td>1.595628</td>\n",
       "    </tr>\n",
       "    <tr>\n",
       "      <th>(319.9, 638.8]</th>\n",
       "      <td>3976</td>\n",
       "      <td>1.373994</td>\n",
       "    </tr>\n",
       "    <tr>\n",
       "      <th>(638.8, 957.7]</th>\n",
       "      <td>1303</td>\n",
       "      <td>1.101305</td>\n",
       "    </tr>\n",
       "    <tr>\n",
       "      <th>(957.7, 1276.6]</th>\n",
       "      <td>195</td>\n",
       "      <td>1.015385</td>\n",
       "    </tr>\n",
       "    <tr>\n",
       "      <th>(1276.6, 1595.5]</th>\n",
       "      <td>73</td>\n",
       "      <td>1.000000</td>\n",
       "    </tr>\n",
       "    <tr>\n",
       "      <th>(1595.5, 1914.4]</th>\n",
       "      <td>31</td>\n",
       "      <td>1.000000</td>\n",
       "    </tr>\n",
       "    <tr>\n",
       "      <th>(1914.4, 2233.3]</th>\n",
       "      <td>56</td>\n",
       "      <td>1.000000</td>\n",
       "    </tr>\n",
       "    <tr>\n",
       "      <th>(2233.3, 2552.2]</th>\n",
       "      <td>51</td>\n",
       "      <td>1.000000</td>\n",
       "    </tr>\n",
       "    <tr>\n",
       "      <th>(2552.2, 2871.1]</th>\n",
       "      <td>7</td>\n",
       "      <td>1.285714</td>\n",
       "    </tr>\n",
       "    <tr>\n",
       "      <th>(2871.1, 3190.0]</th>\n",
       "      <td>8</td>\n",
       "      <td>0.500000</td>\n",
       "    </tr>\n",
       "  </tbody>\n",
       "</table>\n",
       "</div>"
      ],
      "text/plain": [
       "                     count      mean\n",
       "parks_nearest_group                 \n",
       "(-2.189, 319.9]       2379  1.595628\n",
       "(319.9, 638.8]        3976  1.373994\n",
       "(638.8, 957.7]        1303  1.101305\n",
       "(957.7, 1276.6]        195  1.015385\n",
       "(1276.6, 1595.5]        73  1.000000\n",
       "(1595.5, 1914.4]        31  1.000000\n",
       "(1914.4, 2233.3]        56  1.000000\n",
       "(2233.3, 2552.2]        51  1.000000\n",
       "(2552.2, 2871.1]         7  1.285714\n",
       "(2871.1, 3190.0]         8  0.500000"
      ]
     },
     "execution_count": 41,
     "metadata": {},
     "output_type": "execute_result"
    }
   ],
   "source": [
    "df.groupby('parks_nearest_group')['parks_around3000'].agg(['count','mean'])"
   ]
  },
  {
   "cell_type": "code",
   "execution_count": 42,
   "metadata": {},
   "outputs": [
    {
     "data": {
      "text/plain": [
       "0"
      ]
     },
     "execution_count": 42,
     "metadata": {},
     "output_type": "execute_result"
    }
   ],
   "source": [
    "df.loc[df['parks_nearest']<0,'parks_nearest'].count()"
   ]
  },
  {
   "cell_type": "code",
   "execution_count": 43,
   "metadata": {},
   "outputs": [],
   "source": [
    "park_nearest_avr=df['parks_nearest'].mean()\n"
   ]
  },
  {
   "cell_type": "code",
   "execution_count": 44,
   "metadata": {},
   "outputs": [],
   "source": [
    "# возможно что было указано о наличии парка, но не запонлена инфо о растоянии до парка; исправим заменой средней; иначе 0\n",
    "df.loc[df['parks_around3000']>0,'parks_nearest']=df.loc[df['parks_around3000']>0,'parks_nearest'].fillna(park_nearest_avr)"
   ]
  },
  {
   "cell_type": "code",
   "execution_count": 45,
   "metadata": {},
   "outputs": [],
   "source": [
    "df['parks_around3000']=df['parks_around3000'].fillna(-1)"
   ]
  },
  {
   "cell_type": "code",
   "execution_count": 46,
   "metadata": {},
   "outputs": [],
   "source": [
    "df['parks_nearest']=df['parks_nearest'].fillna(-1)"
   ]
  },
  {
   "cell_type": "code",
   "execution_count": 47,
   "metadata": {},
   "outputs": [],
   "source": [
    "ponds_nearest_avr=df['ponds_nearest'].mean()"
   ]
  },
  {
   "cell_type": "code",
   "execution_count": 48,
   "metadata": {},
   "outputs": [],
   "source": [
    "# также и для водоемов\n",
    "df.loc[df['ponds_around3000']>0,'ponds_nearest']=df.loc[df['ponds_around3000']>0,'ponds_nearest'].fillna(ponds_nearest_avr)"
   ]
  },
  {
   "cell_type": "code",
   "execution_count": 49,
   "metadata": {},
   "outputs": [],
   "source": [
    "# пропуски в растоянии до центра заменим -1\n",
    "\n",
    "df['cityCenters_nearest']=df['cityCenters_nearest'].fillna(-1)"
   ]
  },
  {
   "cell_type": "code",
   "execution_count": 50,
   "metadata": {},
   "outputs": [
    {
     "data": {
      "text/plain": [
       "0.13422507278788134"
      ]
     },
     "execution_count": 50,
     "metadata": {},
     "output_type": "execute_result"
    }
   ],
   "source": [
    "# и наконец то осталось заполнить пропуски в длительности размещения объявления; всего 13%; заполним средним значением\n",
    "df['days_exposition'].isna().mean()"
   ]
  },
  {
   "cell_type": "code",
   "execution_count": 51,
   "metadata": {},
   "outputs": [],
   "source": [
    "days_exposition_avr=df['days_exposition'].mean()\n",
    "df['days_exposition']=df['days_exposition'].fillna(days_exposition_avr)"
   ]
  },
  {
   "cell_type": "code",
   "execution_count": 52,
   "metadata": {},
   "outputs": [
    {
     "name": "stdout",
     "output_type": "stream",
     "text": [
      "<class 'pandas.core.frame.DataFrame'>\n",
      "RangeIndex: 23699 entries, 0 to 23698\n",
      "Data columns (total 24 columns):\n",
      " #   Column                Non-Null Count  Dtype   \n",
      "---  ------                --------------  -----   \n",
      " 0   total_images          23699 non-null  int64   \n",
      " 1   last_price            23699 non-null  float64 \n",
      " 2   total_area            23699 non-null  float64 \n",
      " 3   first_day_exposition  23699 non-null  object  \n",
      " 4   rooms                 23699 non-null  int64   \n",
      " 5   ceiling_height        23699 non-null  float64 \n",
      " 6   floors_total          23699 non-null  float64 \n",
      " 7   living_area           23699 non-null  float64 \n",
      " 8   floor                 23699 non-null  int64   \n",
      " 9   is_apartment          23699 non-null  object  \n",
      " 10  studio                23699 non-null  bool    \n",
      " 11  open_plan             23699 non-null  bool    \n",
      " 12  kitchen_area          23699 non-null  float64 \n",
      " 13  balcony               23699 non-null  float64 \n",
      " 14  locality_name         23699 non-null  object  \n",
      " 15  airports_nearest      23699 non-null  float64 \n",
      " 16  cityCenters_nearest   23699 non-null  float64 \n",
      " 17  parks_around3000      23699 non-null  float64 \n",
      " 18  parks_nearest         23699 non-null  float64 \n",
      " 19  ponds_around3000      18181 non-null  float64 \n",
      " 20  ponds_nearest         9110 non-null   float64 \n",
      " 21  days_exposition       23699 non-null  float64 \n",
      " 22  total_area_group      23699 non-null  category\n",
      " 23  parks_nearest_group   8079 non-null   category\n",
      "dtypes: bool(2), category(2), float64(14), int64(3), object(3)\n",
      "memory usage: 3.7+ MB\n"
     ]
    }
   ],
   "source": [
    "#проверим заполнены ли все пропуски:\n",
    "df.info()"
   ]
  },
  {
   "cell_type": "code",
   "execution_count": 53,
   "metadata": {},
   "outputs": [],
   "source": [
    "# для облегчения анализа переведем тип данных к целочисленному типу\n",
    "df['last_price']=df['last_price'].astype(int)\n",
    "df['total_area']=df['total_area'].astype(int)\n",
    "df['floors_total']=df['floors_total'].astype(int)\n",
    "df['living_area']=df['living_area'].astype(int)\n",
    "df['kitchen_area']=df['kitchen_area'].astype(int)\n",
    "df['balcony']=df['balcony'].astype(int)\n",
    "df['days_exposition']=df['days_exposition'].astype(int)"
   ]
  },
  {
   "cell_type": "markdown",
   "metadata": {},
   "source": [
    "Были преобразованы данные:\n",
    "1. Слишком высокие стены (более 5 метров) заменены на средний показатель у квартир с высотой стен менее 5 метром; пропуски заполнены средним значением\n",
    "2. Жилая площадь и площадь кухни: так как общая площадь указана у всех объявлений, то расчитав среднюю долю площадей, заполним пропущенные значения\n",
    "3. аппартаментов всего 50; заменим пропуски на 0\n",
    "4. большое количество пропусков у количества балконов (48%). Заменим пропуски на -1; при дальнейшем анализе будем понимать что это пропущенная инфо\n",
    "5. Отсутствующие названия населенных пунктов заменим на \"no_info\"\n",
    "6. Растояние до аэропорта - если нет инфо , значит аэропорт далеко  - (-1)\n",
    "7. Количество парков заменим на средние значение\n",
    "8. Растояние до парка/пруда. Исходим из того, что если есть инфо о наличии парка, значит информацию не указали. Для этих парков/прудов расчитаем средний показатель. Для остальных - (-1)\n",
    "9. Растояние до центра- (-1)\n",
    "10. Длительность объявления не может быть 0, заменяем на среднее количество дней"
   ]
  },
  {
   "cell_type": "markdown",
   "metadata": {},
   "source": [
    "### Анали данных"
   ]
  },
  {
   "cell_type": "code",
   "execution_count": 54,
   "metadata": {},
   "outputs": [
    {
     "data": {
      "text/html": [
       "<div>\n",
       "<style scoped>\n",
       "    .dataframe tbody tr th:only-of-type {\n",
       "        vertical-align: middle;\n",
       "    }\n",
       "\n",
       "    .dataframe tbody tr th {\n",
       "        vertical-align: top;\n",
       "    }\n",
       "\n",
       "    .dataframe thead th {\n",
       "        text-align: right;\n",
       "    }\n",
       "</style>\n",
       "<table border=\"1\" class=\"dataframe\">\n",
       "  <thead>\n",
       "    <tr style=\"text-align: right;\">\n",
       "      <th></th>\n",
       "      <th>index</th>\n",
       "      <th>price_per_m2</th>\n",
       "    </tr>\n",
       "  </thead>\n",
       "  <tbody>\n",
       "    <tr>\n",
       "      <th>0</th>\n",
       "      <td>0</td>\n",
       "      <td>120370</td>\n",
       "    </tr>\n",
       "    <tr>\n",
       "      <th>1</th>\n",
       "      <td>1</td>\n",
       "      <td>83750</td>\n",
       "    </tr>\n",
       "    <tr>\n",
       "      <th>2</th>\n",
       "      <td>2</td>\n",
       "      <td>92785</td>\n",
       "    </tr>\n",
       "    <tr>\n",
       "      <th>3</th>\n",
       "      <td>3</td>\n",
       "      <td>408176</td>\n",
       "    </tr>\n",
       "    <tr>\n",
       "      <th>4</th>\n",
       "      <td>4</td>\n",
       "      <td>100000</td>\n",
       "    </tr>\n",
       "  </tbody>\n",
       "</table>\n",
       "</div>"
      ],
      "text/plain": [
       "   index  price_per_m2\n",
       "0      0        120370\n",
       "1      1         83750\n",
       "2      2         92785\n",
       "3      3        408176\n",
       "4      4        100000"
      ]
     },
     "execution_count": 54,
     "metadata": {},
     "output_type": "execute_result"
    }
   ],
   "source": [
    "# расчитаем цену за квадратный метр\n",
    "df['price_per_m2']=df['last_price']/df['total_area']\n",
    "df['price_per_m2']=df['price_per_m2'].astype(int)\n",
    "df['price_per_m2'].head(5).reset_index()"
   ]
  },
  {
   "cell_type": "code",
   "execution_count": 55,
   "metadata": {},
   "outputs": [
    {
     "data": {
      "text/plain": [
       "0    2019-03-07T00:00:00\n",
       "1    2018-12-04T00:00:00\n",
       "2    2015-08-20T00:00:00\n",
       "3    2015-07-24T00:00:00\n",
       "4    2018-06-19T00:00:00\n",
       "5    2018-09-10T00:00:00\n",
       "6    2017-11-02T00:00:00\n",
       "7    2019-04-18T00:00:00\n",
       "8    2018-05-23T00:00:00\n",
       "9    2017-02-26T00:00:00\n",
       "Name: first_day_exposition, dtype: object"
      ]
     },
     "execution_count": 55,
     "metadata": {},
     "output_type": "execute_result"
    }
   ],
   "source": [
    "df['first_day_exposition'].head(10)"
   ]
  },
  {
   "cell_type": "code",
   "execution_count": 56,
   "metadata": {},
   "outputs": [
    {
     "data": {
      "text/html": [
       "<div>\n",
       "<style scoped>\n",
       "    .dataframe tbody tr th:only-of-type {\n",
       "        vertical-align: middle;\n",
       "    }\n",
       "\n",
       "    .dataframe tbody tr th {\n",
       "        vertical-align: top;\n",
       "    }\n",
       "\n",
       "    .dataframe thead th {\n",
       "        text-align: right;\n",
       "    }\n",
       "</style>\n",
       "<table border=\"1\" class=\"dataframe\">\n",
       "  <thead>\n",
       "    <tr style=\"text-align: right;\">\n",
       "      <th></th>\n",
       "      <th>total_images</th>\n",
       "      <th>last_price</th>\n",
       "      <th>total_area</th>\n",
       "      <th>first_day_exposition</th>\n",
       "      <th>rooms</th>\n",
       "      <th>ceiling_height</th>\n",
       "      <th>floors_total</th>\n",
       "      <th>living_area</th>\n",
       "      <th>floor</th>\n",
       "      <th>is_apartment</th>\n",
       "      <th>...</th>\n",
       "      <th>ponds_around3000</th>\n",
       "      <th>ponds_nearest</th>\n",
       "      <th>days_exposition</th>\n",
       "      <th>total_area_group</th>\n",
       "      <th>parks_nearest_group</th>\n",
       "      <th>price_per_m2</th>\n",
       "      <th>date</th>\n",
       "      <th>weekday</th>\n",
       "      <th>month</th>\n",
       "      <th>year</th>\n",
       "    </tr>\n",
       "  </thead>\n",
       "  <tbody>\n",
       "    <tr>\n",
       "      <th>0</th>\n",
       "      <td>20</td>\n",
       "      <td>13000000</td>\n",
       "      <td>108</td>\n",
       "      <td>2019-03-07T00:00:00</td>\n",
       "      <td>3</td>\n",
       "      <td>2.700000</td>\n",
       "      <td>16</td>\n",
       "      <td>51</td>\n",
       "      <td>8</td>\n",
       "      <td>0</td>\n",
       "      <td>...</td>\n",
       "      <td>2.0</td>\n",
       "      <td>755.0</td>\n",
       "      <td>180</td>\n",
       "      <td>(100.8, 189.6]</td>\n",
       "      <td>(319.9, 638.8]</td>\n",
       "      <td>120370</td>\n",
       "      <td>2019-03-07</td>\n",
       "      <td>3</td>\n",
       "      <td>3</td>\n",
       "      <td>2019</td>\n",
       "    </tr>\n",
       "    <tr>\n",
       "      <th>1</th>\n",
       "      <td>7</td>\n",
       "      <td>3350000</td>\n",
       "      <td>40</td>\n",
       "      <td>2018-12-04T00:00:00</td>\n",
       "      <td>1</td>\n",
       "      <td>2.782385</td>\n",
       "      <td>11</td>\n",
       "      <td>18</td>\n",
       "      <td>1</td>\n",
       "      <td>0</td>\n",
       "      <td>...</td>\n",
       "      <td>0.0</td>\n",
       "      <td>NaN</td>\n",
       "      <td>81</td>\n",
       "      <td>(11.112, 100.8]</td>\n",
       "      <td>NaN</td>\n",
       "      <td>83750</td>\n",
       "      <td>2018-12-04</td>\n",
       "      <td>1</td>\n",
       "      <td>12</td>\n",
       "      <td>2018</td>\n",
       "    </tr>\n",
       "    <tr>\n",
       "      <th>2</th>\n",
       "      <td>10</td>\n",
       "      <td>5196000</td>\n",
       "      <td>56</td>\n",
       "      <td>2015-08-20T00:00:00</td>\n",
       "      <td>2</td>\n",
       "      <td>2.705979</td>\n",
       "      <td>5</td>\n",
       "      <td>34</td>\n",
       "      <td>4</td>\n",
       "      <td>0</td>\n",
       "      <td>...</td>\n",
       "      <td>2.0</td>\n",
       "      <td>574.0</td>\n",
       "      <td>558</td>\n",
       "      <td>(11.112, 100.8]</td>\n",
       "      <td>(-2.189, 319.9]</td>\n",
       "      <td>92785</td>\n",
       "      <td>2015-08-20</td>\n",
       "      <td>3</td>\n",
       "      <td>8</td>\n",
       "      <td>2015</td>\n",
       "    </tr>\n",
       "  </tbody>\n",
       "</table>\n",
       "<p>3 rows × 29 columns</p>\n",
       "</div>"
      ],
      "text/plain": [
       "   total_images  last_price  total_area first_day_exposition  rooms  \\\n",
       "0            20    13000000         108  2019-03-07T00:00:00      3   \n",
       "1             7     3350000          40  2018-12-04T00:00:00      1   \n",
       "2            10     5196000          56  2015-08-20T00:00:00      2   \n",
       "\n",
       "   ceiling_height  floors_total  living_area  floor is_apartment  ...  \\\n",
       "0        2.700000            16           51      8            0  ...   \n",
       "1        2.782385            11           18      1            0  ...   \n",
       "2        2.705979             5           34      4            0  ...   \n",
       "\n",
       "   ponds_around3000  ponds_nearest  days_exposition  total_area_group  \\\n",
       "0               2.0          755.0              180    (100.8, 189.6]   \n",
       "1               0.0            NaN               81   (11.112, 100.8]   \n",
       "2               2.0          574.0              558   (11.112, 100.8]   \n",
       "\n",
       "  parks_nearest_group  price_per_m2       date  weekday  month  year  \n",
       "0      (319.9, 638.8]        120370 2019-03-07        3      3  2019  \n",
       "1                 NaN         83750 2018-12-04        1     12  2018  \n",
       "2     (-2.189, 319.9]         92785 2015-08-20        3      8  2015  \n",
       "\n",
       "[3 rows x 29 columns]"
      ]
     },
     "execution_count": 56,
     "metadata": {},
     "output_type": "execute_result"
    }
   ],
   "source": [
    "# расчитаем день недели, месяц и год публикации объявления\n",
    "df['date']=pd.to_datetime(df['first_day_exposition'],format='%Y-%m-%d')\n",
    "df['weekday']=df['date'].dt.weekday\n",
    "df['month']=df['date'].dt.month\n",
    "df['year']=df['date'].dt.year\n",
    "df.head(3)"
   ]
  },
  {
   "cell_type": "code",
   "execution_count": 57,
   "metadata": {},
   "outputs": [],
   "source": [
    "# расчитаем этаж квартиры; варианты — первый, последний, другой; для того чтобы можно было расчитать коэффициент корреляции\n",
    "# заменим первый на 1, последние этажи на 10 , и остальные на 5:\n",
    "\n",
    "def floor_group (row):\n",
    "    floors_total=row['floors_total']\n",
    "    if (row['floor']==1) or (row['floor']==2):\n",
    "        return '1'\n",
    "    if (row['floor']==floors_total) or (row['floor']==floors_total-1):\n",
    "        return '10'\n",
    "    return '5'\n",
    "df['floor_group']=df.apply(floor_group,axis=1).astype(int)\n"
   ]
  },
  {
   "cell_type": "code",
   "execution_count": 58,
   "metadata": {},
   "outputs": [
    {
     "data": {
      "text/plain": [
       "5     11403\n",
       "1      6285\n",
       "10     6011\n",
       "Name: floor_group, dtype: int64"
      ]
     },
     "execution_count": 58,
     "metadata": {},
     "output_type": "execute_result"
    }
   ],
   "source": [
    "df['floor_group'].value_counts()"
   ]
  },
  {
   "cell_type": "code",
   "execution_count": 59,
   "metadata": {},
   "outputs": [
    {
     "data": {
      "text/html": [
       "<div>\n",
       "<style scoped>\n",
       "    .dataframe tbody tr th:only-of-type {\n",
       "        vertical-align: middle;\n",
       "    }\n",
       "\n",
       "    .dataframe tbody tr th {\n",
       "        vertical-align: top;\n",
       "    }\n",
       "\n",
       "    .dataframe thead th {\n",
       "        text-align: right;\n",
       "    }\n",
       "</style>\n",
       "<table border=\"1\" class=\"dataframe\">\n",
       "  <thead>\n",
       "    <tr style=\"text-align: right;\">\n",
       "      <th></th>\n",
       "      <th>total_images</th>\n",
       "      <th>last_price</th>\n",
       "      <th>total_area</th>\n",
       "      <th>first_day_exposition</th>\n",
       "      <th>rooms</th>\n",
       "      <th>ceiling_height</th>\n",
       "      <th>floors_total</th>\n",
       "      <th>living_area</th>\n",
       "      <th>floor</th>\n",
       "      <th>is_apartment</th>\n",
       "      <th>...</th>\n",
       "      <th>ponds_nearest</th>\n",
       "      <th>days_exposition</th>\n",
       "      <th>total_area_group</th>\n",
       "      <th>parks_nearest_group</th>\n",
       "      <th>price_per_m2</th>\n",
       "      <th>date</th>\n",
       "      <th>weekday</th>\n",
       "      <th>month</th>\n",
       "      <th>year</th>\n",
       "      <th>floor_group</th>\n",
       "    </tr>\n",
       "  </thead>\n",
       "  <tbody>\n",
       "    <tr>\n",
       "      <th>0</th>\n",
       "      <td>20</td>\n",
       "      <td>13000000</td>\n",
       "      <td>108</td>\n",
       "      <td>2019-03-07T00:00:00</td>\n",
       "      <td>3</td>\n",
       "      <td>2.700000</td>\n",
       "      <td>16</td>\n",
       "      <td>51</td>\n",
       "      <td>8</td>\n",
       "      <td>0</td>\n",
       "      <td>...</td>\n",
       "      <td>755.0</td>\n",
       "      <td>180</td>\n",
       "      <td>(100.8, 189.6]</td>\n",
       "      <td>(319.9, 638.8]</td>\n",
       "      <td>120370</td>\n",
       "      <td>2019-03-07</td>\n",
       "      <td>3</td>\n",
       "      <td>3</td>\n",
       "      <td>2019</td>\n",
       "      <td>5</td>\n",
       "    </tr>\n",
       "    <tr>\n",
       "      <th>1</th>\n",
       "      <td>7</td>\n",
       "      <td>3350000</td>\n",
       "      <td>40</td>\n",
       "      <td>2018-12-04T00:00:00</td>\n",
       "      <td>1</td>\n",
       "      <td>2.782385</td>\n",
       "      <td>11</td>\n",
       "      <td>18</td>\n",
       "      <td>1</td>\n",
       "      <td>0</td>\n",
       "      <td>...</td>\n",
       "      <td>NaN</td>\n",
       "      <td>81</td>\n",
       "      <td>(11.112, 100.8]</td>\n",
       "      <td>NaN</td>\n",
       "      <td>83750</td>\n",
       "      <td>2018-12-04</td>\n",
       "      <td>1</td>\n",
       "      <td>12</td>\n",
       "      <td>2018</td>\n",
       "      <td>1</td>\n",
       "    </tr>\n",
       "    <tr>\n",
       "      <th>2</th>\n",
       "      <td>10</td>\n",
       "      <td>5196000</td>\n",
       "      <td>56</td>\n",
       "      <td>2015-08-20T00:00:00</td>\n",
       "      <td>2</td>\n",
       "      <td>2.705979</td>\n",
       "      <td>5</td>\n",
       "      <td>34</td>\n",
       "      <td>4</td>\n",
       "      <td>0</td>\n",
       "      <td>...</td>\n",
       "      <td>574.0</td>\n",
       "      <td>558</td>\n",
       "      <td>(11.112, 100.8]</td>\n",
       "      <td>(-2.189, 319.9]</td>\n",
       "      <td>92785</td>\n",
       "      <td>2015-08-20</td>\n",
       "      <td>3</td>\n",
       "      <td>8</td>\n",
       "      <td>2015</td>\n",
       "      <td>10</td>\n",
       "    </tr>\n",
       "    <tr>\n",
       "      <th>3</th>\n",
       "      <td>0</td>\n",
       "      <td>64900000</td>\n",
       "      <td>159</td>\n",
       "      <td>2015-07-24T00:00:00</td>\n",
       "      <td>3</td>\n",
       "      <td>2.640730</td>\n",
       "      <td>14</td>\n",
       "      <td>89</td>\n",
       "      <td>9</td>\n",
       "      <td>0</td>\n",
       "      <td>...</td>\n",
       "      <td>234.0</td>\n",
       "      <td>424</td>\n",
       "      <td>(100.8, 189.6]</td>\n",
       "      <td>(-2.189, 319.9]</td>\n",
       "      <td>408176</td>\n",
       "      <td>2015-07-24</td>\n",
       "      <td>4</td>\n",
       "      <td>7</td>\n",
       "      <td>2015</td>\n",
       "      <td>5</td>\n",
       "    </tr>\n",
       "    <tr>\n",
       "      <th>4</th>\n",
       "      <td>2</td>\n",
       "      <td>10000000</td>\n",
       "      <td>100</td>\n",
       "      <td>2018-06-19T00:00:00</td>\n",
       "      <td>2</td>\n",
       "      <td>3.030000</td>\n",
       "      <td>14</td>\n",
       "      <td>32</td>\n",
       "      <td>13</td>\n",
       "      <td>0</td>\n",
       "      <td>...</td>\n",
       "      <td>48.0</td>\n",
       "      <td>121</td>\n",
       "      <td>(11.112, 100.8]</td>\n",
       "      <td>(-2.189, 319.9]</td>\n",
       "      <td>100000</td>\n",
       "      <td>2018-06-19</td>\n",
       "      <td>1</td>\n",
       "      <td>6</td>\n",
       "      <td>2018</td>\n",
       "      <td>10</td>\n",
       "    </tr>\n",
       "  </tbody>\n",
       "</table>\n",
       "<p>5 rows × 30 columns</p>\n",
       "</div>"
      ],
      "text/plain": [
       "   total_images  last_price  total_area first_day_exposition  rooms  \\\n",
       "0            20    13000000         108  2019-03-07T00:00:00      3   \n",
       "1             7     3350000          40  2018-12-04T00:00:00      1   \n",
       "2            10     5196000          56  2015-08-20T00:00:00      2   \n",
       "3             0    64900000         159  2015-07-24T00:00:00      3   \n",
       "4             2    10000000         100  2018-06-19T00:00:00      2   \n",
       "\n",
       "   ceiling_height  floors_total  living_area  floor is_apartment  ...  \\\n",
       "0        2.700000            16           51      8            0  ...   \n",
       "1        2.782385            11           18      1            0  ...   \n",
       "2        2.705979             5           34      4            0  ...   \n",
       "3        2.640730            14           89      9            0  ...   \n",
       "4        3.030000            14           32     13            0  ...   \n",
       "\n",
       "   ponds_nearest  days_exposition  total_area_group  parks_nearest_group  \\\n",
       "0          755.0              180    (100.8, 189.6]       (319.9, 638.8]   \n",
       "1            NaN               81   (11.112, 100.8]                  NaN   \n",
       "2          574.0              558   (11.112, 100.8]      (-2.189, 319.9]   \n",
       "3          234.0              424    (100.8, 189.6]      (-2.189, 319.9]   \n",
       "4           48.0              121   (11.112, 100.8]      (-2.189, 319.9]   \n",
       "\n",
       "  price_per_m2       date  weekday  month  year  floor_group  \n",
       "0       120370 2019-03-07        3      3  2019            5  \n",
       "1        83750 2018-12-04        1     12  2018            1  \n",
       "2        92785 2015-08-20        3      8  2015           10  \n",
       "3       408176 2015-07-24        4      7  2015            5  \n",
       "4       100000 2018-06-19        1      6  2018           10  \n",
       "\n",
       "[5 rows x 30 columns]"
      ]
     },
     "execution_count": 59,
     "metadata": {},
     "output_type": "execute_result"
    }
   ],
   "source": [
    "df.head(5)"
   ]
  },
  {
   "cell_type": "code",
   "execution_count": 60,
   "metadata": {},
   "outputs": [
    {
     "data": {
      "text/html": [
       "<div>\n",
       "<style scoped>\n",
       "    .dataframe tbody tr th:only-of-type {\n",
       "        vertical-align: middle;\n",
       "    }\n",
       "\n",
       "    .dataframe tbody tr th {\n",
       "        vertical-align: top;\n",
       "    }\n",
       "\n",
       "    .dataframe thead th {\n",
       "        text-align: right;\n",
       "    }\n",
       "</style>\n",
       "<table border=\"1\" class=\"dataframe\">\n",
       "  <thead>\n",
       "    <tr style=\"text-align: right;\">\n",
       "      <th></th>\n",
       "      <th>total_images</th>\n",
       "      <th>last_price</th>\n",
       "      <th>total_area</th>\n",
       "      <th>first_day_exposition</th>\n",
       "      <th>rooms</th>\n",
       "      <th>ceiling_height</th>\n",
       "      <th>floors_total</th>\n",
       "      <th>living_area</th>\n",
       "      <th>floor</th>\n",
       "      <th>is_apartment</th>\n",
       "      <th>...</th>\n",
       "      <th>total_area_group</th>\n",
       "      <th>parks_nearest_group</th>\n",
       "      <th>price_per_m2</th>\n",
       "      <th>date</th>\n",
       "      <th>weekday</th>\n",
       "      <th>month</th>\n",
       "      <th>year</th>\n",
       "      <th>floor_group</th>\n",
       "      <th>part_living_area</th>\n",
       "      <th>part_kitchen_area</th>\n",
       "    </tr>\n",
       "  </thead>\n",
       "  <tbody>\n",
       "    <tr>\n",
       "      <th>0</th>\n",
       "      <td>20</td>\n",
       "      <td>13000000</td>\n",
       "      <td>108</td>\n",
       "      <td>2019-03-07T00:00:00</td>\n",
       "      <td>3</td>\n",
       "      <td>2.700000</td>\n",
       "      <td>16</td>\n",
       "      <td>51</td>\n",
       "      <td>8</td>\n",
       "      <td>0</td>\n",
       "      <td>...</td>\n",
       "      <td>(100.8, 189.6]</td>\n",
       "      <td>(319.9, 638.8]</td>\n",
       "      <td>120370</td>\n",
       "      <td>2019-03-07</td>\n",
       "      <td>3</td>\n",
       "      <td>3</td>\n",
       "      <td>2019</td>\n",
       "      <td>5</td>\n",
       "      <td>0.472222</td>\n",
       "      <td>0.231481</td>\n",
       "    </tr>\n",
       "    <tr>\n",
       "      <th>1</th>\n",
       "      <td>7</td>\n",
       "      <td>3350000</td>\n",
       "      <td>40</td>\n",
       "      <td>2018-12-04T00:00:00</td>\n",
       "      <td>1</td>\n",
       "      <td>2.782385</td>\n",
       "      <td>11</td>\n",
       "      <td>18</td>\n",
       "      <td>1</td>\n",
       "      <td>0</td>\n",
       "      <td>...</td>\n",
       "      <td>(11.112, 100.8]</td>\n",
       "      <td>NaN</td>\n",
       "      <td>83750</td>\n",
       "      <td>2018-12-04</td>\n",
       "      <td>1</td>\n",
       "      <td>12</td>\n",
       "      <td>2018</td>\n",
       "      <td>1</td>\n",
       "      <td>0.450000</td>\n",
       "      <td>0.275000</td>\n",
       "    </tr>\n",
       "    <tr>\n",
       "      <th>2</th>\n",
       "      <td>10</td>\n",
       "      <td>5196000</td>\n",
       "      <td>56</td>\n",
       "      <td>2015-08-20T00:00:00</td>\n",
       "      <td>2</td>\n",
       "      <td>2.705979</td>\n",
       "      <td>5</td>\n",
       "      <td>34</td>\n",
       "      <td>4</td>\n",
       "      <td>0</td>\n",
       "      <td>...</td>\n",
       "      <td>(11.112, 100.8]</td>\n",
       "      <td>(-2.189, 319.9]</td>\n",
       "      <td>92785</td>\n",
       "      <td>2015-08-20</td>\n",
       "      <td>3</td>\n",
       "      <td>8</td>\n",
       "      <td>2015</td>\n",
       "      <td>10</td>\n",
       "      <td>0.607143</td>\n",
       "      <td>0.142857</td>\n",
       "    </tr>\n",
       "    <tr>\n",
       "      <th>3</th>\n",
       "      <td>0</td>\n",
       "      <td>64900000</td>\n",
       "      <td>159</td>\n",
       "      <td>2015-07-24T00:00:00</td>\n",
       "      <td>3</td>\n",
       "      <td>2.640730</td>\n",
       "      <td>14</td>\n",
       "      <td>89</td>\n",
       "      <td>9</td>\n",
       "      <td>0</td>\n",
       "      <td>...</td>\n",
       "      <td>(100.8, 189.6]</td>\n",
       "      <td>(-2.189, 319.9]</td>\n",
       "      <td>408176</td>\n",
       "      <td>2015-07-24</td>\n",
       "      <td>4</td>\n",
       "      <td>7</td>\n",
       "      <td>2015</td>\n",
       "      <td>5</td>\n",
       "      <td>0.559748</td>\n",
       "      <td>0.182390</td>\n",
       "    </tr>\n",
       "    <tr>\n",
       "      <th>4</th>\n",
       "      <td>2</td>\n",
       "      <td>10000000</td>\n",
       "      <td>100</td>\n",
       "      <td>2018-06-19T00:00:00</td>\n",
       "      <td>2</td>\n",
       "      <td>3.030000</td>\n",
       "      <td>14</td>\n",
       "      <td>32</td>\n",
       "      <td>13</td>\n",
       "      <td>0</td>\n",
       "      <td>...</td>\n",
       "      <td>(11.112, 100.8]</td>\n",
       "      <td>(-2.189, 319.9]</td>\n",
       "      <td>100000</td>\n",
       "      <td>2018-06-19</td>\n",
       "      <td>1</td>\n",
       "      <td>6</td>\n",
       "      <td>2018</td>\n",
       "      <td>10</td>\n",
       "      <td>0.320000</td>\n",
       "      <td>0.410000</td>\n",
       "    </tr>\n",
       "  </tbody>\n",
       "</table>\n",
       "<p>5 rows × 32 columns</p>\n",
       "</div>"
      ],
      "text/plain": [
       "   total_images  last_price  total_area first_day_exposition  rooms  \\\n",
       "0            20    13000000         108  2019-03-07T00:00:00      3   \n",
       "1             7     3350000          40  2018-12-04T00:00:00      1   \n",
       "2            10     5196000          56  2015-08-20T00:00:00      2   \n",
       "3             0    64900000         159  2015-07-24T00:00:00      3   \n",
       "4             2    10000000         100  2018-06-19T00:00:00      2   \n",
       "\n",
       "   ceiling_height  floors_total  living_area  floor is_apartment  ...  \\\n",
       "0        2.700000            16           51      8            0  ...   \n",
       "1        2.782385            11           18      1            0  ...   \n",
       "2        2.705979             5           34      4            0  ...   \n",
       "3        2.640730            14           89      9            0  ...   \n",
       "4        3.030000            14           32     13            0  ...   \n",
       "\n",
       "   total_area_group  parks_nearest_group  price_per_m2       date weekday  \\\n",
       "0    (100.8, 189.6]       (319.9, 638.8]        120370 2019-03-07       3   \n",
       "1   (11.112, 100.8]                  NaN         83750 2018-12-04       1   \n",
       "2   (11.112, 100.8]      (-2.189, 319.9]         92785 2015-08-20       3   \n",
       "3    (100.8, 189.6]      (-2.189, 319.9]        408176 2015-07-24       4   \n",
       "4   (11.112, 100.8]      (-2.189, 319.9]        100000 2018-06-19       1   \n",
       "\n",
       "   month  year  floor_group  part_living_area  part_kitchen_area  \n",
       "0      3  2019            5          0.472222           0.231481  \n",
       "1     12  2018            1          0.450000           0.275000  \n",
       "2      8  2015           10          0.607143           0.142857  \n",
       "3      7  2015            5          0.559748           0.182390  \n",
       "4      6  2018           10          0.320000           0.410000  \n",
       "\n",
       "[5 rows x 32 columns]"
      ]
     },
     "execution_count": 60,
     "metadata": {},
     "output_type": "execute_result"
    }
   ],
   "source": [
    "# расчитаем соотношение жилой и общей площади, а также отношение площади кухни к общей\n",
    "df['part_living_area']=df['living_area']/df['total_area']\n",
    "df['part_kitchen_area']=df['kitchen_area']/df['total_area']\n",
    "df.head(5)"
   ]
  },
  {
   "cell_type": "markdown",
   "metadata": {},
   "source": [
    "Для проведения исследования данных необходимо расчитать цену за квадратный метр, доли жилой площади и кухни. Также отдельно указать день недели, месяц и год публикации. И разделили все этажи на первые, последние и другие"
   ]
  },
  {
   "cell_type": "code",
   "execution_count": 61,
   "metadata": {},
   "outputs": [
    {
     "name": "stderr",
     "output_type": "stream",
     "text": [
      "C:\\Users\\MaNi\\anaconda3\\lib\\site-packages\\ipykernel_launcher.py:3: FutureWarning: Indexing with multiple keys (implicitly converted to a tuple of keys) will be deprecated, use a list instead.\n",
      "  This is separate from the ipykernel package so we can avoid doing imports until\n"
     ]
    },
    {
     "data": {
      "text/html": [
       "<div>\n",
       "<style scoped>\n",
       "    .dataframe tbody tr th:only-of-type {\n",
       "        vertical-align: middle;\n",
       "    }\n",
       "\n",
       "    .dataframe tbody tr th {\n",
       "        vertical-align: top;\n",
       "    }\n",
       "\n",
       "    .dataframe thead tr th {\n",
       "        text-align: left;\n",
       "    }\n",
       "\n",
       "    .dataframe thead tr:last-of-type th {\n",
       "        text-align: right;\n",
       "    }\n",
       "</style>\n",
       "<table border=\"1\" class=\"dataframe\">\n",
       "  <thead>\n",
       "    <tr>\n",
       "      <th></th>\n",
       "      <th colspan=\"4\" halign=\"left\">total_area</th>\n",
       "      <th colspan=\"4\" halign=\"left\">price_per_m2</th>\n",
       "      <th colspan=\"4\" halign=\"left\">last_price</th>\n",
       "      <th colspan=\"4\" halign=\"left\">ceiling_height</th>\n",
       "    </tr>\n",
       "    <tr>\n",
       "      <th></th>\n",
       "      <th>count</th>\n",
       "      <th>mean</th>\n",
       "      <th>min</th>\n",
       "      <th>max</th>\n",
       "      <th>count</th>\n",
       "      <th>mean</th>\n",
       "      <th>min</th>\n",
       "      <th>max</th>\n",
       "      <th>count</th>\n",
       "      <th>mean</th>\n",
       "      <th>min</th>\n",
       "      <th>max</th>\n",
       "      <th>count</th>\n",
       "      <th>mean</th>\n",
       "      <th>min</th>\n",
       "      <th>max</th>\n",
       "    </tr>\n",
       "    <tr>\n",
       "      <th>rooms</th>\n",
       "      <th></th>\n",
       "      <th></th>\n",
       "      <th></th>\n",
       "      <th></th>\n",
       "      <th></th>\n",
       "      <th></th>\n",
       "      <th></th>\n",
       "      <th></th>\n",
       "      <th></th>\n",
       "      <th></th>\n",
       "      <th></th>\n",
       "      <th></th>\n",
       "      <th></th>\n",
       "      <th></th>\n",
       "      <th></th>\n",
       "      <th></th>\n",
       "    </tr>\n",
       "  </thead>\n",
       "  <tbody>\n",
       "    <tr>\n",
       "      <th>0</th>\n",
       "      <td>197</td>\n",
       "      <td>29.081218</td>\n",
       "      <td>15</td>\n",
       "      <td>371</td>\n",
       "      <td>197</td>\n",
       "      <td>109346.543147</td>\n",
       "      <td>34375</td>\n",
       "      <td>231960</td>\n",
       "      <td>197</td>\n",
       "      <td>3.337724e+06</td>\n",
       "      <td>945750</td>\n",
       "      <td>71000000</td>\n",
       "      <td>197</td>\n",
       "      <td>2.728840</td>\n",
       "      <td>1.750000</td>\n",
       "      <td>3.570000</td>\n",
       "    </tr>\n",
       "    <tr>\n",
       "      <th>1</th>\n",
       "      <td>8047</td>\n",
       "      <td>37.406860</td>\n",
       "      <td>12</td>\n",
       "      <td>494</td>\n",
       "      <td>8047</td>\n",
       "      <td>101483.694420</td>\n",
       "      <td>11000</td>\n",
       "      <td>848484</td>\n",
       "      <td>8047</td>\n",
       "      <td>3.835362e+06</td>\n",
       "      <td>430000</td>\n",
       "      <td>43511000</td>\n",
       "      <td>8047</td>\n",
       "      <td>2.685642</td>\n",
       "      <td>1.750000</td>\n",
       "      <td>5.000000</td>\n",
       "    </tr>\n",
       "    <tr>\n",
       "      <th>2</th>\n",
       "      <td>7940</td>\n",
       "      <td>55.625945</td>\n",
       "      <td>20</td>\n",
       "      <td>196</td>\n",
       "      <td>7940</td>\n",
       "      <td>95892.618388</td>\n",
       "      <td>111</td>\n",
       "      <td>1546729</td>\n",
       "      <td>7940</td>\n",
       "      <td>5.591605e+06</td>\n",
       "      <td>12190</td>\n",
       "      <td>289238400</td>\n",
       "      <td>7940</td>\n",
       "      <td>2.707583</td>\n",
       "      <td>1.000000</td>\n",
       "      <td>4.800000</td>\n",
       "    </tr>\n",
       "    <tr>\n",
       "      <th>3</th>\n",
       "      <td>5814</td>\n",
       "      <td>77.543000</td>\n",
       "      <td>40</td>\n",
       "      <td>363</td>\n",
       "      <td>5814</td>\n",
       "      <td>97435.063467</td>\n",
       "      <td>10507</td>\n",
       "      <td>1736842</td>\n",
       "      <td>5814</td>\n",
       "      <td>8.179119e+06</td>\n",
       "      <td>550000</td>\n",
       "      <td>330000000</td>\n",
       "      <td>5814</td>\n",
       "      <td>2.736543</td>\n",
       "      <td>1.750000</td>\n",
       "      <td>4.500000</td>\n",
       "    </tr>\n",
       "    <tr>\n",
       "      <th>4</th>\n",
       "      <td>1180</td>\n",
       "      <td>107.394068</td>\n",
       "      <td>42</td>\n",
       "      <td>500</td>\n",
       "      <td>1180</td>\n",
       "      <td>110568.977966</td>\n",
       "      <td>13483</td>\n",
       "      <td>1000000</td>\n",
       "      <td>1180</td>\n",
       "      <td>1.342350e+07</td>\n",
       "      <td>999000</td>\n",
       "      <td>159984000</td>\n",
       "      <td>1180</td>\n",
       "      <td>2.845526</td>\n",
       "      <td>1.750000</td>\n",
       "      <td>4.500000</td>\n",
       "    </tr>\n",
       "    <tr>\n",
       "      <th>5</th>\n",
       "      <td>326</td>\n",
       "      <td>161.306748</td>\n",
       "      <td>40</td>\n",
       "      <td>507</td>\n",
       "      <td>326</td>\n",
       "      <td>126885.331288</td>\n",
       "      <td>14347</td>\n",
       "      <td>1000748</td>\n",
       "      <td>326</td>\n",
       "      <td>2.376208e+07</td>\n",
       "      <td>1650000</td>\n",
       "      <td>401300000</td>\n",
       "      <td>326</td>\n",
       "      <td>3.050152</td>\n",
       "      <td>1.750000</td>\n",
       "      <td>4.900000</td>\n",
       "    </tr>\n",
       "    <tr>\n",
       "      <th>6</th>\n",
       "      <td>105</td>\n",
       "      <td>201.342857</td>\n",
       "      <td>87</td>\n",
       "      <td>500</td>\n",
       "      <td>105</td>\n",
       "      <td>140845.542857</td>\n",
       "      <td>29072</td>\n",
       "      <td>859649</td>\n",
       "      <td>105</td>\n",
       "      <td>3.170975e+07</td>\n",
       "      <td>4390000</td>\n",
       "      <td>245000000</td>\n",
       "      <td>105</td>\n",
       "      <td>3.116906</td>\n",
       "      <td>2.500000</td>\n",
       "      <td>4.500000</td>\n",
       "    </tr>\n",
       "    <tr>\n",
       "      <th>7</th>\n",
       "      <td>59</td>\n",
       "      <td>265.169492</td>\n",
       "      <td>100</td>\n",
       "      <td>631</td>\n",
       "      <td>59</td>\n",
       "      <td>163647.627119</td>\n",
       "      <td>39303</td>\n",
       "      <td>1907500</td>\n",
       "      <td>59</td>\n",
       "      <td>5.147007e+07</td>\n",
       "      <td>7900000</td>\n",
       "      <td>763000000</td>\n",
       "      <td>59</td>\n",
       "      <td>3.261563</td>\n",
       "      <td>2.570000</td>\n",
       "      <td>4.650000</td>\n",
       "    </tr>\n",
       "    <tr>\n",
       "      <th>8</th>\n",
       "      <td>12</td>\n",
       "      <td>259.083333</td>\n",
       "      <td>150</td>\n",
       "      <td>373</td>\n",
       "      <td>12</td>\n",
       "      <td>184704.333333</td>\n",
       "      <td>66949</td>\n",
       "      <td>652173</td>\n",
       "      <td>12</td>\n",
       "      <td>5.022417e+07</td>\n",
       "      <td>15800000</td>\n",
       "      <td>180000000</td>\n",
       "      <td>12</td>\n",
       "      <td>3.170899</td>\n",
       "      <td>2.705979</td>\n",
       "      <td>4.000000</td>\n",
       "    </tr>\n",
       "    <tr>\n",
       "      <th>9</th>\n",
       "      <td>8</td>\n",
       "      <td>305.750000</td>\n",
       "      <td>235</td>\n",
       "      <td>400</td>\n",
       "      <td>8</td>\n",
       "      <td>105093.375000</td>\n",
       "      <td>63106</td>\n",
       "      <td>220000</td>\n",
       "      <td>8</td>\n",
       "      <td>3.415236e+07</td>\n",
       "      <td>17000000</td>\n",
       "      <td>88000000</td>\n",
       "      <td>8</td>\n",
       "      <td>3.019497</td>\n",
       "      <td>2.500000</td>\n",
       "      <td>3.350000</td>\n",
       "    </tr>\n",
       "    <tr>\n",
       "      <th>10</th>\n",
       "      <td>3</td>\n",
       "      <td>259.333333</td>\n",
       "      <td>216</td>\n",
       "      <td>290</td>\n",
       "      <td>3</td>\n",
       "      <td>98082.666667</td>\n",
       "      <td>71759</td>\n",
       "      <td>137931</td>\n",
       "      <td>3</td>\n",
       "      <td>2.616667e+07</td>\n",
       "      <td>15500000</td>\n",
       "      <td>40000000</td>\n",
       "      <td>3</td>\n",
       "      <td>3.263333</td>\n",
       "      <td>3.140000</td>\n",
       "      <td>3.500000</td>\n",
       "    </tr>\n",
       "    <tr>\n",
       "      <th>11</th>\n",
       "      <td>2</td>\n",
       "      <td>188.500000</td>\n",
       "      <td>183</td>\n",
       "      <td>194</td>\n",
       "      <td>2</td>\n",
       "      <td>132865.500000</td>\n",
       "      <td>95628</td>\n",
       "      <td>170103</td>\n",
       "      <td>2</td>\n",
       "      <td>2.525000e+07</td>\n",
       "      <td>17500000</td>\n",
       "      <td>33000000</td>\n",
       "      <td>2</td>\n",
       "      <td>3.415000</td>\n",
       "      <td>3.400000</td>\n",
       "      <td>3.430000</td>\n",
       "    </tr>\n",
       "    <tr>\n",
       "      <th>12</th>\n",
       "      <td>1</td>\n",
       "      <td>900.000000</td>\n",
       "      <td>900</td>\n",
       "      <td>900</td>\n",
       "      <td>1</td>\n",
       "      <td>466666.000000</td>\n",
       "      <td>466666</td>\n",
       "      <td>466666</td>\n",
       "      <td>1</td>\n",
       "      <td>4.200000e+08</td>\n",
       "      <td>420000000</td>\n",
       "      <td>420000000</td>\n",
       "      <td>1</td>\n",
       "      <td>2.800000</td>\n",
       "      <td>2.800000</td>\n",
       "      <td>2.800000</td>\n",
       "    </tr>\n",
       "    <tr>\n",
       "      <th>14</th>\n",
       "      <td>2</td>\n",
       "      <td>304.000000</td>\n",
       "      <td>245</td>\n",
       "      <td>363</td>\n",
       "      <td>2</td>\n",
       "      <td>92922.500000</td>\n",
       "      <td>68870</td>\n",
       "      <td>116975</td>\n",
       "      <td>2</td>\n",
       "      <td>2.682950e+07</td>\n",
       "      <td>25000000</td>\n",
       "      <td>28659000</td>\n",
       "      <td>2</td>\n",
       "      <td>3.058032</td>\n",
       "      <td>2.956065</td>\n",
       "      <td>3.160000</td>\n",
       "    </tr>\n",
       "    <tr>\n",
       "      <th>15</th>\n",
       "      <td>1</td>\n",
       "      <td>590.000000</td>\n",
       "      <td>590</td>\n",
       "      <td>590</td>\n",
       "      <td>1</td>\n",
       "      <td>110169.000000</td>\n",
       "      <td>110169</td>\n",
       "      <td>110169</td>\n",
       "      <td>1</td>\n",
       "      <td>6.500000e+07</td>\n",
       "      <td>65000000</td>\n",
       "      <td>65000000</td>\n",
       "      <td>1</td>\n",
       "      <td>3.500000</td>\n",
       "      <td>3.500000</td>\n",
       "      <td>3.500000</td>\n",
       "    </tr>\n",
       "    <tr>\n",
       "      <th>16</th>\n",
       "      <td>1</td>\n",
       "      <td>270.000000</td>\n",
       "      <td>270</td>\n",
       "      <td>270</td>\n",
       "      <td>1</td>\n",
       "      <td>105555.000000</td>\n",
       "      <td>105555</td>\n",
       "      <td>105555</td>\n",
       "      <td>1</td>\n",
       "      <td>2.850000e+07</td>\n",
       "      <td>28500000</td>\n",
       "      <td>28500000</td>\n",
       "      <td>1</td>\n",
       "      <td>3.000000</td>\n",
       "      <td>3.000000</td>\n",
       "      <td>3.000000</td>\n",
       "    </tr>\n",
       "    <tr>\n",
       "      <th>19</th>\n",
       "      <td>1</td>\n",
       "      <td>374.000000</td>\n",
       "      <td>374</td>\n",
       "      <td>374</td>\n",
       "      <td>1</td>\n",
       "      <td>86229.000000</td>\n",
       "      <td>86229</td>\n",
       "      <td>86229</td>\n",
       "      <td>1</td>\n",
       "      <td>3.225000e+07</td>\n",
       "      <td>32250000</td>\n",
       "      <td>32250000</td>\n",
       "      <td>1</td>\n",
       "      <td>2.705979</td>\n",
       "      <td>2.705979</td>\n",
       "      <td>2.705979</td>\n",
       "    </tr>\n",
       "  </tbody>\n",
       "</table>\n",
       "</div>"
      ],
      "text/plain": [
       "      total_area                       price_per_m2                         \\\n",
       "           count        mean  min  max        count           mean     min   \n",
       "rooms                                                                        \n",
       "0            197   29.081218   15  371          197  109346.543147   34375   \n",
       "1           8047   37.406860   12  494         8047  101483.694420   11000   \n",
       "2           7940   55.625945   20  196         7940   95892.618388     111   \n",
       "3           5814   77.543000   40  363         5814   97435.063467   10507   \n",
       "4           1180  107.394068   42  500         1180  110568.977966   13483   \n",
       "5            326  161.306748   40  507          326  126885.331288   14347   \n",
       "6            105  201.342857   87  500          105  140845.542857   29072   \n",
       "7             59  265.169492  100  631           59  163647.627119   39303   \n",
       "8             12  259.083333  150  373           12  184704.333333   66949   \n",
       "9              8  305.750000  235  400            8  105093.375000   63106   \n",
       "10             3  259.333333  216  290            3   98082.666667   71759   \n",
       "11             2  188.500000  183  194            2  132865.500000   95628   \n",
       "12             1  900.000000  900  900            1  466666.000000  466666   \n",
       "14             2  304.000000  245  363            2   92922.500000   68870   \n",
       "15             1  590.000000  590  590            1  110169.000000  110169   \n",
       "16             1  270.000000  270  270            1  105555.000000  105555   \n",
       "19             1  374.000000  374  374            1   86229.000000   86229   \n",
       "\n",
       "               last_price                                     ceiling_height  \\\n",
       "           max      count          mean        min        max          count   \n",
       "rooms                                                                          \n",
       "0       231960        197  3.337724e+06     945750   71000000            197   \n",
       "1       848484       8047  3.835362e+06     430000   43511000           8047   \n",
       "2      1546729       7940  5.591605e+06      12190  289238400           7940   \n",
       "3      1736842       5814  8.179119e+06     550000  330000000           5814   \n",
       "4      1000000       1180  1.342350e+07     999000  159984000           1180   \n",
       "5      1000748        326  2.376208e+07    1650000  401300000            326   \n",
       "6       859649        105  3.170975e+07    4390000  245000000            105   \n",
       "7      1907500         59  5.147007e+07    7900000  763000000             59   \n",
       "8       652173         12  5.022417e+07   15800000  180000000             12   \n",
       "9       220000          8  3.415236e+07   17000000   88000000              8   \n",
       "10      137931          3  2.616667e+07   15500000   40000000              3   \n",
       "11      170103          2  2.525000e+07   17500000   33000000              2   \n",
       "12      466666          1  4.200000e+08  420000000  420000000              1   \n",
       "14      116975          2  2.682950e+07   25000000   28659000              2   \n",
       "15      110169          1  6.500000e+07   65000000   65000000              1   \n",
       "16      105555          1  2.850000e+07   28500000   28500000              1   \n",
       "19       86229          1  3.225000e+07   32250000   32250000              1   \n",
       "\n",
       "                                     \n",
       "           mean       min       max  \n",
       "rooms                                \n",
       "0      2.728840  1.750000  3.570000  \n",
       "1      2.685642  1.750000  5.000000  \n",
       "2      2.707583  1.000000  4.800000  \n",
       "3      2.736543  1.750000  4.500000  \n",
       "4      2.845526  1.750000  4.500000  \n",
       "5      3.050152  1.750000  4.900000  \n",
       "6      3.116906  2.500000  4.500000  \n",
       "7      3.261563  2.570000  4.650000  \n",
       "8      3.170899  2.705979  4.000000  \n",
       "9      3.019497  2.500000  3.350000  \n",
       "10     3.263333  3.140000  3.500000  \n",
       "11     3.415000  3.400000  3.430000  \n",
       "12     2.800000  2.800000  2.800000  \n",
       "14     3.058032  2.956065  3.160000  \n",
       "15     3.500000  3.500000  3.500000  \n",
       "16     3.000000  3.000000  3.000000  \n",
       "19     2.705979  2.705979  2.705979  "
      ]
     },
     "execution_count": 61,
     "metadata": {},
     "output_type": "execute_result"
    }
   ],
   "source": [
    "# изучим площадь, цену, число комнат, высота потолков\n",
    "\n",
    "df.groupby('rooms')['total_area','price_per_m2','last_price','ceiling_height'].agg(['count','mean','min','max'])"
   ]
  },
  {
   "cell_type": "markdown",
   "metadata": {},
   "source": [
    "группировка показала очень странную цену - 111"
   ]
  },
  {
   "cell_type": "code",
   "execution_count": 62,
   "metadata": {},
   "outputs": [
    {
     "data": {
      "text/plain": [
       "count      1.0\n",
       "mean     109.0\n",
       "Name: total_area, dtype: float64"
      ]
     },
     "execution_count": 62,
     "metadata": {},
     "output_type": "execute_result"
    }
   ],
   "source": [
    "df.loc[df['price_per_m2']<1000,'total_area'].agg(['count','mean'])"
   ]
  },
  {
   "cell_type": "markdown",
   "metadata": {},
   "source": [
    "2-х комнатная квартира площадью 109 м кв ценой менее 1000; так как это всего лишь 1 объявление - влияние этой цены на анализ\n",
    "цен очень незначителен"
   ]
  },
  {
   "cell_type": "code",
   "execution_count": 63,
   "metadata": {},
   "outputs": [],
   "source": [
    "df=df.loc[df['price_per_m2']>1000]"
   ]
  },
  {
   "cell_type": "code",
   "execution_count": 64,
   "metadata": {},
   "outputs": [],
   "source": [
    "column=['last_price','price_per_m2','total_area','rooms','ceiling_height','floor', 'is_apartment']\n",
    "flat=pd.DataFrame(data=df,columns=column)"
   ]
  },
  {
   "cell_type": "code",
   "execution_count": 65,
   "metadata": {},
   "outputs": [
    {
     "data": {
      "text/html": [
       "<div>\n",
       "<style scoped>\n",
       "    .dataframe tbody tr th:only-of-type {\n",
       "        vertical-align: middle;\n",
       "    }\n",
       "\n",
       "    .dataframe tbody tr th {\n",
       "        vertical-align: top;\n",
       "    }\n",
       "\n",
       "    .dataframe thead tr th {\n",
       "        text-align: left;\n",
       "    }\n",
       "\n",
       "    .dataframe thead tr:last-of-type th {\n",
       "        text-align: right;\n",
       "    }\n",
       "</style>\n",
       "<table border=\"1\" class=\"dataframe\">\n",
       "  <thead>\n",
       "    <tr>\n",
       "      <th></th>\n",
       "      <th colspan=\"4\" halign=\"left\">mean</th>\n",
       "      <th colspan=\"4\" halign=\"left\">max</th>\n",
       "      <th colspan=\"4\" halign=\"left\">min</th>\n",
       "    </tr>\n",
       "    <tr>\n",
       "      <th></th>\n",
       "      <th>ceiling_height</th>\n",
       "      <th>price_per_m2</th>\n",
       "      <th>rooms</th>\n",
       "      <th>total_area</th>\n",
       "      <th>ceiling_height</th>\n",
       "      <th>price_per_m2</th>\n",
       "      <th>rooms</th>\n",
       "      <th>total_area</th>\n",
       "      <th>ceiling_height</th>\n",
       "      <th>price_per_m2</th>\n",
       "      <th>rooms</th>\n",
       "      <th>total_area</th>\n",
       "    </tr>\n",
       "    <tr>\n",
       "      <th>is_apartment</th>\n",
       "      <th></th>\n",
       "      <th></th>\n",
       "      <th></th>\n",
       "      <th></th>\n",
       "      <th></th>\n",
       "      <th></th>\n",
       "      <th></th>\n",
       "      <th></th>\n",
       "      <th></th>\n",
       "      <th></th>\n",
       "      <th></th>\n",
       "      <th></th>\n",
       "    </tr>\n",
       "  </thead>\n",
       "  <tbody>\n",
       "    <tr>\n",
       "      <th>0</th>\n",
       "      <td>2.722046</td>\n",
       "      <td>99774.160902</td>\n",
       "      <td>2.070619</td>\n",
       "      <td>60.0699</td>\n",
       "      <td>5.0</td>\n",
       "      <td>1907500</td>\n",
       "      <td>19</td>\n",
       "      <td>900</td>\n",
       "      <td>1.0</td>\n",
       "      <td>7962</td>\n",
       "      <td>0</td>\n",
       "      <td>12</td>\n",
       "    </tr>\n",
       "    <tr>\n",
       "      <th>1</th>\n",
       "      <td>3.048893</td>\n",
       "      <td>148951.700000</td>\n",
       "      <td>2.080000</td>\n",
       "      <td>83.0800</td>\n",
       "      <td>4.5</td>\n",
       "      <td>600000</td>\n",
       "      <td>7</td>\n",
       "      <td>507</td>\n",
       "      <td>2.5</td>\n",
       "      <td>40816</td>\n",
       "      <td>1</td>\n",
       "      <td>20</td>\n",
       "    </tr>\n",
       "  </tbody>\n",
       "</table>\n",
       "</div>"
      ],
      "text/plain": [
       "                       mean                                      \\\n",
       "             ceiling_height   price_per_m2     rooms total_area   \n",
       "is_apartment                                                      \n",
       "0                  2.722046   99774.160902  2.070619    60.0699   \n",
       "1                  3.048893  148951.700000  2.080000    83.0800   \n",
       "\n",
       "                        max                                          min  \\\n",
       "             ceiling_height price_per_m2 rooms total_area ceiling_height   \n",
       "is_apartment                                                               \n",
       "0                       5.0      1907500    19        900            1.0   \n",
       "1                       4.5       600000     7        507            2.5   \n",
       "\n",
       "                                            \n",
       "             price_per_m2 rooms total_area  \n",
       "is_apartment                                \n",
       "0                    7962     0         12  \n",
       "1                   40816     1         20  "
      ]
     },
     "execution_count": 65,
     "metadata": {},
     "output_type": "execute_result"
    }
   ],
   "source": [
    "flat.pivot_table(index='is_apartment',values=['total_area','price_per_m2','rooms','ceiling_height'],aggfunc=['mean','max','min'])"
   ]
  },
  {
   "cell_type": "markdown",
   "metadata": {},
   "source": [
    "В среднем квартиры со стандартной высотой потолков (2.72 м). Цена за кв метр 99770 руб. В основном это двухкомнатные кватриры с площадью 60 м кв."
   ]
  },
  {
   "cell_type": "code",
   "execution_count": 66,
   "metadata": {},
   "outputs": [],
   "source": [
    "column=['last_price','price_per_m2','total_area','rooms','ceiling_height']\n",
    "factor=pd.DataFrame(data=df,columns=column)"
   ]
  },
  {
   "cell_type": "code",
   "execution_count": 67,
   "metadata": {},
   "outputs": [
    {
     "data": {
      "image/png": "[encoded data removed]",
      "text/plain": [
       "<Figure size 432x288 with 1 Axes>"
      ]
     },
     "metadata": {
      "needs_background": "light"
     },
     "output_type": "display_data"
    },
    {
     "data": {
      "image/png": "[encoded data removed]",
      "text/plain": [
       "<Figure size 432x288 with 1 Axes>"
      ]
     },
     "metadata": {
      "needs_background": "light"
     },
     "output_type": "display_data"
    },
    {
     "data": {
      "image/png": "[encoded data removed]",
      "text/plain": [
       "<Figure size 432x288 with 1 Axes>"
      ]
     },
     "metadata": {
      "needs_background": "light"
     },
     "output_type": "display_data"
    },
    {
     "data": {
      "image/png": "[encoded data removed]",
      "text/plain": [
       "<Figure size 432x288 with 1 Axes>"
      ]
     },
     "metadata": {
      "needs_background": "light"
     },
     "output_type": "display_data"
    },
    {
     "data": {
      "image/png": "[encoded data removed]",
      "text/plain": [
       "<Figure size 432x288 with 1 Axes>"
      ]
     },
     "metadata": {
      "needs_background": "light"
     },
     "output_type": "display_data"
    }
   ],
   "source": [
    "%matplotlib inline\n",
    "for column in factor:\n",
    "    \n",
    "    factor.hist(column)\n",
    "    plt.show()"
   ]
  },
  {
   "cell_type": "markdown",
   "metadata": {},
   "source": [
    "наблюдается большое разнообразие квартир - по количеству комнат, площади, ценам, этажности и т.д. Какие факторы влияют на цену изучим далее. Но для начала построим гистограмму для каждого параметра"
   ]
  },
  {
   "cell_type": "code",
   "execution_count": 68,
   "metadata": {},
   "outputs": [],
   "source": [
    "# Изучим время продажи\n",
    "df['days_group']=pd.cut(df['days_exposition'],10)"
   ]
  },
  {
   "cell_type": "code",
   "execution_count": 69,
   "metadata": {},
   "outputs": [
    {
     "data": {
      "text/html": [
       "<div>\n",
       "<style scoped>\n",
       "    .dataframe tbody tr th:only-of-type {\n",
       "        vertical-align: middle;\n",
       "    }\n",
       "\n",
       "    .dataframe tbody tr th {\n",
       "        vertical-align: top;\n",
       "    }\n",
       "\n",
       "    .dataframe thead th {\n",
       "        text-align: right;\n",
       "    }\n",
       "</style>\n",
       "<table border=\"1\" class=\"dataframe\">\n",
       "  <thead>\n",
       "    <tr style=\"text-align: right;\">\n",
       "      <th></th>\n",
       "      <th>count</th>\n",
       "      <th>median</th>\n",
       "      <th>mean</th>\n",
       "    </tr>\n",
       "    <tr>\n",
       "      <th>days_group</th>\n",
       "      <th></th>\n",
       "      <th></th>\n",
       "      <th></th>\n",
       "    </tr>\n",
       "  </thead>\n",
       "  <tbody>\n",
       "    <tr>\n",
       "      <th>(-0.579, 158.9]</th>\n",
       "      <td>13266</td>\n",
       "      <td>4400000</td>\n",
       "      <td>5.706254e+06</td>\n",
       "    </tr>\n",
       "    <tr>\n",
       "      <th>(158.9, 316.8]</th>\n",
       "      <td>6746</td>\n",
       "      <td>5050000</td>\n",
       "      <td>7.473021e+06</td>\n",
       "    </tr>\n",
       "    <tr>\n",
       "      <th>(316.8, 474.7]</th>\n",
       "      <td>1746</td>\n",
       "      <td>4790000</td>\n",
       "      <td>7.314550e+06</td>\n",
       "    </tr>\n",
       "    <tr>\n",
       "      <th>(474.7, 632.6]</th>\n",
       "      <td>871</td>\n",
       "      <td>5049000</td>\n",
       "      <td>7.927698e+06</td>\n",
       "    </tr>\n",
       "    <tr>\n",
       "      <th>(632.6, 790.5]</th>\n",
       "      <td>455</td>\n",
       "      <td>5200000</td>\n",
       "      <td>7.895214e+06</td>\n",
       "    </tr>\n",
       "    <tr>\n",
       "      <th>(790.5, 948.4]</th>\n",
       "      <td>275</td>\n",
       "      <td>5672000</td>\n",
       "      <td>9.203391e+06</td>\n",
       "    </tr>\n",
       "    <tr>\n",
       "      <th>(948.4, 1106.3]</th>\n",
       "      <td>182</td>\n",
       "      <td>5425000</td>\n",
       "      <td>9.022046e+06</td>\n",
       "    </tr>\n",
       "    <tr>\n",
       "      <th>(1106.3, 1264.2]</th>\n",
       "      <td>92</td>\n",
       "      <td>6025000</td>\n",
       "      <td>8.692999e+06</td>\n",
       "    </tr>\n",
       "    <tr>\n",
       "      <th>(1264.2, 1422.1]</th>\n",
       "      <td>49</td>\n",
       "      <td>8000000</td>\n",
       "      <td>1.010971e+07</td>\n",
       "    </tr>\n",
       "    <tr>\n",
       "      <th>(1422.1, 1580.0]</th>\n",
       "      <td>16</td>\n",
       "      <td>9725000</td>\n",
       "      <td>1.120962e+07</td>\n",
       "    </tr>\n",
       "  </tbody>\n",
       "</table>\n",
       "</div>"
      ],
      "text/plain": [
       "                  count   median          mean\n",
       "days_group                                    \n",
       "(-0.579, 158.9]   13266  4400000  5.706254e+06\n",
       "(158.9, 316.8]     6746  5050000  7.473021e+06\n",
       "(316.8, 474.7]     1746  4790000  7.314550e+06\n",
       "(474.7, 632.6]      871  5049000  7.927698e+06\n",
       "(632.6, 790.5]      455  5200000  7.895214e+06\n",
       "(790.5, 948.4]      275  5672000  9.203391e+06\n",
       "(948.4, 1106.3]     182  5425000  9.022046e+06\n",
       "(1106.3, 1264.2]     92  6025000  8.692999e+06\n",
       "(1264.2, 1422.1]     49  8000000  1.010971e+07\n",
       "(1422.1, 1580.0]     16  9725000  1.120962e+07"
      ]
     },
     "execution_count": 69,
     "metadata": {},
     "output_type": "execute_result"
    }
   ],
   "source": [
    "df.groupby('days_group')['last_price'].agg(['count','median','mean'])"
   ]
  },
  {
   "cell_type": "code",
   "execution_count": 70,
   "metadata": {},
   "outputs": [
    {
     "data": {
      "text/plain": [
       "count    23698.000000\n",
       "mean       180.776648\n",
       "std        204.451150\n",
       "min          1.000000\n",
       "25%         45.000000\n",
       "50%        124.000000\n",
       "75%        199.000000\n",
       "max       1580.000000\n",
       "Name: days_exposition, dtype: float64"
      ]
     },
     "execution_count": 70,
     "metadata": {},
     "output_type": "execute_result"
    }
   ],
   "source": [
    "df['days_exposition'].describe()"
   ]
  },
  {
   "cell_type": "markdown",
   "metadata": {},
   "source": [
    "среднее количество дней продажи 180 дней, медианное количество дней продажи 124, самая быстрая продажа 1 день, самая долгая продажа 1580 дней."
   ]
  },
  {
   "cell_type": "code",
   "execution_count": 71,
   "metadata": {
    "scrolled": true
   },
   "outputs": [
    {
     "data": {
      "text/plain": [
       "<matplotlib.axes._subplots.AxesSubplot at 0x1a676e62a88>"
      ]
     },
     "execution_count": 71,
     "metadata": {},
     "output_type": "execute_result"
    },
    {
     "data": {
      "image/png": "[encoded data removed]",
      "text/plain": [
       "<Figure size 432x288 with 1 Axes>"
      ]
     },
     "metadata": {
      "needs_background": "light"
     },
     "output_type": "display_data"
    }
   ],
   "source": [
    "df['days_exposition'].hist()"
   ]
  },
  {
   "cell_type": "markdown",
   "metadata": {},
   "source": [
    "В среднем продажа квартиры занимала 180 дня. Самая быстрая продажа - за 1 день, а самая долгая 1580 дней. Продажи дольше 632 дня - большая редкость."
   ]
  },
  {
   "cell_type": "code",
   "execution_count": 72,
   "metadata": {},
   "outputs": [],
   "source": [
    "# исключим из долнейшего анализа слишком долгие продажи (более 632 дня)\n",
    "good_day=df[df['days_exposition']<632]"
   ]
  },
  {
   "cell_type": "code",
   "execution_count": 73,
   "metadata": {},
   "outputs": [
    {
     "data": {
      "text/html": [
       "<div>\n",
       "<style scoped>\n",
       "    .dataframe tbody tr th:only-of-type {\n",
       "        vertical-align: middle;\n",
       "    }\n",
       "\n",
       "    .dataframe tbody tr th {\n",
       "        vertical-align: top;\n",
       "    }\n",
       "\n",
       "    .dataframe thead th {\n",
       "        text-align: right;\n",
       "    }\n",
       "</style>\n",
       "<table border=\"1\" class=\"dataframe\">\n",
       "  <thead>\n",
       "    <tr style=\"text-align: right;\">\n",
       "      <th></th>\n",
       "      <th>total_images</th>\n",
       "      <th>last_price</th>\n",
       "      <th>total_area</th>\n",
       "      <th>first_day_exposition</th>\n",
       "      <th>rooms</th>\n",
       "      <th>ceiling_height</th>\n",
       "      <th>floors_total</th>\n",
       "      <th>living_area</th>\n",
       "      <th>floor</th>\n",
       "      <th>is_apartment</th>\n",
       "      <th>...</th>\n",
       "      <th>parks_nearest_group</th>\n",
       "      <th>price_per_m2</th>\n",
       "      <th>date</th>\n",
       "      <th>weekday</th>\n",
       "      <th>month</th>\n",
       "      <th>year</th>\n",
       "      <th>floor_group</th>\n",
       "      <th>part_living_area</th>\n",
       "      <th>part_kitchen_area</th>\n",
       "      <th>days_group</th>\n",
       "    </tr>\n",
       "  </thead>\n",
       "  <tbody>\n",
       "    <tr>\n",
       "      <th>0</th>\n",
       "      <td>20</td>\n",
       "      <td>13000000</td>\n",
       "      <td>108</td>\n",
       "      <td>2019-03-07T00:00:00</td>\n",
       "      <td>3</td>\n",
       "      <td>2.700000</td>\n",
       "      <td>16</td>\n",
       "      <td>51</td>\n",
       "      <td>8</td>\n",
       "      <td>0</td>\n",
       "      <td>...</td>\n",
       "      <td>(319.9, 638.8]</td>\n",
       "      <td>120370</td>\n",
       "      <td>2019-03-07</td>\n",
       "      <td>3</td>\n",
       "      <td>3</td>\n",
       "      <td>2019</td>\n",
       "      <td>5</td>\n",
       "      <td>0.472222</td>\n",
       "      <td>0.231481</td>\n",
       "      <td>(158.9, 316.8]</td>\n",
       "    </tr>\n",
       "    <tr>\n",
       "      <th>1</th>\n",
       "      <td>7</td>\n",
       "      <td>3350000</td>\n",
       "      <td>40</td>\n",
       "      <td>2018-12-04T00:00:00</td>\n",
       "      <td>1</td>\n",
       "      <td>2.782385</td>\n",
       "      <td>11</td>\n",
       "      <td>18</td>\n",
       "      <td>1</td>\n",
       "      <td>0</td>\n",
       "      <td>...</td>\n",
       "      <td>NaN</td>\n",
       "      <td>83750</td>\n",
       "      <td>2018-12-04</td>\n",
       "      <td>1</td>\n",
       "      <td>12</td>\n",
       "      <td>2018</td>\n",
       "      <td>1</td>\n",
       "      <td>0.450000</td>\n",
       "      <td>0.275000</td>\n",
       "      <td>(-0.579, 158.9]</td>\n",
       "    </tr>\n",
       "    <tr>\n",
       "      <th>2</th>\n",
       "      <td>10</td>\n",
       "      <td>5196000</td>\n",
       "      <td>56</td>\n",
       "      <td>2015-08-20T00:00:00</td>\n",
       "      <td>2</td>\n",
       "      <td>2.705979</td>\n",
       "      <td>5</td>\n",
       "      <td>34</td>\n",
       "      <td>4</td>\n",
       "      <td>0</td>\n",
       "      <td>...</td>\n",
       "      <td>(-2.189, 319.9]</td>\n",
       "      <td>92785</td>\n",
       "      <td>2015-08-20</td>\n",
       "      <td>3</td>\n",
       "      <td>8</td>\n",
       "      <td>2015</td>\n",
       "      <td>10</td>\n",
       "      <td>0.607143</td>\n",
       "      <td>0.142857</td>\n",
       "      <td>(474.7, 632.6]</td>\n",
       "    </tr>\n",
       "  </tbody>\n",
       "</table>\n",
       "<p>3 rows × 33 columns</p>\n",
       "</div>"
      ],
      "text/plain": [
       "   total_images  last_price  total_area first_day_exposition  rooms  \\\n",
       "0            20    13000000         108  2019-03-07T00:00:00      3   \n",
       "1             7     3350000          40  2018-12-04T00:00:00      1   \n",
       "2            10     5196000          56  2015-08-20T00:00:00      2   \n",
       "\n",
       "   ceiling_height  floors_total  living_area  floor is_apartment  ...  \\\n",
       "0        2.700000            16           51      8            0  ...   \n",
       "1        2.782385            11           18      1            0  ...   \n",
       "2        2.705979             5           34      4            0  ...   \n",
       "\n",
       "   parks_nearest_group  price_per_m2       date  weekday month  year  \\\n",
       "0       (319.9, 638.8]        120370 2019-03-07        3     3  2019   \n",
       "1                  NaN         83750 2018-12-04        1    12  2018   \n",
       "2      (-2.189, 319.9]         92785 2015-08-20        3     8  2015   \n",
       "\n",
       "   floor_group  part_living_area  part_kitchen_area       days_group  \n",
       "0            5          0.472222           0.231481   (158.9, 316.8]  \n",
       "1            1          0.450000           0.275000  (-0.579, 158.9]  \n",
       "2           10          0.607143           0.142857   (474.7, 632.6]  \n",
       "\n",
       "[3 rows x 33 columns]"
      ]
     },
     "execution_count": 73,
     "metadata": {},
     "output_type": "execute_result"
    }
   ],
   "source": [
    "good_day.head(3)"
   ]
  },
  {
   "cell_type": "code",
   "execution_count": 74,
   "metadata": {},
   "outputs": [
    {
     "data": {
      "text/plain": [
       "<matplotlib.axes._subplots.AxesSubplot at 0x1a676eec488>"
      ]
     },
     "execution_count": 74,
     "metadata": {},
     "output_type": "execute_result"
    },
    {
     "data": {
      "image/png": "[encoded data removed]",
      "text/plain": [
       "<Figure size 432x288 with 1 Axes>"
      ]
     },
     "metadata": {
      "needs_background": "light"
     },
     "output_type": "display_data"
    }
   ],
   "source": [
    "# гистграмма показываем исключение слишком долгих продаж\n",
    "good_day['days_exposition'].hist()"
   ]
  },
  {
   "cell_type": "markdown",
   "metadata": {},
   "source": [
    "постоим график для days_exposition менее 200 дней "
   ]
  },
  {
   "cell_type": "code",
   "execution_count": 75,
   "metadata": {},
   "outputs": [],
   "source": [
    "extragood_day=df[df['days_exposition']<200]"
   ]
  },
  {
   "cell_type": "code",
   "execution_count": 76,
   "metadata": {},
   "outputs": [
    {
     "data": {
      "text/plain": [
       "<matplotlib.axes._subplots.AxesSubplot at 0x1a6772a0a08>"
      ]
     },
     "execution_count": 76,
     "metadata": {},
     "output_type": "execute_result"
    },
    {
     "data": {
      "image/png": "[encoded data removed]",
      "text/plain": [
       "<Figure size 432x288 with 1 Axes>"
      ]
     },
     "metadata": {
      "needs_background": "light"
     },
     "output_type": "display_data"
    }
   ],
   "source": [
    "extragood_day['days_exposition'].hist(bins=100,grid=True)"
   ]
  },
  {
   "cell_type": "markdown",
   "metadata": {},
   "source": [
    "при средней цене за кв метр 99770 - двухкомнатная квартира 1546000 за кв метр продалась менее чем за 200 дней - явно что то не то. воспользуемся диаграмой размаха для изучения выброса"
   ]
  },
  {
   "cell_type": "code",
   "execution_count": 77,
   "metadata": {},
   "outputs": [
    {
     "data": {
      "text/html": [
       "<div>\n",
       "<style scoped>\n",
       "    .dataframe tbody tr th:only-of-type {\n",
       "        vertical-align: middle;\n",
       "    }\n",
       "\n",
       "    .dataframe tbody tr th {\n",
       "        vertical-align: top;\n",
       "    }\n",
       "\n",
       "    .dataframe thead th {\n",
       "        text-align: right;\n",
       "    }\n",
       "</style>\n",
       "<table border=\"1\" class=\"dataframe\">\n",
       "  <thead>\n",
       "    <tr style=\"text-align: right;\">\n",
       "      <th></th>\n",
       "      <th>total_images</th>\n",
       "      <th>last_price</th>\n",
       "      <th>total_area</th>\n",
       "      <th>first_day_exposition</th>\n",
       "      <th>rooms</th>\n",
       "      <th>ceiling_height</th>\n",
       "      <th>floors_total</th>\n",
       "      <th>living_area</th>\n",
       "      <th>floor</th>\n",
       "      <th>is_apartment</th>\n",
       "      <th>...</th>\n",
       "      <th>parks_nearest_group</th>\n",
       "      <th>price_per_m2</th>\n",
       "      <th>date</th>\n",
       "      <th>weekday</th>\n",
       "      <th>month</th>\n",
       "      <th>year</th>\n",
       "      <th>floor_group</th>\n",
       "      <th>part_living_area</th>\n",
       "      <th>part_kitchen_area</th>\n",
       "      <th>days_group</th>\n",
       "    </tr>\n",
       "  </thead>\n",
       "  <tbody>\n",
       "    <tr>\n",
       "      <th>0</th>\n",
       "      <td>20</td>\n",
       "      <td>13000000</td>\n",
       "      <td>108</td>\n",
       "      <td>2019-03-07T00:00:00</td>\n",
       "      <td>3</td>\n",
       "      <td>2.700000</td>\n",
       "      <td>16</td>\n",
       "      <td>51</td>\n",
       "      <td>8</td>\n",
       "      <td>0</td>\n",
       "      <td>...</td>\n",
       "      <td>(319.9, 638.8]</td>\n",
       "      <td>120370</td>\n",
       "      <td>2019-03-07</td>\n",
       "      <td>3</td>\n",
       "      <td>3</td>\n",
       "      <td>2019</td>\n",
       "      <td>5</td>\n",
       "      <td>0.472222</td>\n",
       "      <td>0.231481</td>\n",
       "      <td>(158.9, 316.8]</td>\n",
       "    </tr>\n",
       "    <tr>\n",
       "      <th>1</th>\n",
       "      <td>7</td>\n",
       "      <td>3350000</td>\n",
       "      <td>40</td>\n",
       "      <td>2018-12-04T00:00:00</td>\n",
       "      <td>1</td>\n",
       "      <td>2.782385</td>\n",
       "      <td>11</td>\n",
       "      <td>18</td>\n",
       "      <td>1</td>\n",
       "      <td>0</td>\n",
       "      <td>...</td>\n",
       "      <td>NaN</td>\n",
       "      <td>83750</td>\n",
       "      <td>2018-12-04</td>\n",
       "      <td>1</td>\n",
       "      <td>12</td>\n",
       "      <td>2018</td>\n",
       "      <td>1</td>\n",
       "      <td>0.450000</td>\n",
       "      <td>0.275000</td>\n",
       "      <td>(-0.579, 158.9]</td>\n",
       "    </tr>\n",
       "    <tr>\n",
       "      <th>4</th>\n",
       "      <td>2</td>\n",
       "      <td>10000000</td>\n",
       "      <td>100</td>\n",
       "      <td>2018-06-19T00:00:00</td>\n",
       "      <td>2</td>\n",
       "      <td>3.030000</td>\n",
       "      <td>14</td>\n",
       "      <td>32</td>\n",
       "      <td>13</td>\n",
       "      <td>0</td>\n",
       "      <td>...</td>\n",
       "      <td>(-2.189, 319.9]</td>\n",
       "      <td>100000</td>\n",
       "      <td>2018-06-19</td>\n",
       "      <td>1</td>\n",
       "      <td>6</td>\n",
       "      <td>2018</td>\n",
       "      <td>10</td>\n",
       "      <td>0.320000</td>\n",
       "      <td>0.410000</td>\n",
       "      <td>(-0.579, 158.9]</td>\n",
       "    </tr>\n",
       "  </tbody>\n",
       "</table>\n",
       "<p>3 rows × 33 columns</p>\n",
       "</div>"
      ],
      "text/plain": [
       "   total_images  last_price  total_area first_day_exposition  rooms  \\\n",
       "0            20    13000000         108  2019-03-07T00:00:00      3   \n",
       "1             7     3350000          40  2018-12-04T00:00:00      1   \n",
       "4             2    10000000         100  2018-06-19T00:00:00      2   \n",
       "\n",
       "   ceiling_height  floors_total  living_area  floor is_apartment  ...  \\\n",
       "0        2.700000            16           51      8            0  ...   \n",
       "1        2.782385            11           18      1            0  ...   \n",
       "4        3.030000            14           32     13            0  ...   \n",
       "\n",
       "   parks_nearest_group  price_per_m2       date  weekday month  year  \\\n",
       "0       (319.9, 638.8]        120370 2019-03-07        3     3  2019   \n",
       "1                  NaN         83750 2018-12-04        1    12  2018   \n",
       "4      (-2.189, 319.9]        100000 2018-06-19        1     6  2018   \n",
       "\n",
       "   floor_group  part_living_area  part_kitchen_area       days_group  \n",
       "0            5          0.472222           0.231481   (158.9, 316.8]  \n",
       "1            1          0.450000           0.275000  (-0.579, 158.9]  \n",
       "4           10          0.320000           0.410000  (-0.579, 158.9]  \n",
       "\n",
       "[3 rows x 33 columns]"
      ]
     },
     "execution_count": 77,
     "metadata": {},
     "output_type": "execute_result"
    }
   ],
   "source": [
    "extragood_day.head(3)"
   ]
  },
  {
   "cell_type": "code",
   "execution_count": 78,
   "metadata": {},
   "outputs": [
    {
     "data": {
      "text/plain": [
       "(0, 30)"
      ]
     },
     "execution_count": 78,
     "metadata": {},
     "output_type": "execute_result"
    },
    {
     "data": {
      "image/png": "[encoded data removed]",
      "text/plain": [
       "<Figure size 3600x1800 with 1 Axes>"
      ]
     },
     "metadata": {
      "needs_background": "light"
     },
     "output_type": "display_data"
    }
   ],
   "source": [
    "extragood_day.boxplot(figsize=(50,25))\n",
    "plt.ylim(0,30)"
   ]
  },
  {
   "cell_type": "markdown",
   "metadata": {},
   "source": [
    "Выбросы есть у таких показателей как высота потолков и площадь кухни. Выполним группировку и посмотрим подробнее разброс цен у квартир время продажи которых заняло менее 2-х лет"
   ]
  },
  {
   "cell_type": "code",
   "execution_count": 79,
   "metadata": {},
   "outputs": [
    {
     "name": "stderr",
     "output_type": "stream",
     "text": [
      "C:\\Users\\MaNi\\anaconda3\\lib\\site-packages\\ipykernel_launcher.py:1: SettingWithCopyWarning: \n",
      "A value is trying to be set on a copy of a slice from a DataFrame.\n",
      "Try using .loc[row_indexer,col_indexer] = value instead\n",
      "\n",
      "See the caveats in the documentation: https://pandas.pydata.org/pandas-docs/stable/user_guide/indexing.html#returning-a-view-versus-a-copy\n",
      "  \"\"\"Entry point for launching an IPython kernel.\n"
     ]
    }
   ],
   "source": [
    "good_day['price_per_m2_group']=pd.cut(good_day['price_per_m2'],10)"
   ]
  },
  {
   "cell_type": "code",
   "execution_count": 80,
   "metadata": {},
   "outputs": [
    {
     "name": "stderr",
     "output_type": "stream",
     "text": [
      "C:\\Users\\MaNi\\anaconda3\\lib\\site-packages\\ipykernel_launcher.py:1: FutureWarning: Indexing with multiple keys (implicitly converted to a tuple of keys) will be deprecated, use a list instead.\n",
      "  \"\"\"Entry point for launching an IPython kernel.\n"
     ]
    },
    {
     "data": {
      "text/html": [
       "<div>\n",
       "<style scoped>\n",
       "    .dataframe tbody tr th:only-of-type {\n",
       "        vertical-align: middle;\n",
       "    }\n",
       "\n",
       "    .dataframe tbody tr th {\n",
       "        vertical-align: top;\n",
       "    }\n",
       "\n",
       "    .dataframe thead tr th {\n",
       "        text-align: left;\n",
       "    }\n",
       "\n",
       "    .dataframe thead tr:last-of-type th {\n",
       "        text-align: right;\n",
       "    }\n",
       "</style>\n",
       "<table border=\"1\" class=\"dataframe\">\n",
       "  <thead>\n",
       "    <tr>\n",
       "      <th></th>\n",
       "      <th colspan=\"3\" halign=\"left\">last_price</th>\n",
       "      <th colspan=\"3\" halign=\"left\">total_area</th>\n",
       "    </tr>\n",
       "    <tr>\n",
       "      <th></th>\n",
       "      <th>count</th>\n",
       "      <th>median</th>\n",
       "      <th>mean</th>\n",
       "      <th>count</th>\n",
       "      <th>median</th>\n",
       "      <th>mean</th>\n",
       "    </tr>\n",
       "    <tr>\n",
       "      <th>price_per_m2_group</th>\n",
       "      <th></th>\n",
       "      <th></th>\n",
       "      <th></th>\n",
       "      <th></th>\n",
       "      <th></th>\n",
       "      <th></th>\n",
       "    </tr>\n",
       "  </thead>\n",
       "  <tbody>\n",
       "    <tr>\n",
       "      <th>(6062.462, 197915.8]</th>\n",
       "      <td>22119</td>\n",
       "      <td>4550000.0</td>\n",
       "      <td>5.628515e+06</td>\n",
       "      <td>22119</td>\n",
       "      <td>51.0</td>\n",
       "      <td>58.048239</td>\n",
       "    </tr>\n",
       "    <tr>\n",
       "      <th>(197915.8, 387869.6]</th>\n",
       "      <td>429</td>\n",
       "      <td>23800000.0</td>\n",
       "      <td>2.883140e+07</td>\n",
       "      <td>429</td>\n",
       "      <td>100.0</td>\n",
       "      <td>113.265734</td>\n",
       "    </tr>\n",
       "    <tr>\n",
       "      <th>(387869.6, 577823.4]</th>\n",
       "      <td>55</td>\n",
       "      <td>68500000.0</td>\n",
       "      <td>8.701422e+07</td>\n",
       "      <td>55</td>\n",
       "      <td>153.0</td>\n",
       "      <td>189.836364</td>\n",
       "    </tr>\n",
       "    <tr>\n",
       "      <th>(577823.4, 767777.2]</th>\n",
       "      <td>16</td>\n",
       "      <td>108500000.0</td>\n",
       "      <td>1.044554e+08</td>\n",
       "      <td>16</td>\n",
       "      <td>171.0</td>\n",
       "      <td>169.312500</td>\n",
       "    </tr>\n",
       "    <tr>\n",
       "      <th>(767777.2, 957731.0]</th>\n",
       "      <td>5</td>\n",
       "      <td>122000000.0</td>\n",
       "      <td>1.116000e+08</td>\n",
       "      <td>5</td>\n",
       "      <td>145.0</td>\n",
       "      <td>132.400000</td>\n",
       "    </tr>\n",
       "    <tr>\n",
       "      <th>(957731.0, 1147684.8]</th>\n",
       "      <td>2</td>\n",
       "      <td>262650000.0</td>\n",
       "      <td>2.626500e+08</td>\n",
       "      <td>2</td>\n",
       "      <td>262.5</td>\n",
       "      <td>262.500000</td>\n",
       "    </tr>\n",
       "    <tr>\n",
       "      <th>(1147684.8, 1337638.6]</th>\n",
       "      <td>0</td>\n",
       "      <td>NaN</td>\n",
       "      <td>NaN</td>\n",
       "      <td>0</td>\n",
       "      <td>NaN</td>\n",
       "      <td>NaN</td>\n",
       "    </tr>\n",
       "    <tr>\n",
       "      <th>(1337638.6, 1527592.4]</th>\n",
       "      <td>0</td>\n",
       "      <td>NaN</td>\n",
       "      <td>NaN</td>\n",
       "      <td>0</td>\n",
       "      <td>NaN</td>\n",
       "      <td>NaN</td>\n",
       "    </tr>\n",
       "    <tr>\n",
       "      <th>(1527592.4, 1717546.2]</th>\n",
       "      <td>1</td>\n",
       "      <td>289238400.0</td>\n",
       "      <td>2.892384e+08</td>\n",
       "      <td>1</td>\n",
       "      <td>187.0</td>\n",
       "      <td>187.000000</td>\n",
       "    </tr>\n",
       "    <tr>\n",
       "      <th>(1717546.2, 1907500.0]</th>\n",
       "      <td>2</td>\n",
       "      <td>546500000.0</td>\n",
       "      <td>5.465000e+08</td>\n",
       "      <td>2</td>\n",
       "      <td>295.0</td>\n",
       "      <td>295.000000</td>\n",
       "    </tr>\n",
       "  </tbody>\n",
       "</table>\n",
       "</div>"
      ],
      "text/plain": [
       "                       last_price                            total_area  \\\n",
       "                            count       median          mean      count   \n",
       "price_per_m2_group                                                        \n",
       "(6062.462, 197915.8]        22119    4550000.0  5.628515e+06      22119   \n",
       "(197915.8, 387869.6]          429   23800000.0  2.883140e+07        429   \n",
       "(387869.6, 577823.4]           55   68500000.0  8.701422e+07         55   \n",
       "(577823.4, 767777.2]           16  108500000.0  1.044554e+08         16   \n",
       "(767777.2, 957731.0]            5  122000000.0  1.116000e+08          5   \n",
       "(957731.0, 1147684.8]           2  262650000.0  2.626500e+08          2   \n",
       "(1147684.8, 1337638.6]          0          NaN           NaN          0   \n",
       "(1337638.6, 1527592.4]          0          NaN           NaN          0   \n",
       "(1527592.4, 1717546.2]          1  289238400.0  2.892384e+08          1   \n",
       "(1717546.2, 1907500.0]          2  546500000.0  5.465000e+08          2   \n",
       "\n",
       "                                           \n",
       "                       median        mean  \n",
       "price_per_m2_group                         \n",
       "(6062.462, 197915.8]     51.0   58.048239  \n",
       "(197915.8, 387869.6]    100.0  113.265734  \n",
       "(387869.6, 577823.4]    153.0  189.836364  \n",
       "(577823.4, 767777.2]    171.0  169.312500  \n",
       "(767777.2, 957731.0]    145.0  132.400000  \n",
       "(957731.0, 1147684.8]   262.5  262.500000  \n",
       "(1147684.8, 1337638.6]    NaN         NaN  \n",
       "(1337638.6, 1527592.4]    NaN         NaN  \n",
       "(1527592.4, 1717546.2]  187.0  187.000000  \n",
       "(1717546.2, 1907500.0]  295.0  295.000000  "
      ]
     },
     "execution_count": 80,
     "metadata": {},
     "output_type": "execute_result"
    }
   ],
   "source": [
    "good_day.groupby('price_per_m2_group')['last_price','total_area'].agg(['count','median','mean'])"
   ]
  },
  {
   "cell_type": "markdown",
   "metadata": {},
   "source": [
    "483 квартиры с ценой от 190849 до 381588 за кв метр. Цена выше медианной более чем в 2 раза. Исключим из дальнейшего анализа квартиры с очень высокой ценой более чем в 2 раза"
   ]
  },
  {
   "cell_type": "code",
   "execution_count": 81,
   "metadata": {},
   "outputs": [],
   "source": [
    "good_sell=good_day[good_day['price_per_m2']<190850]"
   ]
  },
  {
   "cell_type": "code",
   "execution_count": 82,
   "metadata": {},
   "outputs": [
    {
     "data": {
      "text/html": [
       "<div>\n",
       "<style scoped>\n",
       "    .dataframe tbody tr th:only-of-type {\n",
       "        vertical-align: middle;\n",
       "    }\n",
       "\n",
       "    .dataframe tbody tr th {\n",
       "        vertical-align: top;\n",
       "    }\n",
       "\n",
       "    .dataframe thead th {\n",
       "        text-align: right;\n",
       "    }\n",
       "</style>\n",
       "<table border=\"1\" class=\"dataframe\">\n",
       "  <thead>\n",
       "    <tr style=\"text-align: right;\">\n",
       "      <th></th>\n",
       "      <th>total_images</th>\n",
       "      <th>last_price</th>\n",
       "      <th>total_area</th>\n",
       "      <th>rooms</th>\n",
       "      <th>ceiling_height</th>\n",
       "      <th>floors_total</th>\n",
       "      <th>living_area</th>\n",
       "      <th>floor</th>\n",
       "      <th>kitchen_area</th>\n",
       "      <th>balcony</th>\n",
       "      <th>...</th>\n",
       "      <th>ponds_around3000</th>\n",
       "      <th>ponds_nearest</th>\n",
       "      <th>days_exposition</th>\n",
       "      <th>price_per_m2</th>\n",
       "      <th>weekday</th>\n",
       "      <th>month</th>\n",
       "      <th>year</th>\n",
       "      <th>floor_group</th>\n",
       "      <th>part_living_area</th>\n",
       "      <th>part_kitchen_area</th>\n",
       "    </tr>\n",
       "  </thead>\n",
       "  <tbody>\n",
       "    <tr>\n",
       "      <th>count</th>\n",
       "      <td>22061.000000</td>\n",
       "      <td>2.206100e+04</td>\n",
       "      <td>22061.000000</td>\n",
       "      <td>22061.000000</td>\n",
       "      <td>22061.000000</td>\n",
       "      <td>22061.000000</td>\n",
       "      <td>22061.000000</td>\n",
       "      <td>22061.000000</td>\n",
       "      <td>22061.000000</td>\n",
       "      <td>22061.000000</td>\n",
       "      <td>...</td>\n",
       "      <td>16767.000000</td>\n",
       "      <td>8212.000000</td>\n",
       "      <td>22061.000000</td>\n",
       "      <td>22061.00000</td>\n",
       "      <td>22061.000000</td>\n",
       "      <td>22061.000000</td>\n",
       "      <td>22061.000000</td>\n",
       "      <td>22061.000000</td>\n",
       "      <td>22061.000000</td>\n",
       "      <td>22061.000000</td>\n",
       "    </tr>\n",
       "    <tr>\n",
       "      <th>mean</th>\n",
       "      <td>9.841032</td>\n",
       "      <td>5.596987e+06</td>\n",
       "      <td>57.962241</td>\n",
       "      <td>2.037079</td>\n",
       "      <td>2.712544</td>\n",
       "      <td>10.745932</td>\n",
       "      <td>33.121255</td>\n",
       "      <td>5.919269</td>\n",
       "      <td>9.933321</td>\n",
       "      <td>0.112733</td>\n",
       "      <td>...</td>\n",
       "      <td>0.736447</td>\n",
       "      <td>526.894788</td>\n",
       "      <td>146.507593</td>\n",
       "      <td>94673.23018</td>\n",
       "      <td>2.572368</td>\n",
       "      <td>6.407688</td>\n",
       "      <td>2017.459952</td>\n",
       "      <td>5.189248</td>\n",
       "      <td>0.562635</td>\n",
       "      <td>0.182561</td>\n",
       "    </tr>\n",
       "    <tr>\n",
       "      <th>std</th>\n",
       "      <td>5.650831</td>\n",
       "      <td>4.132587e+06</td>\n",
       "      <td>30.921765</td>\n",
       "      <td>1.047807</td>\n",
       "      <td>0.219295</td>\n",
       "      <td>6.629110</td>\n",
       "      <td>19.851078</td>\n",
       "      <td>4.912144</td>\n",
       "      <td>5.246079</td>\n",
       "      <td>1.321669</td>\n",
       "      <td>...</td>\n",
       "      <td>0.912763</td>\n",
       "      <td>277.482799</td>\n",
       "      <td>131.899203</td>\n",
       "      <td>30816.73695</td>\n",
       "      <td>1.789560</td>\n",
       "      <td>3.485218</td>\n",
       "      <td>0.958236</td>\n",
       "      <td>3.240055</td>\n",
       "      <td>0.101191</td>\n",
       "      <td>0.068166</td>\n",
       "    </tr>\n",
       "    <tr>\n",
       "      <th>min</th>\n",
       "      <td>0.000000</td>\n",
       "      <td>4.300000e+05</td>\n",
       "      <td>13.000000</td>\n",
       "      <td>0.000000</td>\n",
       "      <td>1.000000</td>\n",
       "      <td>1.000000</td>\n",
       "      <td>2.000000</td>\n",
       "      <td>1.000000</td>\n",
       "      <td>1.000000</td>\n",
       "      <td>-1.000000</td>\n",
       "      <td>...</td>\n",
       "      <td>0.000000</td>\n",
       "      <td>13.000000</td>\n",
       "      <td>1.000000</td>\n",
       "      <td>7962.00000</td>\n",
       "      <td>0.000000</td>\n",
       "      <td>1.000000</td>\n",
       "      <td>2014.000000</td>\n",
       "      <td>1.000000</td>\n",
       "      <td>0.038462</td>\n",
       "      <td>0.025381</td>\n",
       "    </tr>\n",
       "    <tr>\n",
       "      <th>25%</th>\n",
       "      <td>6.000000</td>\n",
       "      <td>3.400000e+06</td>\n",
       "      <td>40.000000</td>\n",
       "      <td>1.000000</td>\n",
       "      <td>2.581279</td>\n",
       "      <td>5.000000</td>\n",
       "      <td>18.000000</td>\n",
       "      <td>2.000000</td>\n",
       "      <td>7.000000</td>\n",
       "      <td>-1.000000</td>\n",
       "      <td>...</td>\n",
       "      <td>0.000000</td>\n",
       "      <td>305.000000</td>\n",
       "      <td>45.000000</td>\n",
       "      <td>76271.00000</td>\n",
       "      <td>1.000000</td>\n",
       "      <td>3.000000</td>\n",
       "      <td>2017.000000</td>\n",
       "      <td>1.000000</td>\n",
       "      <td>0.500000</td>\n",
       "      <td>0.133333</td>\n",
       "    </tr>\n",
       "    <tr>\n",
       "      <th>50%</th>\n",
       "      <td>9.000000</td>\n",
       "      <td>4.540000e+06</td>\n",
       "      <td>51.000000</td>\n",
       "      <td>2.000000</td>\n",
       "      <td>2.700000</td>\n",
       "      <td>9.000000</td>\n",
       "      <td>30.000000</td>\n",
       "      <td>4.000000</td>\n",
       "      <td>9.000000</td>\n",
       "      <td>0.000000</td>\n",
       "      <td>...</td>\n",
       "      <td>0.000000</td>\n",
       "      <td>515.000000</td>\n",
       "      <td>112.000000</td>\n",
       "      <td>94545.00000</td>\n",
       "      <td>3.000000</td>\n",
       "      <td>6.000000</td>\n",
       "      <td>2018.000000</td>\n",
       "      <td>5.000000</td>\n",
       "      <td>0.562500</td>\n",
       "      <td>0.172414</td>\n",
       "    </tr>\n",
       "    <tr>\n",
       "      <th>75%</th>\n",
       "      <td>14.000000</td>\n",
       "      <td>6.500000e+06</td>\n",
       "      <td>67.000000</td>\n",
       "      <td>3.000000</td>\n",
       "      <td>2.750000</td>\n",
       "      <td>16.000000</td>\n",
       "      <td>41.000000</td>\n",
       "      <td>8.000000</td>\n",
       "      <td>11.000000</td>\n",
       "      <td>1.000000</td>\n",
       "      <td>...</td>\n",
       "      <td>1.000000</td>\n",
       "      <td>737.000000</td>\n",
       "      <td>180.000000</td>\n",
       "      <td>112676.00000</td>\n",
       "      <td>4.000000</td>\n",
       "      <td>10.000000</td>\n",
       "      <td>2018.000000</td>\n",
       "      <td>10.000000</td>\n",
       "      <td>0.629032</td>\n",
       "      <td>0.218750</td>\n",
       "    </tr>\n",
       "    <tr>\n",
       "      <th>max</th>\n",
       "      <td>50.000000</td>\n",
       "      <td>9.150000e+07</td>\n",
       "      <td>590.000000</td>\n",
       "      <td>19.000000</td>\n",
       "      <td>5.000000</td>\n",
       "      <td>60.000000</td>\n",
       "      <td>409.000000</td>\n",
       "      <td>33.000000</td>\n",
       "      <td>100.000000</td>\n",
       "      <td>5.000000</td>\n",
       "      <td>...</td>\n",
       "      <td>3.000000</td>\n",
       "      <td>1344.000000</td>\n",
       "      <td>631.000000</td>\n",
       "      <td>190789.00000</td>\n",
       "      <td>6.000000</td>\n",
       "      <td>12.000000</td>\n",
       "      <td>2019.000000</td>\n",
       "      <td>10.000000</td>\n",
       "      <td>1.000000</td>\n",
       "      <td>0.787879</td>\n",
       "    </tr>\n",
       "  </tbody>\n",
       "</table>\n",
       "<p>8 rows × 24 columns</p>\n",
       "</div>"
      ],
      "text/plain": [
       "       total_images    last_price    total_area         rooms  ceiling_height  \\\n",
       "count  22061.000000  2.206100e+04  22061.000000  22061.000000    22061.000000   \n",
       "mean       9.841032  5.596987e+06     57.962241      2.037079        2.712544   \n",
       "std        5.650831  4.132587e+06     30.921765      1.047807        0.219295   \n",
       "min        0.000000  4.300000e+05     13.000000      0.000000        1.000000   \n",
       "25%        6.000000  3.400000e+06     40.000000      1.000000        2.581279   \n",
       "50%        9.000000  4.540000e+06     51.000000      2.000000        2.700000   \n",
       "75%       14.000000  6.500000e+06     67.000000      3.000000        2.750000   \n",
       "max       50.000000  9.150000e+07    590.000000     19.000000        5.000000   \n",
       "\n",
       "       floors_total   living_area         floor  kitchen_area       balcony  \\\n",
       "count  22061.000000  22061.000000  22061.000000  22061.000000  22061.000000   \n",
       "mean      10.745932     33.121255      5.919269      9.933321      0.112733   \n",
       "std        6.629110     19.851078      4.912144      5.246079      1.321669   \n",
       "min        1.000000      2.000000      1.000000      1.000000     -1.000000   \n",
       "25%        5.000000     18.000000      2.000000      7.000000     -1.000000   \n",
       "50%        9.000000     30.000000      4.000000      9.000000      0.000000   \n",
       "75%       16.000000     41.000000      8.000000     11.000000      1.000000   \n",
       "max       60.000000    409.000000     33.000000    100.000000      5.000000   \n",
       "\n",
       "       ...  ponds_around3000  ponds_nearest  days_exposition  price_per_m2  \\\n",
       "count  ...      16767.000000    8212.000000     22061.000000   22061.00000   \n",
       "mean   ...          0.736447     526.894788       146.507593   94673.23018   \n",
       "std    ...          0.912763     277.482799       131.899203   30816.73695   \n",
       "min    ...          0.000000      13.000000         1.000000    7962.00000   \n",
       "25%    ...          0.000000     305.000000        45.000000   76271.00000   \n",
       "50%    ...          0.000000     515.000000       112.000000   94545.00000   \n",
       "75%    ...          1.000000     737.000000       180.000000  112676.00000   \n",
       "max    ...          3.000000    1344.000000       631.000000  190789.00000   \n",
       "\n",
       "            weekday         month          year   floor_group  \\\n",
       "count  22061.000000  22061.000000  22061.000000  22061.000000   \n",
       "mean       2.572368      6.407688   2017.459952      5.189248   \n",
       "std        1.789560      3.485218      0.958236      3.240055   \n",
       "min        0.000000      1.000000   2014.000000      1.000000   \n",
       "25%        1.000000      3.000000   2017.000000      1.000000   \n",
       "50%        3.000000      6.000000   2018.000000      5.000000   \n",
       "75%        4.000000     10.000000   2018.000000     10.000000   \n",
       "max        6.000000     12.000000   2019.000000     10.000000   \n",
       "\n",
       "       part_living_area  part_kitchen_area  \n",
       "count      22061.000000       22061.000000  \n",
       "mean           0.562635           0.182561  \n",
       "std            0.101191           0.068166  \n",
       "min            0.038462           0.025381  \n",
       "25%            0.500000           0.133333  \n",
       "50%            0.562500           0.172414  \n",
       "75%            0.629032           0.218750  \n",
       "max            1.000000           0.787879  \n",
       "\n",
       "[8 rows x 24 columns]"
      ]
     },
     "execution_count": 82,
     "metadata": {},
     "output_type": "execute_result"
    }
   ],
   "source": [
    "good_sell.describe()"
   ]
  },
  {
   "cell_type": "markdown",
   "metadata": {},
   "source": [
    "в выборку попали двухкомнатные квартины общей площадью 51 м кв (минимум 13, максимум 590). Со средней высотой потолков. В основном это 9-ми этажные дома  квартиры в основном продаются на 4 этаже. Продажи в основном осуществляются за 112 дня за 94545 руб за кв м. В основном продажи были в 2018 году.\n",
    "Также интересно было бы по отдельности проанализировать квартиры с высокими, низкими и средними ценами (какие факторы влияют на цены, характеристики данных квартир..)"
   ]
  },
  {
   "cell_type": "code",
   "execution_count": 83,
   "metadata": {},
   "outputs": [],
   "source": [
    "#изучим факторы влияющие на стоимость недвижимости\n",
    "# создадим отдельно таблицу с факторами\n",
    "column=['last_price','price_per_m2','total_area','rooms','floor_group','weekday','month','year','cityCenters_nearest','parks_around3000','ponds_around3000']\n",
    "price_factor=pd.DataFrame(data=good_sell,columns=column)"
   ]
  },
  {
   "cell_type": "code",
   "execution_count": 84,
   "metadata": {},
   "outputs": [
    {
     "data": {
      "text/html": [
       "<div>\n",
       "<style scoped>\n",
       "    .dataframe tbody tr th:only-of-type {\n",
       "        vertical-align: middle;\n",
       "    }\n",
       "\n",
       "    .dataframe tbody tr th {\n",
       "        vertical-align: top;\n",
       "    }\n",
       "\n",
       "    .dataframe thead th {\n",
       "        text-align: right;\n",
       "    }\n",
       "</style>\n",
       "<table border=\"1\" class=\"dataframe\">\n",
       "  <thead>\n",
       "    <tr style=\"text-align: right;\">\n",
       "      <th></th>\n",
       "      <th>last_price</th>\n",
       "      <th>price_per_m2</th>\n",
       "      <th>total_area</th>\n",
       "      <th>rooms</th>\n",
       "      <th>floor_group</th>\n",
       "      <th>weekday</th>\n",
       "      <th>month</th>\n",
       "      <th>year</th>\n",
       "      <th>cityCenters_nearest</th>\n",
       "      <th>parks_around3000</th>\n",
       "      <th>ponds_around3000</th>\n",
       "    </tr>\n",
       "  </thead>\n",
       "  <tbody>\n",
       "    <tr>\n",
       "      <th>0</th>\n",
       "      <td>13000000</td>\n",
       "      <td>120370</td>\n",
       "      <td>108</td>\n",
       "      <td>3</td>\n",
       "      <td>5</td>\n",
       "      <td>3</td>\n",
       "      <td>3</td>\n",
       "      <td>2019</td>\n",
       "      <td>16028.0</td>\n",
       "      <td>1.0</td>\n",
       "      <td>2.0</td>\n",
       "    </tr>\n",
       "    <tr>\n",
       "      <th>1</th>\n",
       "      <td>3350000</td>\n",
       "      <td>83750</td>\n",
       "      <td>40</td>\n",
       "      <td>1</td>\n",
       "      <td>1</td>\n",
       "      <td>1</td>\n",
       "      <td>12</td>\n",
       "      <td>2018</td>\n",
       "      <td>18603.0</td>\n",
       "      <td>0.0</td>\n",
       "      <td>0.0</td>\n",
       "    </tr>\n",
       "    <tr>\n",
       "      <th>2</th>\n",
       "      <td>5196000</td>\n",
       "      <td>92785</td>\n",
       "      <td>56</td>\n",
       "      <td>2</td>\n",
       "      <td>10</td>\n",
       "      <td>3</td>\n",
       "      <td>8</td>\n",
       "      <td>2015</td>\n",
       "      <td>13933.0</td>\n",
       "      <td>1.0</td>\n",
       "      <td>2.0</td>\n",
       "    </tr>\n",
       "    <tr>\n",
       "      <th>4</th>\n",
       "      <td>10000000</td>\n",
       "      <td>100000</td>\n",
       "      <td>100</td>\n",
       "      <td>2</td>\n",
       "      <td>10</td>\n",
       "      <td>1</td>\n",
       "      <td>6</td>\n",
       "      <td>2018</td>\n",
       "      <td>8098.0</td>\n",
       "      <td>2.0</td>\n",
       "      <td>1.0</td>\n",
       "    </tr>\n",
       "    <tr>\n",
       "      <th>5</th>\n",
       "      <td>2890000</td>\n",
       "      <td>96333</td>\n",
       "      <td>30</td>\n",
       "      <td>1</td>\n",
       "      <td>5</td>\n",
       "      <td>0</td>\n",
       "      <td>9</td>\n",
       "      <td>2018</td>\n",
       "      <td>-1.0</td>\n",
       "      <td>-1.0</td>\n",
       "      <td>NaN</td>\n",
       "    </tr>\n",
       "    <tr>\n",
       "      <th>6</th>\n",
       "      <td>3700000</td>\n",
       "      <td>100000</td>\n",
       "      <td>37</td>\n",
       "      <td>1</td>\n",
       "      <td>5</td>\n",
       "      <td>3</td>\n",
       "      <td>11</td>\n",
       "      <td>2017</td>\n",
       "      <td>19143.0</td>\n",
       "      <td>0.0</td>\n",
       "      <td>0.0</td>\n",
       "    </tr>\n",
       "    <tr>\n",
       "      <th>7</th>\n",
       "      <td>7915000</td>\n",
       "      <td>111478</td>\n",
       "      <td>71</td>\n",
       "      <td>2</td>\n",
       "      <td>5</td>\n",
       "      <td>3</td>\n",
       "      <td>4</td>\n",
       "      <td>2019</td>\n",
       "      <td>11634.0</td>\n",
       "      <td>0.0</td>\n",
       "      <td>0.0</td>\n",
       "    </tr>\n",
       "    <tr>\n",
       "      <th>8</th>\n",
       "      <td>2900000</td>\n",
       "      <td>87878</td>\n",
       "      <td>33</td>\n",
       "      <td>1</td>\n",
       "      <td>10</td>\n",
       "      <td>2</td>\n",
       "      <td>5</td>\n",
       "      <td>2018</td>\n",
       "      <td>-1.0</td>\n",
       "      <td>-1.0</td>\n",
       "      <td>NaN</td>\n",
       "    </tr>\n",
       "    <tr>\n",
       "      <th>9</th>\n",
       "      <td>5400000</td>\n",
       "      <td>88524</td>\n",
       "      <td>61</td>\n",
       "      <td>3</td>\n",
       "      <td>5</td>\n",
       "      <td>6</td>\n",
       "      <td>2</td>\n",
       "      <td>2017</td>\n",
       "      <td>15008.0</td>\n",
       "      <td>0.0</td>\n",
       "      <td>0.0</td>\n",
       "    </tr>\n",
       "    <tr>\n",
       "      <th>10</th>\n",
       "      <td>5050000</td>\n",
       "      <td>129487</td>\n",
       "      <td>39</td>\n",
       "      <td>1</td>\n",
       "      <td>5</td>\n",
       "      <td>3</td>\n",
       "      <td>11</td>\n",
       "      <td>2017</td>\n",
       "      <td>13878.0</td>\n",
       "      <td>1.0</td>\n",
       "      <td>2.0</td>\n",
       "    </tr>\n",
       "  </tbody>\n",
       "</table>\n",
       "</div>"
      ],
      "text/plain": [
       "    last_price  price_per_m2  total_area  rooms  floor_group  weekday  month  \\\n",
       "0     13000000        120370         108      3            5        3      3   \n",
       "1      3350000         83750          40      1            1        1     12   \n",
       "2      5196000         92785          56      2           10        3      8   \n",
       "4     10000000        100000         100      2           10        1      6   \n",
       "5      2890000         96333          30      1            5        0      9   \n",
       "6      3700000        100000          37      1            5        3     11   \n",
       "7      7915000        111478          71      2            5        3      4   \n",
       "8      2900000         87878          33      1           10        2      5   \n",
       "9      5400000         88524          61      3            5        6      2   \n",
       "10     5050000        129487          39      1            5        3     11   \n",
       "\n",
       "    year  cityCenters_nearest  parks_around3000  ponds_around3000  \n",
       "0   2019              16028.0               1.0               2.0  \n",
       "1   2018              18603.0               0.0               0.0  \n",
       "2   2015              13933.0               1.0               2.0  \n",
       "4   2018               8098.0               2.0               1.0  \n",
       "5   2018                 -1.0              -1.0               NaN  \n",
       "6   2017              19143.0               0.0               0.0  \n",
       "7   2019              11634.0               0.0               0.0  \n",
       "8   2018                 -1.0              -1.0               NaN  \n",
       "9   2017              15008.0               0.0               0.0  \n",
       "10  2017              13878.0               1.0               2.0  "
      ]
     },
     "metadata": {},
     "output_type": "display_data"
    },
    {
     "data": {
      "text/plain": [
       "22061"
      ]
     },
     "execution_count": 84,
     "metadata": {},
     "output_type": "execute_result"
    }
   ],
   "source": [
    "display(price_factor.head(10))\n",
    "len(price_factor)"
   ]
  },
  {
   "cell_type": "code",
   "execution_count": 85,
   "metadata": {
    "scrolled": true
   },
   "outputs": [
    {
     "name": "stdout",
     "output_type": "stream",
     "text": [
      "на цену влияет м2: 0.11490612366386842\n",
      "на цену влияет количество комнат: -0.07690893508320698\n",
      "на цену влияет удаленность от центра: -0.39984364785299115\n",
      "на цену влияет сезонность: -0.0043458114920970296\n",
      "на цену влияет год: 0.06975838919128045\n",
      "на цену влияет день недели: -0.017804738315904838\n",
      "на цену влияет этаж: 0.0557949896239338\n",
      "на цену влияет наличие парков: 0.11501253908778605\n",
      "на цену влияет наличие прудов: 0.1173181608426209\n"
     ]
    }
   ],
   "source": [
    "print('на цену влияет м2:',price_factor['price_per_m2'].corr(price_factor['total_area']))\n",
    "print('на цену влияет количество комнат:',price_factor['price_per_m2'].corr(price_factor['rooms']))\n",
    "print('на цену влияет удаленность от центра:',price_factor['price_per_m2'].corr(price_factor\\\n",
    "                               [price_factor['cityCenters_nearest']>=0]['cityCenters_nearest']))\n",
    "print('на цену влияет сезонность:',price_factor['price_per_m2'].corr(price_factor['month']))\n",
    "print('на цену влияет год:',price_factor['price_per_m2'].corr(price_factor['year']))\n",
    "print('на цену влияет день недели:',price_factor['price_per_m2'].corr(price_factor['weekday']))\n",
    "print('на цену влияет этаж:',price_factor['price_per_m2'].corr(price_factor['floor_group']))\n",
    "print('на цену влияет наличие парков:',price_factor['price_per_m2'].corr(price_factor[price_factor['parks_around3000']>=0]\\\n",
    "                                                                         ['parks_around3000']))\n",
    "print('на цену влияет наличие прудов:',price_factor['price_per_m2'].corr(price_factor[price_factor['ponds_around3000']>=0]\\\n",
    "                                                                         ['ponds_around3000']))"
   ]
  },
  {
   "cell_type": "markdown",
   "metadata": {},
   "source": [
    "Как показывают коэффициенты корреляции больше всего на цену за квадратый метр оказавает влияние факторы: площадь , удаленность от центра,наличие прудов и парков поблизости. Больше всего из всех факторов оказывает удаленность от центра (причем зависимость обратная: чем больше растояние от центра тем ниже цена м кв)"
   ]
  },
  {
   "cell_type": "code",
   "execution_count": 86,
   "metadata": {},
   "outputs": [],
   "source": [
    "corr_matrix=price_factor.corr()"
   ]
  },
  {
   "cell_type": "code",
   "execution_count": 87,
   "metadata": {},
   "outputs": [
    {
     "data": {
      "text/plain": [
       "<matplotlib.axes._subplots.AxesSubplot at 0x1a677a529c8>"
      ]
     },
     "execution_count": 87,
     "metadata": {},
     "output_type": "execute_result"
    },
    {
     "data": {
      "image/png": "[encoded data removed]",
      "text/plain": [
       "<Figure size 936x648 with 2 Axes>"
      ]
     },
     "metadata": {},
     "output_type": "display_data"
    }
   ],
   "source": [
    "sns.set(style='white')\n",
    "plt.figure(figsize=(13, 9))\n",
    "plt.title('Коэффициент корреляции')\n",
    "sns.heatmap(corr_matrix, annot=True, fmt='.2f', linewidths=0.5, linecolor='black')"
   ]
  },
  {
   "cell_type": "markdown",
   "metadata": {},
   "source": [
    "Большая корреляция между общей площадью и количеством комнат, общей площадью и ценой квартиры (что в принципе логично)"
   ]
  },
  {
   "cell_type": "code",
   "execution_count": 88,
   "metadata": {},
   "outputs": [
    {
     "data": {
      "text/plain": [
       "Text(0.5, 1.0, 'Динамика средней цены за метр квадратный ')"
      ]
     },
     "execution_count": 88,
     "metadata": {},
     "output_type": "execute_result"
    },
    {
     "data": {
      "image/png": "[encoded data removed]",
      "text/plain": [
       "<Figure size 1080x648 with 1 Axes>"
      ]
     },
     "metadata": {},
     "output_type": "display_data"
    }
   ],
   "source": [
    "good_sell.pivot_table(index='month',values='price_per_m2',aggfunc='mean').sort_values(by='month',ascending='False')\\\n",
    "                .plot(grid=True,figsize=(15,9))\n",
    "plt.xlabel('Период, месяц') \n",
    "plt.ylabel('Цена за метр квадратный ') \n",
    "plt.title('Динамика средней цены за метр квадратный ')"
   ]
  },
  {
   "cell_type": "markdown",
   "metadata": {},
   "source": [
    "На продажи оказывает влияние сезонность. Посмотрим в изменение цены в разные года"
   ]
  },
  {
   "cell_type": "code",
   "execution_count": 89,
   "metadata": {},
   "outputs": [
    {
     "data": {
      "text/plain": [
       "Text(0.5, 1.0, 'Динамика средней цены за метр квадратный ')"
      ]
     },
     "execution_count": 89,
     "metadata": {},
     "output_type": "execute_result"
    },
    {
     "data": {
      "image/png": "[encoded data removed]",
      "text/plain": [
       "<Figure size 1080x648 with 1 Axes>"
      ]
     },
     "metadata": {},
     "output_type": "display_data"
    }
   ],
   "source": [
    "good_sell.pivot_table(index='year',values='price_per_m2',aggfunc='mean').sort_values(by='year',ascending='False')\\\n",
    "                   .plot(grid=True,figsize=(15,9),legend=True)\n",
    "plt.xlabel('Период, год') \n",
    "plt.ylabel('Цена за метр квадратный ') \n",
    "plt.title('Динамика средней цены за метр квадратный ')"
   ]
  },
  {
   "cell_type": "markdown",
   "metadata": {},
   "source": [
    "В 2016 году зыла самая низкая цена недвижимости. Постепенное повышение цены началось в 2017 году , продолжилось в 2018 и в 2019. Большую выгоду получили те кто продал квартиры в 2014 году. Посмотрим как меняются квартиры по дням недели"
   ]
  },
  {
   "cell_type": "code",
   "execution_count": 90,
   "metadata": {},
   "outputs": [
    {
     "data": {
      "text/plain": [
       "Text(0.5, 1.0, 'Динамика средней цены за метр квадратный ')"
      ]
     },
     "execution_count": 90,
     "metadata": {},
     "output_type": "execute_result"
    },
    {
     "data": {
      "image/png": "[encoded data removed]",
      "text/plain": [
       "<Figure size 1080x648 with 1 Axes>"
      ]
     },
     "metadata": {},
     "output_type": "display_data"
    }
   ],
   "source": [
    "good_sell.pivot_table(index='weekday',values='price_per_m2',aggfunc='mean').sort_values(by='weekday',ascending='False')\\\n",
    "                  .plot(grid=True,figsize=(15,9),legend=True)\n",
    "plt.xlabel('Период, неделя') \n",
    "plt.ylabel('Цена за метр квадратный ') \n",
    "plt.title('Динамика средней цены за метр квадратный ')"
   ]
  },
  {
   "cell_type": "markdown",
   "metadata": {},
   "source": [
    "Лучше всего квартиры продавать в начале недели. В выходные цена на порядок ниже средней."
   ]
  },
  {
   "cell_type": "code",
   "execution_count": 91,
   "metadata": {},
   "outputs": [
    {
     "data": {
      "text/plain": [
       "locality_name\n",
       "Санкт-Петербург      14404\n",
       "посёлок Мурино         503\n",
       "посёлок Шушары         426\n",
       "Всеволожск             381\n",
       "Пушкин                 348\n",
       "Колпино                330\n",
       "посёлок Парголово      318\n",
       "Гатчина                290\n",
       "деревня Кудрово        278\n",
       "Выборг                 225\n",
       "Name: price_per_m2, dtype: int64"
      ]
     },
     "execution_count": 91,
     "metadata": {},
     "output_type": "execute_result"
    }
   ],
   "source": [
    "# изучим населённые пункты с наибольшим числом объявлений\n",
    "# больше всего продаж:\n",
    "good_sell.groupby('locality_name')['price_per_m2'].count().sort_values(ascending=False).head(10)\n"
   ]
  },
  {
   "cell_type": "code",
   "execution_count": 92,
   "metadata": {},
   "outputs": [
    {
     "data": {
      "text/html": [
       "<div>\n",
       "<style scoped>\n",
       "    .dataframe tbody tr th:only-of-type {\n",
       "        vertical-align: middle;\n",
       "    }\n",
       "\n",
       "    .dataframe tbody tr th {\n",
       "        vertical-align: top;\n",
       "    }\n",
       "\n",
       "    .dataframe thead th {\n",
       "        text-align: right;\n",
       "    }\n",
       "</style>\n",
       "<table border=\"1\" class=\"dataframe\">\n",
       "  <thead>\n",
       "    <tr style=\"text-align: right;\">\n",
       "      <th></th>\n",
       "      <th>price_per_m2</th>\n",
       "    </tr>\n",
       "    <tr>\n",
       "      <th>locality_name</th>\n",
       "      <th></th>\n",
       "    </tr>\n",
       "  </thead>\n",
       "  <tbody>\n",
       "    <tr>\n",
       "      <th>Всеволожск</th>\n",
       "      <td>67598.614173</td>\n",
       "    </tr>\n",
       "    <tr>\n",
       "      <th>Выборг</th>\n",
       "      <td>58351.440000</td>\n",
       "    </tr>\n",
       "    <tr>\n",
       "      <th>Гатчина</th>\n",
       "      <td>69236.210345</td>\n",
       "    </tr>\n",
       "    <tr>\n",
       "      <th>Колпино</th>\n",
       "      <td>75601.472727</td>\n",
       "    </tr>\n",
       "    <tr>\n",
       "      <th>Пушкин</th>\n",
       "      <td>102475.893678</td>\n",
       "    </tr>\n",
       "    <tr>\n",
       "      <th>Санкт-Петербург</th>\n",
       "      <td>108230.149125</td>\n",
       "    </tr>\n",
       "    <tr>\n",
       "      <th>деревня Кудрово</th>\n",
       "      <td>93188.812950</td>\n",
       "    </tr>\n",
       "    <tr>\n",
       "      <th>посёлок Мурино</th>\n",
       "      <td>86519.214712</td>\n",
       "    </tr>\n",
       "    <tr>\n",
       "      <th>посёлок Парголово</th>\n",
       "      <td>90500.267296</td>\n",
       "    </tr>\n",
       "    <tr>\n",
       "      <th>посёлок Шушары</th>\n",
       "      <td>79058.340376</td>\n",
       "    </tr>\n",
       "  </tbody>\n",
       "</table>\n",
       "</div>"
      ],
      "text/plain": [
       "                    price_per_m2\n",
       "locality_name                   \n",
       "Всеволожск          67598.614173\n",
       "Выборг              58351.440000\n",
       "Гатчина             69236.210345\n",
       "Колпино             75601.472727\n",
       "Пушкин             102475.893678\n",
       "Санкт-Петербург    108230.149125\n",
       "деревня Кудрово     93188.812950\n",
       "посёлок Мурино      86519.214712\n",
       "посёлок Парголово   90500.267296\n",
       "посёлок Шушары      79058.340376"
      ]
     },
     "execution_count": 92,
     "metadata": {},
     "output_type": "execute_result"
    }
   ],
   "source": [
    "top_city=good_sell.groupby('locality_name')['price_per_m2'].count().sort_values(ascending=False).head(10).index\n",
    "good_sell.query('locality_name in @top_city').pivot_table(index='locality_name', values='price_per_m2',aggfunc='mean')"
   ]
  },
  {
   "cell_type": "code",
   "execution_count": 93,
   "metadata": {},
   "outputs": [
    {
     "name": "stdout",
     "output_type": "stream",
     "text": [
      "самая высокая cтоимость  190789\n"
     ]
    }
   ],
   "source": [
    "price_max=good_sell['price_per_m2'].max()\n",
    "print('самая высокая cтоимость ',price_max)"
   ]
  },
  {
   "cell_type": "code",
   "execution_count": 94,
   "metadata": {},
   "outputs": [
    {
     "name": "stdout",
     "output_type": "stream",
     "text": [
      "самая высокая стоимость жилья в  20815    Санкт-Петербург\n",
      "Name: locality_name, dtype: object\n"
     ]
    }
   ],
   "source": [
    "max_sell=good_sell[good_sell['price_per_m2']==price_max]['locality_name']\n",
    "print('самая высокая стоимость жилья в ', max_sell )"
   ]
  },
  {
   "cell_type": "code",
   "execution_count": 95,
   "metadata": {},
   "outputs": [
    {
     "name": "stdout",
     "output_type": "stream",
     "text": [
      "самая низкая стоимость  7962\n"
     ]
    }
   ],
   "source": [
    "price_min=good_sell['price_per_m2'].min()\n",
    "print('самая низкая стоимость ',price_min)"
   ]
  },
  {
   "cell_type": "code",
   "execution_count": 96,
   "metadata": {},
   "outputs": [
    {
     "name": "stdout",
     "output_type": "stream",
     "text": [
      "самая низкая стоимость жилья в  14911    посёлок станции Свирь\n",
      "Name: locality_name, dtype: object\n"
     ]
    }
   ],
   "source": [
    "min_sell=good_sell[good_sell['price_per_m2']==price_min]['locality_name']\n",
    "print('самая низкая стоимость жилья в ', min_sell )"
   ]
  },
  {
   "cell_type": "markdown",
   "metadata": {},
   "source": [
    "Больше всего объявлений из Санкт-Петербурга. Средняя цена за м кв в этом городе 115042 руб. Самая высокая стоимость (190789) и самая низкая (7962) также в Санкт-Петербурге\n",
    "Если анализировать топ-10 городов по цене за кв метр: самая высокая цена (108222) в Санкт-Петербурге и самая низкая (58351) в Выборге"
   ]
  },
  {
   "cell_type": "code",
   "execution_count": 97,
   "metadata": {},
   "outputs": [
    {
     "name": "stdout",
     "output_type": "stream",
     "text": [
      "14354\n"
     ]
    }
   ],
   "source": [
    "#Расчитаем среднюю цену м кв для каждого километра в Санкт-Петербурге\n",
    "\n",
    "# Cделаем срез таблицы по Санкт-Петербург\n",
    "spb=good_sell.loc[(df['locality_name']=='Санкт-Петербург')&(good_sell['cityCenters_nearest']>0)]\n",
    "print(len(spb))"
   ]
  },
  {
   "cell_type": "code",
   "execution_count": 98,
   "metadata": {},
   "outputs": [
    {
     "name": "stderr",
     "output_type": "stream",
     "text": [
      "C:\\Users\\MaNi\\anaconda3\\lib\\site-packages\\ipykernel_launcher.py:2: SettingWithCopyWarning: \n",
      "A value is trying to be set on a copy of a slice from a DataFrame.\n",
      "Try using .loc[row_indexer,col_indexer] = value instead\n",
      "\n",
      "See the caveats in the documentation: https://pandas.pydata.org/pandas-docs/stable/user_guide/indexing.html#returning-a-view-versus-a-copy\n",
      "  \n"
     ]
    }
   ],
   "source": [
    "# создадим столбец с километрами\n",
    "spb['to_center']=(spb['cityCenters_nearest']/1000).astype(int)"
   ]
  },
  {
   "cell_type": "code",
   "execution_count": 99,
   "metadata": {
    "scrolled": false
   },
   "outputs": [
    {
     "name": "stderr",
     "output_type": "stream",
     "text": [
      "C:\\Users\\MaNi\\anaconda3\\lib\\site-packages\\ipykernel_launcher.py:2: SettingWithCopyWarning: \n",
      "A value is trying to be set on a copy of a slice from a DataFrame.\n",
      "Try using .loc[row_indexer,col_indexer] = value instead\n",
      "\n",
      "See the caveats in the documentation: https://pandas.pydata.org/pandas-docs/stable/user_guide/indexing.html#returning-a-view-versus-a-copy\n",
      "  \n"
     ]
    }
   ],
   "source": [
    "# расчитаем среднюю цену км\n",
    "spb['km_price']=spb.groupby('to_center')['price_per_m2'].mean()"
   ]
  },
  {
   "cell_type": "code",
   "execution_count": 100,
   "metadata": {},
   "outputs": [
    {
     "data": {
      "text/plain": [
       "<matplotlib.axes._subplots.AxesSubplot at 0x1a6781e7a88>"
      ]
     },
     "execution_count": 100,
     "metadata": {},
     "output_type": "execute_result"
    },
    {
     "data": {
      "image/png": "[encoded data removed]",
      "text/plain": [
       "<Figure size 720x648 with 1 Axes>"
      ]
     },
     "metadata": {},
     "output_type": "display_data"
    }
   ],
   "source": [
    "spb.groupby('to_center')['price_per_m2'].mean().plot(grid=True,figsize=(10,9))"
   ]
  },
  {
   "cell_type": "markdown",
   "metadata": {},
   "source": [
    "Чем дальше от центра - тем цена выше."
   ]
  },
  {
   "cell_type": "code",
   "execution_count": 101,
   "metadata": {},
   "outputs": [],
   "source": [
    "# Изучим недвижимость г.Санкт-Петербурга\n",
    "column=['last_price','price_per_m2','total_area','rooms','floor_group','floor','weekday','month','year','to_center','ceiling_height']\n",
    "spb_factor=pd.DataFrame(data=spb,columns=column)"
   ]
  },
  {
   "cell_type": "code",
   "execution_count": 102,
   "metadata": {},
   "outputs": [
    {
     "data": {
      "text/html": [
       "<div>\n",
       "<style scoped>\n",
       "    .dataframe tbody tr th:only-of-type {\n",
       "        vertical-align: middle;\n",
       "    }\n",
       "\n",
       "    .dataframe tbody tr th {\n",
       "        vertical-align: top;\n",
       "    }\n",
       "\n",
       "    .dataframe thead tr th {\n",
       "        text-align: left;\n",
       "    }\n",
       "\n",
       "    .dataframe thead tr:last-of-type th {\n",
       "        text-align: right;\n",
       "    }\n",
       "</style>\n",
       "<table border=\"1\" class=\"dataframe\">\n",
       "  <thead>\n",
       "    <tr>\n",
       "      <th></th>\n",
       "      <th colspan=\"4\" halign=\"left\">mean</th>\n",
       "      <th colspan=\"4\" halign=\"left\">max</th>\n",
       "      <th colspan=\"4\" halign=\"left\">min</th>\n",
       "    </tr>\n",
       "    <tr>\n",
       "      <th></th>\n",
       "      <th>ceiling_height</th>\n",
       "      <th>price_per_m2</th>\n",
       "      <th>rooms</th>\n",
       "      <th>total_area</th>\n",
       "      <th>ceiling_height</th>\n",
       "      <th>price_per_m2</th>\n",
       "      <th>rooms</th>\n",
       "      <th>total_area</th>\n",
       "      <th>ceiling_height</th>\n",
       "      <th>price_per_m2</th>\n",
       "      <th>rooms</th>\n",
       "      <th>total_area</th>\n",
       "    </tr>\n",
       "    <tr>\n",
       "      <th>locality_name</th>\n",
       "      <th></th>\n",
       "      <th></th>\n",
       "      <th></th>\n",
       "      <th></th>\n",
       "      <th></th>\n",
       "      <th></th>\n",
       "      <th></th>\n",
       "      <th></th>\n",
       "      <th></th>\n",
       "      <th></th>\n",
       "      <th></th>\n",
       "      <th></th>\n",
       "    </tr>\n",
       "  </thead>\n",
       "  <tbody>\n",
       "    <tr>\n",
       "      <th>Санкт-Петербург</th>\n",
       "      <td>2.729421</td>\n",
       "      <td>108177.446287</td>\n",
       "      <td>2.126724</td>\n",
       "      <td>61.448168</td>\n",
       "      <td>4.7</td>\n",
       "      <td>190789</td>\n",
       "      <td>19</td>\n",
       "      <td>590</td>\n",
       "      <td>1.0</td>\n",
       "      <td>15384</td>\n",
       "      <td>0</td>\n",
       "      <td>13</td>\n",
       "    </tr>\n",
       "  </tbody>\n",
       "</table>\n",
       "</div>"
      ],
      "text/plain": [
       "                          mean                                      \\\n",
       "                ceiling_height   price_per_m2     rooms total_area   \n",
       "locality_name                                                        \n",
       "Санкт-Петербург       2.729421  108177.446287  2.126724  61.448168   \n",
       "\n",
       "                           max                                          min  \\\n",
       "                ceiling_height price_per_m2 rooms total_area ceiling_height   \n",
       "locality_name                                                                 \n",
       "Санкт-Петербург            4.7       190789    19        590            1.0   \n",
       "\n",
       "                                               \n",
       "                price_per_m2 rooms total_area  \n",
       "locality_name                                  \n",
       "Санкт-Петербург        15384     0         13  "
      ]
     },
     "execution_count": 102,
     "metadata": {},
     "output_type": "execute_result"
    }
   ],
   "source": [
    "# посмотрим средние, максимольные, минимальные значения\n",
    "spb.pivot_table(index='locality_name',values=['total_area','price_per_m2','rooms','ceiling_height']\\\n",
    "                   ,aggfunc=['mean','max','min'])"
   ]
  },
  {
   "cell_type": "code",
   "execution_count": 103,
   "metadata": {},
   "outputs": [
    {
     "data": {
      "text/html": [
       "<div>\n",
       "<style scoped>\n",
       "    .dataframe tbody tr th:only-of-type {\n",
       "        vertical-align: middle;\n",
       "    }\n",
       "\n",
       "    .dataframe tbody tr th {\n",
       "        vertical-align: top;\n",
       "    }\n",
       "\n",
       "    .dataframe thead tr th {\n",
       "        text-align: left;\n",
       "    }\n",
       "\n",
       "    .dataframe thead tr:last-of-type th {\n",
       "        text-align: right;\n",
       "    }\n",
       "</style>\n",
       "<table border=\"1\" class=\"dataframe\">\n",
       "  <thead>\n",
       "    <tr>\n",
       "      <th></th>\n",
       "      <th colspan=\"4\" halign=\"left\">mean</th>\n",
       "      <th colspan=\"4\" halign=\"left\">max</th>\n",
       "      <th colspan=\"4\" halign=\"left\">min</th>\n",
       "    </tr>\n",
       "    <tr>\n",
       "      <th></th>\n",
       "      <th>ceiling_height</th>\n",
       "      <th>price_per_m2</th>\n",
       "      <th>rooms</th>\n",
       "      <th>total_area</th>\n",
       "      <th>ceiling_height</th>\n",
       "      <th>price_per_m2</th>\n",
       "      <th>rooms</th>\n",
       "      <th>total_area</th>\n",
       "      <th>ceiling_height</th>\n",
       "      <th>price_per_m2</th>\n",
       "      <th>rooms</th>\n",
       "      <th>total_area</th>\n",
       "    </tr>\n",
       "    <tr>\n",
       "      <th>is_apartment</th>\n",
       "      <th></th>\n",
       "      <th></th>\n",
       "      <th></th>\n",
       "      <th></th>\n",
       "      <th></th>\n",
       "      <th></th>\n",
       "      <th></th>\n",
       "      <th></th>\n",
       "      <th></th>\n",
       "      <th></th>\n",
       "      <th></th>\n",
       "      <th></th>\n",
       "    </tr>\n",
       "  </thead>\n",
       "  <tbody>\n",
       "    <tr>\n",
       "      <th>0</th>\n",
       "      <td>2.722046</td>\n",
       "      <td>99774.160902</td>\n",
       "      <td>2.070619</td>\n",
       "      <td>60.0699</td>\n",
       "      <td>5.0</td>\n",
       "      <td>1907500</td>\n",
       "      <td>19</td>\n",
       "      <td>900</td>\n",
       "      <td>1.0</td>\n",
       "      <td>7962</td>\n",
       "      <td>0</td>\n",
       "      <td>12</td>\n",
       "    </tr>\n",
       "    <tr>\n",
       "      <th>1</th>\n",
       "      <td>3.048893</td>\n",
       "      <td>148951.700000</td>\n",
       "      <td>2.080000</td>\n",
       "      <td>83.0800</td>\n",
       "      <td>4.5</td>\n",
       "      <td>600000</td>\n",
       "      <td>7</td>\n",
       "      <td>507</td>\n",
       "      <td>2.5</td>\n",
       "      <td>40816</td>\n",
       "      <td>1</td>\n",
       "      <td>20</td>\n",
       "    </tr>\n",
       "  </tbody>\n",
       "</table>\n",
       "</div>"
      ],
      "text/plain": [
       "                       mean                                      \\\n",
       "             ceiling_height   price_per_m2     rooms total_area   \n",
       "is_apartment                                                      \n",
       "0                  2.722046   99774.160902  2.070619    60.0699   \n",
       "1                  3.048893  148951.700000  2.080000    83.0800   \n",
       "\n",
       "                        max                                          min  \\\n",
       "             ceiling_height price_per_m2 rooms total_area ceiling_height   \n",
       "is_apartment                                                               \n",
       "0                       5.0      1907500    19        900            1.0   \n",
       "1                       4.5       600000     7        507            2.5   \n",
       "\n",
       "                                            \n",
       "             price_per_m2 rooms total_area  \n",
       "is_apartment                                \n",
       "0                    7962     0         12  \n",
       "1                   40816     1         20  "
      ]
     },
     "execution_count": 103,
     "metadata": {},
     "output_type": "execute_result"
    }
   ],
   "source": [
    "# для удобства сравнения добавим сводную таблицу по всем квартирам:\n",
    "flat.pivot_table(index='is_apartment',values=['total_area','price_per_m2','rooms','ceiling_height'],aggfunc=['mean','max','min'])"
   ]
  },
  {
   "cell_type": "markdown",
   "metadata": {},
   "source": [
    "Если сравнивать квартиры в Санкт-Петербурге с общей выборкой - то характеристики получатся примерно одинаковые: квартиры в СПБ также как и везде страндартной высоты. Цена за м кв чуть выше чем в у остальных. в основмом двухкомнатные. Общая площадь чуть больше остальных."
   ]
  },
  {
   "cell_type": "code",
   "execution_count": 104,
   "metadata": {},
   "outputs": [
    {
     "data": {
      "text/html": [
       "<div>\n",
       "<style scoped>\n",
       "    .dataframe tbody tr th:only-of-type {\n",
       "        vertical-align: middle;\n",
       "    }\n",
       "\n",
       "    .dataframe tbody tr th {\n",
       "        vertical-align: top;\n",
       "    }\n",
       "\n",
       "    .dataframe thead th {\n",
       "        text-align: right;\n",
       "    }\n",
       "</style>\n",
       "<table border=\"1\" class=\"dataframe\">\n",
       "  <thead>\n",
       "    <tr style=\"text-align: right;\">\n",
       "      <th></th>\n",
       "      <th>total_images</th>\n",
       "      <th>last_price</th>\n",
       "      <th>total_area</th>\n",
       "      <th>rooms</th>\n",
       "      <th>ceiling_height</th>\n",
       "      <th>floors_total</th>\n",
       "      <th>living_area</th>\n",
       "      <th>floor</th>\n",
       "      <th>kitchen_area</th>\n",
       "      <th>balcony</th>\n",
       "      <th>...</th>\n",
       "      <th>days_exposition</th>\n",
       "      <th>price_per_m2</th>\n",
       "      <th>weekday</th>\n",
       "      <th>month</th>\n",
       "      <th>year</th>\n",
       "      <th>floor_group</th>\n",
       "      <th>part_living_area</th>\n",
       "      <th>part_kitchen_area</th>\n",
       "      <th>to_center</th>\n",
       "      <th>km_price</th>\n",
       "    </tr>\n",
       "  </thead>\n",
       "  <tbody>\n",
       "    <tr>\n",
       "      <th>count</th>\n",
       "      <td>14354.000000</td>\n",
       "      <td>1.435400e+04</td>\n",
       "      <td>14354.000000</td>\n",
       "      <td>14354.000000</td>\n",
       "      <td>14354.000000</td>\n",
       "      <td>14354.000000</td>\n",
       "      <td>14354.000000</td>\n",
       "      <td>14354.000000</td>\n",
       "      <td>14354.000000</td>\n",
       "      <td>14354.000000</td>\n",
       "      <td>...</td>\n",
       "      <td>14354.000000</td>\n",
       "      <td>14354.000000</td>\n",
       "      <td>14354.000000</td>\n",
       "      <td>14354.000000</td>\n",
       "      <td>14354.000000</td>\n",
       "      <td>14354.000000</td>\n",
       "      <td>14354.000000</td>\n",
       "      <td>14354.000000</td>\n",
       "      <td>14354.000000</td>\n",
       "      <td>18.000000</td>\n",
       "    </tr>\n",
       "    <tr>\n",
       "      <th>mean</th>\n",
       "      <td>10.152083</td>\n",
       "      <td>6.693933e+06</td>\n",
       "      <td>61.448168</td>\n",
       "      <td>2.126724</td>\n",
       "      <td>2.729421</td>\n",
       "      <td>11.526055</td>\n",
       "      <td>35.226278</td>\n",
       "      <td>6.293019</td>\n",
       "      <td>10.402815</td>\n",
       "      <td>0.104918</td>\n",
       "      <td>...</td>\n",
       "      <td>145.210325</td>\n",
       "      <td>108177.446287</td>\n",
       "      <td>2.561028</td>\n",
       "      <td>6.434583</td>\n",
       "      <td>2017.448237</td>\n",
       "      <td>5.245994</td>\n",
       "      <td>0.564067</td>\n",
       "      <td>0.181140</td>\n",
       "      <td>11.432771</td>\n",
       "      <td>97542.096799</td>\n",
       "    </tr>\n",
       "    <tr>\n",
       "      <th>std</th>\n",
       "      <td>5.710673</td>\n",
       "      <td>4.493870e+06</td>\n",
       "      <td>34.489947</td>\n",
       "      <td>1.110130</td>\n",
       "      <td>0.239547</td>\n",
       "      <td>6.400772</td>\n",
       "      <td>22.081882</td>\n",
       "      <td>4.935970</td>\n",
       "      <td>5.708318</td>\n",
       "      <td>1.326564</td>\n",
       "      <td>...</td>\n",
       "      <td>132.427652</td>\n",
       "      <td>24365.666036</td>\n",
       "      <td>1.779550</td>\n",
       "      <td>3.454848</td>\n",
       "      <td>0.969975</td>\n",
       "      <td>3.084115</td>\n",
       "      <td>0.101244</td>\n",
       "      <td>0.068236</td>\n",
       "      <td>4.703081</td>\n",
       "      <td>17484.308978</td>\n",
       "    </tr>\n",
       "    <tr>\n",
       "      <th>min</th>\n",
       "      <td>0.000000</td>\n",
       "      <td>1.190000e+06</td>\n",
       "      <td>13.000000</td>\n",
       "      <td>0.000000</td>\n",
       "      <td>1.000000</td>\n",
       "      <td>1.000000</td>\n",
       "      <td>2.000000</td>\n",
       "      <td>1.000000</td>\n",
       "      <td>1.000000</td>\n",
       "      <td>-1.000000</td>\n",
       "      <td>...</td>\n",
       "      <td>1.000000</td>\n",
       "      <td>15384.000000</td>\n",
       "      <td>0.000000</td>\n",
       "      <td>1.000000</td>\n",
       "      <td>2014.000000</td>\n",
       "      <td>1.000000</td>\n",
       "      <td>0.038462</td>\n",
       "      <td>0.025381</td>\n",
       "      <td>0.000000</td>\n",
       "      <td>63011.333333</td>\n",
       "    </tr>\n",
       "    <tr>\n",
       "      <th>25%</th>\n",
       "      <td>6.000000</td>\n",
       "      <td>4.150000e+06</td>\n",
       "      <td>41.000000</td>\n",
       "      <td>1.000000</td>\n",
       "      <td>2.581279</td>\n",
       "      <td>5.000000</td>\n",
       "      <td>19.000000</td>\n",
       "      <td>3.000000</td>\n",
       "      <td>7.000000</td>\n",
       "      <td>-1.000000</td>\n",
       "      <td>...</td>\n",
       "      <td>45.000000</td>\n",
       "      <td>90909.000000</td>\n",
       "      <td>1.000000</td>\n",
       "      <td>3.000000</td>\n",
       "      <td>2017.000000</td>\n",
       "      <td>5.000000</td>\n",
       "      <td>0.500000</td>\n",
       "      <td>0.133333</td>\n",
       "      <td>9.000000</td>\n",
       "      <td>91741.739202</td>\n",
       "    </tr>\n",
       "    <tr>\n",
       "      <th>50%</th>\n",
       "      <td>10.000000</td>\n",
       "      <td>5.350000e+06</td>\n",
       "      <td>53.000000</td>\n",
       "      <td>2.000000</td>\n",
       "      <td>2.700000</td>\n",
       "      <td>9.000000</td>\n",
       "      <td>31.000000</td>\n",
       "      <td>5.000000</td>\n",
       "      <td>9.000000</td>\n",
       "      <td>0.000000</td>\n",
       "      <td>...</td>\n",
       "      <td>110.000000</td>\n",
       "      <td>104039.500000</td>\n",
       "      <td>3.000000</td>\n",
       "      <td>6.000000</td>\n",
       "      <td>2017.000000</td>\n",
       "      <td>5.000000</td>\n",
       "      <td>0.562500</td>\n",
       "      <td>0.171429</td>\n",
       "      <td>12.000000</td>\n",
       "      <td>95269.643358</td>\n",
       "    </tr>\n",
       "    <tr>\n",
       "      <th>75%</th>\n",
       "      <td>14.000000</td>\n",
       "      <td>7.588750e+06</td>\n",
       "      <td>71.000000</td>\n",
       "      <td>3.000000</td>\n",
       "      <td>2.778731</td>\n",
       "      <td>16.000000</td>\n",
       "      <td>43.000000</td>\n",
       "      <td>9.000000</td>\n",
       "      <td>12.000000</td>\n",
       "      <td>1.000000</td>\n",
       "      <td>...</td>\n",
       "      <td>180.000000</td>\n",
       "      <td>121707.000000</td>\n",
       "      <td>4.000000</td>\n",
       "      <td>10.000000</td>\n",
       "      <td>2018.000000</td>\n",
       "      <td>5.000000</td>\n",
       "      <td>0.631579</td>\n",
       "      <td>0.216216</td>\n",
       "      <td>15.000000</td>\n",
       "      <td>109040.889010</td>\n",
       "    </tr>\n",
       "    <tr>\n",
       "      <th>max</th>\n",
       "      <td>50.000000</td>\n",
       "      <td>9.150000e+07</td>\n",
       "      <td>590.000000</td>\n",
       "      <td>19.000000</td>\n",
       "      <td>4.700000</td>\n",
       "      <td>52.000000</td>\n",
       "      <td>409.000000</td>\n",
       "      <td>33.000000</td>\n",
       "      <td>100.000000</td>\n",
       "      <td>5.000000</td>\n",
       "      <td>...</td>\n",
       "      <td>631.000000</td>\n",
       "      <td>190789.000000</td>\n",
       "      <td>6.000000</td>\n",
       "      <td>12.000000</td>\n",
       "      <td>2019.000000</td>\n",
       "      <td>10.000000</td>\n",
       "      <td>1.000000</td>\n",
       "      <td>0.787879</td>\n",
       "      <td>29.000000</td>\n",
       "      <td>123504.918033</td>\n",
       "    </tr>\n",
       "  </tbody>\n",
       "</table>\n",
       "<p>8 rows × 26 columns</p>\n",
       "</div>"
      ],
      "text/plain": [
       "       total_images    last_price    total_area         rooms  ceiling_height  \\\n",
       "count  14354.000000  1.435400e+04  14354.000000  14354.000000    14354.000000   \n",
       "mean      10.152083  6.693933e+06     61.448168      2.126724        2.729421   \n",
       "std        5.710673  4.493870e+06     34.489947      1.110130        0.239547   \n",
       "min        0.000000  1.190000e+06     13.000000      0.000000        1.000000   \n",
       "25%        6.000000  4.150000e+06     41.000000      1.000000        2.581279   \n",
       "50%       10.000000  5.350000e+06     53.000000      2.000000        2.700000   \n",
       "75%       14.000000  7.588750e+06     71.000000      3.000000        2.778731   \n",
       "max       50.000000  9.150000e+07    590.000000     19.000000        4.700000   \n",
       "\n",
       "       floors_total   living_area         floor  kitchen_area       balcony  \\\n",
       "count  14354.000000  14354.000000  14354.000000  14354.000000  14354.000000   \n",
       "mean      11.526055     35.226278      6.293019     10.402815      0.104918   \n",
       "std        6.400772     22.081882      4.935970      5.708318      1.326564   \n",
       "min        1.000000      2.000000      1.000000      1.000000     -1.000000   \n",
       "25%        5.000000     19.000000      3.000000      7.000000     -1.000000   \n",
       "50%        9.000000     31.000000      5.000000      9.000000      0.000000   \n",
       "75%       16.000000     43.000000      9.000000     12.000000      1.000000   \n",
       "max       52.000000    409.000000     33.000000    100.000000      5.000000   \n",
       "\n",
       "       ...  days_exposition   price_per_m2       weekday         month  \\\n",
       "count  ...     14354.000000   14354.000000  14354.000000  14354.000000   \n",
       "mean   ...       145.210325  108177.446287      2.561028      6.434583   \n",
       "std    ...       132.427652   24365.666036      1.779550      3.454848   \n",
       "min    ...         1.000000   15384.000000      0.000000      1.000000   \n",
       "25%    ...        45.000000   90909.000000      1.000000      3.000000   \n",
       "50%    ...       110.000000  104039.500000      3.000000      6.000000   \n",
       "75%    ...       180.000000  121707.000000      4.000000     10.000000   \n",
       "max    ...       631.000000  190789.000000      6.000000     12.000000   \n",
       "\n",
       "               year   floor_group  part_living_area  part_kitchen_area  \\\n",
       "count  14354.000000  14354.000000      14354.000000       14354.000000   \n",
       "mean    2017.448237      5.245994          0.564067           0.181140   \n",
       "std        0.969975      3.084115          0.101244           0.068236   \n",
       "min     2014.000000      1.000000          0.038462           0.025381   \n",
       "25%     2017.000000      5.000000          0.500000           0.133333   \n",
       "50%     2017.000000      5.000000          0.562500           0.171429   \n",
       "75%     2018.000000      5.000000          0.631579           0.216216   \n",
       "max     2019.000000     10.000000          1.000000           0.787879   \n",
       "\n",
       "          to_center       km_price  \n",
       "count  14354.000000      18.000000  \n",
       "mean      11.432771   97542.096799  \n",
       "std        4.703081   17484.308978  \n",
       "min        0.000000   63011.333333  \n",
       "25%        9.000000   91741.739202  \n",
       "50%       12.000000   95269.643358  \n",
       "75%       15.000000  109040.889010  \n",
       "max       29.000000  123504.918033  \n",
       "\n",
       "[8 rows x 26 columns]"
      ]
     },
     "execution_count": 104,
     "metadata": {},
     "output_type": "execute_result"
    }
   ],
   "source": [
    "spb.describe()"
   ]
  },
  {
   "cell_type": "code",
   "execution_count": 105,
   "metadata": {},
   "outputs": [
    {
     "data": {
      "text/html": [
       "<div>\n",
       "<style scoped>\n",
       "    .dataframe tbody tr th:only-of-type {\n",
       "        vertical-align: middle;\n",
       "    }\n",
       "\n",
       "    .dataframe tbody tr th {\n",
       "        vertical-align: top;\n",
       "    }\n",
       "\n",
       "    .dataframe thead th {\n",
       "        text-align: right;\n",
       "    }\n",
       "</style>\n",
       "<table border=\"1\" class=\"dataframe\">\n",
       "  <thead>\n",
       "    <tr style=\"text-align: right;\">\n",
       "      <th></th>\n",
       "      <th>total_images</th>\n",
       "      <th>last_price</th>\n",
       "      <th>total_area</th>\n",
       "      <th>rooms</th>\n",
       "      <th>ceiling_height</th>\n",
       "      <th>floors_total</th>\n",
       "      <th>living_area</th>\n",
       "      <th>floor</th>\n",
       "      <th>kitchen_area</th>\n",
       "      <th>balcony</th>\n",
       "      <th>...</th>\n",
       "      <th>ponds_around3000</th>\n",
       "      <th>ponds_nearest</th>\n",
       "      <th>days_exposition</th>\n",
       "      <th>price_per_m2</th>\n",
       "      <th>weekday</th>\n",
       "      <th>month</th>\n",
       "      <th>year</th>\n",
       "      <th>floor_group</th>\n",
       "      <th>part_living_area</th>\n",
       "      <th>part_kitchen_area</th>\n",
       "    </tr>\n",
       "  </thead>\n",
       "  <tbody>\n",
       "    <tr>\n",
       "      <th>count</th>\n",
       "      <td>22061.000000</td>\n",
       "      <td>2.206100e+04</td>\n",
       "      <td>22061.000000</td>\n",
       "      <td>22061.000000</td>\n",
       "      <td>22061.000000</td>\n",
       "      <td>22061.000000</td>\n",
       "      <td>22061.000000</td>\n",
       "      <td>22061.000000</td>\n",
       "      <td>22061.000000</td>\n",
       "      <td>22061.000000</td>\n",
       "      <td>...</td>\n",
       "      <td>16767.000000</td>\n",
       "      <td>8212.000000</td>\n",
       "      <td>22061.000000</td>\n",
       "      <td>22061.00000</td>\n",
       "      <td>22061.000000</td>\n",
       "      <td>22061.000000</td>\n",
       "      <td>22061.000000</td>\n",
       "      <td>22061.000000</td>\n",
       "      <td>22061.000000</td>\n",
       "      <td>22061.000000</td>\n",
       "    </tr>\n",
       "    <tr>\n",
       "      <th>mean</th>\n",
       "      <td>9.841032</td>\n",
       "      <td>5.596987e+06</td>\n",
       "      <td>57.962241</td>\n",
       "      <td>2.037079</td>\n",
       "      <td>2.712544</td>\n",
       "      <td>10.745932</td>\n",
       "      <td>33.121255</td>\n",
       "      <td>5.919269</td>\n",
       "      <td>9.933321</td>\n",
       "      <td>0.112733</td>\n",
       "      <td>...</td>\n",
       "      <td>0.736447</td>\n",
       "      <td>526.894788</td>\n",
       "      <td>146.507593</td>\n",
       "      <td>94673.23018</td>\n",
       "      <td>2.572368</td>\n",
       "      <td>6.407688</td>\n",
       "      <td>2017.459952</td>\n",
       "      <td>5.189248</td>\n",
       "      <td>0.562635</td>\n",
       "      <td>0.182561</td>\n",
       "    </tr>\n",
       "    <tr>\n",
       "      <th>std</th>\n",
       "      <td>5.650831</td>\n",
       "      <td>4.132587e+06</td>\n",
       "      <td>30.921765</td>\n",
       "      <td>1.047807</td>\n",
       "      <td>0.219295</td>\n",
       "      <td>6.629110</td>\n",
       "      <td>19.851078</td>\n",
       "      <td>4.912144</td>\n",
       "      <td>5.246079</td>\n",
       "      <td>1.321669</td>\n",
       "      <td>...</td>\n",
       "      <td>0.912763</td>\n",
       "      <td>277.482799</td>\n",
       "      <td>131.899203</td>\n",
       "      <td>30816.73695</td>\n",
       "      <td>1.789560</td>\n",
       "      <td>3.485218</td>\n",
       "      <td>0.958236</td>\n",
       "      <td>3.240055</td>\n",
       "      <td>0.101191</td>\n",
       "      <td>0.068166</td>\n",
       "    </tr>\n",
       "    <tr>\n",
       "      <th>min</th>\n",
       "      <td>0.000000</td>\n",
       "      <td>4.300000e+05</td>\n",
       "      <td>13.000000</td>\n",
       "      <td>0.000000</td>\n",
       "      <td>1.000000</td>\n",
       "      <td>1.000000</td>\n",
       "      <td>2.000000</td>\n",
       "      <td>1.000000</td>\n",
       "      <td>1.000000</td>\n",
       "      <td>-1.000000</td>\n",
       "      <td>...</td>\n",
       "      <td>0.000000</td>\n",
       "      <td>13.000000</td>\n",
       "      <td>1.000000</td>\n",
       "      <td>7962.00000</td>\n",
       "      <td>0.000000</td>\n",
       "      <td>1.000000</td>\n",
       "      <td>2014.000000</td>\n",
       "      <td>1.000000</td>\n",
       "      <td>0.038462</td>\n",
       "      <td>0.025381</td>\n",
       "    </tr>\n",
       "    <tr>\n",
       "      <th>25%</th>\n",
       "      <td>6.000000</td>\n",
       "      <td>3.400000e+06</td>\n",
       "      <td>40.000000</td>\n",
       "      <td>1.000000</td>\n",
       "      <td>2.581279</td>\n",
       "      <td>5.000000</td>\n",
       "      <td>18.000000</td>\n",
       "      <td>2.000000</td>\n",
       "      <td>7.000000</td>\n",
       "      <td>-1.000000</td>\n",
       "      <td>...</td>\n",
       "      <td>0.000000</td>\n",
       "      <td>305.000000</td>\n",
       "      <td>45.000000</td>\n",
       "      <td>76271.00000</td>\n",
       "      <td>1.000000</td>\n",
       "      <td>3.000000</td>\n",
       "      <td>2017.000000</td>\n",
       "      <td>1.000000</td>\n",
       "      <td>0.500000</td>\n",
       "      <td>0.133333</td>\n",
       "    </tr>\n",
       "    <tr>\n",
       "      <th>50%</th>\n",
       "      <td>9.000000</td>\n",
       "      <td>4.540000e+06</td>\n",
       "      <td>51.000000</td>\n",
       "      <td>2.000000</td>\n",
       "      <td>2.700000</td>\n",
       "      <td>9.000000</td>\n",
       "      <td>30.000000</td>\n",
       "      <td>4.000000</td>\n",
       "      <td>9.000000</td>\n",
       "      <td>0.000000</td>\n",
       "      <td>...</td>\n",
       "      <td>0.000000</td>\n",
       "      <td>515.000000</td>\n",
       "      <td>112.000000</td>\n",
       "      <td>94545.00000</td>\n",
       "      <td>3.000000</td>\n",
       "      <td>6.000000</td>\n",
       "      <td>2018.000000</td>\n",
       "      <td>5.000000</td>\n",
       "      <td>0.562500</td>\n",
       "      <td>0.172414</td>\n",
       "    </tr>\n",
       "    <tr>\n",
       "      <th>75%</th>\n",
       "      <td>14.000000</td>\n",
       "      <td>6.500000e+06</td>\n",
       "      <td>67.000000</td>\n",
       "      <td>3.000000</td>\n",
       "      <td>2.750000</td>\n",
       "      <td>16.000000</td>\n",
       "      <td>41.000000</td>\n",
       "      <td>8.000000</td>\n",
       "      <td>11.000000</td>\n",
       "      <td>1.000000</td>\n",
       "      <td>...</td>\n",
       "      <td>1.000000</td>\n",
       "      <td>737.000000</td>\n",
       "      <td>180.000000</td>\n",
       "      <td>112676.00000</td>\n",
       "      <td>4.000000</td>\n",
       "      <td>10.000000</td>\n",
       "      <td>2018.000000</td>\n",
       "      <td>10.000000</td>\n",
       "      <td>0.629032</td>\n",
       "      <td>0.218750</td>\n",
       "    </tr>\n",
       "    <tr>\n",
       "      <th>max</th>\n",
       "      <td>50.000000</td>\n",
       "      <td>9.150000e+07</td>\n",
       "      <td>590.000000</td>\n",
       "      <td>19.000000</td>\n",
       "      <td>5.000000</td>\n",
       "      <td>60.000000</td>\n",
       "      <td>409.000000</td>\n",
       "      <td>33.000000</td>\n",
       "      <td>100.000000</td>\n",
       "      <td>5.000000</td>\n",
       "      <td>...</td>\n",
       "      <td>3.000000</td>\n",
       "      <td>1344.000000</td>\n",
       "      <td>631.000000</td>\n",
       "      <td>190789.00000</td>\n",
       "      <td>6.000000</td>\n",
       "      <td>12.000000</td>\n",
       "      <td>2019.000000</td>\n",
       "      <td>10.000000</td>\n",
       "      <td>1.000000</td>\n",
       "      <td>0.787879</td>\n",
       "    </tr>\n",
       "  </tbody>\n",
       "</table>\n",
       "<p>8 rows × 24 columns</p>\n",
       "</div>"
      ],
      "text/plain": [
       "       total_images    last_price    total_area         rooms  ceiling_height  \\\n",
       "count  22061.000000  2.206100e+04  22061.000000  22061.000000    22061.000000   \n",
       "mean       9.841032  5.596987e+06     57.962241      2.037079        2.712544   \n",
       "std        5.650831  4.132587e+06     30.921765      1.047807        0.219295   \n",
       "min        0.000000  4.300000e+05     13.000000      0.000000        1.000000   \n",
       "25%        6.000000  3.400000e+06     40.000000      1.000000        2.581279   \n",
       "50%        9.000000  4.540000e+06     51.000000      2.000000        2.700000   \n",
       "75%       14.000000  6.500000e+06     67.000000      3.000000        2.750000   \n",
       "max       50.000000  9.150000e+07    590.000000     19.000000        5.000000   \n",
       "\n",
       "       floors_total   living_area         floor  kitchen_area       balcony  \\\n",
       "count  22061.000000  22061.000000  22061.000000  22061.000000  22061.000000   \n",
       "mean      10.745932     33.121255      5.919269      9.933321      0.112733   \n",
       "std        6.629110     19.851078      4.912144      5.246079      1.321669   \n",
       "min        1.000000      2.000000      1.000000      1.000000     -1.000000   \n",
       "25%        5.000000     18.000000      2.000000      7.000000     -1.000000   \n",
       "50%        9.000000     30.000000      4.000000      9.000000      0.000000   \n",
       "75%       16.000000     41.000000      8.000000     11.000000      1.000000   \n",
       "max       60.000000    409.000000     33.000000    100.000000      5.000000   \n",
       "\n",
       "       ...  ponds_around3000  ponds_nearest  days_exposition  price_per_m2  \\\n",
       "count  ...      16767.000000    8212.000000     22061.000000   22061.00000   \n",
       "mean   ...          0.736447     526.894788       146.507593   94673.23018   \n",
       "std    ...          0.912763     277.482799       131.899203   30816.73695   \n",
       "min    ...          0.000000      13.000000         1.000000    7962.00000   \n",
       "25%    ...          0.000000     305.000000        45.000000   76271.00000   \n",
       "50%    ...          0.000000     515.000000       112.000000   94545.00000   \n",
       "75%    ...          1.000000     737.000000       180.000000  112676.00000   \n",
       "max    ...          3.000000    1344.000000       631.000000  190789.00000   \n",
       "\n",
       "            weekday         month          year   floor_group  \\\n",
       "count  22061.000000  22061.000000  22061.000000  22061.000000   \n",
       "mean       2.572368      6.407688   2017.459952      5.189248   \n",
       "std        1.789560      3.485218      0.958236      3.240055   \n",
       "min        0.000000      1.000000   2014.000000      1.000000   \n",
       "25%        1.000000      3.000000   2017.000000      1.000000   \n",
       "50%        3.000000      6.000000   2018.000000      5.000000   \n",
       "75%        4.000000     10.000000   2018.000000     10.000000   \n",
       "max        6.000000     12.000000   2019.000000     10.000000   \n",
       "\n",
       "       part_living_area  part_kitchen_area  \n",
       "count      22061.000000       22061.000000  \n",
       "mean           0.562635           0.182561  \n",
       "std            0.101191           0.068166  \n",
       "min            0.038462           0.025381  \n",
       "25%            0.500000           0.133333  \n",
       "50%            0.562500           0.172414  \n",
       "75%            0.629032           0.218750  \n",
       "max            1.000000           0.787879  \n",
       "\n",
       "[8 rows x 24 columns]"
      ]
     },
     "execution_count": 105,
     "metadata": {},
     "output_type": "execute_result"
    }
   ],
   "source": [
    "good_sell.describe()"
   ]
  },
  {
   "cell_type": "markdown",
   "metadata": {},
   "source": [
    "также для сравнение можно применить describe 2-x таблиц."
   ]
  },
  {
   "cell_type": "code",
   "execution_count": 106,
   "metadata": {},
   "outputs": [],
   "source": [
    "# построим гистограммы для СПБ:\n",
    "column=['last_price','price_per_m2','total_area','rooms','ceiling_height']\n",
    "factor=pd.DataFrame(data=spb,columns=column)"
   ]
  },
  {
   "cell_type": "code",
   "execution_count": 107,
   "metadata": {},
   "outputs": [
    {
     "data": {
      "image/png": "[encoded data removed]",
      "text/plain": [
       "<Figure size 432x288 with 1 Axes>"
      ]
     },
     "metadata": {},
     "output_type": "display_data"
    },
    {
     "data": {
      "image/png": "[encoded data removed]",
      "text/plain": [
       "<Figure size 432x288 with 1 Axes>"
      ]
     },
     "metadata": {},
     "output_type": "display_data"
    },
    {
     "data": {
      "image/png": "[encoded data removed]",
      "text/plain": [
       "<Figure size 432x288 with 1 Axes>"
      ]
     },
     "metadata": {},
     "output_type": "display_data"
    },
    {
     "data": {
      "image/png": "[encoded data removed]",
      "text/plain": [
       "<Figure size 432x288 with 1 Axes>"
      ]
     },
     "metadata": {},
     "output_type": "display_data"
    },
    {
     "data": {
      "image/png": "[encoded data removed]",
      "text/plain": [
       "<Figure size 432x288 with 1 Axes>"
      ]
     },
     "metadata": {},
     "output_type": "display_data"
    }
   ],
   "source": [
    "for column in factor:\n",
    "    spb.hist(column,bins=100)"
   ]
  },
  {
   "cell_type": "code",
   "execution_count": 108,
   "metadata": {},
   "outputs": [
    {
     "name": "stdout",
     "output_type": "stream",
     "text": [
      "на цену влияет количество комнат: -0.16185317483402664\n",
      "на цену влияет удаленность от центра: -0.30338208502980313\n",
      "на цену влияет этаж: 0.1687162530766446\n",
      "на цену влияет неделя: -0.007754057929191549\n",
      "на цену влияет месяц: -0.02326055061637251\n",
      "на цену влияет год: 0.14096373359373668\n"
     ]
    }
   ],
   "source": [
    "# рассмотрим влияние числа комнат, этаж, удалённости от центра, даты размещения объявления\n",
    "print('на цену влияет количество комнат:',spb['price_per_m2'].corr(spb['rooms']))\n",
    "print('на цену влияет удаленность от центра:',spb['price_per_m2'].corr(spb['to_center']))\n",
    "print('на цену влияет этаж:',spb['price_per_m2'].corr(spb['floor']))\n",
    "print('на цену влияет неделя:',spb['price_per_m2'].corr(spb['weekday']))\n",
    "print('на цену влияет месяц:',spb['price_per_m2'].corr(spb['month']))\n",
    "print('на цену влияет год:',spb['price_per_m2'].corr(spb['year']))"
   ]
  },
  {
   "cell_type": "markdown",
   "metadata": {},
   "source": [
    "Если посмотреть на факторы влияющие на цену, то из всех изученных факторов влияние оказывает только один - удаленность от центра : чем больше растояние от центра - тем ниже цена квартир."
   ]
  },
  {
   "cell_type": "markdown",
   "metadata": {},
   "source": [
    "### Общий вывод"
   ]
  },
  {
   "cell_type": "markdown",
   "metadata": {},
   "source": [
    "Была проведена большая работа по анализу объявлнений недвижимости. Прежде чем приступить к анализу информации преобработали данные (заполнены пропуски, добавлена недостающая информация). В ходе аналица были выявлены некорректные значения: высота потолков более 5 метров, цена за м кв менее 1000, длительность объявления более 630 дней.\n",
    "Были отобраны объявления с длительностью менее 630 дней и с ценой за м кв не более 190000.\n",
    "В основном продавались двухкомнатные квартины общей площадью 51 м кв со средней высотой потолков. В основном это 9-ми этажные дома; квартиры в основном продаются на 4 этаже. Продажи в основном осуществляются за 112 дня за 94545 руб за кв м. В основном продажи были в 2018 году. Самая быстрая продажа - за 1 день, а самая долгая 1580 дней. \n",
    "Больше всего на цену за квадратый метр оказавает влияние факторы: площадь , удаленность от центра, наличие прудов и парков поблизости. Также цены имеют тенденцию к повышению с марта по апрель и с июля по сентябрь. Самая низкая цена была в 2016г, самая высокая в 2014. Лучше всего квартиры продавать в начале недели. В выходные цена на порядок ниже средней.\n",
    "Больше всего объявлений в Санкт-Петербурге. И в этом городе самая высокая средняя цена, самая низкая (среди топ-городов по количеству объявлений) в Выборге. Если анализоровать изменение средней цены в Санкт-Петербурге в зависимости от удаленности от центра - то чем дальше от центра тем ниже средняя цена. Если рассматривать рынок Санкт-Петербурга  - то характеристики квартир чуть выше чем в остальных. Потолки в СПБ также как и везде страндартной высоты. Цена за м кв чуть выше чем в у остальных. В основмом двухкомнатные квартиры. Общая площадь чуть больше остальных (61 м кв). Стоимость квартир 108169 руб.\n",
    "\n"
   ]
  }
 ],
 "metadata": {
  "kernelspec": {
   "display_name": "Python 3",
   "language": "python",
   "name": "python3"
  },
  "language_info": {
   "codemirror_mode": {
    "name": "ipython",
    "version": 3
   },
   "file_extension": ".py",
   "mimetype": "text/x-python",
   "name": "python",
   "nbconvert_exporter": "python",
   "pygments_lexer": "ipython3",
   "version": "3.7.6"
  }
 },
 "nbformat": 4,
 "nbformat_minor": 2
}
